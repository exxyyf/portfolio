{
 "cells": [
  {
   "cell_type": "markdown",
   "metadata": {},
   "source": [
    "# Определение стоимости автомобилей"
   ]
  },
  {
   "cell_type": "markdown",
   "metadata": {},
   "source": [
    "**Описание проекта**\n",
    "\n",
    "Целью данного проекта является создание модели машинного обучения для приложения сервиса по продаже автомобилей с пробегом \"Не бит, не крашен\". С помощью функционала данного сервиса компания планирует привлечь новых клиентов. Задачей предсказания модели является прогнозирование рыночной стоимости автомобиля клиента. Для создания модели предлагается использовать исторические данные, а именно технические характеристики, комплектации и цены автомобилей. \n",
    "\n",
    "Основные требования к модели включают в себя качество предсказания по метрике RMSE (не более 2500), скорость предсказания и время обучения. Одной из исследуемых моделей должна быть модель LightGBM, также требуется изучить одну модель без бустинга.\n",
    "<br></br>\n",
    "\n",
    "В данных для обучения имеются следующие признаки:\n",
    "\n",
    "- DateCrawled — дата скачивания анкеты из базы\n",
    "- VehicleType — тип автомобильного кузова\n",
    "- RegistrationYear — год регистрации автомобиля\n",
    "- Gearbox — тип коробки передач\n",
    "- Power — мощность (л. с.)\n",
    "- Model — модель автомобиля\n",
    "- Kilometer — пробег (км)\n",
    "- RegistrationMonth — месяц регистрации автомобиля\n",
    "- FuelType — тип топлива\n",
    "- Brand — марка автомобиля\n",
    "- Repaired — была машина в ремонте или нет\n",
    "- DateCreated — дата создания анкеты\n",
    "- NumberOfPictures — количество фотографий автомобиля\n",
    "- PostalCode — почтовый индекс владельца анкеты (пользователя)\n",
    "- LastSeen — дата последней активности пользователя\n",
    "\n",
    "В том числе целевой признак:\n",
    "\n",
    "- Price — цена (евро)"
   ]
  },
  {
   "cell_type": "markdown",
   "metadata": {},
   "source": [
    "## Подготовка данных"
   ]
  },
  {
   "cell_type": "markdown",
   "metadata": {},
   "source": [
    "<h3>Загрузка данных</h3>"
   ]
  },
  {
   "cell_type": "code",
   "execution_count": 1,
   "metadata": {},
   "outputs": [],
   "source": [
    "#libraries\n",
    "import pandas as pd\n",
    "import numpy as np\n",
    "\n",
    "import matplotlib.pyplot as plt\n",
    "import seaborn as sns\n",
    "import scipy.stats as st\n",
    "import statistics\n",
    "\n",
    "from sklearn.preprocessing import OneHotEncoder\n",
    "from sklearn.preprocessing import StandardScaler\n",
    "from sklearn.preprocessing import OrdinalEncoder\n",
    "from sklearn.linear_model import LinearRegression \n",
    "from sklearn.ensemble import RandomForestRegressor\n",
    "\n",
    "\n",
    "from sklearn.model_selection import GridSearchCV\n",
    "from sklearn.model_selection import train_test_split\n",
    "\n",
    "from sklearn.metrics import f1_score\n",
    "from sklearn.metrics import roc_auc_score\n",
    "from sklearn.metrics import roc_curve\n",
    "from sklearn.metrics import precision_recall_curve\n",
    "\n",
    "from sklearn.metrics import mean_squared_error\n",
    "from sklearn.metrics import mean_absolute_error\n",
    "from sklearn.metrics import r2_score\n",
    "from sklearn.metrics import make_scorer\n",
    "\n",
    "import catboost as ctb\n",
    "import lightgbm as ltb\n",
    "import time\n",
    "\n",
    "%matplotlib inline"
   ]
  },
  {
   "cell_type": "code",
   "execution_count": 2,
   "metadata": {},
   "outputs": [],
   "source": [
    "from IPython import display"
   ]
  },
  {
   "cell_type": "code",
   "execution_count": 3,
   "metadata": {},
   "outputs": [],
   "source": [
    "sns.set_context('paper')\n",
    "sns.set_style('whitegrid')"
   ]
  },
  {
   "cell_type": "code",
   "execution_count": 4,
   "metadata": {},
   "outputs": [],
   "source": [
    "#random state\n",
    "RS = 1212"
   ]
  },
  {
   "cell_type": "markdown",
   "metadata": {},
   "source": [
    "data = pd.read_csv(\"autos.csv\")"
   ]
  },
  {
   "cell_type": "code",
   "execution_count": 5,
   "metadata": {},
   "outputs": [],
   "source": [
    "try:\n",
    "    data = pd.read_csv(\"https://code.s3.yandex.net/datasets/autos.csv\")\n",
    "except:\n",
    "    data = pd.read_csv(\"/datasets/autos.csv\")"
   ]
  },
  {
   "cell_type": "markdown",
   "metadata": {},
   "source": [
    "<h3>Изучение данных</h3>"
   ]
  },
  {
   "cell_type": "code",
   "execution_count": 6,
   "metadata": {},
   "outputs": [],
   "source": [
    "DF_LEN = data.shape[0]"
   ]
  },
  {
   "cell_type": "code",
   "execution_count": 7,
   "metadata": {},
   "outputs": [
    {
     "name": "stdout",
     "output_type": "stream",
     "text": [
      "<class 'pandas.core.frame.DataFrame'>\n",
      "RangeIndex: 354369 entries, 0 to 354368\n",
      "Data columns (total 16 columns):\n",
      " #   Column             Non-Null Count   Dtype \n",
      "---  ------             --------------   ----- \n",
      " 0   DateCrawled        354369 non-null  object\n",
      " 1   Price              354369 non-null  int64 \n",
      " 2   VehicleType        316879 non-null  object\n",
      " 3   RegistrationYear   354369 non-null  int64 \n",
      " 4   Gearbox            334536 non-null  object\n",
      " 5   Power              354369 non-null  int64 \n",
      " 6   Model              334664 non-null  object\n",
      " 7   Kilometer          354369 non-null  int64 \n",
      " 8   RegistrationMonth  354369 non-null  int64 \n",
      " 9   FuelType           321474 non-null  object\n",
      " 10  Brand              354369 non-null  object\n",
      " 11  Repaired           283215 non-null  object\n",
      " 12  DateCreated        354369 non-null  object\n",
      " 13  NumberOfPictures   354369 non-null  int64 \n",
      " 14  PostalCode         354369 non-null  int64 \n",
      " 15  LastSeen           354369 non-null  object\n",
      "dtypes: int64(7), object(9)\n",
      "memory usage: 43.3+ MB\n"
     ]
    }
   ],
   "source": [
    "data.info()"
   ]
  },
  {
   "cell_type": "markdown",
   "metadata": {},
   "source": [
    "Приведем названия столбцов к \"змеиному\" регистру:"
   ]
  },
  {
   "cell_type": "code",
   "execution_count": 8,
   "metadata": {},
   "outputs": [],
   "source": [
    "def snake_case(column):\n",
    "    \"\"\"\n",
    "    converts a CamelCase string to snake_case\n",
    "    \"\"\"\n",
    "    snake_case = ''\n",
    "    for i in range(len(column)):\n",
    "        if (column[i].isupper()) & (i == 0):\n",
    "            snake_case += column[i].lower()\n",
    "        elif column[i].isupper():\n",
    "            snake_case += \"_\" + column[i].lower()\n",
    "        else:\n",
    "            snake_case += column[i]\n",
    "    return snake_case"
   ]
  },
  {
   "cell_type": "code",
   "execution_count": 9,
   "metadata": {},
   "outputs": [],
   "source": [
    "column_list = list(map(snake_case, data.columns))\n",
    "data.columns = column_list"
   ]
  },
  {
   "cell_type": "code",
   "execution_count": 10,
   "metadata": {
    "scrolled": false
   },
   "outputs": [
    {
     "data": {
      "text/html": [
       "<div>\n",
       "<style scoped>\n",
       "    .dataframe tbody tr th:only-of-type {\n",
       "        vertical-align: middle;\n",
       "    }\n",
       "\n",
       "    .dataframe tbody tr th {\n",
       "        vertical-align: top;\n",
       "    }\n",
       "\n",
       "    .dataframe thead th {\n",
       "        text-align: right;\n",
       "    }\n",
       "</style>\n",
       "<table border=\"1\" class=\"dataframe\">\n",
       "  <thead>\n",
       "    <tr style=\"text-align: right;\">\n",
       "      <th></th>\n",
       "      <th>date_crawled</th>\n",
       "      <th>price</th>\n",
       "      <th>vehicle_type</th>\n",
       "      <th>registration_year</th>\n",
       "      <th>gearbox</th>\n",
       "      <th>power</th>\n",
       "      <th>model</th>\n",
       "      <th>kilometer</th>\n",
       "      <th>registration_month</th>\n",
       "      <th>fuel_type</th>\n",
       "      <th>brand</th>\n",
       "      <th>repaired</th>\n",
       "      <th>date_created</th>\n",
       "      <th>number_of_pictures</th>\n",
       "      <th>postal_code</th>\n",
       "      <th>last_seen</th>\n",
       "    </tr>\n",
       "  </thead>\n",
       "  <tbody>\n",
       "    <tr>\n",
       "      <th>0</th>\n",
       "      <td>2016-03-24 11:52:17</td>\n",
       "      <td>480</td>\n",
       "      <td>NaN</td>\n",
       "      <td>1993</td>\n",
       "      <td>manual</td>\n",
       "      <td>0</td>\n",
       "      <td>golf</td>\n",
       "      <td>150000</td>\n",
       "      <td>0</td>\n",
       "      <td>petrol</td>\n",
       "      <td>volkswagen</td>\n",
       "      <td>NaN</td>\n",
       "      <td>2016-03-24 00:00:00</td>\n",
       "      <td>0</td>\n",
       "      <td>70435</td>\n",
       "      <td>2016-04-07 03:16:57</td>\n",
       "    </tr>\n",
       "    <tr>\n",
       "      <th>1</th>\n",
       "      <td>2016-03-24 10:58:45</td>\n",
       "      <td>18300</td>\n",
       "      <td>coupe</td>\n",
       "      <td>2011</td>\n",
       "      <td>manual</td>\n",
       "      <td>190</td>\n",
       "      <td>NaN</td>\n",
       "      <td>125000</td>\n",
       "      <td>5</td>\n",
       "      <td>gasoline</td>\n",
       "      <td>audi</td>\n",
       "      <td>yes</td>\n",
       "      <td>2016-03-24 00:00:00</td>\n",
       "      <td>0</td>\n",
       "      <td>66954</td>\n",
       "      <td>2016-04-07 01:46:50</td>\n",
       "    </tr>\n",
       "    <tr>\n",
       "      <th>2</th>\n",
       "      <td>2016-03-14 12:52:21</td>\n",
       "      <td>9800</td>\n",
       "      <td>suv</td>\n",
       "      <td>2004</td>\n",
       "      <td>auto</td>\n",
       "      <td>163</td>\n",
       "      <td>grand</td>\n",
       "      <td>125000</td>\n",
       "      <td>8</td>\n",
       "      <td>gasoline</td>\n",
       "      <td>jeep</td>\n",
       "      <td>NaN</td>\n",
       "      <td>2016-03-14 00:00:00</td>\n",
       "      <td>0</td>\n",
       "      <td>90480</td>\n",
       "      <td>2016-04-05 12:47:46</td>\n",
       "    </tr>\n",
       "    <tr>\n",
       "      <th>3</th>\n",
       "      <td>2016-03-17 16:54:04</td>\n",
       "      <td>1500</td>\n",
       "      <td>small</td>\n",
       "      <td>2001</td>\n",
       "      <td>manual</td>\n",
       "      <td>75</td>\n",
       "      <td>golf</td>\n",
       "      <td>150000</td>\n",
       "      <td>6</td>\n",
       "      <td>petrol</td>\n",
       "      <td>volkswagen</td>\n",
       "      <td>no</td>\n",
       "      <td>2016-03-17 00:00:00</td>\n",
       "      <td>0</td>\n",
       "      <td>91074</td>\n",
       "      <td>2016-03-17 17:40:17</td>\n",
       "    </tr>\n",
       "    <tr>\n",
       "      <th>4</th>\n",
       "      <td>2016-03-31 17:25:20</td>\n",
       "      <td>3600</td>\n",
       "      <td>small</td>\n",
       "      <td>2008</td>\n",
       "      <td>manual</td>\n",
       "      <td>69</td>\n",
       "      <td>fabia</td>\n",
       "      <td>90000</td>\n",
       "      <td>7</td>\n",
       "      <td>gasoline</td>\n",
       "      <td>skoda</td>\n",
       "      <td>no</td>\n",
       "      <td>2016-03-31 00:00:00</td>\n",
       "      <td>0</td>\n",
       "      <td>60437</td>\n",
       "      <td>2016-04-06 10:17:21</td>\n",
       "    </tr>\n",
       "  </tbody>\n",
       "</table>\n",
       "</div>"
      ],
      "text/plain": [
       "          date_crawled  price vehicle_type  registration_year gearbox  power  \\\n",
       "0  2016-03-24 11:52:17    480          NaN               1993  manual      0   \n",
       "1  2016-03-24 10:58:45  18300        coupe               2011  manual    190   \n",
       "2  2016-03-14 12:52:21   9800          suv               2004    auto    163   \n",
       "3  2016-03-17 16:54:04   1500        small               2001  manual     75   \n",
       "4  2016-03-31 17:25:20   3600        small               2008  manual     69   \n",
       "\n",
       "   model  kilometer  registration_month fuel_type       brand repaired  \\\n",
       "0   golf     150000                   0    petrol  volkswagen      NaN   \n",
       "1    NaN     125000                   5  gasoline        audi      yes   \n",
       "2  grand     125000                   8  gasoline        jeep      NaN   \n",
       "3   golf     150000                   6    petrol  volkswagen       no   \n",
       "4  fabia      90000                   7  gasoline       skoda       no   \n",
       "\n",
       "          date_created  number_of_pictures  postal_code            last_seen  \n",
       "0  2016-03-24 00:00:00                   0        70435  2016-04-07 03:16:57  \n",
       "1  2016-03-24 00:00:00                   0        66954  2016-04-07 01:46:50  \n",
       "2  2016-03-14 00:00:00                   0        90480  2016-04-05 12:47:46  \n",
       "3  2016-03-17 00:00:00                   0        91074  2016-03-17 17:40:17  \n",
       "4  2016-03-31 00:00:00                   0        60437  2016-04-06 10:17:21  "
      ]
     },
     "execution_count": 10,
     "metadata": {},
     "output_type": "execute_result"
    }
   ],
   "source": [
    "data.head()"
   ]
  },
  {
   "cell_type": "code",
   "execution_count": 11,
   "metadata": {},
   "outputs": [
    {
     "data": {
      "text/plain": [
       "count                  354369\n",
       "unique                 271174\n",
       "top       2016-03-24 14:49:47\n",
       "freq                        7\n",
       "Name: date_crawled, dtype: object"
      ]
     },
     "execution_count": 11,
     "metadata": {},
     "output_type": "execute_result"
    }
   ],
   "source": [
    "data['date_crawled'].describe()"
   ]
  },
  {
   "cell_type": "code",
   "execution_count": 12,
   "metadata": {},
   "outputs": [
    {
     "data": {
      "text/plain": [
       "'2016-04-07 14:36:58'"
      ]
     },
     "execution_count": 12,
     "metadata": {},
     "output_type": "execute_result"
    }
   ],
   "source": [
    "data['date_crawled'].max()"
   ]
  },
  {
   "cell_type": "code",
   "execution_count": 13,
   "metadata": {},
   "outputs": [
    {
     "data": {
      "text/plain": [
       "'2016-03-05 14:06:22'"
      ]
     },
     "execution_count": 13,
     "metadata": {},
     "output_type": "execute_result"
    }
   ],
   "source": [
    "data['date_crawled'].min()"
   ]
  },
  {
   "cell_type": "code",
   "execution_count": 14,
   "metadata": {},
   "outputs": [
    {
     "data": {
      "text/plain": [
       "count                  354369\n",
       "unique                    109\n",
       "top       2016-04-03 00:00:00\n",
       "freq                    13719\n",
       "Name: date_created, dtype: object"
      ]
     },
     "execution_count": 14,
     "metadata": {},
     "output_type": "execute_result"
    }
   ],
   "source": [
    "data['date_created'].describe()"
   ]
  },
  {
   "cell_type": "code",
   "execution_count": 15,
   "metadata": {},
   "outputs": [
    {
     "data": {
      "text/plain": [
       "'2016-04-07 00:00:00'"
      ]
     },
     "execution_count": 15,
     "metadata": {},
     "output_type": "execute_result"
    }
   ],
   "source": [
    "data['date_created'].max()"
   ]
  },
  {
   "cell_type": "code",
   "execution_count": 16,
   "metadata": {},
   "outputs": [
    {
     "data": {
      "text/plain": [
       "'2014-03-10 00:00:00'"
      ]
     },
     "execution_count": 16,
     "metadata": {},
     "output_type": "execute_result"
    }
   ],
   "source": [
    "data['date_created'].min()"
   ]
  },
  {
   "cell_type": "code",
   "execution_count": 17,
   "metadata": {
    "scrolled": true
   },
   "outputs": [
    {
     "data": {
      "text/html": [
       "<style  type=\"text/css\" >\n",
       "</style><table id=\"T_9e2d7_\" ><thead>    <tr>        <th class=\"blank level0\" ></th>        <th class=\"col_heading level0 col0\" >price</th>        <th class=\"col_heading level0 col1\" >registration_year</th>        <th class=\"col_heading level0 col2\" >power</th>        <th class=\"col_heading level0 col3\" >kilometer</th>        <th class=\"col_heading level0 col4\" >registration_month</th>        <th class=\"col_heading level0 col5\" >number_of_pictures</th>        <th class=\"col_heading level0 col6\" >postal_code</th>    </tr></thead><tbody>\n",
       "                <tr>\n",
       "                        <th id=\"T_9e2d7_level0_row0\" class=\"row_heading level0 row0\" >count</th>\n",
       "                        <td id=\"T_9e2d7_row0_col0\" class=\"data row0 col0\" >354,369.00</td>\n",
       "                        <td id=\"T_9e2d7_row0_col1\" class=\"data row0 col1\" >354,369.00</td>\n",
       "                        <td id=\"T_9e2d7_row0_col2\" class=\"data row0 col2\" >354,369.00</td>\n",
       "                        <td id=\"T_9e2d7_row0_col3\" class=\"data row0 col3\" >354,369.00</td>\n",
       "                        <td id=\"T_9e2d7_row0_col4\" class=\"data row0 col4\" >354,369.00</td>\n",
       "                        <td id=\"T_9e2d7_row0_col5\" class=\"data row0 col5\" >354,369.00</td>\n",
       "                        <td id=\"T_9e2d7_row0_col6\" class=\"data row0 col6\" >354,369.00</td>\n",
       "            </tr>\n",
       "            <tr>\n",
       "                        <th id=\"T_9e2d7_level0_row1\" class=\"row_heading level0 row1\" >mean</th>\n",
       "                        <td id=\"T_9e2d7_row1_col0\" class=\"data row1 col0\" >4,416.66</td>\n",
       "                        <td id=\"T_9e2d7_row1_col1\" class=\"data row1 col1\" >2,004.23</td>\n",
       "                        <td id=\"T_9e2d7_row1_col2\" class=\"data row1 col2\" >110.09</td>\n",
       "                        <td id=\"T_9e2d7_row1_col3\" class=\"data row1 col3\" >128,211.17</td>\n",
       "                        <td id=\"T_9e2d7_row1_col4\" class=\"data row1 col4\" >5.71</td>\n",
       "                        <td id=\"T_9e2d7_row1_col5\" class=\"data row1 col5\" >0.00</td>\n",
       "                        <td id=\"T_9e2d7_row1_col6\" class=\"data row1 col6\" >50,508.69</td>\n",
       "            </tr>\n",
       "            <tr>\n",
       "                        <th id=\"T_9e2d7_level0_row2\" class=\"row_heading level0 row2\" >std</th>\n",
       "                        <td id=\"T_9e2d7_row2_col0\" class=\"data row2 col0\" >4,514.16</td>\n",
       "                        <td id=\"T_9e2d7_row2_col1\" class=\"data row2 col1\" >90.23</td>\n",
       "                        <td id=\"T_9e2d7_row2_col2\" class=\"data row2 col2\" >189.85</td>\n",
       "                        <td id=\"T_9e2d7_row2_col3\" class=\"data row2 col3\" >37,905.34</td>\n",
       "                        <td id=\"T_9e2d7_row2_col4\" class=\"data row2 col4\" >3.73</td>\n",
       "                        <td id=\"T_9e2d7_row2_col5\" class=\"data row2 col5\" >0.00</td>\n",
       "                        <td id=\"T_9e2d7_row2_col6\" class=\"data row2 col6\" >25,783.10</td>\n",
       "            </tr>\n",
       "            <tr>\n",
       "                        <th id=\"T_9e2d7_level0_row3\" class=\"row_heading level0 row3\" >min</th>\n",
       "                        <td id=\"T_9e2d7_row3_col0\" class=\"data row3 col0\" >0.00</td>\n",
       "                        <td id=\"T_9e2d7_row3_col1\" class=\"data row3 col1\" >1,000.00</td>\n",
       "                        <td id=\"T_9e2d7_row3_col2\" class=\"data row3 col2\" >0.00</td>\n",
       "                        <td id=\"T_9e2d7_row3_col3\" class=\"data row3 col3\" >5,000.00</td>\n",
       "                        <td id=\"T_9e2d7_row3_col4\" class=\"data row3 col4\" >0.00</td>\n",
       "                        <td id=\"T_9e2d7_row3_col5\" class=\"data row3 col5\" >0.00</td>\n",
       "                        <td id=\"T_9e2d7_row3_col6\" class=\"data row3 col6\" >1,067.00</td>\n",
       "            </tr>\n",
       "            <tr>\n",
       "                        <th id=\"T_9e2d7_level0_row4\" class=\"row_heading level0 row4\" >25%</th>\n",
       "                        <td id=\"T_9e2d7_row4_col0\" class=\"data row4 col0\" >1,050.00</td>\n",
       "                        <td id=\"T_9e2d7_row4_col1\" class=\"data row4 col1\" >1,999.00</td>\n",
       "                        <td id=\"T_9e2d7_row4_col2\" class=\"data row4 col2\" >69.00</td>\n",
       "                        <td id=\"T_9e2d7_row4_col3\" class=\"data row4 col3\" >125,000.00</td>\n",
       "                        <td id=\"T_9e2d7_row4_col4\" class=\"data row4 col4\" >3.00</td>\n",
       "                        <td id=\"T_9e2d7_row4_col5\" class=\"data row4 col5\" >0.00</td>\n",
       "                        <td id=\"T_9e2d7_row4_col6\" class=\"data row4 col6\" >30,165.00</td>\n",
       "            </tr>\n",
       "            <tr>\n",
       "                        <th id=\"T_9e2d7_level0_row5\" class=\"row_heading level0 row5\" >50%</th>\n",
       "                        <td id=\"T_9e2d7_row5_col0\" class=\"data row5 col0\" >2,700.00</td>\n",
       "                        <td id=\"T_9e2d7_row5_col1\" class=\"data row5 col1\" >2,003.00</td>\n",
       "                        <td id=\"T_9e2d7_row5_col2\" class=\"data row5 col2\" >105.00</td>\n",
       "                        <td id=\"T_9e2d7_row5_col3\" class=\"data row5 col3\" >150,000.00</td>\n",
       "                        <td id=\"T_9e2d7_row5_col4\" class=\"data row5 col4\" >6.00</td>\n",
       "                        <td id=\"T_9e2d7_row5_col5\" class=\"data row5 col5\" >0.00</td>\n",
       "                        <td id=\"T_9e2d7_row5_col6\" class=\"data row5 col6\" >49,413.00</td>\n",
       "            </tr>\n",
       "            <tr>\n",
       "                        <th id=\"T_9e2d7_level0_row6\" class=\"row_heading level0 row6\" >75%</th>\n",
       "                        <td id=\"T_9e2d7_row6_col0\" class=\"data row6 col0\" >6,400.00</td>\n",
       "                        <td id=\"T_9e2d7_row6_col1\" class=\"data row6 col1\" >2,008.00</td>\n",
       "                        <td id=\"T_9e2d7_row6_col2\" class=\"data row6 col2\" >143.00</td>\n",
       "                        <td id=\"T_9e2d7_row6_col3\" class=\"data row6 col3\" >150,000.00</td>\n",
       "                        <td id=\"T_9e2d7_row6_col4\" class=\"data row6 col4\" >9.00</td>\n",
       "                        <td id=\"T_9e2d7_row6_col5\" class=\"data row6 col5\" >0.00</td>\n",
       "                        <td id=\"T_9e2d7_row6_col6\" class=\"data row6 col6\" >71,083.00</td>\n",
       "            </tr>\n",
       "            <tr>\n",
       "                        <th id=\"T_9e2d7_level0_row7\" class=\"row_heading level0 row7\" >max</th>\n",
       "                        <td id=\"T_9e2d7_row7_col0\" class=\"data row7 col0\" >20,000.00</td>\n",
       "                        <td id=\"T_9e2d7_row7_col1\" class=\"data row7 col1\" >9,999.00</td>\n",
       "                        <td id=\"T_9e2d7_row7_col2\" class=\"data row7 col2\" >20,000.00</td>\n",
       "                        <td id=\"T_9e2d7_row7_col3\" class=\"data row7 col3\" >150,000.00</td>\n",
       "                        <td id=\"T_9e2d7_row7_col4\" class=\"data row7 col4\" >12.00</td>\n",
       "                        <td id=\"T_9e2d7_row7_col5\" class=\"data row7 col5\" >0.00</td>\n",
       "                        <td id=\"T_9e2d7_row7_col6\" class=\"data row7 col6\" >99,998.00</td>\n",
       "            </tr>\n",
       "    </tbody></table>"
      ],
      "text/plain": [
       "<pandas.io.formats.style.Styler at 0x17567e13cd0>"
      ]
     },
     "execution_count": 17,
     "metadata": {},
     "output_type": "execute_result"
    }
   ],
   "source": [
    "data.describe().style.format(\"{:,.2f}\")"
   ]
  },
  {
   "cell_type": "code",
   "execution_count": 18,
   "metadata": {},
   "outputs": [
    {
     "data": {
      "text/plain": [
       "4"
      ]
     },
     "execution_count": 18,
     "metadata": {},
     "output_type": "execute_result"
    }
   ],
   "source": [
    "data.duplicated().sum()"
   ]
  },
  {
   "cell_type": "markdown",
   "metadata": {},
   "source": [
    "Итак, в нашем датасете 16 признаков и 354369 объектов. Среди признаков есть как категориальные, так и количественные. Видим, что есть пропущенные значения и явные дубликаты. Продолжим изучение данных, посмотрим на дубликаты:"
   ]
  },
  {
   "cell_type": "markdown",
   "metadata": {},
   "source": [
    "<h4>Возраст объявлений</h4>\n",
    "\n",
    "Обратим внимание на то, что максимальный год создания объявления - 2016, а годы регистрации имеются большие. "
   ]
  },
  {
   "cell_type": "code",
   "execution_count": 19,
   "metadata": {
    "scrolled": true
   },
   "outputs": [
    {
     "data": {
      "text/html": [
       "<div>\n",
       "<style scoped>\n",
       "    .dataframe tbody tr th:only-of-type {\n",
       "        vertical-align: middle;\n",
       "    }\n",
       "\n",
       "    .dataframe tbody tr th {\n",
       "        vertical-align: top;\n",
       "    }\n",
       "\n",
       "    .dataframe thead th {\n",
       "        text-align: right;\n",
       "    }\n",
       "</style>\n",
       "<table border=\"1\" class=\"dataframe\">\n",
       "  <thead>\n",
       "    <tr style=\"text-align: right;\">\n",
       "      <th></th>\n",
       "      <th>date_crawled</th>\n",
       "      <th>price</th>\n",
       "      <th>vehicle_type</th>\n",
       "      <th>registration_year</th>\n",
       "      <th>gearbox</th>\n",
       "      <th>power</th>\n",
       "      <th>model</th>\n",
       "      <th>kilometer</th>\n",
       "      <th>registration_month</th>\n",
       "      <th>fuel_type</th>\n",
       "      <th>brand</th>\n",
       "      <th>repaired</th>\n",
       "      <th>date_created</th>\n",
       "      <th>number_of_pictures</th>\n",
       "      <th>postal_code</th>\n",
       "      <th>last_seen</th>\n",
       "    </tr>\n",
       "  </thead>\n",
       "  <tbody>\n",
       "    <tr>\n",
       "      <th>22</th>\n",
       "      <td>2016-03-23 14:52:51</td>\n",
       "      <td>2900</td>\n",
       "      <td>NaN</td>\n",
       "      <td>2018</td>\n",
       "      <td>manual</td>\n",
       "      <td>90</td>\n",
       "      <td>meriva</td>\n",
       "      <td>150000</td>\n",
       "      <td>5</td>\n",
       "      <td>petrol</td>\n",
       "      <td>opel</td>\n",
       "      <td>no</td>\n",
       "      <td>2016-03-23 00:00:00</td>\n",
       "      <td>0</td>\n",
       "      <td>49716</td>\n",
       "      <td>2016-03-31 01:16:33</td>\n",
       "    </tr>\n",
       "    <tr>\n",
       "      <th>26</th>\n",
       "      <td>2016-03-10 19:38:18</td>\n",
       "      <td>5555</td>\n",
       "      <td>NaN</td>\n",
       "      <td>2017</td>\n",
       "      <td>manual</td>\n",
       "      <td>125</td>\n",
       "      <td>c4</td>\n",
       "      <td>125000</td>\n",
       "      <td>4</td>\n",
       "      <td>NaN</td>\n",
       "      <td>citroen</td>\n",
       "      <td>no</td>\n",
       "      <td>2016-03-10 00:00:00</td>\n",
       "      <td>0</td>\n",
       "      <td>31139</td>\n",
       "      <td>2016-03-16 09:16:46</td>\n",
       "    </tr>\n",
       "    <tr>\n",
       "      <th>48</th>\n",
       "      <td>2016-03-25 14:40:12</td>\n",
       "      <td>7750</td>\n",
       "      <td>NaN</td>\n",
       "      <td>2017</td>\n",
       "      <td>manual</td>\n",
       "      <td>80</td>\n",
       "      <td>golf</td>\n",
       "      <td>100000</td>\n",
       "      <td>1</td>\n",
       "      <td>petrol</td>\n",
       "      <td>volkswagen</td>\n",
       "      <td>NaN</td>\n",
       "      <td>2016-03-25 00:00:00</td>\n",
       "      <td>0</td>\n",
       "      <td>48499</td>\n",
       "      <td>2016-03-31 21:47:44</td>\n",
       "    </tr>\n",
       "    <tr>\n",
       "      <th>51</th>\n",
       "      <td>2016-03-07 18:57:08</td>\n",
       "      <td>2000</td>\n",
       "      <td>NaN</td>\n",
       "      <td>2017</td>\n",
       "      <td>manual</td>\n",
       "      <td>90</td>\n",
       "      <td>punto</td>\n",
       "      <td>150000</td>\n",
       "      <td>11</td>\n",
       "      <td>gasoline</td>\n",
       "      <td>fiat</td>\n",
       "      <td>yes</td>\n",
       "      <td>2016-03-07 00:00:00</td>\n",
       "      <td>0</td>\n",
       "      <td>66115</td>\n",
       "      <td>2016-03-07 18:57:08</td>\n",
       "    </tr>\n",
       "    <tr>\n",
       "      <th>57</th>\n",
       "      <td>2016-03-10 20:53:19</td>\n",
       "      <td>2399</td>\n",
       "      <td>NaN</td>\n",
       "      <td>2018</td>\n",
       "      <td>manual</td>\n",
       "      <td>64</td>\n",
       "      <td>other</td>\n",
       "      <td>125000</td>\n",
       "      <td>3</td>\n",
       "      <td>NaN</td>\n",
       "      <td>seat</td>\n",
       "      <td>no</td>\n",
       "      <td>2016-03-10 00:00:00</td>\n",
       "      <td>0</td>\n",
       "      <td>33397</td>\n",
       "      <td>2016-03-25 10:17:37</td>\n",
       "    </tr>\n",
       "    <tr>\n",
       "      <th>...</th>\n",
       "      <td>...</td>\n",
       "      <td>...</td>\n",
       "      <td>...</td>\n",
       "      <td>...</td>\n",
       "      <td>...</td>\n",
       "      <td>...</td>\n",
       "      <td>...</td>\n",
       "      <td>...</td>\n",
       "      <td>...</td>\n",
       "      <td>...</td>\n",
       "      <td>...</td>\n",
       "      <td>...</td>\n",
       "      <td>...</td>\n",
       "      <td>...</td>\n",
       "      <td>...</td>\n",
       "      <td>...</td>\n",
       "    </tr>\n",
       "    <tr>\n",
       "      <th>354112</th>\n",
       "      <td>2016-03-11 15:49:51</td>\n",
       "      <td>3600</td>\n",
       "      <td>NaN</td>\n",
       "      <td>2017</td>\n",
       "      <td>manual</td>\n",
       "      <td>86</td>\n",
       "      <td>transit</td>\n",
       "      <td>150000</td>\n",
       "      <td>5</td>\n",
       "      <td>gasoline</td>\n",
       "      <td>ford</td>\n",
       "      <td>NaN</td>\n",
       "      <td>2016-03-11 00:00:00</td>\n",
       "      <td>0</td>\n",
       "      <td>32339</td>\n",
       "      <td>2016-03-12 05:45:02</td>\n",
       "    </tr>\n",
       "    <tr>\n",
       "      <th>354140</th>\n",
       "      <td>2016-03-29 16:47:29</td>\n",
       "      <td>1000</td>\n",
       "      <td>NaN</td>\n",
       "      <td>2017</td>\n",
       "      <td>manual</td>\n",
       "      <td>101</td>\n",
       "      <td>a4</td>\n",
       "      <td>150000</td>\n",
       "      <td>9</td>\n",
       "      <td>NaN</td>\n",
       "      <td>audi</td>\n",
       "      <td>NaN</td>\n",
       "      <td>2016-03-29 00:00:00</td>\n",
       "      <td>0</td>\n",
       "      <td>38315</td>\n",
       "      <td>2016-04-06 02:44:27</td>\n",
       "    </tr>\n",
       "    <tr>\n",
       "      <th>354203</th>\n",
       "      <td>2016-03-17 00:56:26</td>\n",
       "      <td>2140</td>\n",
       "      <td>NaN</td>\n",
       "      <td>2018</td>\n",
       "      <td>manual</td>\n",
       "      <td>80</td>\n",
       "      <td>fiesta</td>\n",
       "      <td>150000</td>\n",
       "      <td>6</td>\n",
       "      <td>NaN</td>\n",
       "      <td>ford</td>\n",
       "      <td>no</td>\n",
       "      <td>2016-03-17 00:00:00</td>\n",
       "      <td>0</td>\n",
       "      <td>44866</td>\n",
       "      <td>2016-03-29 15:45:04</td>\n",
       "    </tr>\n",
       "    <tr>\n",
       "      <th>354253</th>\n",
       "      <td>2016-03-25 09:37:59</td>\n",
       "      <td>1250</td>\n",
       "      <td>NaN</td>\n",
       "      <td>2018</td>\n",
       "      <td>NaN</td>\n",
       "      <td>0</td>\n",
       "      <td>corsa</td>\n",
       "      <td>150000</td>\n",
       "      <td>0</td>\n",
       "      <td>petrol</td>\n",
       "      <td>opel</td>\n",
       "      <td>NaN</td>\n",
       "      <td>2016-03-25 00:00:00</td>\n",
       "      <td>0</td>\n",
       "      <td>45527</td>\n",
       "      <td>2016-04-06 07:46:13</td>\n",
       "    </tr>\n",
       "    <tr>\n",
       "      <th>354289</th>\n",
       "      <td>2016-03-05 14:55:29</td>\n",
       "      <td>5000</td>\n",
       "      <td>NaN</td>\n",
       "      <td>2017</td>\n",
       "      <td>manual</td>\n",
       "      <td>120</td>\n",
       "      <td>other</td>\n",
       "      <td>150000</td>\n",
       "      <td>7</td>\n",
       "      <td>NaN</td>\n",
       "      <td>citroen</td>\n",
       "      <td>yes</td>\n",
       "      <td>2016-03-05 00:00:00</td>\n",
       "      <td>0</td>\n",
       "      <td>15518</td>\n",
       "      <td>2016-04-05 11:48:09</td>\n",
       "    </tr>\n",
       "  </tbody>\n",
       "</table>\n",
       "<p>14530 rows × 16 columns</p>\n",
       "</div>"
      ],
      "text/plain": [
       "               date_crawled  price vehicle_type  registration_year gearbox  \\\n",
       "22      2016-03-23 14:52:51   2900          NaN               2018  manual   \n",
       "26      2016-03-10 19:38:18   5555          NaN               2017  manual   \n",
       "48      2016-03-25 14:40:12   7750          NaN               2017  manual   \n",
       "51      2016-03-07 18:57:08   2000          NaN               2017  manual   \n",
       "57      2016-03-10 20:53:19   2399          NaN               2018  manual   \n",
       "...                     ...    ...          ...                ...     ...   \n",
       "354112  2016-03-11 15:49:51   3600          NaN               2017  manual   \n",
       "354140  2016-03-29 16:47:29   1000          NaN               2017  manual   \n",
       "354203  2016-03-17 00:56:26   2140          NaN               2018  manual   \n",
       "354253  2016-03-25 09:37:59   1250          NaN               2018     NaN   \n",
       "354289  2016-03-05 14:55:29   5000          NaN               2017  manual   \n",
       "\n",
       "        power    model  kilometer  registration_month fuel_type       brand  \\\n",
       "22         90   meriva     150000                   5    petrol        opel   \n",
       "26        125       c4     125000                   4       NaN     citroen   \n",
       "48         80     golf     100000                   1    petrol  volkswagen   \n",
       "51         90    punto     150000                  11  gasoline        fiat   \n",
       "57         64    other     125000                   3       NaN        seat   \n",
       "...       ...      ...        ...                 ...       ...         ...   \n",
       "354112     86  transit     150000                   5  gasoline        ford   \n",
       "354140    101       a4     150000                   9       NaN        audi   \n",
       "354203     80   fiesta     150000                   6       NaN        ford   \n",
       "354253      0    corsa     150000                   0    petrol        opel   \n",
       "354289    120    other     150000                   7       NaN     citroen   \n",
       "\n",
       "       repaired         date_created  number_of_pictures  postal_code  \\\n",
       "22           no  2016-03-23 00:00:00                   0        49716   \n",
       "26           no  2016-03-10 00:00:00                   0        31139   \n",
       "48          NaN  2016-03-25 00:00:00                   0        48499   \n",
       "51          yes  2016-03-07 00:00:00                   0        66115   \n",
       "57           no  2016-03-10 00:00:00                   0        33397   \n",
       "...         ...                  ...                 ...          ...   \n",
       "354112      NaN  2016-03-11 00:00:00                   0        32339   \n",
       "354140      NaN  2016-03-29 00:00:00                   0        38315   \n",
       "354203       no  2016-03-17 00:00:00                   0        44866   \n",
       "354253      NaN  2016-03-25 00:00:00                   0        45527   \n",
       "354289      yes  2016-03-05 00:00:00                   0        15518   \n",
       "\n",
       "                  last_seen  \n",
       "22      2016-03-31 01:16:33  \n",
       "26      2016-03-16 09:16:46  \n",
       "48      2016-03-31 21:47:44  \n",
       "51      2016-03-07 18:57:08  \n",
       "57      2016-03-25 10:17:37  \n",
       "...                     ...  \n",
       "354112  2016-03-12 05:45:02  \n",
       "354140  2016-04-06 02:44:27  \n",
       "354203  2016-03-29 15:45:04  \n",
       "354253  2016-04-06 07:46:13  \n",
       "354289  2016-04-05 11:48:09  \n",
       "\n",
       "[14530 rows x 16 columns]"
      ]
     },
     "execution_count": 19,
     "metadata": {},
     "output_type": "execute_result"
    }
   ],
   "source": [
    "data[data['registration_year'] > 2016]"
   ]
  },
  {
   "cell_type": "markdown",
   "metadata": {},
   "source": [
    "Таких объявлений достаточно много, похоже на техническую ошибку. Удалим объявления с годом регистрации моложе 2016 года, потому что невозможно опубликовать объявление о продаже автомообиля в 2016 году, если он зарегестрирован в 2019."
   ]
  },
  {
   "cell_type": "code",
   "execution_count": 20,
   "metadata": {},
   "outputs": [],
   "source": [
    "weird_year = data[data['registration_year'] > 2016].index"
   ]
  },
  {
   "cell_type": "code",
   "execution_count": 21,
   "metadata": {},
   "outputs": [],
   "source": [
    "data.drop(weird_year, inplace=True)"
   ]
  },
  {
   "cell_type": "code",
   "execution_count": 22,
   "metadata": {},
   "outputs": [],
   "source": [
    "data.reset_index(drop=True, inplace=True)"
   ]
  },
  {
   "cell_type": "code",
   "execution_count": 23,
   "metadata": {},
   "outputs": [
    {
     "name": "stdout",
     "output_type": "stream",
     "text": [
      "<class 'pandas.core.frame.DataFrame'>\n",
      "RangeIndex: 339839 entries, 0 to 339838\n",
      "Data columns (total 16 columns):\n",
      " #   Column              Non-Null Count   Dtype \n",
      "---  ------              --------------   ----- \n",
      " 0   date_crawled        339839 non-null  object\n",
      " 1   price               339839 non-null  int64 \n",
      " 2   vehicle_type        316859 non-null  object\n",
      " 3   registration_year   339839 non-null  int64 \n",
      " 4   gearbox             321873 non-null  object\n",
      " 5   power               339839 non-null  int64 \n",
      " 6   model               322181 non-null  object\n",
      " 7   kilometer           339839 non-null  int64 \n",
      " 8   registration_month  339839 non-null  int64 \n",
      " 9   fuel_type           312538 non-null  object\n",
      " 10  brand               339839 non-null  object\n",
      " 11  repaired            274984 non-null  object\n",
      " 12  date_created        339839 non-null  object\n",
      " 13  number_of_pictures  339839 non-null  int64 \n",
      " 14  postal_code         339839 non-null  int64 \n",
      " 15  last_seen           339839 non-null  object\n",
      "dtypes: int64(7), object(9)\n",
      "memory usage: 41.5+ MB\n"
     ]
    }
   ],
   "source": [
    "data.info()"
   ]
  },
  {
   "cell_type": "markdown",
   "metadata": {},
   "source": [
    "<h3>Работа с дубликатами</h3>"
   ]
  },
  {
   "cell_type": "code",
   "execution_count": 24,
   "metadata": {},
   "outputs": [
    {
     "data": {
      "text/html": [
       "<div>\n",
       "<style scoped>\n",
       "    .dataframe tbody tr th:only-of-type {\n",
       "        vertical-align: middle;\n",
       "    }\n",
       "\n",
       "    .dataframe tbody tr th {\n",
       "        vertical-align: top;\n",
       "    }\n",
       "\n",
       "    .dataframe thead th {\n",
       "        text-align: right;\n",
       "    }\n",
       "</style>\n",
       "<table border=\"1\" class=\"dataframe\">\n",
       "  <thead>\n",
       "    <tr style=\"text-align: right;\">\n",
       "      <th></th>\n",
       "      <th>date_crawled</th>\n",
       "      <th>price</th>\n",
       "      <th>vehicle_type</th>\n",
       "      <th>registration_year</th>\n",
       "      <th>gearbox</th>\n",
       "      <th>power</th>\n",
       "      <th>model</th>\n",
       "      <th>kilometer</th>\n",
       "      <th>registration_month</th>\n",
       "      <th>fuel_type</th>\n",
       "      <th>brand</th>\n",
       "      <th>repaired</th>\n",
       "      <th>date_created</th>\n",
       "      <th>number_of_pictures</th>\n",
       "      <th>postal_code</th>\n",
       "      <th>last_seen</th>\n",
       "    </tr>\n",
       "  </thead>\n",
       "  <tbody>\n",
       "    <tr>\n",
       "      <th>164144</th>\n",
       "      <td>2016-03-08 18:42:48</td>\n",
       "      <td>1799</td>\n",
       "      <td>coupe</td>\n",
       "      <td>1999</td>\n",
       "      <td>auto</td>\n",
       "      <td>193</td>\n",
       "      <td>clk</td>\n",
       "      <td>20000</td>\n",
       "      <td>7</td>\n",
       "      <td>petrol</td>\n",
       "      <td>mercedes_benz</td>\n",
       "      <td>no</td>\n",
       "      <td>2016-03-08 00:00:00</td>\n",
       "      <td>0</td>\n",
       "      <td>89518</td>\n",
       "      <td>2016-03-09 09:46:57</td>\n",
       "    </tr>\n",
       "    <tr>\n",
       "      <th>221796</th>\n",
       "      <td>2016-03-28 00:56:10</td>\n",
       "      <td>1000</td>\n",
       "      <td>small</td>\n",
       "      <td>2002</td>\n",
       "      <td>manual</td>\n",
       "      <td>83</td>\n",
       "      <td>other</td>\n",
       "      <td>150000</td>\n",
       "      <td>1</td>\n",
       "      <td>petrol</td>\n",
       "      <td>suzuki</td>\n",
       "      <td>no</td>\n",
       "      <td>2016-03-28 00:00:00</td>\n",
       "      <td>0</td>\n",
       "      <td>66589</td>\n",
       "      <td>2016-03-28 08:46:21</td>\n",
       "    </tr>\n",
       "    <tr>\n",
       "      <th>247551</th>\n",
       "      <td>2016-04-03 09:01:15</td>\n",
       "      <td>4699</td>\n",
       "      <td>coupe</td>\n",
       "      <td>2003</td>\n",
       "      <td>auto</td>\n",
       "      <td>218</td>\n",
       "      <td>clk</td>\n",
       "      <td>125000</td>\n",
       "      <td>6</td>\n",
       "      <td>petrol</td>\n",
       "      <td>mercedes_benz</td>\n",
       "      <td>yes</td>\n",
       "      <td>2016-04-03 00:00:00</td>\n",
       "      <td>0</td>\n",
       "      <td>75196</td>\n",
       "      <td>2016-04-07 09:44:54</td>\n",
       "    </tr>\n",
       "    <tr>\n",
       "      <th>312353</th>\n",
       "      <td>2016-03-18 18:46:15</td>\n",
       "      <td>1999</td>\n",
       "      <td>wagon</td>\n",
       "      <td>2001</td>\n",
       "      <td>manual</td>\n",
       "      <td>131</td>\n",
       "      <td>passat</td>\n",
       "      <td>150000</td>\n",
       "      <td>7</td>\n",
       "      <td>gasoline</td>\n",
       "      <td>volkswagen</td>\n",
       "      <td>no</td>\n",
       "      <td>2016-03-18 00:00:00</td>\n",
       "      <td>0</td>\n",
       "      <td>36391</td>\n",
       "      <td>2016-03-18 18:46:15</td>\n",
       "    </tr>\n",
       "  </tbody>\n",
       "</table>\n",
       "</div>"
      ],
      "text/plain": [
       "               date_crawled  price vehicle_type  registration_year gearbox  \\\n",
       "164144  2016-03-08 18:42:48   1799        coupe               1999    auto   \n",
       "221796  2016-03-28 00:56:10   1000        small               2002  manual   \n",
       "247551  2016-04-03 09:01:15   4699        coupe               2003    auto   \n",
       "312353  2016-03-18 18:46:15   1999        wagon               2001  manual   \n",
       "\n",
       "        power   model  kilometer  registration_month fuel_type          brand  \\\n",
       "164144    193     clk      20000                   7    petrol  mercedes_benz   \n",
       "221796     83   other     150000                   1    petrol         suzuki   \n",
       "247551    218     clk     125000                   6    petrol  mercedes_benz   \n",
       "312353    131  passat     150000                   7  gasoline     volkswagen   \n",
       "\n",
       "       repaired         date_created  number_of_pictures  postal_code  \\\n",
       "164144       no  2016-03-08 00:00:00                   0        89518   \n",
       "221796       no  2016-03-28 00:00:00                   0        66589   \n",
       "247551      yes  2016-04-03 00:00:00                   0        75196   \n",
       "312353       no  2016-03-18 00:00:00                   0        36391   \n",
       "\n",
       "                  last_seen  \n",
       "164144  2016-03-09 09:46:57  \n",
       "221796  2016-03-28 08:46:21  \n",
       "247551  2016-04-07 09:44:54  \n",
       "312353  2016-03-18 18:46:15  "
      ]
     },
     "execution_count": 24,
     "metadata": {},
     "output_type": "execute_result"
    }
   ],
   "source": [
    "data[data.duplicated()]"
   ]
  },
  {
   "cell_type": "markdown",
   "metadata": {},
   "source": [
    "Удалим эти явные дубликаты, сбросим индекс:"
   ]
  },
  {
   "cell_type": "code",
   "execution_count": 25,
   "metadata": {},
   "outputs": [],
   "source": [
    "data.drop_duplicates(inplace=True)"
   ]
  },
  {
   "cell_type": "code",
   "execution_count": 26,
   "metadata": {},
   "outputs": [],
   "source": [
    "data.reset_index(drop=True, inplace=True)"
   ]
  },
  {
   "cell_type": "code",
   "execution_count": 27,
   "metadata": {},
   "outputs": [
    {
     "data": {
      "text/plain": [
       "0"
      ]
     },
     "execution_count": 27,
     "metadata": {},
     "output_type": "execute_result"
    }
   ],
   "source": [
    "data.duplicated().sum()"
   ]
  },
  {
   "cell_type": "markdown",
   "metadata": {},
   "source": [
    "Теперь посмотрим на дубликаты по столбцам `'vehicle_type', 'registration_year', 'gearbox', 'power', 'model', 'registration_month', 'fuel_type', 'brand'`:"
   ]
  },
  {
   "cell_type": "code",
   "execution_count": 28,
   "metadata": {
    "scrolled": true
   },
   "outputs": [
    {
     "data": {
      "text/html": [
       "<div>\n",
       "<style scoped>\n",
       "    .dataframe tbody tr th:only-of-type {\n",
       "        vertical-align: middle;\n",
       "    }\n",
       "\n",
       "    .dataframe tbody tr th {\n",
       "        vertical-align: top;\n",
       "    }\n",
       "\n",
       "    .dataframe thead th {\n",
       "        text-align: right;\n",
       "    }\n",
       "</style>\n",
       "<table border=\"1\" class=\"dataframe\">\n",
       "  <thead>\n",
       "    <tr style=\"text-align: right;\">\n",
       "      <th></th>\n",
       "      <th>date_crawled</th>\n",
       "      <th>price</th>\n",
       "      <th>vehicle_type</th>\n",
       "      <th>registration_year</th>\n",
       "      <th>gearbox</th>\n",
       "      <th>power</th>\n",
       "      <th>model</th>\n",
       "      <th>kilometer</th>\n",
       "      <th>registration_month</th>\n",
       "      <th>fuel_type</th>\n",
       "      <th>brand</th>\n",
       "      <th>repaired</th>\n",
       "      <th>date_created</th>\n",
       "      <th>number_of_pictures</th>\n",
       "      <th>postal_code</th>\n",
       "      <th>last_seen</th>\n",
       "    </tr>\n",
       "  </thead>\n",
       "  <tbody>\n",
       "    <tr>\n",
       "      <th>361</th>\n",
       "      <td>2016-03-10 14:45:46</td>\n",
       "      <td>1100</td>\n",
       "      <td>small</td>\n",
       "      <td>2000</td>\n",
       "      <td>manual</td>\n",
       "      <td>60</td>\n",
       "      <td>punto</td>\n",
       "      <td>60000</td>\n",
       "      <td>6</td>\n",
       "      <td>petrol</td>\n",
       "      <td>fiat</td>\n",
       "      <td>no</td>\n",
       "      <td>2016-03-10 00:00:00</td>\n",
       "      <td>0</td>\n",
       "      <td>87600</td>\n",
       "      <td>2016-03-11 02:16:04</td>\n",
       "    </tr>\n",
       "    <tr>\n",
       "      <th>565</th>\n",
       "      <td>2016-03-17 19:51:48</td>\n",
       "      <td>700</td>\n",
       "      <td>small</td>\n",
       "      <td>2001</td>\n",
       "      <td>manual</td>\n",
       "      <td>75</td>\n",
       "      <td>golf</td>\n",
       "      <td>150000</td>\n",
       "      <td>1</td>\n",
       "      <td>petrol</td>\n",
       "      <td>volkswagen</td>\n",
       "      <td>NaN</td>\n",
       "      <td>2016-03-17 00:00:00</td>\n",
       "      <td>0</td>\n",
       "      <td>22047</td>\n",
       "      <td>2016-03-17 19:51:48</td>\n",
       "    </tr>\n",
       "    <tr>\n",
       "      <th>924</th>\n",
       "      <td>2016-03-25 09:57:23</td>\n",
       "      <td>0</td>\n",
       "      <td>NaN</td>\n",
       "      <td>1990</td>\n",
       "      <td>NaN</td>\n",
       "      <td>0</td>\n",
       "      <td>3er</td>\n",
       "      <td>150000</td>\n",
       "      <td>0</td>\n",
       "      <td>NaN</td>\n",
       "      <td>bmw</td>\n",
       "      <td>NaN</td>\n",
       "      <td>2016-03-25 00:00:00</td>\n",
       "      <td>0</td>\n",
       "      <td>66822</td>\n",
       "      <td>2016-03-29 22:46:53</td>\n",
       "    </tr>\n",
       "    <tr>\n",
       "      <th>962</th>\n",
       "      <td>2016-03-20 23:06:24</td>\n",
       "      <td>10900</td>\n",
       "      <td>small</td>\n",
       "      <td>2010</td>\n",
       "      <td>auto</td>\n",
       "      <td>179</td>\n",
       "      <td>ibiza</td>\n",
       "      <td>80000</td>\n",
       "      <td>11</td>\n",
       "      <td>petrol</td>\n",
       "      <td>seat</td>\n",
       "      <td>no</td>\n",
       "      <td>2016-03-20 00:00:00</td>\n",
       "      <td>0</td>\n",
       "      <td>60322</td>\n",
       "      <td>2016-04-06 06:17:49</td>\n",
       "    </tr>\n",
       "    <tr>\n",
       "      <th>970</th>\n",
       "      <td>2016-03-26 19:48:43</td>\n",
       "      <td>500</td>\n",
       "      <td>small</td>\n",
       "      <td>1996</td>\n",
       "      <td>manual</td>\n",
       "      <td>45</td>\n",
       "      <td>corsa</td>\n",
       "      <td>70000</td>\n",
       "      <td>4</td>\n",
       "      <td>petrol</td>\n",
       "      <td>opel</td>\n",
       "      <td>no</td>\n",
       "      <td>2016-03-26 00:00:00</td>\n",
       "      <td>0</td>\n",
       "      <td>8496</td>\n",
       "      <td>2016-04-06 09:46:52</td>\n",
       "    </tr>\n",
       "    <tr>\n",
       "      <th>...</th>\n",
       "      <td>...</td>\n",
       "      <td>...</td>\n",
       "      <td>...</td>\n",
       "      <td>...</td>\n",
       "      <td>...</td>\n",
       "      <td>...</td>\n",
       "      <td>...</td>\n",
       "      <td>...</td>\n",
       "      <td>...</td>\n",
       "      <td>...</td>\n",
       "      <td>...</td>\n",
       "      <td>...</td>\n",
       "      <td>...</td>\n",
       "      <td>...</td>\n",
       "      <td>...</td>\n",
       "      <td>...</td>\n",
       "    </tr>\n",
       "    <tr>\n",
       "      <th>339822</th>\n",
       "      <td>2016-04-04 11:45:16</td>\n",
       "      <td>999</td>\n",
       "      <td>convertible</td>\n",
       "      <td>2000</td>\n",
       "      <td>manual</td>\n",
       "      <td>95</td>\n",
       "      <td>megane</td>\n",
       "      <td>150000</td>\n",
       "      <td>4</td>\n",
       "      <td>petrol</td>\n",
       "      <td>renault</td>\n",
       "      <td>NaN</td>\n",
       "      <td>2016-04-04 00:00:00</td>\n",
       "      <td>0</td>\n",
       "      <td>88477</td>\n",
       "      <td>2016-04-06 12:44:52</td>\n",
       "    </tr>\n",
       "    <tr>\n",
       "      <th>339824</th>\n",
       "      <td>2016-04-04 09:57:12</td>\n",
       "      <td>1490</td>\n",
       "      <td>small</td>\n",
       "      <td>1998</td>\n",
       "      <td>manual</td>\n",
       "      <td>50</td>\n",
       "      <td>lupo</td>\n",
       "      <td>150000</td>\n",
       "      <td>9</td>\n",
       "      <td>petrol</td>\n",
       "      <td>volkswagen</td>\n",
       "      <td>no</td>\n",
       "      <td>2016-04-04 00:00:00</td>\n",
       "      <td>0</td>\n",
       "      <td>48653</td>\n",
       "      <td>2016-04-06 11:17:13</td>\n",
       "    </tr>\n",
       "    <tr>\n",
       "      <th>339829</th>\n",
       "      <td>2016-03-27 20:36:20</td>\n",
       "      <td>1150</td>\n",
       "      <td>bus</td>\n",
       "      <td>2000</td>\n",
       "      <td>manual</td>\n",
       "      <td>0</td>\n",
       "      <td>zafira</td>\n",
       "      <td>150000</td>\n",
       "      <td>3</td>\n",
       "      <td>petrol</td>\n",
       "      <td>opel</td>\n",
       "      <td>no</td>\n",
       "      <td>2016-03-27 00:00:00</td>\n",
       "      <td>0</td>\n",
       "      <td>26624</td>\n",
       "      <td>2016-03-29 10:17:23</td>\n",
       "    </tr>\n",
       "    <tr>\n",
       "      <th>339831</th>\n",
       "      <td>2016-03-14 17:48:27</td>\n",
       "      <td>2200</td>\n",
       "      <td>NaN</td>\n",
       "      <td>2005</td>\n",
       "      <td>NaN</td>\n",
       "      <td>0</td>\n",
       "      <td>NaN</td>\n",
       "      <td>20000</td>\n",
       "      <td>1</td>\n",
       "      <td>NaN</td>\n",
       "      <td>sonstige_autos</td>\n",
       "      <td>NaN</td>\n",
       "      <td>2016-03-14 00:00:00</td>\n",
       "      <td>0</td>\n",
       "      <td>39576</td>\n",
       "      <td>2016-04-06 00:46:52</td>\n",
       "    </tr>\n",
       "    <tr>\n",
       "      <th>339833</th>\n",
       "      <td>2016-03-19 18:57:12</td>\n",
       "      <td>9200</td>\n",
       "      <td>bus</td>\n",
       "      <td>1996</td>\n",
       "      <td>manual</td>\n",
       "      <td>102</td>\n",
       "      <td>transporter</td>\n",
       "      <td>150000</td>\n",
       "      <td>3</td>\n",
       "      <td>gasoline</td>\n",
       "      <td>volkswagen</td>\n",
       "      <td>no</td>\n",
       "      <td>2016-03-19 00:00:00</td>\n",
       "      <td>0</td>\n",
       "      <td>87439</td>\n",
       "      <td>2016-04-07 07:15:26</td>\n",
       "    </tr>\n",
       "  </tbody>\n",
       "</table>\n",
       "<p>145907 rows × 16 columns</p>\n",
       "</div>"
      ],
      "text/plain": [
       "               date_crawled  price vehicle_type  registration_year gearbox  \\\n",
       "361     2016-03-10 14:45:46   1100        small               2000  manual   \n",
       "565     2016-03-17 19:51:48    700        small               2001  manual   \n",
       "924     2016-03-25 09:57:23      0          NaN               1990     NaN   \n",
       "962     2016-03-20 23:06:24  10900        small               2010    auto   \n",
       "970     2016-03-26 19:48:43    500        small               1996  manual   \n",
       "...                     ...    ...          ...                ...     ...   \n",
       "339822  2016-04-04 11:45:16    999  convertible               2000  manual   \n",
       "339824  2016-04-04 09:57:12   1490        small               1998  manual   \n",
       "339829  2016-03-27 20:36:20   1150          bus               2000  manual   \n",
       "339831  2016-03-14 17:48:27   2200          NaN               2005     NaN   \n",
       "339833  2016-03-19 18:57:12   9200          bus               1996  manual   \n",
       "\n",
       "        power        model  kilometer  registration_month fuel_type  \\\n",
       "361        60        punto      60000                   6    petrol   \n",
       "565        75         golf     150000                   1    petrol   \n",
       "924         0          3er     150000                   0       NaN   \n",
       "962       179        ibiza      80000                  11    petrol   \n",
       "970        45        corsa      70000                   4    petrol   \n",
       "...       ...          ...        ...                 ...       ...   \n",
       "339822     95       megane     150000                   4    petrol   \n",
       "339824     50         lupo     150000                   9    petrol   \n",
       "339829      0       zafira     150000                   3    petrol   \n",
       "339831      0          NaN      20000                   1       NaN   \n",
       "339833    102  transporter     150000                   3  gasoline   \n",
       "\n",
       "                 brand repaired         date_created  number_of_pictures  \\\n",
       "361               fiat       no  2016-03-10 00:00:00                   0   \n",
       "565         volkswagen      NaN  2016-03-17 00:00:00                   0   \n",
       "924                bmw      NaN  2016-03-25 00:00:00                   0   \n",
       "962               seat       no  2016-03-20 00:00:00                   0   \n",
       "970               opel       no  2016-03-26 00:00:00                   0   \n",
       "...                ...      ...                  ...                 ...   \n",
       "339822         renault      NaN  2016-04-04 00:00:00                   0   \n",
       "339824      volkswagen       no  2016-04-04 00:00:00                   0   \n",
       "339829            opel       no  2016-03-27 00:00:00                   0   \n",
       "339831  sonstige_autos      NaN  2016-03-14 00:00:00                   0   \n",
       "339833      volkswagen       no  2016-03-19 00:00:00                   0   \n",
       "\n",
       "        postal_code            last_seen  \n",
       "361           87600  2016-03-11 02:16:04  \n",
       "565           22047  2016-03-17 19:51:48  \n",
       "924           66822  2016-03-29 22:46:53  \n",
       "962           60322  2016-04-06 06:17:49  \n",
       "970            8496  2016-04-06 09:46:52  \n",
       "...             ...                  ...  \n",
       "339822        88477  2016-04-06 12:44:52  \n",
       "339824        48653  2016-04-06 11:17:13  \n",
       "339829        26624  2016-03-29 10:17:23  \n",
       "339831        39576  2016-04-06 00:46:52  \n",
       "339833        87439  2016-04-07 07:15:26  \n",
       "\n",
       "[145907 rows x 16 columns]"
      ]
     },
     "execution_count": 28,
     "metadata": {},
     "output_type": "execute_result"
    }
   ],
   "source": [
    "dub_list = ['vehicle_type', 'registration_year', 'gearbox', 'power', 'model', 'registration_month', 'fuel_type', 'brand']\n",
    "\n",
    "data[data.duplicated(subset=dub_list)]"
   ]
  },
  {
   "cell_type": "markdown",
   "metadata": {},
   "source": [
    "Посмотрим на первую машину подробнее:"
   ]
  },
  {
   "cell_type": "code",
   "execution_count": 29,
   "metadata": {
    "scrolled": true
   },
   "outputs": [
    {
     "data": {
      "text/html": [
       "<div>\n",
       "<style scoped>\n",
       "    .dataframe tbody tr th:only-of-type {\n",
       "        vertical-align: middle;\n",
       "    }\n",
       "\n",
       "    .dataframe tbody tr th {\n",
       "        vertical-align: top;\n",
       "    }\n",
       "\n",
       "    .dataframe thead th {\n",
       "        text-align: right;\n",
       "    }\n",
       "</style>\n",
       "<table border=\"1\" class=\"dataframe\">\n",
       "  <thead>\n",
       "    <tr style=\"text-align: right;\">\n",
       "      <th></th>\n",
       "      <th>date_crawled</th>\n",
       "      <th>price</th>\n",
       "      <th>vehicle_type</th>\n",
       "      <th>registration_year</th>\n",
       "      <th>gearbox</th>\n",
       "      <th>power</th>\n",
       "      <th>model</th>\n",
       "      <th>kilometer</th>\n",
       "      <th>registration_month</th>\n",
       "      <th>fuel_type</th>\n",
       "      <th>brand</th>\n",
       "      <th>repaired</th>\n",
       "      <th>date_created</th>\n",
       "      <th>number_of_pictures</th>\n",
       "      <th>postal_code</th>\n",
       "      <th>last_seen</th>\n",
       "    </tr>\n",
       "  </thead>\n",
       "  <tbody>\n",
       "    <tr>\n",
       "      <th>221805</th>\n",
       "      <td>2016-03-05 14:46:28</td>\n",
       "      <td>1290</td>\n",
       "      <td>small</td>\n",
       "      <td>2000</td>\n",
       "      <td>manual</td>\n",
       "      <td>60</td>\n",
       "      <td>punto</td>\n",
       "      <td>125000</td>\n",
       "      <td>6</td>\n",
       "      <td>petrol</td>\n",
       "      <td>fiat</td>\n",
       "      <td>no</td>\n",
       "      <td>2016-03-05 00:00:00</td>\n",
       "      <td>0</td>\n",
       "      <td>54290</td>\n",
       "      <td>2016-03-05 16:46:46</td>\n",
       "    </tr>\n",
       "    <tr>\n",
       "      <th>84490</th>\n",
       "      <td>2016-03-08 20:37:41</td>\n",
       "      <td>890</td>\n",
       "      <td>small</td>\n",
       "      <td>2000</td>\n",
       "      <td>manual</td>\n",
       "      <td>60</td>\n",
       "      <td>punto</td>\n",
       "      <td>150000</td>\n",
       "      <td>6</td>\n",
       "      <td>petrol</td>\n",
       "      <td>fiat</td>\n",
       "      <td>no</td>\n",
       "      <td>2016-03-08 00:00:00</td>\n",
       "      <td>0</td>\n",
       "      <td>73230</td>\n",
       "      <td>2016-04-05 18:44:44</td>\n",
       "    </tr>\n",
       "    <tr>\n",
       "      <th>361</th>\n",
       "      <td>2016-03-10 14:45:46</td>\n",
       "      <td>1100</td>\n",
       "      <td>small</td>\n",
       "      <td>2000</td>\n",
       "      <td>manual</td>\n",
       "      <td>60</td>\n",
       "      <td>punto</td>\n",
       "      <td>60000</td>\n",
       "      <td>6</td>\n",
       "      <td>petrol</td>\n",
       "      <td>fiat</td>\n",
       "      <td>no</td>\n",
       "      <td>2016-03-10 00:00:00</td>\n",
       "      <td>0</td>\n",
       "      <td>87600</td>\n",
       "      <td>2016-03-11 02:16:04</td>\n",
       "    </tr>\n",
       "    <tr>\n",
       "      <th>103715</th>\n",
       "      <td>2016-03-11 22:38:24</td>\n",
       "      <td>890</td>\n",
       "      <td>small</td>\n",
       "      <td>2000</td>\n",
       "      <td>manual</td>\n",
       "      <td>60</td>\n",
       "      <td>punto</td>\n",
       "      <td>150000</td>\n",
       "      <td>6</td>\n",
       "      <td>petrol</td>\n",
       "      <td>fiat</td>\n",
       "      <td>no</td>\n",
       "      <td>2016-03-11 00:00:00</td>\n",
       "      <td>0</td>\n",
       "      <td>73230</td>\n",
       "      <td>2016-04-06 23:45:16</td>\n",
       "    </tr>\n",
       "    <tr>\n",
       "      <th>219993</th>\n",
       "      <td>2016-03-12 13:47:06</td>\n",
       "      <td>1700</td>\n",
       "      <td>small</td>\n",
       "      <td>2000</td>\n",
       "      <td>manual</td>\n",
       "      <td>60</td>\n",
       "      <td>punto</td>\n",
       "      <td>80000</td>\n",
       "      <td>6</td>\n",
       "      <td>petrol</td>\n",
       "      <td>fiat</td>\n",
       "      <td>no</td>\n",
       "      <td>2016-03-12 00:00:00</td>\n",
       "      <td>0</td>\n",
       "      <td>13359</td>\n",
       "      <td>2016-04-06 21:17:29</td>\n",
       "    </tr>\n",
       "    <tr>\n",
       "      <th>194178</th>\n",
       "      <td>2016-03-12 16:53:46</td>\n",
       "      <td>1700</td>\n",
       "      <td>small</td>\n",
       "      <td>2000</td>\n",
       "      <td>manual</td>\n",
       "      <td>60</td>\n",
       "      <td>punto</td>\n",
       "      <td>80000</td>\n",
       "      <td>6</td>\n",
       "      <td>petrol</td>\n",
       "      <td>fiat</td>\n",
       "      <td>no</td>\n",
       "      <td>2016-03-12 00:00:00</td>\n",
       "      <td>0</td>\n",
       "      <td>13359</td>\n",
       "      <td>2016-04-07 07:17:27</td>\n",
       "    </tr>\n",
       "    <tr>\n",
       "      <th>237127</th>\n",
       "      <td>2016-03-13 14:46:08</td>\n",
       "      <td>500</td>\n",
       "      <td>small</td>\n",
       "      <td>2000</td>\n",
       "      <td>manual</td>\n",
       "      <td>60</td>\n",
       "      <td>punto</td>\n",
       "      <td>150000</td>\n",
       "      <td>6</td>\n",
       "      <td>petrol</td>\n",
       "      <td>fiat</td>\n",
       "      <td>yes</td>\n",
       "      <td>2016-03-13 00:00:00</td>\n",
       "      <td>0</td>\n",
       "      <td>66780</td>\n",
       "      <td>2016-04-06 16:16:26</td>\n",
       "    </tr>\n",
       "    <tr>\n",
       "      <th>6256</th>\n",
       "      <td>2016-03-14 08:53:35</td>\n",
       "      <td>999</td>\n",
       "      <td>small</td>\n",
       "      <td>2000</td>\n",
       "      <td>manual</td>\n",
       "      <td>60</td>\n",
       "      <td>punto</td>\n",
       "      <td>150000</td>\n",
       "      <td>6</td>\n",
       "      <td>petrol</td>\n",
       "      <td>fiat</td>\n",
       "      <td>no</td>\n",
       "      <td>2016-03-14 00:00:00</td>\n",
       "      <td>0</td>\n",
       "      <td>91301</td>\n",
       "      <td>2016-03-14 09:39:15</td>\n",
       "    </tr>\n",
       "    <tr>\n",
       "      <th>44768</th>\n",
       "      <td>2016-03-17 15:36:21</td>\n",
       "      <td>1500</td>\n",
       "      <td>small</td>\n",
       "      <td>2000</td>\n",
       "      <td>manual</td>\n",
       "      <td>60</td>\n",
       "      <td>punto</td>\n",
       "      <td>125000</td>\n",
       "      <td>6</td>\n",
       "      <td>petrol</td>\n",
       "      <td>fiat</td>\n",
       "      <td>no</td>\n",
       "      <td>2016-03-17 00:00:00</td>\n",
       "      <td>0</td>\n",
       "      <td>32469</td>\n",
       "      <td>2016-03-24 11:15:40</td>\n",
       "    </tr>\n",
       "    <tr>\n",
       "      <th>274552</th>\n",
       "      <td>2016-03-20 01:57:03</td>\n",
       "      <td>1650</td>\n",
       "      <td>small</td>\n",
       "      <td>2000</td>\n",
       "      <td>manual</td>\n",
       "      <td>60</td>\n",
       "      <td>punto</td>\n",
       "      <td>100000</td>\n",
       "      <td>6</td>\n",
       "      <td>petrol</td>\n",
       "      <td>fiat</td>\n",
       "      <td>no</td>\n",
       "      <td>2016-03-20 00:00:00</td>\n",
       "      <td>0</td>\n",
       "      <td>27637</td>\n",
       "      <td>2016-04-06 03:15:22</td>\n",
       "    </tr>\n",
       "    <tr>\n",
       "      <th>303180</th>\n",
       "      <td>2016-03-20 22:36:22</td>\n",
       "      <td>1400</td>\n",
       "      <td>small</td>\n",
       "      <td>2000</td>\n",
       "      <td>manual</td>\n",
       "      <td>60</td>\n",
       "      <td>punto</td>\n",
       "      <td>125000</td>\n",
       "      <td>6</td>\n",
       "      <td>petrol</td>\n",
       "      <td>fiat</td>\n",
       "      <td>no</td>\n",
       "      <td>2016-03-20 00:00:00</td>\n",
       "      <td>0</td>\n",
       "      <td>24536</td>\n",
       "      <td>2016-04-07 11:44:23</td>\n",
       "    </tr>\n",
       "    <tr>\n",
       "      <th>132162</th>\n",
       "      <td>2016-03-23 18:56:42</td>\n",
       "      <td>650</td>\n",
       "      <td>small</td>\n",
       "      <td>2000</td>\n",
       "      <td>manual</td>\n",
       "      <td>60</td>\n",
       "      <td>punto</td>\n",
       "      <td>150000</td>\n",
       "      <td>6</td>\n",
       "      <td>petrol</td>\n",
       "      <td>fiat</td>\n",
       "      <td>no</td>\n",
       "      <td>2016-03-23 00:00:00</td>\n",
       "      <td>0</td>\n",
       "      <td>32657</td>\n",
       "      <td>2016-03-31 06:46:40</td>\n",
       "    </tr>\n",
       "    <tr>\n",
       "      <th>347</th>\n",
       "      <td>2016-03-26 21:37:36</td>\n",
       "      <td>1490</td>\n",
       "      <td>small</td>\n",
       "      <td>2000</td>\n",
       "      <td>manual</td>\n",
       "      <td>60</td>\n",
       "      <td>punto</td>\n",
       "      <td>100000</td>\n",
       "      <td>6</td>\n",
       "      <td>petrol</td>\n",
       "      <td>fiat</td>\n",
       "      <td>no</td>\n",
       "      <td>2016-03-26 00:00:00</td>\n",
       "      <td>0</td>\n",
       "      <td>59557</td>\n",
       "      <td>2016-04-06 14:15:47</td>\n",
       "    </tr>\n",
       "    <tr>\n",
       "      <th>279278</th>\n",
       "      <td>2016-03-29 03:02:41</td>\n",
       "      <td>900</td>\n",
       "      <td>small</td>\n",
       "      <td>2000</td>\n",
       "      <td>NaN</td>\n",
       "      <td>60</td>\n",
       "      <td>punto</td>\n",
       "      <td>150000</td>\n",
       "      <td>6</td>\n",
       "      <td>petrol</td>\n",
       "      <td>fiat</td>\n",
       "      <td>yes</td>\n",
       "      <td>2016-03-29 00:00:00</td>\n",
       "      <td>0</td>\n",
       "      <td>76532</td>\n",
       "      <td>2016-04-05 17:44:42</td>\n",
       "    </tr>\n",
       "    <tr>\n",
       "      <th>334615</th>\n",
       "      <td>2016-03-30 12:53:10</td>\n",
       "      <td>550</td>\n",
       "      <td>small</td>\n",
       "      <td>2000</td>\n",
       "      <td>manual</td>\n",
       "      <td>60</td>\n",
       "      <td>punto</td>\n",
       "      <td>150000</td>\n",
       "      <td>6</td>\n",
       "      <td>petrol</td>\n",
       "      <td>fiat</td>\n",
       "      <td>no</td>\n",
       "      <td>2016-03-30 00:00:00</td>\n",
       "      <td>0</td>\n",
       "      <td>66780</td>\n",
       "      <td>2016-04-07 03:44:58</td>\n",
       "    </tr>\n",
       "    <tr>\n",
       "      <th>301539</th>\n",
       "      <td>2016-04-04 15:58:35</td>\n",
       "      <td>1300</td>\n",
       "      <td>small</td>\n",
       "      <td>2000</td>\n",
       "      <td>manual</td>\n",
       "      <td>60</td>\n",
       "      <td>punto</td>\n",
       "      <td>150000</td>\n",
       "      <td>6</td>\n",
       "      <td>petrol</td>\n",
       "      <td>fiat</td>\n",
       "      <td>no</td>\n",
       "      <td>2016-04-04 00:00:00</td>\n",
       "      <td>0</td>\n",
       "      <td>75446</td>\n",
       "      <td>2016-04-06 18:17:03</td>\n",
       "    </tr>\n",
       "  </tbody>\n",
       "</table>\n",
       "</div>"
      ],
      "text/plain": [
       "               date_crawled  price vehicle_type  registration_year gearbox  \\\n",
       "221805  2016-03-05 14:46:28   1290        small               2000  manual   \n",
       "84490   2016-03-08 20:37:41    890        small               2000  manual   \n",
       "361     2016-03-10 14:45:46   1100        small               2000  manual   \n",
       "103715  2016-03-11 22:38:24    890        small               2000  manual   \n",
       "219993  2016-03-12 13:47:06   1700        small               2000  manual   \n",
       "194178  2016-03-12 16:53:46   1700        small               2000  manual   \n",
       "237127  2016-03-13 14:46:08    500        small               2000  manual   \n",
       "6256    2016-03-14 08:53:35    999        small               2000  manual   \n",
       "44768   2016-03-17 15:36:21   1500        small               2000  manual   \n",
       "274552  2016-03-20 01:57:03   1650        small               2000  manual   \n",
       "303180  2016-03-20 22:36:22   1400        small               2000  manual   \n",
       "132162  2016-03-23 18:56:42    650        small               2000  manual   \n",
       "347     2016-03-26 21:37:36   1490        small               2000  manual   \n",
       "279278  2016-03-29 03:02:41    900        small               2000     NaN   \n",
       "334615  2016-03-30 12:53:10    550        small               2000  manual   \n",
       "301539  2016-04-04 15:58:35   1300        small               2000  manual   \n",
       "\n",
       "        power  model  kilometer  registration_month fuel_type brand repaired  \\\n",
       "221805     60  punto     125000                   6    petrol  fiat       no   \n",
       "84490      60  punto     150000                   6    petrol  fiat       no   \n",
       "361        60  punto      60000                   6    petrol  fiat       no   \n",
       "103715     60  punto     150000                   6    petrol  fiat       no   \n",
       "219993     60  punto      80000                   6    petrol  fiat       no   \n",
       "194178     60  punto      80000                   6    petrol  fiat       no   \n",
       "237127     60  punto     150000                   6    petrol  fiat      yes   \n",
       "6256       60  punto     150000                   6    petrol  fiat       no   \n",
       "44768      60  punto     125000                   6    petrol  fiat       no   \n",
       "274552     60  punto     100000                   6    petrol  fiat       no   \n",
       "303180     60  punto     125000                   6    petrol  fiat       no   \n",
       "132162     60  punto     150000                   6    petrol  fiat       no   \n",
       "347        60  punto     100000                   6    petrol  fiat       no   \n",
       "279278     60  punto     150000                   6    petrol  fiat      yes   \n",
       "334615     60  punto     150000                   6    petrol  fiat       no   \n",
       "301539     60  punto     150000                   6    petrol  fiat       no   \n",
       "\n",
       "               date_created  number_of_pictures  postal_code  \\\n",
       "221805  2016-03-05 00:00:00                   0        54290   \n",
       "84490   2016-03-08 00:00:00                   0        73230   \n",
       "361     2016-03-10 00:00:00                   0        87600   \n",
       "103715  2016-03-11 00:00:00                   0        73230   \n",
       "219993  2016-03-12 00:00:00                   0        13359   \n",
       "194178  2016-03-12 00:00:00                   0        13359   \n",
       "237127  2016-03-13 00:00:00                   0        66780   \n",
       "6256    2016-03-14 00:00:00                   0        91301   \n",
       "44768   2016-03-17 00:00:00                   0        32469   \n",
       "274552  2016-03-20 00:00:00                   0        27637   \n",
       "303180  2016-03-20 00:00:00                   0        24536   \n",
       "132162  2016-03-23 00:00:00                   0        32657   \n",
       "347     2016-03-26 00:00:00                   0        59557   \n",
       "279278  2016-03-29 00:00:00                   0        76532   \n",
       "334615  2016-03-30 00:00:00                   0        66780   \n",
       "301539  2016-04-04 00:00:00                   0        75446   \n",
       "\n",
       "                  last_seen  \n",
       "221805  2016-03-05 16:46:46  \n",
       "84490   2016-04-05 18:44:44  \n",
       "361     2016-03-11 02:16:04  \n",
       "103715  2016-04-06 23:45:16  \n",
       "219993  2016-04-06 21:17:29  \n",
       "194178  2016-04-07 07:17:27  \n",
       "237127  2016-04-06 16:16:26  \n",
       "6256    2016-03-14 09:39:15  \n",
       "44768   2016-03-24 11:15:40  \n",
       "274552  2016-04-06 03:15:22  \n",
       "303180  2016-04-07 11:44:23  \n",
       "132162  2016-03-31 06:46:40  \n",
       "347     2016-04-06 14:15:47  \n",
       "279278  2016-04-05 17:44:42  \n",
       "334615  2016-04-07 03:44:58  \n",
       "301539  2016-04-06 18:17:03  "
      ]
     },
     "execution_count": 29,
     "metadata": {},
     "output_type": "execute_result"
    }
   ],
   "source": [
    "data[(data['model'] == 'punto') & (data['registration_month'] == 6) & (data['registration_year'] == 2000) & \\\n",
    "     (data['power'] == 60)].sort_values(by='date_crawled')"
   ]
  },
  {
   "cell_type": "markdown",
   "metadata": {},
   "source": [
    "Видим, что есть два наблюдения по одной машине с ценой 1700, у которых разные только `date_crawled` и `last_seen`, `date_created` - одинаковые.\n",
    "\n",
    "Посмотрим подробнее `date_crawled` и `date_created`:"
   ]
  },
  {
   "cell_type": "code",
   "execution_count": 30,
   "metadata": {},
   "outputs": [
    {
     "data": {
      "text/html": [
       "<div>\n",
       "<style scoped>\n",
       "    .dataframe tbody tr th:only-of-type {\n",
       "        vertical-align: middle;\n",
       "    }\n",
       "\n",
       "    .dataframe tbody tr th {\n",
       "        vertical-align: top;\n",
       "    }\n",
       "\n",
       "    .dataframe thead th {\n",
       "        text-align: right;\n",
       "    }\n",
       "</style>\n",
       "<table border=\"1\" class=\"dataframe\">\n",
       "  <thead>\n",
       "    <tr style=\"text-align: right;\">\n",
       "      <th></th>\n",
       "      <th>date_crawled</th>\n",
       "      <th>price</th>\n",
       "      <th>vehicle_type</th>\n",
       "      <th>registration_year</th>\n",
       "      <th>gearbox</th>\n",
       "      <th>power</th>\n",
       "      <th>model</th>\n",
       "      <th>kilometer</th>\n",
       "      <th>registration_month</th>\n",
       "      <th>fuel_type</th>\n",
       "      <th>brand</th>\n",
       "      <th>repaired</th>\n",
       "      <th>date_created</th>\n",
       "      <th>number_of_pictures</th>\n",
       "      <th>postal_code</th>\n",
       "      <th>last_seen</th>\n",
       "    </tr>\n",
       "  </thead>\n",
       "  <tbody>\n",
       "    <tr>\n",
       "      <th>2</th>\n",
       "      <td>2016-03-14 12:52:21</td>\n",
       "      <td>9800</td>\n",
       "      <td>suv</td>\n",
       "      <td>2004</td>\n",
       "      <td>auto</td>\n",
       "      <td>163</td>\n",
       "      <td>grand</td>\n",
       "      <td>125000</td>\n",
       "      <td>8</td>\n",
       "      <td>gasoline</td>\n",
       "      <td>jeep</td>\n",
       "      <td>NaN</td>\n",
       "      <td>2016-03-14 00:00:00</td>\n",
       "      <td>0</td>\n",
       "      <td>90480</td>\n",
       "      <td>2016-04-05 12:47:46</td>\n",
       "    </tr>\n",
       "    <tr>\n",
       "      <th>0</th>\n",
       "      <td>2016-03-24 11:52:17</td>\n",
       "      <td>480</td>\n",
       "      <td>NaN</td>\n",
       "      <td>1993</td>\n",
       "      <td>manual</td>\n",
       "      <td>0</td>\n",
       "      <td>golf</td>\n",
       "      <td>150000</td>\n",
       "      <td>0</td>\n",
       "      <td>petrol</td>\n",
       "      <td>volkswagen</td>\n",
       "      <td>NaN</td>\n",
       "      <td>2016-03-24 00:00:00</td>\n",
       "      <td>0</td>\n",
       "      <td>70435</td>\n",
       "      <td>2016-04-07 03:16:57</td>\n",
       "    </tr>\n",
       "    <tr>\n",
       "      <th>1</th>\n",
       "      <td>2016-03-24 10:58:45</td>\n",
       "      <td>18300</td>\n",
       "      <td>coupe</td>\n",
       "      <td>2011</td>\n",
       "      <td>manual</td>\n",
       "      <td>190</td>\n",
       "      <td>NaN</td>\n",
       "      <td>125000</td>\n",
       "      <td>5</td>\n",
       "      <td>gasoline</td>\n",
       "      <td>audi</td>\n",
       "      <td>yes</td>\n",
       "      <td>2016-03-24 00:00:00</td>\n",
       "      <td>0</td>\n",
       "      <td>66954</td>\n",
       "      <td>2016-04-07 01:46:50</td>\n",
       "    </tr>\n",
       "  </tbody>\n",
       "</table>\n",
       "</div>"
      ],
      "text/plain": [
       "          date_crawled  price vehicle_type  registration_year gearbox  power  \\\n",
       "2  2016-03-14 12:52:21   9800          suv               2004    auto    163   \n",
       "0  2016-03-24 11:52:17    480          NaN               1993  manual      0   \n",
       "1  2016-03-24 10:58:45  18300        coupe               2011  manual    190   \n",
       "\n",
       "   model  kilometer  registration_month fuel_type       brand repaired  \\\n",
       "2  grand     125000                   8  gasoline        jeep      NaN   \n",
       "0   golf     150000                   0    petrol  volkswagen      NaN   \n",
       "1    NaN     125000                   5  gasoline        audi      yes   \n",
       "\n",
       "          date_created  number_of_pictures  postal_code            last_seen  \n",
       "2  2016-03-14 00:00:00                   0        90480  2016-04-05 12:47:46  \n",
       "0  2016-03-24 00:00:00                   0        70435  2016-04-07 03:16:57  \n",
       "1  2016-03-24 00:00:00                   0        66954  2016-04-07 01:46:50  "
      ]
     },
     "execution_count": 30,
     "metadata": {},
     "output_type": "execute_result"
    }
   ],
   "source": [
    "data.head(3).sort_values(by='date_created')"
   ]
  },
  {
   "cell_type": "code",
   "execution_count": 31,
   "metadata": {},
   "outputs": [
    {
     "data": {
      "text/html": [
       "<div>\n",
       "<style scoped>\n",
       "    .dataframe tbody tr th:only-of-type {\n",
       "        vertical-align: middle;\n",
       "    }\n",
       "\n",
       "    .dataframe tbody tr th {\n",
       "        vertical-align: top;\n",
       "    }\n",
       "\n",
       "    .dataframe thead th {\n",
       "        text-align: right;\n",
       "    }\n",
       "</style>\n",
       "<table border=\"1\" class=\"dataframe\">\n",
       "  <thead>\n",
       "    <tr style=\"text-align: right;\">\n",
       "      <th></th>\n",
       "      <th>date_crawled</th>\n",
       "      <th>price</th>\n",
       "      <th>vehicle_type</th>\n",
       "      <th>registration_year</th>\n",
       "      <th>gearbox</th>\n",
       "      <th>power</th>\n",
       "      <th>model</th>\n",
       "      <th>kilometer</th>\n",
       "      <th>registration_month</th>\n",
       "      <th>fuel_type</th>\n",
       "      <th>brand</th>\n",
       "      <th>repaired</th>\n",
       "      <th>date_created</th>\n",
       "      <th>number_of_pictures</th>\n",
       "      <th>postal_code</th>\n",
       "      <th>last_seen</th>\n",
       "    </tr>\n",
       "  </thead>\n",
       "  <tbody>\n",
       "    <tr>\n",
       "      <th>0</th>\n",
       "      <td>2016-03-24 11:52:17</td>\n",
       "      <td>480</td>\n",
       "      <td>NaN</td>\n",
       "      <td>1993</td>\n",
       "      <td>manual</td>\n",
       "      <td>0</td>\n",
       "      <td>golf</td>\n",
       "      <td>150000</td>\n",
       "      <td>0</td>\n",
       "      <td>petrol</td>\n",
       "      <td>volkswagen</td>\n",
       "      <td>NaN</td>\n",
       "      <td>2016-03-24 00:00:00</td>\n",
       "      <td>0</td>\n",
       "      <td>70435</td>\n",
       "      <td>2016-04-07 03:16:57</td>\n",
       "    </tr>\n",
       "    <tr>\n",
       "      <th>1</th>\n",
       "      <td>2016-03-24 10:58:45</td>\n",
       "      <td>18300</td>\n",
       "      <td>coupe</td>\n",
       "      <td>2011</td>\n",
       "      <td>manual</td>\n",
       "      <td>190</td>\n",
       "      <td>NaN</td>\n",
       "      <td>125000</td>\n",
       "      <td>5</td>\n",
       "      <td>gasoline</td>\n",
       "      <td>audi</td>\n",
       "      <td>yes</td>\n",
       "      <td>2016-03-24 00:00:00</td>\n",
       "      <td>0</td>\n",
       "      <td>66954</td>\n",
       "      <td>2016-04-07 01:46:50</td>\n",
       "    </tr>\n",
       "    <tr>\n",
       "      <th>2</th>\n",
       "      <td>2016-03-14 12:52:21</td>\n",
       "      <td>9800</td>\n",
       "      <td>suv</td>\n",
       "      <td>2004</td>\n",
       "      <td>auto</td>\n",
       "      <td>163</td>\n",
       "      <td>grand</td>\n",
       "      <td>125000</td>\n",
       "      <td>8</td>\n",
       "      <td>gasoline</td>\n",
       "      <td>jeep</td>\n",
       "      <td>NaN</td>\n",
       "      <td>2016-03-14 00:00:00</td>\n",
       "      <td>0</td>\n",
       "      <td>90480</td>\n",
       "      <td>2016-04-05 12:47:46</td>\n",
       "    </tr>\n",
       "  </tbody>\n",
       "</table>\n",
       "</div>"
      ],
      "text/plain": [
       "          date_crawled  price vehicle_type  registration_year gearbox  power  \\\n",
       "0  2016-03-24 11:52:17    480          NaN               1993  manual      0   \n",
       "1  2016-03-24 10:58:45  18300        coupe               2011  manual    190   \n",
       "2  2016-03-14 12:52:21   9800          suv               2004    auto    163   \n",
       "\n",
       "   model  kilometer  registration_month fuel_type       brand repaired  \\\n",
       "0   golf     150000                   0    petrol  volkswagen      NaN   \n",
       "1    NaN     125000                   5  gasoline        audi      yes   \n",
       "2  grand     125000                   8  gasoline        jeep      NaN   \n",
       "\n",
       "          date_created  number_of_pictures  postal_code            last_seen  \n",
       "0  2016-03-24 00:00:00                   0        70435  2016-04-07 03:16:57  \n",
       "1  2016-03-24 00:00:00                   0        66954  2016-04-07 01:46:50  \n",
       "2  2016-03-14 00:00:00                   0        90480  2016-04-05 12:47:46  "
      ]
     },
     "execution_count": 31,
     "metadata": {},
     "output_type": "execute_result"
    }
   ],
   "source": [
    "data.head(3).sort_values(by='date_created', ascending=False)"
   ]
  },
  {
   "cell_type": "code",
   "execution_count": 32,
   "metadata": {},
   "outputs": [
    {
     "data": {
      "text/html": [
       "<div>\n",
       "<style scoped>\n",
       "    .dataframe tbody tr th:only-of-type {\n",
       "        vertical-align: middle;\n",
       "    }\n",
       "\n",
       "    .dataframe tbody tr th {\n",
       "        vertical-align: top;\n",
       "    }\n",
       "\n",
       "    .dataframe thead th {\n",
       "        text-align: right;\n",
       "    }\n",
       "</style>\n",
       "<table border=\"1\" class=\"dataframe\">\n",
       "  <thead>\n",
       "    <tr style=\"text-align: right;\">\n",
       "      <th></th>\n",
       "      <th>date_crawled</th>\n",
       "      <th>price</th>\n",
       "      <th>vehicle_type</th>\n",
       "      <th>registration_year</th>\n",
       "      <th>gearbox</th>\n",
       "      <th>power</th>\n",
       "      <th>model</th>\n",
       "      <th>kilometer</th>\n",
       "      <th>registration_month</th>\n",
       "      <th>fuel_type</th>\n",
       "      <th>brand</th>\n",
       "      <th>repaired</th>\n",
       "      <th>date_created</th>\n",
       "      <th>number_of_pictures</th>\n",
       "      <th>postal_code</th>\n",
       "      <th>last_seen</th>\n",
       "    </tr>\n",
       "  </thead>\n",
       "  <tbody>\n",
       "    <tr>\n",
       "      <th>2</th>\n",
       "      <td>2016-03-14 12:52:21</td>\n",
       "      <td>9800</td>\n",
       "      <td>suv</td>\n",
       "      <td>2004</td>\n",
       "      <td>auto</td>\n",
       "      <td>163</td>\n",
       "      <td>grand</td>\n",
       "      <td>125000</td>\n",
       "      <td>8</td>\n",
       "      <td>gasoline</td>\n",
       "      <td>jeep</td>\n",
       "      <td>NaN</td>\n",
       "      <td>2016-03-14 00:00:00</td>\n",
       "      <td>0</td>\n",
       "      <td>90480</td>\n",
       "      <td>2016-04-05 12:47:46</td>\n",
       "    </tr>\n",
       "    <tr>\n",
       "      <th>1</th>\n",
       "      <td>2016-03-24 10:58:45</td>\n",
       "      <td>18300</td>\n",
       "      <td>coupe</td>\n",
       "      <td>2011</td>\n",
       "      <td>manual</td>\n",
       "      <td>190</td>\n",
       "      <td>NaN</td>\n",
       "      <td>125000</td>\n",
       "      <td>5</td>\n",
       "      <td>gasoline</td>\n",
       "      <td>audi</td>\n",
       "      <td>yes</td>\n",
       "      <td>2016-03-24 00:00:00</td>\n",
       "      <td>0</td>\n",
       "      <td>66954</td>\n",
       "      <td>2016-04-07 01:46:50</td>\n",
       "    </tr>\n",
       "    <tr>\n",
       "      <th>0</th>\n",
       "      <td>2016-03-24 11:52:17</td>\n",
       "      <td>480</td>\n",
       "      <td>NaN</td>\n",
       "      <td>1993</td>\n",
       "      <td>manual</td>\n",
       "      <td>0</td>\n",
       "      <td>golf</td>\n",
       "      <td>150000</td>\n",
       "      <td>0</td>\n",
       "      <td>petrol</td>\n",
       "      <td>volkswagen</td>\n",
       "      <td>NaN</td>\n",
       "      <td>2016-03-24 00:00:00</td>\n",
       "      <td>0</td>\n",
       "      <td>70435</td>\n",
       "      <td>2016-04-07 03:16:57</td>\n",
       "    </tr>\n",
       "  </tbody>\n",
       "</table>\n",
       "</div>"
      ],
      "text/plain": [
       "          date_crawled  price vehicle_type  registration_year gearbox  power  \\\n",
       "2  2016-03-14 12:52:21   9800          suv               2004    auto    163   \n",
       "1  2016-03-24 10:58:45  18300        coupe               2011  manual    190   \n",
       "0  2016-03-24 11:52:17    480          NaN               1993  manual      0   \n",
       "\n",
       "   model  kilometer  registration_month fuel_type       brand repaired  \\\n",
       "2  grand     125000                   8  gasoline        jeep      NaN   \n",
       "1    NaN     125000                   5  gasoline        audi      yes   \n",
       "0   golf     150000                   0    petrol  volkswagen      NaN   \n",
       "\n",
       "          date_created  number_of_pictures  postal_code            last_seen  \n",
       "2  2016-03-14 00:00:00                   0        90480  2016-04-05 12:47:46  \n",
       "1  2016-03-24 00:00:00                   0        66954  2016-04-07 01:46:50  \n",
       "0  2016-03-24 00:00:00                   0        70435  2016-04-07 03:16:57  "
      ]
     },
     "execution_count": 32,
     "metadata": {},
     "output_type": "execute_result"
    }
   ],
   "source": [
    "data.head(3).sort_values(by='date_crawled')"
   ]
  },
  {
   "cell_type": "code",
   "execution_count": 33,
   "metadata": {},
   "outputs": [
    {
     "data": {
      "text/html": [
       "<div>\n",
       "<style scoped>\n",
       "    .dataframe tbody tr th:only-of-type {\n",
       "        vertical-align: middle;\n",
       "    }\n",
       "\n",
       "    .dataframe tbody tr th {\n",
       "        vertical-align: top;\n",
       "    }\n",
       "\n",
       "    .dataframe thead th {\n",
       "        text-align: right;\n",
       "    }\n",
       "</style>\n",
       "<table border=\"1\" class=\"dataframe\">\n",
       "  <thead>\n",
       "    <tr style=\"text-align: right;\">\n",
       "      <th></th>\n",
       "      <th>date_crawled</th>\n",
       "      <th>price</th>\n",
       "      <th>vehicle_type</th>\n",
       "      <th>registration_year</th>\n",
       "      <th>gearbox</th>\n",
       "      <th>power</th>\n",
       "      <th>model</th>\n",
       "      <th>kilometer</th>\n",
       "      <th>registration_month</th>\n",
       "      <th>fuel_type</th>\n",
       "      <th>brand</th>\n",
       "      <th>repaired</th>\n",
       "      <th>date_created</th>\n",
       "      <th>number_of_pictures</th>\n",
       "      <th>postal_code</th>\n",
       "      <th>last_seen</th>\n",
       "    </tr>\n",
       "  </thead>\n",
       "  <tbody>\n",
       "    <tr>\n",
       "      <th>0</th>\n",
       "      <td>2016-03-24 11:52:17</td>\n",
       "      <td>480</td>\n",
       "      <td>NaN</td>\n",
       "      <td>1993</td>\n",
       "      <td>manual</td>\n",
       "      <td>0</td>\n",
       "      <td>golf</td>\n",
       "      <td>150000</td>\n",
       "      <td>0</td>\n",
       "      <td>petrol</td>\n",
       "      <td>volkswagen</td>\n",
       "      <td>NaN</td>\n",
       "      <td>2016-03-24 00:00:00</td>\n",
       "      <td>0</td>\n",
       "      <td>70435</td>\n",
       "      <td>2016-04-07 03:16:57</td>\n",
       "    </tr>\n",
       "    <tr>\n",
       "      <th>1</th>\n",
       "      <td>2016-03-24 10:58:45</td>\n",
       "      <td>18300</td>\n",
       "      <td>coupe</td>\n",
       "      <td>2011</td>\n",
       "      <td>manual</td>\n",
       "      <td>190</td>\n",
       "      <td>NaN</td>\n",
       "      <td>125000</td>\n",
       "      <td>5</td>\n",
       "      <td>gasoline</td>\n",
       "      <td>audi</td>\n",
       "      <td>yes</td>\n",
       "      <td>2016-03-24 00:00:00</td>\n",
       "      <td>0</td>\n",
       "      <td>66954</td>\n",
       "      <td>2016-04-07 01:46:50</td>\n",
       "    </tr>\n",
       "    <tr>\n",
       "      <th>2</th>\n",
       "      <td>2016-03-14 12:52:21</td>\n",
       "      <td>9800</td>\n",
       "      <td>suv</td>\n",
       "      <td>2004</td>\n",
       "      <td>auto</td>\n",
       "      <td>163</td>\n",
       "      <td>grand</td>\n",
       "      <td>125000</td>\n",
       "      <td>8</td>\n",
       "      <td>gasoline</td>\n",
       "      <td>jeep</td>\n",
       "      <td>NaN</td>\n",
       "      <td>2016-03-14 00:00:00</td>\n",
       "      <td>0</td>\n",
       "      <td>90480</td>\n",
       "      <td>2016-04-05 12:47:46</td>\n",
       "    </tr>\n",
       "  </tbody>\n",
       "</table>\n",
       "</div>"
      ],
      "text/plain": [
       "          date_crawled  price vehicle_type  registration_year gearbox  power  \\\n",
       "0  2016-03-24 11:52:17    480          NaN               1993  manual      0   \n",
       "1  2016-03-24 10:58:45  18300        coupe               2011  manual    190   \n",
       "2  2016-03-14 12:52:21   9800          suv               2004    auto    163   \n",
       "\n",
       "   model  kilometer  registration_month fuel_type       brand repaired  \\\n",
       "0   golf     150000                   0    petrol  volkswagen      NaN   \n",
       "1    NaN     125000                   5  gasoline        audi      yes   \n",
       "2  grand     125000                   8  gasoline        jeep      NaN   \n",
       "\n",
       "          date_created  number_of_pictures  postal_code            last_seen  \n",
       "0  2016-03-24 00:00:00                   0        70435  2016-04-07 03:16:57  \n",
       "1  2016-03-24 00:00:00                   0        66954  2016-04-07 01:46:50  \n",
       "2  2016-03-14 00:00:00                   0        90480  2016-04-05 12:47:46  "
      ]
     },
     "execution_count": 33,
     "metadata": {},
     "output_type": "execute_result"
    }
   ],
   "source": [
    "data.head(3).sort_values(by='date_crawled', ascending=False)"
   ]
  },
  {
   "cell_type": "markdown",
   "metadata": {},
   "source": [
    "Получается, что объявления выгружались в день их создания пользователями."
   ]
  },
  {
   "cell_type": "code",
   "execution_count": 34,
   "metadata": {},
   "outputs": [
    {
     "data": {
      "text/plain": [
       "0    339835\n",
       "Name: number_of_pictures, dtype: int64"
      ]
     },
     "execution_count": 34,
     "metadata": {},
     "output_type": "execute_result"
    }
   ],
   "source": [
    "data['number_of_pictures'].value_counts()"
   ]
  },
  {
   "cell_type": "markdown",
   "metadata": {},
   "source": [
    "Для нашей модели признаки `date_crawled`, `date_created`, `postal_code`, `last_seen` нерелевантны, так как они не дают информацию об автомобиле, а лишь об объявлении, причем речь идет о половине месяца, то есть предположения о том, как влияет состояние рынка на цену автомобиля по такому промежутку строить нельзя, следовательно, для машинного обучения этот признак не несет информации. \n",
    "\n",
    "Столбец `registration_month` тоже следует убрать, потому что год регистрации имеет гораздо большее влияние, но пока оставим его, чтобы иметь возможность правильно найти дубликаты.\n",
    "\n",
    "Столбец `number_of_pictures` - количество фотографий в объявлении - скорее всего, количество фото действительно влияет на цену продажи, но в данном случае у нас везде 0, поэтому тоже удалим этот столбец и посмотрим дубликаты заново."
   ]
  },
  {
   "cell_type": "markdown",
   "metadata": {},
   "source": [
    "<h3>Удаление нерелевантных признаков</h3>"
   ]
  },
  {
   "cell_type": "code",
   "execution_count": 35,
   "metadata": {},
   "outputs": [],
   "source": [
    "data.drop(columns=['date_crawled', 'date_created', 'postal_code', 'last_seen', 'number_of_pictures'],\\\n",
    "          inplace=True)"
   ]
  },
  {
   "cell_type": "code",
   "execution_count": 36,
   "metadata": {},
   "outputs": [
    {
     "name": "stdout",
     "output_type": "stream",
     "text": [
      "<class 'pandas.core.frame.DataFrame'>\n",
      "RangeIndex: 339835 entries, 0 to 339834\n",
      "Data columns (total 11 columns):\n",
      " #   Column              Non-Null Count   Dtype \n",
      "---  ------              --------------   ----- \n",
      " 0   price               339835 non-null  int64 \n",
      " 1   vehicle_type        316855 non-null  object\n",
      " 2   registration_year   339835 non-null  int64 \n",
      " 3   gearbox             321869 non-null  object\n",
      " 4   power               339835 non-null  int64 \n",
      " 5   model               322177 non-null  object\n",
      " 6   kilometer           339835 non-null  int64 \n",
      " 7   registration_month  339835 non-null  int64 \n",
      " 8   fuel_type           312534 non-null  object\n",
      " 9   brand               339835 non-null  object\n",
      " 10  repaired            274980 non-null  object\n",
      "dtypes: int64(5), object(6)\n",
      "memory usage: 28.5+ MB\n"
     ]
    }
   ],
   "source": [
    "data.info()"
   ]
  },
  {
   "cell_type": "markdown",
   "metadata": {},
   "source": [
    "У нас осталось 9 признаков, влияющих на цену автомобиля.\n",
    "Изучим дубликаты еще раз:"
   ]
  },
  {
   "cell_type": "markdown",
   "metadata": {},
   "source": [
    "<h3>Работа с дубликатами v.2</h3>"
   ]
  },
  {
   "cell_type": "code",
   "execution_count": 37,
   "metadata": {},
   "outputs": [
    {
     "data": {
      "text/plain": [
       "26840"
      ]
     },
     "execution_count": 37,
     "metadata": {},
     "output_type": "execute_result"
    }
   ],
   "source": [
    "data.duplicated().sum()"
   ]
  },
  {
   "cell_type": "markdown",
   "metadata": {},
   "source": [
    "Мы обнаружили почти 27 тысяч полностью дублирующихся объявлений после удаления нерелевантных столбцов. Отбросим их:"
   ]
  },
  {
   "cell_type": "code",
   "execution_count": 38,
   "metadata": {},
   "outputs": [],
   "source": [
    "data.drop_duplicates(inplace=True)"
   ]
  },
  {
   "cell_type": "code",
   "execution_count": 39,
   "metadata": {},
   "outputs": [],
   "source": [
    "data.reset_index(drop=True, inplace=True)"
   ]
  },
  {
   "cell_type": "markdown",
   "metadata": {},
   "source": [
    "Посмотрим на прежде дублируемый fiat punto:"
   ]
  },
  {
   "cell_type": "code",
   "execution_count": 40,
   "metadata": {
    "scrolled": false
   },
   "outputs": [
    {
     "data": {
      "text/html": [
       "<div>\n",
       "<style scoped>\n",
       "    .dataframe tbody tr th:only-of-type {\n",
       "        vertical-align: middle;\n",
       "    }\n",
       "\n",
       "    .dataframe tbody tr th {\n",
       "        vertical-align: top;\n",
       "    }\n",
       "\n",
       "    .dataframe thead th {\n",
       "        text-align: right;\n",
       "    }\n",
       "</style>\n",
       "<table border=\"1\" class=\"dataframe\">\n",
       "  <thead>\n",
       "    <tr style=\"text-align: right;\">\n",
       "      <th></th>\n",
       "      <th>price</th>\n",
       "      <th>vehicle_type</th>\n",
       "      <th>registration_year</th>\n",
       "      <th>gearbox</th>\n",
       "      <th>power</th>\n",
       "      <th>model</th>\n",
       "      <th>kilometer</th>\n",
       "      <th>registration_month</th>\n",
       "      <th>fuel_type</th>\n",
       "      <th>brand</th>\n",
       "      <th>repaired</th>\n",
       "    </tr>\n",
       "  </thead>\n",
       "  <tbody>\n",
       "    <tr>\n",
       "      <th>347</th>\n",
       "      <td>1490</td>\n",
       "      <td>small</td>\n",
       "      <td>2000</td>\n",
       "      <td>manual</td>\n",
       "      <td>60</td>\n",
       "      <td>punto</td>\n",
       "      <td>100000</td>\n",
       "      <td>6</td>\n",
       "      <td>petrol</td>\n",
       "      <td>fiat</td>\n",
       "      <td>no</td>\n",
       "    </tr>\n",
       "    <tr>\n",
       "      <th>361</th>\n",
       "      <td>1100</td>\n",
       "      <td>small</td>\n",
       "      <td>2000</td>\n",
       "      <td>manual</td>\n",
       "      <td>60</td>\n",
       "      <td>punto</td>\n",
       "      <td>60000</td>\n",
       "      <td>6</td>\n",
       "      <td>petrol</td>\n",
       "      <td>fiat</td>\n",
       "      <td>no</td>\n",
       "    </tr>\n",
       "    <tr>\n",
       "      <th>6239</th>\n",
       "      <td>999</td>\n",
       "      <td>small</td>\n",
       "      <td>2000</td>\n",
       "      <td>manual</td>\n",
       "      <td>60</td>\n",
       "      <td>punto</td>\n",
       "      <td>150000</td>\n",
       "      <td>6</td>\n",
       "      <td>petrol</td>\n",
       "      <td>fiat</td>\n",
       "      <td>no</td>\n",
       "    </tr>\n",
       "    <tr>\n",
       "      <th>44061</th>\n",
       "      <td>1500</td>\n",
       "      <td>small</td>\n",
       "      <td>2000</td>\n",
       "      <td>manual</td>\n",
       "      <td>60</td>\n",
       "      <td>punto</td>\n",
       "      <td>125000</td>\n",
       "      <td>6</td>\n",
       "      <td>petrol</td>\n",
       "      <td>fiat</td>\n",
       "      <td>no</td>\n",
       "    </tr>\n",
       "    <tr>\n",
       "      <th>82304</th>\n",
       "      <td>890</td>\n",
       "      <td>small</td>\n",
       "      <td>2000</td>\n",
       "      <td>manual</td>\n",
       "      <td>60</td>\n",
       "      <td>punto</td>\n",
       "      <td>150000</td>\n",
       "      <td>6</td>\n",
       "      <td>petrol</td>\n",
       "      <td>fiat</td>\n",
       "      <td>no</td>\n",
       "    </tr>\n",
       "    <tr>\n",
       "      <th>127276</th>\n",
       "      <td>650</td>\n",
       "      <td>small</td>\n",
       "      <td>2000</td>\n",
       "      <td>manual</td>\n",
       "      <td>60</td>\n",
       "      <td>punto</td>\n",
       "      <td>150000</td>\n",
       "      <td>6</td>\n",
       "      <td>petrol</td>\n",
       "      <td>fiat</td>\n",
       "      <td>no</td>\n",
       "    </tr>\n",
       "    <tr>\n",
       "      <th>184410</th>\n",
       "      <td>1700</td>\n",
       "      <td>small</td>\n",
       "      <td>2000</td>\n",
       "      <td>manual</td>\n",
       "      <td>60</td>\n",
       "      <td>punto</td>\n",
       "      <td>80000</td>\n",
       "      <td>6</td>\n",
       "      <td>petrol</td>\n",
       "      <td>fiat</td>\n",
       "      <td>no</td>\n",
       "    </tr>\n",
       "    <tr>\n",
       "      <th>209332</th>\n",
       "      <td>1290</td>\n",
       "      <td>small</td>\n",
       "      <td>2000</td>\n",
       "      <td>manual</td>\n",
       "      <td>60</td>\n",
       "      <td>punto</td>\n",
       "      <td>125000</td>\n",
       "      <td>6</td>\n",
       "      <td>petrol</td>\n",
       "      <td>fiat</td>\n",
       "      <td>no</td>\n",
       "    </tr>\n",
       "    <tr>\n",
       "      <th>223025</th>\n",
       "      <td>500</td>\n",
       "      <td>small</td>\n",
       "      <td>2000</td>\n",
       "      <td>manual</td>\n",
       "      <td>60</td>\n",
       "      <td>punto</td>\n",
       "      <td>150000</td>\n",
       "      <td>6</td>\n",
       "      <td>petrol</td>\n",
       "      <td>fiat</td>\n",
       "      <td>yes</td>\n",
       "    </tr>\n",
       "    <tr>\n",
       "      <th>256148</th>\n",
       "      <td>1650</td>\n",
       "      <td>small</td>\n",
       "      <td>2000</td>\n",
       "      <td>manual</td>\n",
       "      <td>60</td>\n",
       "      <td>punto</td>\n",
       "      <td>100000</td>\n",
       "      <td>6</td>\n",
       "      <td>petrol</td>\n",
       "      <td>fiat</td>\n",
       "      <td>no</td>\n",
       "    </tr>\n",
       "    <tr>\n",
       "      <th>260351</th>\n",
       "      <td>900</td>\n",
       "      <td>small</td>\n",
       "      <td>2000</td>\n",
       "      <td>NaN</td>\n",
       "      <td>60</td>\n",
       "      <td>punto</td>\n",
       "      <td>150000</td>\n",
       "      <td>6</td>\n",
       "      <td>petrol</td>\n",
       "      <td>fiat</td>\n",
       "      <td>yes</td>\n",
       "    </tr>\n",
       "    <tr>\n",
       "      <th>279826</th>\n",
       "      <td>1300</td>\n",
       "      <td>small</td>\n",
       "      <td>2000</td>\n",
       "      <td>manual</td>\n",
       "      <td>60</td>\n",
       "      <td>punto</td>\n",
       "      <td>150000</td>\n",
       "      <td>6</td>\n",
       "      <td>petrol</td>\n",
       "      <td>fiat</td>\n",
       "      <td>no</td>\n",
       "    </tr>\n",
       "    <tr>\n",
       "      <th>281272</th>\n",
       "      <td>1400</td>\n",
       "      <td>small</td>\n",
       "      <td>2000</td>\n",
       "      <td>manual</td>\n",
       "      <td>60</td>\n",
       "      <td>punto</td>\n",
       "      <td>125000</td>\n",
       "      <td>6</td>\n",
       "      <td>petrol</td>\n",
       "      <td>fiat</td>\n",
       "      <td>no</td>\n",
       "    </tr>\n",
       "    <tr>\n",
       "      <th>308521</th>\n",
       "      <td>550</td>\n",
       "      <td>small</td>\n",
       "      <td>2000</td>\n",
       "      <td>manual</td>\n",
       "      <td>60</td>\n",
       "      <td>punto</td>\n",
       "      <td>150000</td>\n",
       "      <td>6</td>\n",
       "      <td>petrol</td>\n",
       "      <td>fiat</td>\n",
       "      <td>no</td>\n",
       "    </tr>\n",
       "  </tbody>\n",
       "</table>\n",
       "</div>"
      ],
      "text/plain": [
       "        price vehicle_type  registration_year gearbox  power  model  \\\n",
       "347      1490        small               2000  manual     60  punto   \n",
       "361      1100        small               2000  manual     60  punto   \n",
       "6239      999        small               2000  manual     60  punto   \n",
       "44061    1500        small               2000  manual     60  punto   \n",
       "82304     890        small               2000  manual     60  punto   \n",
       "127276    650        small               2000  manual     60  punto   \n",
       "184410   1700        small               2000  manual     60  punto   \n",
       "209332   1290        small               2000  manual     60  punto   \n",
       "223025    500        small               2000  manual     60  punto   \n",
       "256148   1650        small               2000  manual     60  punto   \n",
       "260351    900        small               2000     NaN     60  punto   \n",
       "279826   1300        small               2000  manual     60  punto   \n",
       "281272   1400        small               2000  manual     60  punto   \n",
       "308521    550        small               2000  manual     60  punto   \n",
       "\n",
       "        kilometer  registration_month fuel_type brand repaired  \n",
       "347        100000                   6    petrol  fiat       no  \n",
       "361         60000                   6    petrol  fiat       no  \n",
       "6239       150000                   6    petrol  fiat       no  \n",
       "44061      125000                   6    petrol  fiat       no  \n",
       "82304      150000                   6    petrol  fiat       no  \n",
       "127276     150000                   6    petrol  fiat       no  \n",
       "184410      80000                   6    petrol  fiat       no  \n",
       "209332     125000                   6    petrol  fiat       no  \n",
       "223025     150000                   6    petrol  fiat      yes  \n",
       "256148     100000                   6    petrol  fiat       no  \n",
       "260351     150000                   6    petrol  fiat      yes  \n",
       "279826     150000                   6    petrol  fiat       no  \n",
       "281272     125000                   6    petrol  fiat       no  \n",
       "308521     150000                   6    petrol  fiat       no  "
      ]
     },
     "execution_count": 40,
     "metadata": {},
     "output_type": "execute_result"
    }
   ],
   "source": [
    "data.query('model == \"punto\" & power == 60 & registration_year == 2000 & registration_month == 6')"
   ]
  },
  {
   "cell_type": "markdown",
   "metadata": {},
   "source": [
    "Получилось избавиться от дважды скачанных одинаковых объявлений, в которых различалась только дата скачивания и активность пользователя."
   ]
  },
  {
   "cell_type": "code",
   "execution_count": 41,
   "metadata": {},
   "outputs": [
    {
     "name": "stdout",
     "output_type": "stream",
     "text": [
      "<class 'pandas.core.frame.DataFrame'>\n",
      "RangeIndex: 312995 entries, 0 to 312994\n",
      "Data columns (total 11 columns):\n",
      " #   Column              Non-Null Count   Dtype \n",
      "---  ------              --------------   ----- \n",
      " 0   price               312995 non-null  int64 \n",
      " 1   vehicle_type        291558 non-null  object\n",
      " 2   registration_year   312995 non-null  int64 \n",
      " 3   gearbox             297192 non-null  object\n",
      " 4   power               312995 non-null  int64 \n",
      " 5   model               296428 non-null  object\n",
      " 6   kilometer           312995 non-null  int64 \n",
      " 7   registration_month  312995 non-null  int64 \n",
      " 8   fuel_type           287241 non-null  object\n",
      " 9   brand               312995 non-null  object\n",
      " 10  repaired            252549 non-null  object\n",
      "dtypes: int64(5), object(6)\n",
      "memory usage: 26.3+ MB\n"
     ]
    }
   ],
   "source": [
    "data.info()"
   ]
  },
  {
   "cell_type": "code",
   "execution_count": 42,
   "metadata": {},
   "outputs": [
    {
     "data": {
      "text/html": [
       "<div>\n",
       "<style scoped>\n",
       "    .dataframe tbody tr th:only-of-type {\n",
       "        vertical-align: middle;\n",
       "    }\n",
       "\n",
       "    .dataframe tbody tr th {\n",
       "        vertical-align: top;\n",
       "    }\n",
       "\n",
       "    .dataframe thead th {\n",
       "        text-align: right;\n",
       "    }\n",
       "</style>\n",
       "<table border=\"1\" class=\"dataframe\">\n",
       "  <thead>\n",
       "    <tr style=\"text-align: right;\">\n",
       "      <th></th>\n",
       "      <th>price</th>\n",
       "      <th>registration_year</th>\n",
       "      <th>power</th>\n",
       "      <th>kilometer</th>\n",
       "      <th>registration_month</th>\n",
       "    </tr>\n",
       "  </thead>\n",
       "  <tbody>\n",
       "    <tr>\n",
       "      <th>count</th>\n",
       "      <td>312995.000000</td>\n",
       "      <td>312995.000000</td>\n",
       "      <td>312995.000000</td>\n",
       "      <td>312995.000000</td>\n",
       "      <td>312995.000000</td>\n",
       "    </tr>\n",
       "    <tr>\n",
       "      <th>mean</th>\n",
       "      <td>4459.604860</td>\n",
       "      <td>2002.270206</td>\n",
       "      <td>111.198093</td>\n",
       "      <td>127992.987108</td>\n",
       "      <td>5.737015</td>\n",
       "    </tr>\n",
       "    <tr>\n",
       "      <th>std</th>\n",
       "      <td>4551.655288</td>\n",
       "      <td>14.179993</td>\n",
       "      <td>192.942690</td>\n",
       "      <td>37970.833363</td>\n",
       "      <td>3.706190</td>\n",
       "    </tr>\n",
       "    <tr>\n",
       "      <th>min</th>\n",
       "      <td>0.000000</td>\n",
       "      <td>1000.000000</td>\n",
       "      <td>0.000000</td>\n",
       "      <td>5000.000000</td>\n",
       "      <td>0.000000</td>\n",
       "    </tr>\n",
       "    <tr>\n",
       "      <th>25%</th>\n",
       "      <td>1050.000000</td>\n",
       "      <td>1999.000000</td>\n",
       "      <td>69.000000</td>\n",
       "      <td>125000.000000</td>\n",
       "      <td>3.000000</td>\n",
       "    </tr>\n",
       "    <tr>\n",
       "      <th>50%</th>\n",
       "      <td>2750.000000</td>\n",
       "      <td>2003.000000</td>\n",
       "      <td>105.000000</td>\n",
       "      <td>150000.000000</td>\n",
       "      <td>6.000000</td>\n",
       "    </tr>\n",
       "    <tr>\n",
       "      <th>75%</th>\n",
       "      <td>6499.000000</td>\n",
       "      <td>2007.000000</td>\n",
       "      <td>143.000000</td>\n",
       "      <td>150000.000000</td>\n",
       "      <td>9.000000</td>\n",
       "    </tr>\n",
       "    <tr>\n",
       "      <th>max</th>\n",
       "      <td>20000.000000</td>\n",
       "      <td>2016.000000</td>\n",
       "      <td>20000.000000</td>\n",
       "      <td>150000.000000</td>\n",
       "      <td>12.000000</td>\n",
       "    </tr>\n",
       "  </tbody>\n",
       "</table>\n",
       "</div>"
      ],
      "text/plain": [
       "               price  registration_year          power      kilometer  \\\n",
       "count  312995.000000      312995.000000  312995.000000  312995.000000   \n",
       "mean     4459.604860        2002.270206     111.198093  127992.987108   \n",
       "std      4551.655288          14.179993     192.942690   37970.833363   \n",
       "min         0.000000        1000.000000       0.000000    5000.000000   \n",
       "25%      1050.000000        1999.000000      69.000000  125000.000000   \n",
       "50%      2750.000000        2003.000000     105.000000  150000.000000   \n",
       "75%      6499.000000        2007.000000     143.000000  150000.000000   \n",
       "max     20000.000000        2016.000000   20000.000000  150000.000000   \n",
       "\n",
       "       registration_month  \n",
       "count       312995.000000  \n",
       "mean             5.737015  \n",
       "std              3.706190  \n",
       "min              0.000000  \n",
       "25%              3.000000  \n",
       "50%              6.000000  \n",
       "75%              9.000000  \n",
       "max             12.000000  "
      ]
     },
     "execution_count": 42,
     "metadata": {},
     "output_type": "execute_result"
    }
   ],
   "source": [
    "data.describe()"
   ]
  },
  {
   "cell_type": "markdown",
   "metadata": {},
   "source": [
    "Как и планировали, удалим столбец `registration_month`:"
   ]
  },
  {
   "cell_type": "code",
   "execution_count": 43,
   "metadata": {},
   "outputs": [],
   "source": [
    "data.drop(columns='registration_month', inplace=True)"
   ]
  },
  {
   "cell_type": "markdown",
   "metadata": {},
   "source": [
    "<h3>Работа с пропущенными значениями</h3>"
   ]
  },
  {
   "cell_type": "code",
   "execution_count": 44,
   "metadata": {},
   "outputs": [
    {
     "data": {
      "text/plain": [
       "price                    0\n",
       "vehicle_type         21437\n",
       "registration_year        0\n",
       "gearbox              15803\n",
       "power                    0\n",
       "model                16567\n",
       "kilometer                0\n",
       "fuel_type            25754\n",
       "brand                    0\n",
       "repaired             60446\n",
       "dtype: int64"
      ]
     },
     "execution_count": 44,
     "metadata": {},
     "output_type": "execute_result"
    }
   ],
   "source": [
    "data.isna().sum()"
   ]
  },
  {
   "cell_type": "code",
   "execution_count": 45,
   "metadata": {},
   "outputs": [
    {
     "data": {
      "image/png": "[encoded data removed]",
      "text/plain": [
       "<Figure size 1000x200 with 1 Axes>"
      ]
     },
     "metadata": {},
     "output_type": "display_data"
    }
   ],
   "source": [
    "data_na = data.isna().sum().sort_values(ascending=False)/len(data)*100\n",
    "\n",
    "ax = data_na[data_na>0].plot(kind='bar', figsize=(10,2), grid=True, color='indianred')\n",
    "plt.ylim(0, 25)\n",
    "ax.set(xlabel=\"\\nСтолбцы с пропущенными значениями\",\n",
    "ylabel=\"\\nПроцент пропущенных значений\")\n",
    "plt.xticks(rotation = 45, ha = 'right')\n",
    "\n",
    "import matplotlib.ticker as mtick\n",
    "ax.yaxis.set_major_formatter(mtick.PercentFormatter())\n",
    "plt.show()"
   ]
  },
  {
   "cell_type": "markdown",
   "metadata": {},
   "source": [
    "Видим, что всего в 5 столбцах имеются пропущенные значения. \n",
    "\n",
    "В столбце `repaired` самая большая доля пропусков - 20%, в столбцах `vehicle_type` и `fuel_type` - около 8% пропусков, в столбцах `model` и `gearbox` - около 5%."
   ]
  },
  {
   "cell_type": "markdown",
   "metadata": {},
   "source": [
    "<h4>Столбец `repaired`</h4>"
   ]
  },
  {
   "cell_type": "code",
   "execution_count": 46,
   "metadata": {},
   "outputs": [
    {
     "data": {
      "text/plain": [
       "no     219243\n",
       "yes     33306\n",
       "Name: repaired, dtype: int64"
      ]
     },
     "execution_count": 46,
     "metadata": {},
     "output_type": "execute_result"
    }
   ],
   "source": [
    "data['repaired'].value_counts()"
   ]
  },
  {
   "cell_type": "code",
   "execution_count": 47,
   "metadata": {},
   "outputs": [
    {
     "data": {
      "text/plain": [
       "60446"
      ]
     },
     "execution_count": 47,
     "metadata": {},
     "output_type": "execute_result"
    }
   ],
   "source": [
    "data['repaired'].isna().sum()"
   ]
  },
  {
   "cell_type": "code",
   "execution_count": 48,
   "metadata": {},
   "outputs": [
    {
     "name": "stdout",
     "output_type": "stream",
     "text": [
      "Доля машин без ремонта составляет 86.81\n",
      "\n",
      "Доля машин с ремонтом составляет 13.19\n"
     ]
    }
   ],
   "source": [
    "repair = data[data['repaired'] == 'yes']['repaired'].count()\n",
    "no_repair = data[data['repaired'] == 'no']['repaired'].count()\n",
    "total_repaired = repair / (repair + no_repair) * 100\n",
    "total_no_repaired = 100 - total_repaired\n",
    "\n",
    "print(f\"Доля машин без ремонта составляет {total_no_repaired:.2f}\\n\\nДоля машин с ремонтом составляет {total_repaired:.2f}\")"
   ]
  },
  {
   "cell_type": "markdown",
   "metadata": {},
   "source": [
    "Данный признак является бинарным, он несет информацию о том, была машина в ремонте или нет. Всего в нем около 66 тысяч пропущенных значений.\n",
    "\n",
    "Машин без ремонта примерно 87%, машин с ремонтом - около 13%. Пропущенных наблюдений - 20% от всех.\n",
    "\n",
    "20% пропущенных значений это достаточно много, но мы не можем знать, была ли машина в ремонте или нет. Также мотивы пользователей не указывать информацию об этом могут быть противоположными: например, не счесть нужным указать, потому что не ремонтировалась, или наоборот, чтобы скрыть факт ремонта.\n",
    "\n",
    "Выбросить такое количество наблюдений - не самый лучший вариант, заполнить их одним из бинарных вариантов не представляется возможным, поэтому присвоим пропущенным значениям третью категорию - `not specified`."
   ]
  },
  {
   "cell_type": "code",
   "execution_count": 49,
   "metadata": {},
   "outputs": [],
   "source": [
    "data['repaired'].fillna('not specified', inplace=True)"
   ]
  },
  {
   "cell_type": "code",
   "execution_count": 50,
   "metadata": {},
   "outputs": [
    {
     "data": {
      "text/plain": [
       "no               219243\n",
       "not specified     60446\n",
       "yes               33306\n",
       "Name: repaired, dtype: int64"
      ]
     },
     "execution_count": 50,
     "metadata": {},
     "output_type": "execute_result"
    }
   ],
   "source": [
    "data['repaired'].value_counts()"
   ]
  },
  {
   "cell_type": "markdown",
   "metadata": {},
   "source": [
    "Отлично, теперь мы имеем категориальный признак. Перейдем к рассмотрению следующего столбца с пропусками:"
   ]
  },
  {
   "cell_type": "markdown",
   "metadata": {},
   "source": [
    "<h4>Столбец `vehicle_type`</h4>"
   ]
  },
  {
   "cell_type": "code",
   "execution_count": 51,
   "metadata": {},
   "outputs": [
    {
     "data": {
      "text/plain": [
       "21437"
      ]
     },
     "execution_count": 51,
     "metadata": {},
     "output_type": "execute_result"
    }
   ],
   "source": [
    "data['vehicle_type'].isna().sum()"
   ]
  },
  {
   "cell_type": "code",
   "execution_count": 52,
   "metadata": {},
   "outputs": [
    {
     "data": {
      "image/png": "[encoded data removed]",
      "text/plain": [
       "<Figure size 1500x300 with 1 Axes>"
      ]
     },
     "metadata": {},
     "output_type": "display_data"
    }
   ],
   "source": [
    "plt.figure(figsize=(15, 3))\n",
    "\n",
    "sns.countplot(x=data['vehicle_type'], order = data['vehicle_type'].value_counts().index, palette='Set2')\n",
    "\n",
    "plt.xlabel(\"Тип автомобиля\")\n",
    "plt.ylabel(\"Количество наблюдений\")\n",
    "plt.ylim(0, 100000)\n",
    "plt.show()"
   ]
  },
  {
   "cell_type": "code",
   "execution_count": 53,
   "metadata": {},
   "outputs": [
    {
     "data": {
      "text/plain": [
       "sedan          83599\n",
       "small          73492\n",
       "wagon          59658\n",
       "bus            26793\n",
       "convertible    18751\n",
       "coupe          15117\n",
       "suv            10976\n",
       "other           3172\n",
       "Name: vehicle_type, dtype: int64"
      ]
     },
     "execution_count": 53,
     "metadata": {},
     "output_type": "execute_result"
    }
   ],
   "source": [
    "data['vehicle_type'].value_counts().sort_values(ascending=False)"
   ]
  },
  {
   "cell_type": "code",
   "execution_count": 54,
   "metadata": {},
   "outputs": [
    {
     "data": {
      "text/html": [
       "<div>\n",
       "<style scoped>\n",
       "    .dataframe tbody tr th:only-of-type {\n",
       "        vertical-align: middle;\n",
       "    }\n",
       "\n",
       "    .dataframe tbody tr th {\n",
       "        vertical-align: top;\n",
       "    }\n",
       "\n",
       "    .dataframe thead th {\n",
       "        text-align: right;\n",
       "    }\n",
       "</style>\n",
       "<table border=\"1\" class=\"dataframe\">\n",
       "  <thead>\n",
       "    <tr style=\"text-align: right;\">\n",
       "      <th></th>\n",
       "      <th>price</th>\n",
       "      <th>vehicle_type</th>\n",
       "      <th>registration_year</th>\n",
       "      <th>gearbox</th>\n",
       "      <th>power</th>\n",
       "      <th>model</th>\n",
       "      <th>kilometer</th>\n",
       "      <th>fuel_type</th>\n",
       "      <th>brand</th>\n",
       "      <th>repaired</th>\n",
       "    </tr>\n",
       "  </thead>\n",
       "  <tbody>\n",
       "    <tr>\n",
       "      <th>0</th>\n",
       "      <td>480</td>\n",
       "      <td>NaN</td>\n",
       "      <td>1993</td>\n",
       "      <td>manual</td>\n",
       "      <td>0</td>\n",
       "      <td>golf</td>\n",
       "      <td>150000</td>\n",
       "      <td>petrol</td>\n",
       "      <td>volkswagen</td>\n",
       "      <td>not specified</td>\n",
       "    </tr>\n",
       "    <tr>\n",
       "      <th>16</th>\n",
       "      <td>300</td>\n",
       "      <td>NaN</td>\n",
       "      <td>2016</td>\n",
       "      <td>NaN</td>\n",
       "      <td>60</td>\n",
       "      <td>polo</td>\n",
       "      <td>150000</td>\n",
       "      <td>petrol</td>\n",
       "      <td>volkswagen</td>\n",
       "      <td>not specified</td>\n",
       "    </tr>\n",
       "    <tr>\n",
       "      <th>29</th>\n",
       "      <td>899</td>\n",
       "      <td>NaN</td>\n",
       "      <td>2016</td>\n",
       "      <td>manual</td>\n",
       "      <td>60</td>\n",
       "      <td>clio</td>\n",
       "      <td>150000</td>\n",
       "      <td>petrol</td>\n",
       "      <td>renault</td>\n",
       "      <td>not specified</td>\n",
       "    </tr>\n",
       "    <tr>\n",
       "      <th>33</th>\n",
       "      <td>350</td>\n",
       "      <td>NaN</td>\n",
       "      <td>2016</td>\n",
       "      <td>manual</td>\n",
       "      <td>75</td>\n",
       "      <td>golf</td>\n",
       "      <td>150000</td>\n",
       "      <td>petrol</td>\n",
       "      <td>volkswagen</td>\n",
       "      <td>no</td>\n",
       "    </tr>\n",
       "    <tr>\n",
       "      <th>35</th>\n",
       "      <td>1500</td>\n",
       "      <td>NaN</td>\n",
       "      <td>2016</td>\n",
       "      <td>NaN</td>\n",
       "      <td>0</td>\n",
       "      <td>kangoo</td>\n",
       "      <td>150000</td>\n",
       "      <td>gasoline</td>\n",
       "      <td>renault</td>\n",
       "      <td>no</td>\n",
       "    </tr>\n",
       "  </tbody>\n",
       "</table>\n",
       "</div>"
      ],
      "text/plain": [
       "    price vehicle_type  registration_year gearbox  power   model  kilometer  \\\n",
       "0     480          NaN               1993  manual      0    golf     150000   \n",
       "16    300          NaN               2016     NaN     60    polo     150000   \n",
       "29    899          NaN               2016  manual     60    clio     150000   \n",
       "33    350          NaN               2016  manual     75    golf     150000   \n",
       "35   1500          NaN               2016     NaN      0  kangoo     150000   \n",
       "\n",
       "   fuel_type       brand       repaired  \n",
       "0     petrol  volkswagen  not specified  \n",
       "16    petrol  volkswagen  not specified  \n",
       "29    petrol     renault  not specified  \n",
       "33    petrol  volkswagen             no  \n",
       "35  gasoline     renault             no  "
      ]
     },
     "execution_count": 54,
     "metadata": {},
     "output_type": "execute_result"
    }
   ],
   "source": [
    "data[data['vehicle_type'].isna()].head()"
   ]
  },
  {
   "cell_type": "code",
   "execution_count": 55,
   "metadata": {},
   "outputs": [
    {
     "data": {
      "text/html": [
       "<div>\n",
       "<style scoped>\n",
       "    .dataframe tbody tr th:only-of-type {\n",
       "        vertical-align: middle;\n",
       "    }\n",
       "\n",
       "    .dataframe tbody tr th {\n",
       "        vertical-align: top;\n",
       "    }\n",
       "\n",
       "    .dataframe thead th {\n",
       "        text-align: right;\n",
       "    }\n",
       "</style>\n",
       "<table border=\"1\" class=\"dataframe\">\n",
       "  <thead>\n",
       "    <tr style=\"text-align: right;\">\n",
       "      <th></th>\n",
       "      <th>price</th>\n",
       "      <th>vehicle_type</th>\n",
       "      <th>registration_year</th>\n",
       "      <th>gearbox</th>\n",
       "      <th>power</th>\n",
       "      <th>model</th>\n",
       "      <th>kilometer</th>\n",
       "      <th>fuel_type</th>\n",
       "      <th>brand</th>\n",
       "      <th>repaired</th>\n",
       "    </tr>\n",
       "  </thead>\n",
       "  <tbody>\n",
       "    <tr>\n",
       "      <th>0</th>\n",
       "      <td>480</td>\n",
       "      <td>NaN</td>\n",
       "      <td>1993</td>\n",
       "      <td>manual</td>\n",
       "      <td>0</td>\n",
       "      <td>golf</td>\n",
       "      <td>150000</td>\n",
       "      <td>petrol</td>\n",
       "      <td>volkswagen</td>\n",
       "      <td>not specified</td>\n",
       "    </tr>\n",
       "    <tr>\n",
       "      <th>3</th>\n",
       "      <td>1500</td>\n",
       "      <td>small</td>\n",
       "      <td>2001</td>\n",
       "      <td>manual</td>\n",
       "      <td>75</td>\n",
       "      <td>golf</td>\n",
       "      <td>150000</td>\n",
       "      <td>petrol</td>\n",
       "      <td>volkswagen</td>\n",
       "      <td>no</td>\n",
       "    </tr>\n",
       "    <tr>\n",
       "      <th>9</th>\n",
       "      <td>999</td>\n",
       "      <td>small</td>\n",
       "      <td>1998</td>\n",
       "      <td>manual</td>\n",
       "      <td>101</td>\n",
       "      <td>golf</td>\n",
       "      <td>150000</td>\n",
       "      <td>NaN</td>\n",
       "      <td>volkswagen</td>\n",
       "      <td>not specified</td>\n",
       "    </tr>\n",
       "    <tr>\n",
       "      <th>30</th>\n",
       "      <td>245</td>\n",
       "      <td>sedan</td>\n",
       "      <td>1994</td>\n",
       "      <td>NaN</td>\n",
       "      <td>0</td>\n",
       "      <td>golf</td>\n",
       "      <td>150000</td>\n",
       "      <td>petrol</td>\n",
       "      <td>volkswagen</td>\n",
       "      <td>no</td>\n",
       "    </tr>\n",
       "    <tr>\n",
       "      <th>33</th>\n",
       "      <td>350</td>\n",
       "      <td>NaN</td>\n",
       "      <td>2016</td>\n",
       "      <td>manual</td>\n",
       "      <td>75</td>\n",
       "      <td>golf</td>\n",
       "      <td>150000</td>\n",
       "      <td>petrol</td>\n",
       "      <td>volkswagen</td>\n",
       "      <td>no</td>\n",
       "    </tr>\n",
       "  </tbody>\n",
       "</table>\n",
       "</div>"
      ],
      "text/plain": [
       "    price vehicle_type  registration_year gearbox  power model  kilometer  \\\n",
       "0     480          NaN               1993  manual      0  golf     150000   \n",
       "3    1500        small               2001  manual     75  golf     150000   \n",
       "9     999        small               1998  manual    101  golf     150000   \n",
       "30    245        sedan               1994     NaN      0  golf     150000   \n",
       "33    350          NaN               2016  manual     75  golf     150000   \n",
       "\n",
       "   fuel_type       brand       repaired  \n",
       "0     petrol  volkswagen  not specified  \n",
       "3     petrol  volkswagen             no  \n",
       "9        NaN  volkswagen  not specified  \n",
       "30    petrol  volkswagen             no  \n",
       "33    petrol  volkswagen             no  "
      ]
     },
     "execution_count": 55,
     "metadata": {},
     "output_type": "execute_result"
    }
   ],
   "source": [
    "data.query(\"model == 'golf'\").head()"
   ]
  },
  {
   "cell_type": "markdown",
   "metadata": {},
   "source": [
    "Видим, что для одной и той же модели авто - `volkswagen golf` - указаны разные типы - `small` и `sedan`. Это нормально, потому что одна модель может выпускаться в разных кузовах. \n",
    "\n",
    "Заполним пропущенные значения модой по модели авто."
   ]
  },
  {
   "cell_type": "code",
   "execution_count": 56,
   "metadata": {},
   "outputs": [],
   "source": [
    "data = data.assign(brand_model=data.brand.astype(str) + \" _ \" + data.model.astype(str))"
   ]
  },
  {
   "cell_type": "code",
   "execution_count": 57,
   "metadata": {},
   "outputs": [],
   "source": [
    "data['vehicle_type'] = data['vehicle_type'].fillna(\n",
    "    data.groupby(['brand_model'])['vehicle_type']\n",
    "        .transform(lambda s: pd.Series.mode(s).get(0))\n",
    ")"
   ]
  },
  {
   "cell_type": "code",
   "execution_count": 58,
   "metadata": {},
   "outputs": [
    {
     "data": {
      "text/plain": [
       "0"
      ]
     },
     "execution_count": 58,
     "metadata": {},
     "output_type": "execute_result"
    }
   ],
   "source": [
    "data['vehicle_type'].isna().sum()"
   ]
  },
  {
   "cell_type": "code",
   "execution_count": 59,
   "metadata": {},
   "outputs": [
    {
     "data": {
      "image/png": "[encoded data removed]",
      "text/plain": [
       "<Figure size 1500x300 with 1 Axes>"
      ]
     },
     "metadata": {},
     "output_type": "display_data"
    }
   ],
   "source": [
    "plt.figure(figsize=(15, 3))\n",
    "\n",
    "sns.countplot(x=data['vehicle_type'], order = data['vehicle_type'].value_counts().index, palette='Set2')\n",
    "\n",
    "plt.xlabel(\"Тип автомобиля\")\n",
    "plt.ylabel(\"Количество наблюдений\")\n",
    "plt.ylim(0, 100000)\n",
    "plt.show()"
   ]
  },
  {
   "cell_type": "code",
   "execution_count": 60,
   "metadata": {},
   "outputs": [
    {
     "data": {
      "text/plain": [
       "sedan          92645\n",
       "small          80762\n",
       "wagon          61788\n",
       "bus            28789\n",
       "convertible    18933\n",
       "coupe          15550\n",
       "suv            11341\n",
       "other           3187\n",
       "Name: vehicle_type, dtype: int64"
      ]
     },
     "execution_count": 60,
     "metadata": {},
     "output_type": "execute_result"
    }
   ],
   "source": [
    "data['vehicle_type'].value_counts().sort_values(ascending=False)"
   ]
  },
  {
   "cell_type": "markdown",
   "metadata": {},
   "source": [
    "Значительнее всего увеличились категории `sedan` и `small`. Порядок категорий не изменился после заполнения модой по модели и бренду. Рассмотрим следующий столбец:"
   ]
  },
  {
   "cell_type": "markdown",
   "metadata": {},
   "source": [
    "<h4>Столбец `fuel_type`</h4>"
   ]
  },
  {
   "cell_type": "code",
   "execution_count": 61,
   "metadata": {
    "scrolled": true
   },
   "outputs": [
    {
     "data": {
      "text/plain": [
       "petrol      194253\n",
       "gasoline     87192\n",
       "lpg           4790\n",
       "cng            506\n",
       "hybrid         220\n",
       "other          192\n",
       "electric        88\n",
       "Name: fuel_type, dtype: int64"
      ]
     },
     "execution_count": 61,
     "metadata": {},
     "output_type": "execute_result"
    }
   ],
   "source": [
    "data['fuel_type'].value_counts()"
   ]
  },
  {
   "cell_type": "code",
   "execution_count": 62,
   "metadata": {},
   "outputs": [
    {
     "data": {
      "text/plain": [
       "25754"
      ]
     },
     "execution_count": 62,
     "metadata": {},
     "output_type": "execute_result"
    }
   ],
   "source": [
    "data['fuel_type'].isna().sum()"
   ]
  },
  {
   "cell_type": "code",
   "execution_count": 63,
   "metadata": {
    "scrolled": true
   },
   "outputs": [
    {
     "data": {
      "image/png": "[encoded data removed]",
      "text/plain": [
       "<Figure size 1500x1000 with 1 Axes>"
      ]
     },
     "metadata": {},
     "output_type": "display_data"
    }
   ],
   "source": [
    "plt.figure(figsize=(15, 10))\n",
    "\n",
    "sns.countplot(y=data['brand'], hue=data['fuel_type'], dodge=False, order=data['brand'].value_counts().index, palette='Set1')\n",
    "plt.ylabel(\"Марка автомобиля\")\n",
    "plt.xlabel(\"Количество наблюдений\")\n",
    "plt.legend(title=\"Тип топлива\")\n",
    "plt.show()"
   ]
  },
  {
   "cell_type": "markdown",
   "metadata": {},
   "source": [
    "По всем маркам автомобилей наибольшая доля у типов топлива `petrol` и `gasoline`. Эти два слова обозначают одно и то же - бензин, но, скорее всего, в конкретном наборе данных под одним из них имелось в виду дизельное топливо. Исходя из их соотношения, скорее всего, дизельное топливо здесь - это `petrol`.\n",
    "\n",
    "Пропущенных значений довольно много, примерно 26 тысяч, заполним их модой по марке и модели автомобилей."
   ]
  },
  {
   "cell_type": "code",
   "execution_count": 64,
   "metadata": {},
   "outputs": [],
   "source": [
    "data['fuel_type'] = data['fuel_type'].fillna(\n",
    "    data.groupby(['brand_model'])['fuel_type']\n",
    "        .transform(lambda s: pd.Series.mode(s).get(0))\n",
    ")"
   ]
  },
  {
   "cell_type": "code",
   "execution_count": 65,
   "metadata": {},
   "outputs": [
    {
     "data": {
      "text/plain": [
       "petrol      216189\n",
       "gasoline     91010\n",
       "lpg           4790\n",
       "cng            506\n",
       "hybrid         220\n",
       "other          192\n",
       "electric        88\n",
       "Name: fuel_type, dtype: int64"
      ]
     },
     "execution_count": 65,
     "metadata": {},
     "output_type": "execute_result"
    }
   ],
   "source": [
    "data['fuel_type'].value_counts()"
   ]
  },
  {
   "cell_type": "code",
   "execution_count": 66,
   "metadata": {},
   "outputs": [
    {
     "data": {
      "text/plain": [
       "0"
      ]
     },
     "execution_count": 66,
     "metadata": {},
     "output_type": "execute_result"
    }
   ],
   "source": [
    "data['fuel_type'].isna().sum()"
   ]
  },
  {
   "cell_type": "markdown",
   "metadata": {},
   "source": [
    "Порядок категорий по возрастанию не изменился после заполнения."
   ]
  },
  {
   "cell_type": "markdown",
   "metadata": {},
   "source": [
    "<h4>Столбец `model`</h4>"
   ]
  },
  {
   "cell_type": "code",
   "execution_count": 67,
   "metadata": {},
   "outputs": [
    {
     "data": {
      "text/plain": [
       "golf        24932\n",
       "other       22700\n",
       "3er         17525\n",
       "polo        11353\n",
       "corsa       10796\n",
       "astra        9529\n",
       "passat       8813\n",
       "a4           8683\n",
       "c_klasse     7365\n",
       "5er          6962\n",
       "Name: model, dtype: int64"
      ]
     },
     "execution_count": 67,
     "metadata": {},
     "output_type": "execute_result"
    }
   ],
   "source": [
    "data['model'].value_counts().head(10)"
   ]
  },
  {
   "cell_type": "code",
   "execution_count": 68,
   "metadata": {},
   "outputs": [
    {
     "data": {
      "text/plain": [
       "gl                    12\n",
       "amarok                12\n",
       "i3                     8\n",
       "elefantino             8\n",
       "serie_2                7\n",
       "kalina                 5\n",
       "serie_3                4\n",
       "rangerover             3\n",
       "serie_1                2\n",
       "range_rover_evoque     1\n",
       "Name: model, dtype: int64"
      ]
     },
     "execution_count": 68,
     "metadata": {},
     "output_type": "execute_result"
    }
   ],
   "source": [
    "data['model'].value_counts().tail(10)"
   ]
  },
  {
   "cell_type": "code",
   "execution_count": 69,
   "metadata": {},
   "outputs": [
    {
     "data": {
      "text/plain": [
       "16567"
      ]
     },
     "execution_count": 69,
     "metadata": {},
     "output_type": "execute_result"
    }
   ],
   "source": [
    "data['model'].isna().sum()"
   ]
  },
  {
   "cell_type": "code",
   "execution_count": 70,
   "metadata": {},
   "outputs": [
    {
     "data": {
      "text/plain": [
       "5.0"
      ]
     },
     "execution_count": 70,
     "metadata": {},
     "output_type": "execute_result"
    }
   ],
   "source": [
    "(data['model'].isna().sum() / len(data) * 100).round(0)"
   ]
  },
  {
   "cell_type": "markdown",
   "metadata": {},
   "source": [
    "В столбце `model`, обозначающем модель автомобиля, всего 5% пропусков. Полагаю, что это очень важный признак для расчета рыночной стоимости машины, а восстанавливать пропуски по имеющимся признакам не стоит из-за возможных ошибок. Удалим эти 6% наблюдений."
   ]
  },
  {
   "cell_type": "code",
   "execution_count": 71,
   "metadata": {},
   "outputs": [],
   "source": [
    "data.dropna(subset=['model'], inplace=True)"
   ]
  },
  {
   "cell_type": "code",
   "execution_count": 72,
   "metadata": {},
   "outputs": [],
   "source": [
    "data.reset_index(drop=True, inplace=True)"
   ]
  },
  {
   "cell_type": "code",
   "execution_count": 73,
   "metadata": {},
   "outputs": [
    {
     "data": {
      "text/plain": [
       "0"
      ]
     },
     "execution_count": 73,
     "metadata": {},
     "output_type": "execute_result"
    }
   ],
   "source": [
    "data['model'].isna().sum()"
   ]
  },
  {
   "cell_type": "code",
   "execution_count": 74,
   "metadata": {},
   "outputs": [
    {
     "data": {
      "text/plain": [
       "16.350470836896008"
      ]
     },
     "execution_count": 74,
     "metadata": {},
     "output_type": "execute_result"
    }
   ],
   "source": [
    "(100 - len(data) / 354369 * 100)"
   ]
  },
  {
   "cell_type": "markdown",
   "metadata": {},
   "source": [
    "К настоящему моменту при подготовке данных у нас ушло 16% датасета. Это произошло из-за наличия в данных дубликатов, пропусков, противоречащих друг другу признаков в виде даты публикации и года регистрации авто. Где возможно, мы заполнили пропуски, где нет, удалили данные. Полагаю, что это оправданная потеря, которая позволит сделать модели точнее."
   ]
  },
  {
   "cell_type": "markdown",
   "metadata": {},
   "source": [
    "<h4>Столбец `gearbox`</h4>"
   ]
  },
  {
   "cell_type": "code",
   "execution_count": 75,
   "metadata": {},
   "outputs": [
    {
     "data": {
      "text/plain": [
       "manual    227347\n",
       "auto       56420\n",
       "Name: gearbox, dtype: int64"
      ]
     },
     "execution_count": 75,
     "metadata": {},
     "output_type": "execute_result"
    }
   ],
   "source": [
    "data['gearbox'].value_counts()"
   ]
  },
  {
   "cell_type": "code",
   "execution_count": 76,
   "metadata": {},
   "outputs": [
    {
     "data": {
      "text/plain": [
       "12661"
      ]
     },
     "execution_count": 76,
     "metadata": {},
     "output_type": "execute_result"
    }
   ],
   "source": [
    "data['gearbox'].isna().sum()"
   ]
  },
  {
   "cell_type": "markdown",
   "metadata": {},
   "source": [
    "Пропущенные значения в столбце `gearbox` - тип коробки передач - заполним модой по бренду и модели."
   ]
  },
  {
   "cell_type": "code",
   "execution_count": 77,
   "metadata": {},
   "outputs": [],
   "source": [
    "data['gearbox'] = data['gearbox'].fillna(\n",
    "    data.groupby(['brand_model'])['gearbox']\n",
    "        .transform(lambda s: pd.Series.mode(s).get(0))\n",
    ")"
   ]
  },
  {
   "cell_type": "code",
   "execution_count": 78,
   "metadata": {},
   "outputs": [
    {
     "data": {
      "text/plain": [
       "0"
      ]
     },
     "execution_count": 78,
     "metadata": {},
     "output_type": "execute_result"
    }
   ],
   "source": [
    "data['gearbox'].isna().sum()"
   ]
  },
  {
   "cell_type": "code",
   "execution_count": 79,
   "metadata": {},
   "outputs": [
    {
     "data": {
      "text/plain": [
       "manual    238301\n",
       "auto       58127\n",
       "Name: gearbox, dtype: int64"
      ]
     },
     "execution_count": 79,
     "metadata": {},
     "output_type": "execute_result"
    }
   ],
   "source": [
    "data['gearbox'].value_counts()"
   ]
  },
  {
   "cell_type": "markdown",
   "metadata": {},
   "source": [
    "Работа с пропущенными значениями завершена. Мы заполнили пропуски в следующих столбцах:\n",
    "\n",
    "- `repaired`\n",
    "- `vehicle_type`\n",
    "- `fuel_type`\n",
    "- `gearbox`\n",
    "\n",
    "Удалили пропуски из:\n",
    "\n",
    "- `model`"
   ]
  },
  {
   "cell_type": "markdown",
   "metadata": {},
   "source": [
    "<h3>Поиск и устранение аномальных значений</h3>"
   ]
  },
  {
   "cell_type": "code",
   "execution_count": 80,
   "metadata": {},
   "outputs": [
    {
     "name": "stdout",
     "output_type": "stream",
     "text": [
      "<class 'pandas.core.frame.DataFrame'>\n",
      "RangeIndex: 296428 entries, 0 to 296427\n",
      "Data columns (total 11 columns):\n",
      " #   Column             Non-Null Count   Dtype \n",
      "---  ------             --------------   ----- \n",
      " 0   price              296428 non-null  int64 \n",
      " 1   vehicle_type       296428 non-null  object\n",
      " 2   registration_year  296428 non-null  int64 \n",
      " 3   gearbox            296428 non-null  object\n",
      " 4   power              296428 non-null  int64 \n",
      " 5   model              296428 non-null  object\n",
      " 6   kilometer          296428 non-null  int64 \n",
      " 7   fuel_type          296428 non-null  object\n",
      " 8   brand              296428 non-null  object\n",
      " 9   repaired           296428 non-null  object\n",
      " 10  brand_model        296428 non-null  object\n",
      "dtypes: int64(4), object(7)\n",
      "memory usage: 24.9+ MB\n"
     ]
    }
   ],
   "source": [
    "data.info()"
   ]
  },
  {
   "cell_type": "code",
   "execution_count": 81,
   "metadata": {},
   "outputs": [],
   "source": [
    "study_list = ['price', 'registration_year', 'power', 'kilometer']\n",
    "names = ['Цена', 'Год регистрации', 'Мощность', 'Пробег, км']"
   ]
  },
  {
   "cell_type": "code",
   "execution_count": 82,
   "metadata": {},
   "outputs": [
    {
     "data": {
      "image/png": "[encoded data removed]",
      "text/plain": [
       "<Figure size 1500x200 with 1 Axes>"
      ]
     },
     "metadata": {},
     "output_type": "display_data"
    },
    {
     "data": {
      "image/png": "[encoded data removed]",
      "text/plain": [
       "<Figure size 1500x200 with 1 Axes>"
      ]
     },
     "metadata": {},
     "output_type": "display_data"
    },
    {
     "data": {
      "image/png": "[encoded data removed]",
      "text/plain": [
       "<Figure size 1500x200 with 1 Axes>"
      ]
     },
     "metadata": {},
     "output_type": "display_data"
    },
    {
     "data": {
      "image/png": "[encoded data removed]",
      "text/plain": [
       "<Figure size 1500x200 with 1 Axes>"
      ]
     },
     "metadata": {},
     "output_type": "display_data"
    }
   ],
   "source": [
    "for i in range(len(study_list)):\n",
    "    plt.figure(figsize=(15, 2))\n",
    "    sns.boxplot(x=data[study_list[i]])\n",
    "    plt.title(names[i])\n",
    "    plt.show()"
   ]
  },
  {
   "cell_type": "markdown",
   "metadata": {},
   "source": [
    "Видим, что есть проблемы с ценой - в каких-то наблюдениях она составляет 0 и, следовательно, является неинформативной для модели. В столбце с годом регистрации много аномалий, как и в столбце мощность. Пробег выглядит нормально.\n",
    "\n",
    "Изучим подробнее столбцы с аномалиями:"
   ]
  },
  {
   "cell_type": "markdown",
   "metadata": {},
   "source": [
    "<h4>Столбец `price`</h4>"
   ]
  },
  {
   "cell_type": "code",
   "execution_count": 83,
   "metadata": {},
   "outputs": [
    {
     "data": {
      "text/plain": [
       "count    296428.000000\n",
       "mean       4541.776253\n",
       "std        4567.421704\n",
       "min           0.000000\n",
       "25%        1100.000000\n",
       "50%        2850.000000\n",
       "75%        6500.000000\n",
       "max       20000.000000\n",
       "Name: price, dtype: float64"
      ]
     },
     "execution_count": 83,
     "metadata": {},
     "output_type": "execute_result"
    }
   ],
   "source": [
    "data['price'].describe()"
   ]
  },
  {
   "cell_type": "code",
   "execution_count": 84,
   "metadata": {},
   "outputs": [
    {
     "data": {
      "text/html": [
       "<div>\n",
       "<style scoped>\n",
       "    .dataframe tbody tr th:only-of-type {\n",
       "        vertical-align: middle;\n",
       "    }\n",
       "\n",
       "    .dataframe tbody tr th {\n",
       "        vertical-align: top;\n",
       "    }\n",
       "\n",
       "    .dataframe thead th {\n",
       "        text-align: right;\n",
       "    }\n",
       "</style>\n",
       "<table border=\"1\" class=\"dataframe\">\n",
       "  <thead>\n",
       "    <tr style=\"text-align: right;\">\n",
       "      <th></th>\n",
       "      <th>price</th>\n",
       "      <th>vehicle_type</th>\n",
       "      <th>registration_year</th>\n",
       "      <th>gearbox</th>\n",
       "      <th>power</th>\n",
       "      <th>model</th>\n",
       "      <th>kilometer</th>\n",
       "      <th>fuel_type</th>\n",
       "      <th>brand</th>\n",
       "      <th>repaired</th>\n",
       "      <th>brand_model</th>\n",
       "    </tr>\n",
       "  </thead>\n",
       "  <tbody>\n",
       "    <tr>\n",
       "      <th>6</th>\n",
       "      <td>0</td>\n",
       "      <td>sedan</td>\n",
       "      <td>1980</td>\n",
       "      <td>manual</td>\n",
       "      <td>50</td>\n",
       "      <td>other</td>\n",
       "      <td>40000</td>\n",
       "      <td>petrol</td>\n",
       "      <td>volkswagen</td>\n",
       "      <td>no</td>\n",
       "      <td>volkswagen _ other</td>\n",
       "    </tr>\n",
       "    <tr>\n",
       "      <th>37</th>\n",
       "      <td>0</td>\n",
       "      <td>small</td>\n",
       "      <td>1990</td>\n",
       "      <td>manual</td>\n",
       "      <td>0</td>\n",
       "      <td>corsa</td>\n",
       "      <td>150000</td>\n",
       "      <td>petrol</td>\n",
       "      <td>opel</td>\n",
       "      <td>not specified</td>\n",
       "      <td>opel _ corsa</td>\n",
       "    </tr>\n",
       "    <tr>\n",
       "      <th>139</th>\n",
       "      <td>0</td>\n",
       "      <td>bus</td>\n",
       "      <td>2004</td>\n",
       "      <td>manual</td>\n",
       "      <td>101</td>\n",
       "      <td>meriva</td>\n",
       "      <td>150000</td>\n",
       "      <td>lpg</td>\n",
       "      <td>opel</td>\n",
       "      <td>yes</td>\n",
       "      <td>opel _ meriva</td>\n",
       "    </tr>\n",
       "    <tr>\n",
       "      <th>141</th>\n",
       "      <td>0</td>\n",
       "      <td>small</td>\n",
       "      <td>2006</td>\n",
       "      <td>manual</td>\n",
       "      <td>0</td>\n",
       "      <td>other</td>\n",
       "      <td>5000</td>\n",
       "      <td>petrol</td>\n",
       "      <td>fiat</td>\n",
       "      <td>not specified</td>\n",
       "      <td>fiat _ other</td>\n",
       "    </tr>\n",
       "    <tr>\n",
       "      <th>209</th>\n",
       "      <td>0</td>\n",
       "      <td>wagon</td>\n",
       "      <td>2001</td>\n",
       "      <td>manual</td>\n",
       "      <td>115</td>\n",
       "      <td>mondeo</td>\n",
       "      <td>150000</td>\n",
       "      <td>petrol</td>\n",
       "      <td>ford</td>\n",
       "      <td>not specified</td>\n",
       "      <td>ford _ mondeo</td>\n",
       "    </tr>\n",
       "    <tr>\n",
       "      <th>...</th>\n",
       "      <td>...</td>\n",
       "      <td>...</td>\n",
       "      <td>...</td>\n",
       "      <td>...</td>\n",
       "      <td>...</td>\n",
       "      <td>...</td>\n",
       "      <td>...</td>\n",
       "      <td>...</td>\n",
       "      <td>...</td>\n",
       "      <td>...</td>\n",
       "      <td>...</td>\n",
       "    </tr>\n",
       "    <tr>\n",
       "      <th>296299</th>\n",
       "      <td>0</td>\n",
       "      <td>small</td>\n",
       "      <td>2000</td>\n",
       "      <td>manual</td>\n",
       "      <td>65</td>\n",
       "      <td>corsa</td>\n",
       "      <td>150000</td>\n",
       "      <td>petrol</td>\n",
       "      <td>opel</td>\n",
       "      <td>yes</td>\n",
       "      <td>opel _ corsa</td>\n",
       "    </tr>\n",
       "    <tr>\n",
       "      <th>296326</th>\n",
       "      <td>0</td>\n",
       "      <td>small</td>\n",
       "      <td>2002</td>\n",
       "      <td>manual</td>\n",
       "      <td>60</td>\n",
       "      <td>fiesta</td>\n",
       "      <td>150000</td>\n",
       "      <td>petrol</td>\n",
       "      <td>ford</td>\n",
       "      <td>not specified</td>\n",
       "      <td>ford _ fiesta</td>\n",
       "    </tr>\n",
       "    <tr>\n",
       "      <th>296334</th>\n",
       "      <td>0</td>\n",
       "      <td>small</td>\n",
       "      <td>1999</td>\n",
       "      <td>manual</td>\n",
       "      <td>53</td>\n",
       "      <td>swift</td>\n",
       "      <td>150000</td>\n",
       "      <td>petrol</td>\n",
       "      <td>suzuki</td>\n",
       "      <td>not specified</td>\n",
       "      <td>suzuki _ swift</td>\n",
       "    </tr>\n",
       "    <tr>\n",
       "      <th>296358</th>\n",
       "      <td>0</td>\n",
       "      <td>small</td>\n",
       "      <td>1999</td>\n",
       "      <td>manual</td>\n",
       "      <td>37</td>\n",
       "      <td>arosa</td>\n",
       "      <td>150000</td>\n",
       "      <td>petrol</td>\n",
       "      <td>seat</td>\n",
       "      <td>yes</td>\n",
       "      <td>seat _ arosa</td>\n",
       "    </tr>\n",
       "    <tr>\n",
       "      <th>296424</th>\n",
       "      <td>0</td>\n",
       "      <td>sedan</td>\n",
       "      <td>2005</td>\n",
       "      <td>manual</td>\n",
       "      <td>0</td>\n",
       "      <td>colt</td>\n",
       "      <td>150000</td>\n",
       "      <td>petrol</td>\n",
       "      <td>mitsubishi</td>\n",
       "      <td>yes</td>\n",
       "      <td>mitsubishi _ colt</td>\n",
       "    </tr>\n",
       "  </tbody>\n",
       "</table>\n",
       "<p>7109 rows × 11 columns</p>\n",
       "</div>"
      ],
      "text/plain": [
       "        price vehicle_type  registration_year gearbox  power   model  \\\n",
       "6           0        sedan               1980  manual     50   other   \n",
       "37          0        small               1990  manual      0   corsa   \n",
       "139         0          bus               2004  manual    101  meriva   \n",
       "141         0        small               2006  manual      0   other   \n",
       "209         0        wagon               2001  manual    115  mondeo   \n",
       "...       ...          ...                ...     ...    ...     ...   \n",
       "296299      0        small               2000  manual     65   corsa   \n",
       "296326      0        small               2002  manual     60  fiesta   \n",
       "296334      0        small               1999  manual     53   swift   \n",
       "296358      0        small               1999  manual     37   arosa   \n",
       "296424      0        sedan               2005  manual      0    colt   \n",
       "\n",
       "        kilometer fuel_type       brand       repaired         brand_model  \n",
       "6           40000    petrol  volkswagen             no  volkswagen _ other  \n",
       "37         150000    petrol        opel  not specified        opel _ corsa  \n",
       "139        150000       lpg        opel            yes       opel _ meriva  \n",
       "141          5000    petrol        fiat  not specified        fiat _ other  \n",
       "209        150000    petrol        ford  not specified       ford _ mondeo  \n",
       "...           ...       ...         ...            ...                 ...  \n",
       "296299     150000    petrol        opel            yes        opel _ corsa  \n",
       "296326     150000    petrol        ford  not specified       ford _ fiesta  \n",
       "296334     150000    petrol      suzuki  not specified      suzuki _ swift  \n",
       "296358     150000    petrol        seat            yes        seat _ arosa  \n",
       "296424     150000    petrol  mitsubishi            yes   mitsubishi _ colt  \n",
       "\n",
       "[7109 rows x 11 columns]"
      ]
     },
     "execution_count": 84,
     "metadata": {},
     "output_type": "execute_result"
    }
   ],
   "source": [
    "data.query(\"price == 0\")"
   ]
  },
  {
   "cell_type": "code",
   "execution_count": 85,
   "metadata": {},
   "outputs": [
    {
     "data": {
      "text/plain": [
       "2"
      ]
     },
     "execution_count": 85,
     "metadata": {},
     "output_type": "execute_result"
    }
   ],
   "source": [
    "round(len(data[data['price'] == 0]) / len(data) * 100)"
   ]
  },
  {
   "cell_type": "code",
   "execution_count": 86,
   "metadata": {
    "scrolled": true
   },
   "outputs": [
    {
     "data": {
      "text/plain": [
       "array([   0,    1,    2,    3,    5,    7,    8,    9,   10,   11,   12,\n",
       "         13,   14,   15,   16,   17,   18,   19,   20,   21,   24,   25,\n",
       "         26,   27,   29,   30,   32,   33,   35,   38,   39,   40,   45,\n",
       "         47,   49,   50,   55,   58,   59,   60,   65,   66,   69,   70,\n",
       "         74,   75,   77,   79,   80,   85,   89,   90,   95,   98,   99,\n",
       "        100,  101,  105,  108,  110,  111,  112,  115,  117,  119,  120,\n",
       "        122,  123,  125,  126,  127,  128,  129,  130,  132,  133,  135,\n",
       "        139,  140,  142,  145,  149,  150,  155,  156,  157,  159,  160,\n",
       "        162,  165,  166,  169,  170,  173,  175,  177,  179,  180,  181,\n",
       "        185,  188,  189,  190,  192,  193,  195,  196,  198,  199,  200,\n",
       "        202,  205,  209,  210,  211,  215,  217,  219,  220,  222,  224,\n",
       "        225,  229,  230,  235,  236,  238,  240,  243,  245,  248,  249,\n",
       "        250,  251,  252,  253,  255,  259,  260,  261,  263,  265,  266,\n",
       "        269,  270,  272,  273,  274,  275,  277,  278,  279,  280,  281,\n",
       "        284,  285,  288,  289,  290,  293,  295,  298,  299,  300,  301,\n",
       "        305,  308,  309,  310,  315,  316,  319,  320,  321,  323,  325,\n",
       "        329,  330,  331,  332,  333,  335,  338,  339,  340,  341,  344,\n",
       "        345,  348,  349,  350,  355,  356,  359,  360,  365,  366,  368,\n",
       "        369,  370,  373,  375,  377,  378,  379,  380,  384,  385,  388,\n",
       "        389,  390,  393,  395,  397,  398,  399,  400,  408,  410,  414,\n",
       "        415,  418,  419,  420,  422,  424,  425,  429,  430,  433,  435,\n",
       "        439,  440,  444,  445,  449,  450,  455,  458,  459,  460,  465,\n",
       "        466,  467,  469,  470,  475,  479,  480,  485,  487,  489,  490,\n",
       "        495,  498,  499,  500,  501,  505,  510,  514,  515,  517,  519,\n",
       "        520,  522,  523,  525,  530,  531,  533,  535,  536,  540,  543,\n",
       "        544,  545,  548,  549,  550,  555,  559,  560,  565,  566,  569,\n",
       "        570,  574,  575,  576,  577,  578,  579,  580,  585,  586,  588,\n",
       "        589,  590,  593,  595,  597,  598,  599,  600,  601,  605,  606,\n",
       "        610,  615,  619,  620,  622,  623,  624,  625,  628,  629,  630,\n",
       "        632,  633,  634,  635,  639,  640,  644,  645,  647,  648,  649,\n",
       "        650,  655,  656,  658,  659,  660,  665,  666,  667,  669,  670,\n",
       "        675,  679,  680,  685,  686,  688,  689,  690,  691,  695,  696,\n",
       "        698,  699,  700,  701,  706,  709,  710,  715,  717,  719,  720,\n",
       "        722,  725,  728,  729,  730,  735,  739,  740,  744,  745,  747,\n",
       "        749,  750,  755,  759,  760,  765,  768,  769,  770,  775,  776,\n",
       "        777,  780,  785,  788,  789,  790,  793,  795,  797,  798,  799,\n",
       "        800,  804,  810,  816,  820,  822,  823,  825,  829,  830,  833,\n",
       "        834,  835,  836,  837,  840,  844,  845,  846,  849,  850,  851,\n",
       "        855,  859,  860,  865,  868,  869,  870,  875,  877,  879,  880,\n",
       "        885,  887,  888,  889,  890,  895,  897,  898,  899,  900,  901,\n",
       "        909,  910,  915,  919,  920,  923,  925,  929,  930,  934,  935,\n",
       "        940,  943,  944,  945,  948,  949,  950,  951,  955,  958,  959,\n",
       "        960,  965,  966,  968,  969,  970,  975,  976,  979,  980,  982,\n",
       "        985,  987,  988,  989,  990,  991,  993,  995,  996,  997,  998,\n",
       "        999, 1000, 1001, 1009, 1010, 1020, 1025, 1026, 1030, 1031, 1033,\n",
       "       1035, 1039, 1040, 1042, 1045], dtype=int64)"
      ]
     },
     "execution_count": 86,
     "metadata": {},
     "output_type": "execute_result"
    }
   ],
   "source": [
    "data['price'].sort_values().unique()[0:500]"
   ]
  },
  {
   "cell_type": "code",
   "execution_count": 87,
   "metadata": {},
   "outputs": [
    {
     "data": {
      "text/html": [
       "<div>\n",
       "<style scoped>\n",
       "    .dataframe tbody tr th:only-of-type {\n",
       "        vertical-align: middle;\n",
       "    }\n",
       "\n",
       "    .dataframe tbody tr th {\n",
       "        vertical-align: top;\n",
       "    }\n",
       "\n",
       "    .dataframe thead th {\n",
       "        text-align: right;\n",
       "    }\n",
       "</style>\n",
       "<table border=\"1\" class=\"dataframe\">\n",
       "  <thead>\n",
       "    <tr style=\"text-align: right;\">\n",
       "      <th></th>\n",
       "      <th>price</th>\n",
       "      <th>vehicle_type</th>\n",
       "      <th>registration_year</th>\n",
       "      <th>gearbox</th>\n",
       "      <th>power</th>\n",
       "      <th>model</th>\n",
       "      <th>kilometer</th>\n",
       "      <th>fuel_type</th>\n",
       "      <th>brand</th>\n",
       "      <th>repaired</th>\n",
       "      <th>brand_model</th>\n",
       "    </tr>\n",
       "  </thead>\n",
       "  <tbody>\n",
       "    <tr>\n",
       "      <th>6</th>\n",
       "      <td>0</td>\n",
       "      <td>sedan</td>\n",
       "      <td>1980</td>\n",
       "      <td>manual</td>\n",
       "      <td>50</td>\n",
       "      <td>other</td>\n",
       "      <td>40000</td>\n",
       "      <td>petrol</td>\n",
       "      <td>volkswagen</td>\n",
       "      <td>no</td>\n",
       "      <td>volkswagen _ other</td>\n",
       "    </tr>\n",
       "    <tr>\n",
       "      <th>37</th>\n",
       "      <td>0</td>\n",
       "      <td>small</td>\n",
       "      <td>1990</td>\n",
       "      <td>manual</td>\n",
       "      <td>0</td>\n",
       "      <td>corsa</td>\n",
       "      <td>150000</td>\n",
       "      <td>petrol</td>\n",
       "      <td>opel</td>\n",
       "      <td>not specified</td>\n",
       "      <td>opel _ corsa</td>\n",
       "    </tr>\n",
       "    <tr>\n",
       "      <th>80</th>\n",
       "      <td>1</td>\n",
       "      <td>sedan</td>\n",
       "      <td>1995</td>\n",
       "      <td>manual</td>\n",
       "      <td>113</td>\n",
       "      <td>e_klasse</td>\n",
       "      <td>150000</td>\n",
       "      <td>gasoline</td>\n",
       "      <td>mercedes_benz</td>\n",
       "      <td>no</td>\n",
       "      <td>mercedes_benz _ e_klasse</td>\n",
       "    </tr>\n",
       "    <tr>\n",
       "      <th>139</th>\n",
       "      <td>0</td>\n",
       "      <td>bus</td>\n",
       "      <td>2004</td>\n",
       "      <td>manual</td>\n",
       "      <td>101</td>\n",
       "      <td>meriva</td>\n",
       "      <td>150000</td>\n",
       "      <td>lpg</td>\n",
       "      <td>opel</td>\n",
       "      <td>yes</td>\n",
       "      <td>opel _ meriva</td>\n",
       "    </tr>\n",
       "    <tr>\n",
       "      <th>141</th>\n",
       "      <td>0</td>\n",
       "      <td>small</td>\n",
       "      <td>2006</td>\n",
       "      <td>manual</td>\n",
       "      <td>0</td>\n",
       "      <td>other</td>\n",
       "      <td>5000</td>\n",
       "      <td>petrol</td>\n",
       "      <td>fiat</td>\n",
       "      <td>not specified</td>\n",
       "      <td>fiat _ other</td>\n",
       "    </tr>\n",
       "    <tr>\n",
       "      <th>...</th>\n",
       "      <td>...</td>\n",
       "      <td>...</td>\n",
       "      <td>...</td>\n",
       "      <td>...</td>\n",
       "      <td>...</td>\n",
       "      <td>...</td>\n",
       "      <td>...</td>\n",
       "      <td>...</td>\n",
       "      <td>...</td>\n",
       "      <td>...</td>\n",
       "      <td>...</td>\n",
       "    </tr>\n",
       "    <tr>\n",
       "      <th>296326</th>\n",
       "      <td>0</td>\n",
       "      <td>small</td>\n",
       "      <td>2002</td>\n",
       "      <td>manual</td>\n",
       "      <td>60</td>\n",
       "      <td>fiesta</td>\n",
       "      <td>150000</td>\n",
       "      <td>petrol</td>\n",
       "      <td>ford</td>\n",
       "      <td>not specified</td>\n",
       "      <td>ford _ fiesta</td>\n",
       "    </tr>\n",
       "    <tr>\n",
       "      <th>296334</th>\n",
       "      <td>0</td>\n",
       "      <td>small</td>\n",
       "      <td>1999</td>\n",
       "      <td>manual</td>\n",
       "      <td>53</td>\n",
       "      <td>swift</td>\n",
       "      <td>150000</td>\n",
       "      <td>petrol</td>\n",
       "      <td>suzuki</td>\n",
       "      <td>not specified</td>\n",
       "      <td>suzuki _ swift</td>\n",
       "    </tr>\n",
       "    <tr>\n",
       "      <th>296358</th>\n",
       "      <td>0</td>\n",
       "      <td>small</td>\n",
       "      <td>1999</td>\n",
       "      <td>manual</td>\n",
       "      <td>37</td>\n",
       "      <td>arosa</td>\n",
       "      <td>150000</td>\n",
       "      <td>petrol</td>\n",
       "      <td>seat</td>\n",
       "      <td>yes</td>\n",
       "      <td>seat _ arosa</td>\n",
       "    </tr>\n",
       "    <tr>\n",
       "      <th>296382</th>\n",
       "      <td>99</td>\n",
       "      <td>small</td>\n",
       "      <td>1999</td>\n",
       "      <td>manual</td>\n",
       "      <td>60</td>\n",
       "      <td>arosa</td>\n",
       "      <td>150000</td>\n",
       "      <td>petrol</td>\n",
       "      <td>seat</td>\n",
       "      <td>yes</td>\n",
       "      <td>seat _ arosa</td>\n",
       "    </tr>\n",
       "    <tr>\n",
       "      <th>296424</th>\n",
       "      <td>0</td>\n",
       "      <td>sedan</td>\n",
       "      <td>2005</td>\n",
       "      <td>manual</td>\n",
       "      <td>0</td>\n",
       "      <td>colt</td>\n",
       "      <td>150000</td>\n",
       "      <td>petrol</td>\n",
       "      <td>mitsubishi</td>\n",
       "      <td>yes</td>\n",
       "      <td>mitsubishi _ colt</td>\n",
       "    </tr>\n",
       "  </tbody>\n",
       "</table>\n",
       "<p>9001 rows × 11 columns</p>\n",
       "</div>"
      ],
      "text/plain": [
       "        price vehicle_type  registration_year gearbox  power     model  \\\n",
       "6           0        sedan               1980  manual     50     other   \n",
       "37          0        small               1990  manual      0     corsa   \n",
       "80          1        sedan               1995  manual    113  e_klasse   \n",
       "139         0          bus               2004  manual    101    meriva   \n",
       "141         0        small               2006  manual      0     other   \n",
       "...       ...          ...                ...     ...    ...       ...   \n",
       "296326      0        small               2002  manual     60    fiesta   \n",
       "296334      0        small               1999  manual     53     swift   \n",
       "296358      0        small               1999  manual     37     arosa   \n",
       "296382     99        small               1999  manual     60     arosa   \n",
       "296424      0        sedan               2005  manual      0      colt   \n",
       "\n",
       "        kilometer fuel_type          brand       repaired  \\\n",
       "6           40000    petrol     volkswagen             no   \n",
       "37         150000    petrol           opel  not specified   \n",
       "80         150000  gasoline  mercedes_benz             no   \n",
       "139        150000       lpg           opel            yes   \n",
       "141          5000    petrol           fiat  not specified   \n",
       "...           ...       ...            ...            ...   \n",
       "296326     150000    petrol           ford  not specified   \n",
       "296334     150000    petrol         suzuki  not specified   \n",
       "296358     150000    petrol           seat            yes   \n",
       "296382     150000    petrol           seat            yes   \n",
       "296424     150000    petrol     mitsubishi            yes   \n",
       "\n",
       "                     brand_model  \n",
       "6             volkswagen _ other  \n",
       "37                  opel _ corsa  \n",
       "80      mercedes_benz _ e_klasse  \n",
       "139                opel _ meriva  \n",
       "141                 fiat _ other  \n",
       "...                          ...  \n",
       "296326             ford _ fiesta  \n",
       "296334            suzuki _ swift  \n",
       "296358              seat _ arosa  \n",
       "296382              seat _ arosa  \n",
       "296424         mitsubishi _ colt  \n",
       "\n",
       "[9001 rows x 11 columns]"
      ]
     },
     "execution_count": 87,
     "metadata": {},
     "output_type": "execute_result"
    }
   ],
   "source": [
    "data[data['price'] < 100]"
   ]
  },
  {
   "cell_type": "code",
   "execution_count": 88,
   "metadata": {},
   "outputs": [
    {
     "data": {
      "text/html": [
       "<div>\n",
       "<style scoped>\n",
       "    .dataframe tbody tr th:only-of-type {\n",
       "        vertical-align: middle;\n",
       "    }\n",
       "\n",
       "    .dataframe tbody tr th {\n",
       "        vertical-align: top;\n",
       "    }\n",
       "\n",
       "    .dataframe thead th {\n",
       "        text-align: right;\n",
       "    }\n",
       "</style>\n",
       "<table border=\"1\" class=\"dataframe\">\n",
       "  <thead>\n",
       "    <tr style=\"text-align: right;\">\n",
       "      <th></th>\n",
       "      <th>price</th>\n",
       "      <th>vehicle_type</th>\n",
       "      <th>registration_year</th>\n",
       "      <th>gearbox</th>\n",
       "      <th>power</th>\n",
       "      <th>model</th>\n",
       "      <th>kilometer</th>\n",
       "      <th>fuel_type</th>\n",
       "      <th>brand</th>\n",
       "      <th>repaired</th>\n",
       "      <th>brand_model</th>\n",
       "    </tr>\n",
       "  </thead>\n",
       "  <tbody>\n",
       "    <tr>\n",
       "      <th>80</th>\n",
       "      <td>1</td>\n",
       "      <td>sedan</td>\n",
       "      <td>1995</td>\n",
       "      <td>manual</td>\n",
       "      <td>113</td>\n",
       "      <td>e_klasse</td>\n",
       "      <td>150000</td>\n",
       "      <td>gasoline</td>\n",
       "      <td>mercedes_benz</td>\n",
       "      <td>no</td>\n",
       "      <td>mercedes_benz _ e_klasse</td>\n",
       "    </tr>\n",
       "    <tr>\n",
       "      <th>245</th>\n",
       "      <td>1</td>\n",
       "      <td>sedan</td>\n",
       "      <td>1990</td>\n",
       "      <td>manual</td>\n",
       "      <td>90</td>\n",
       "      <td>80</td>\n",
       "      <td>70000</td>\n",
       "      <td>petrol</td>\n",
       "      <td>audi</td>\n",
       "      <td>no</td>\n",
       "      <td>audi _ 80</td>\n",
       "    </tr>\n",
       "    <tr>\n",
       "      <th>371</th>\n",
       "      <td>1</td>\n",
       "      <td>sedan</td>\n",
       "      <td>2000</td>\n",
       "      <td>manual</td>\n",
       "      <td>75</td>\n",
       "      <td>golf</td>\n",
       "      <td>90000</td>\n",
       "      <td>petrol</td>\n",
       "      <td>volkswagen</td>\n",
       "      <td>not specified</td>\n",
       "      <td>volkswagen _ golf</td>\n",
       "    </tr>\n",
       "    <tr>\n",
       "      <th>816</th>\n",
       "      <td>1</td>\n",
       "      <td>coupe</td>\n",
       "      <td>1990</td>\n",
       "      <td>manual</td>\n",
       "      <td>0</td>\n",
       "      <td>other</td>\n",
       "      <td>150000</td>\n",
       "      <td>petrol</td>\n",
       "      <td>porsche</td>\n",
       "      <td>not specified</td>\n",
       "      <td>porsche _ other</td>\n",
       "    </tr>\n",
       "    <tr>\n",
       "      <th>876</th>\n",
       "      <td>1</td>\n",
       "      <td>wagon</td>\n",
       "      <td>1998</td>\n",
       "      <td>manual</td>\n",
       "      <td>136</td>\n",
       "      <td>omega</td>\n",
       "      <td>150000</td>\n",
       "      <td>petrol</td>\n",
       "      <td>opel</td>\n",
       "      <td>no</td>\n",
       "      <td>opel _ omega</td>\n",
       "    </tr>\n",
       "    <tr>\n",
       "      <th>...</th>\n",
       "      <td>...</td>\n",
       "      <td>...</td>\n",
       "      <td>...</td>\n",
       "      <td>...</td>\n",
       "      <td>...</td>\n",
       "      <td>...</td>\n",
       "      <td>...</td>\n",
       "      <td>...</td>\n",
       "      <td>...</td>\n",
       "      <td>...</td>\n",
       "      <td>...</td>\n",
       "    </tr>\n",
       "    <tr>\n",
       "      <th>295270</th>\n",
       "      <td>1</td>\n",
       "      <td>bus</td>\n",
       "      <td>2005</td>\n",
       "      <td>manual</td>\n",
       "      <td>101</td>\n",
       "      <td>other</td>\n",
       "      <td>150000</td>\n",
       "      <td>gasoline</td>\n",
       "      <td>nissan</td>\n",
       "      <td>yes</td>\n",
       "      <td>nissan _ other</td>\n",
       "    </tr>\n",
       "    <tr>\n",
       "      <th>295292</th>\n",
       "      <td>1</td>\n",
       "      <td>small</td>\n",
       "      <td>1998</td>\n",
       "      <td>manual</td>\n",
       "      <td>125</td>\n",
       "      <td>polo</td>\n",
       "      <td>150000</td>\n",
       "      <td>petrol</td>\n",
       "      <td>volkswagen</td>\n",
       "      <td>no</td>\n",
       "      <td>volkswagen _ polo</td>\n",
       "    </tr>\n",
       "    <tr>\n",
       "      <th>295465</th>\n",
       "      <td>1</td>\n",
       "      <td>wagon</td>\n",
       "      <td>2007</td>\n",
       "      <td>auto</td>\n",
       "      <td>200</td>\n",
       "      <td>3er</td>\n",
       "      <td>150000</td>\n",
       "      <td>gasoline</td>\n",
       "      <td>bmw</td>\n",
       "      <td>no</td>\n",
       "      <td>bmw _ 3er</td>\n",
       "    </tr>\n",
       "    <tr>\n",
       "      <th>295539</th>\n",
       "      <td>1</td>\n",
       "      <td>coupe</td>\n",
       "      <td>1990</td>\n",
       "      <td>manual</td>\n",
       "      <td>45</td>\n",
       "      <td>polo</td>\n",
       "      <td>150000</td>\n",
       "      <td>petrol</td>\n",
       "      <td>volkswagen</td>\n",
       "      <td>no</td>\n",
       "      <td>volkswagen _ polo</td>\n",
       "    </tr>\n",
       "    <tr>\n",
       "      <th>295883</th>\n",
       "      <td>1</td>\n",
       "      <td>bus</td>\n",
       "      <td>1999</td>\n",
       "      <td>manual</td>\n",
       "      <td>0</td>\n",
       "      <td>espace</td>\n",
       "      <td>150000</td>\n",
       "      <td>petrol</td>\n",
       "      <td>renault</td>\n",
       "      <td>not specified</td>\n",
       "      <td>renault _ espace</td>\n",
       "    </tr>\n",
       "  </tbody>\n",
       "</table>\n",
       "<p>828 rows × 11 columns</p>\n",
       "</div>"
      ],
      "text/plain": [
       "        price vehicle_type  registration_year gearbox  power     model  \\\n",
       "80          1        sedan               1995  manual    113  e_klasse   \n",
       "245         1        sedan               1990  manual     90        80   \n",
       "371         1        sedan               2000  manual     75      golf   \n",
       "816         1        coupe               1990  manual      0     other   \n",
       "876         1        wagon               1998  manual    136     omega   \n",
       "...       ...          ...                ...     ...    ...       ...   \n",
       "295270      1          bus               2005  manual    101     other   \n",
       "295292      1        small               1998  manual    125      polo   \n",
       "295465      1        wagon               2007    auto    200       3er   \n",
       "295539      1        coupe               1990  manual     45      polo   \n",
       "295883      1          bus               1999  manual      0    espace   \n",
       "\n",
       "        kilometer fuel_type          brand       repaired  \\\n",
       "80         150000  gasoline  mercedes_benz             no   \n",
       "245         70000    petrol           audi             no   \n",
       "371         90000    petrol     volkswagen  not specified   \n",
       "816        150000    petrol        porsche  not specified   \n",
       "876        150000    petrol           opel             no   \n",
       "...           ...       ...            ...            ...   \n",
       "295270     150000  gasoline         nissan            yes   \n",
       "295292     150000    petrol     volkswagen             no   \n",
       "295465     150000  gasoline            bmw             no   \n",
       "295539     150000    petrol     volkswagen             no   \n",
       "295883     150000    petrol        renault  not specified   \n",
       "\n",
       "                     brand_model  \n",
       "80      mercedes_benz _ e_klasse  \n",
       "245                    audi _ 80  \n",
       "371            volkswagen _ golf  \n",
       "816              porsche _ other  \n",
       "876                 opel _ omega  \n",
       "...                          ...  \n",
       "295270            nissan _ other  \n",
       "295292         volkswagen _ polo  \n",
       "295465                 bmw _ 3er  \n",
       "295539         volkswagen _ polo  \n",
       "295883          renault _ espace  \n",
       "\n",
       "[828 rows x 11 columns]"
      ]
     },
     "execution_count": 88,
     "metadata": {},
     "output_type": "execute_result"
    }
   ],
   "source": [
    "data.query(\"price == 1\")"
   ]
  },
  {
   "cell_type": "code",
   "execution_count": 89,
   "metadata": {},
   "outputs": [
    {
     "data": {
      "text/plain": [
       "3"
      ]
     },
     "execution_count": 89,
     "metadata": {},
     "output_type": "execute_result"
    }
   ],
   "source": [
    "round(len(data[data['price'] < 100]) / len(data) * 100)"
   ]
  },
  {
   "cell_type": "markdown",
   "metadata": {},
   "source": [
    "Получается, что у нас есть 3% наблюдений, в которых цена за автомобиль составляет менее 100 евро. В них входят 2% наблюдений, в которых цена равна нулю. Цена - это целевой признак, который должны будут предсказывать наши модели. На мой взгляд, лучше удалить эти 3% наблюдений, чтобы результаты предсказаний были точнее. \n",
    "\n",
    "Здесь нельзя сказать с уверенностью, что 0 обозначает пропуск, возможно, это техническая ошибка выгрузки данных, а также нельзя точно утверждать, чему соответствуют единица, двойка, тройка и тд. - может, это 100 евро, может, 1000, а может человек просто поставил 1 евро, чтобы у него забрали битую машину. На многих сайтах продажи автомобилей есть нижнее ограничение по цене, поэтому поставим его тоже. \n",
    "\n",
    "Удалим объекты с ценой менее 100 евро. "
   ]
  },
  {
   "cell_type": "code",
   "execution_count": 90,
   "metadata": {},
   "outputs": [],
   "source": [
    "price_anomaly_ind = data[data['price'] < 100].index"
   ]
  },
  {
   "cell_type": "code",
   "execution_count": 91,
   "metadata": {},
   "outputs": [],
   "source": [
    "data.drop(price_anomaly_ind, inplace=True)"
   ]
  },
  {
   "cell_type": "markdown",
   "metadata": {},
   "source": [
    "Посмотрим, как изменилась стоимость автомобилей:"
   ]
  },
  {
   "cell_type": "code",
   "execution_count": 92,
   "metadata": {},
   "outputs": [
    {
     "data": {
      "text/plain": [
       "count    287427.000000\n",
       "mean       4683.804347\n",
       "std        4566.212719\n",
       "min         100.000000\n",
       "25%        1250.000000\n",
       "50%        2998.000000\n",
       "75%        6799.000000\n",
       "max       20000.000000\n",
       "Name: price, dtype: float64"
      ]
     },
     "execution_count": 92,
     "metadata": {},
     "output_type": "execute_result"
    }
   ],
   "source": [
    "data['price'].describe()"
   ]
  },
  {
   "cell_type": "code",
   "execution_count": 93,
   "metadata": {},
   "outputs": [
    {
     "data": {
      "image/png": "[encoded data removed]",
      "text/plain": [
       "<Figure size 1500x200 with 1 Axes>"
      ]
     },
     "metadata": {},
     "output_type": "display_data"
    }
   ],
   "source": [
    "plt.figure(figsize=(15, 2))\n",
    "\n",
    "sns.boxplot(x=data['price'])\n",
    "plt.title(\"Диаграмма размаха стоимости автомобилей\")\n",
    "\n",
    "plt.show()"
   ]
  },
  {
   "cell_type": "code",
   "execution_count": 94,
   "metadata": {},
   "outputs": [
    {
     "data": {
      "image/png": "[encoded data removed]",
      "text/plain": [
       "<Figure size 1500x200 with 1 Axes>"
      ]
     },
     "metadata": {},
     "output_type": "display_data"
    }
   ],
   "source": [
    "plt.figure(figsize=(15, 2))\n",
    "\n",
    "sns.histplot(x=data['price'])\n",
    "\n",
    "plt.title(\"Гистограмма стоимости автомобилей\")\n",
    "plt.xlabel(\"Цена\")\n",
    "plt.show()"
   ]
  },
  {
   "cell_type": "markdown",
   "metadata": {},
   "source": [
    "Распределение нормальное и скошенное, с длинным хвостом, идущим в увеличение стоимости. Медиана и среднее сильно отличаются, 2950 и 4633 евро соответственно. Наблюдения с ценой выше 15000 показываются, как выбросы - посмотрим, сколько их."
   ]
  },
  {
   "cell_type": "code",
   "execution_count": 95,
   "metadata": {},
   "outputs": [
    {
     "data": {
      "text/html": [
       "<div>\n",
       "<style scoped>\n",
       "    .dataframe tbody tr th:only-of-type {\n",
       "        vertical-align: middle;\n",
       "    }\n",
       "\n",
       "    .dataframe tbody tr th {\n",
       "        vertical-align: top;\n",
       "    }\n",
       "\n",
       "    .dataframe thead th {\n",
       "        text-align: right;\n",
       "    }\n",
       "</style>\n",
       "<table border=\"1\" class=\"dataframe\">\n",
       "  <thead>\n",
       "    <tr style=\"text-align: right;\">\n",
       "      <th></th>\n",
       "      <th>price</th>\n",
       "      <th>vehicle_type</th>\n",
       "      <th>registration_year</th>\n",
       "      <th>gearbox</th>\n",
       "      <th>power</th>\n",
       "      <th>model</th>\n",
       "      <th>kilometer</th>\n",
       "      <th>fuel_type</th>\n",
       "      <th>brand</th>\n",
       "      <th>repaired</th>\n",
       "      <th>brand_model</th>\n",
       "    </tr>\n",
       "  </thead>\n",
       "  <tbody>\n",
       "    <tr>\n",
       "      <th>13</th>\n",
       "      <td>17999</td>\n",
       "      <td>suv</td>\n",
       "      <td>2011</td>\n",
       "      <td>manual</td>\n",
       "      <td>190</td>\n",
       "      <td>navara</td>\n",
       "      <td>70000</td>\n",
       "      <td>gasoline</td>\n",
       "      <td>nissan</td>\n",
       "      <td>no</td>\n",
       "      <td>nissan _ navara</td>\n",
       "    </tr>\n",
       "    <tr>\n",
       "      <th>30</th>\n",
       "      <td>18000</td>\n",
       "      <td>sedan</td>\n",
       "      <td>2007</td>\n",
       "      <td>auto</td>\n",
       "      <td>218</td>\n",
       "      <td>3er</td>\n",
       "      <td>20000</td>\n",
       "      <td>petrol</td>\n",
       "      <td>bmw</td>\n",
       "      <td>no</td>\n",
       "      <td>bmw _ 3er</td>\n",
       "    </tr>\n",
       "    <tr>\n",
       "      <th>155</th>\n",
       "      <td>19750</td>\n",
       "      <td>convertible</td>\n",
       "      <td>2006</td>\n",
       "      <td>manual</td>\n",
       "      <td>305</td>\n",
       "      <td>mustang</td>\n",
       "      <td>50000</td>\n",
       "      <td>petrol</td>\n",
       "      <td>ford</td>\n",
       "      <td>no</td>\n",
       "      <td>ford _ mustang</td>\n",
       "    </tr>\n",
       "    <tr>\n",
       "      <th>162</th>\n",
       "      <td>16449</td>\n",
       "      <td>wagon</td>\n",
       "      <td>2015</td>\n",
       "      <td>auto</td>\n",
       "      <td>110</td>\n",
       "      <td>fabia</td>\n",
       "      <td>10000</td>\n",
       "      <td>petrol</td>\n",
       "      <td>skoda</td>\n",
       "      <td>no</td>\n",
       "      <td>skoda _ fabia</td>\n",
       "    </tr>\n",
       "    <tr>\n",
       "      <th>184</th>\n",
       "      <td>18400</td>\n",
       "      <td>wagon</td>\n",
       "      <td>2011</td>\n",
       "      <td>auto</td>\n",
       "      <td>313</td>\n",
       "      <td>5er</td>\n",
       "      <td>150000</td>\n",
       "      <td>gasoline</td>\n",
       "      <td>bmw</td>\n",
       "      <td>no</td>\n",
       "      <td>bmw _ 5er</td>\n",
       "    </tr>\n",
       "    <tr>\n",
       "      <th>...</th>\n",
       "      <td>...</td>\n",
       "      <td>...</td>\n",
       "      <td>...</td>\n",
       "      <td>...</td>\n",
       "      <td>...</td>\n",
       "      <td>...</td>\n",
       "      <td>...</td>\n",
       "      <td>...</td>\n",
       "      <td>...</td>\n",
       "      <td>...</td>\n",
       "      <td>...</td>\n",
       "    </tr>\n",
       "    <tr>\n",
       "      <th>296285</th>\n",
       "      <td>15190</td>\n",
       "      <td>bus</td>\n",
       "      <td>2011</td>\n",
       "      <td>manual</td>\n",
       "      <td>140</td>\n",
       "      <td>touran</td>\n",
       "      <td>80000</td>\n",
       "      <td>petrol</td>\n",
       "      <td>volkswagen</td>\n",
       "      <td>no</td>\n",
       "      <td>volkswagen _ touran</td>\n",
       "    </tr>\n",
       "    <tr>\n",
       "      <th>296359</th>\n",
       "      <td>16500</td>\n",
       "      <td>suv</td>\n",
       "      <td>2013</td>\n",
       "      <td>manual</td>\n",
       "      <td>116</td>\n",
       "      <td>i_reihe</td>\n",
       "      <td>30000</td>\n",
       "      <td>gasoline</td>\n",
       "      <td>hyundai</td>\n",
       "      <td>no</td>\n",
       "      <td>hyundai _ i_reihe</td>\n",
       "    </tr>\n",
       "    <tr>\n",
       "      <th>296364</th>\n",
       "      <td>16500</td>\n",
       "      <td>coupe</td>\n",
       "      <td>1973</td>\n",
       "      <td>manual</td>\n",
       "      <td>200</td>\n",
       "      <td>other</td>\n",
       "      <td>150000</td>\n",
       "      <td>petrol</td>\n",
       "      <td>bmw</td>\n",
       "      <td>yes</td>\n",
       "      <td>bmw _ other</td>\n",
       "    </tr>\n",
       "    <tr>\n",
       "      <th>296380</th>\n",
       "      <td>16999</td>\n",
       "      <td>wagon</td>\n",
       "      <td>2008</td>\n",
       "      <td>auto</td>\n",
       "      <td>269</td>\n",
       "      <td>a6</td>\n",
       "      <td>150000</td>\n",
       "      <td>gasoline</td>\n",
       "      <td>audi</td>\n",
       "      <td>no</td>\n",
       "      <td>audi _ a6</td>\n",
       "    </tr>\n",
       "    <tr>\n",
       "      <th>296390</th>\n",
       "      <td>19800</td>\n",
       "      <td>sedan</td>\n",
       "      <td>2011</td>\n",
       "      <td>manual</td>\n",
       "      <td>170</td>\n",
       "      <td>1er</td>\n",
       "      <td>80000</td>\n",
       "      <td>petrol</td>\n",
       "      <td>bmw</td>\n",
       "      <td>no</td>\n",
       "      <td>bmw _ 1er</td>\n",
       "    </tr>\n",
       "  </tbody>\n",
       "</table>\n",
       "<p>13191 rows × 11 columns</p>\n",
       "</div>"
      ],
      "text/plain": [
       "        price vehicle_type  registration_year gearbox  power    model  \\\n",
       "13      17999          suv               2011  manual    190   navara   \n",
       "30      18000        sedan               2007    auto    218      3er   \n",
       "155     19750  convertible               2006  manual    305  mustang   \n",
       "162     16449        wagon               2015    auto    110    fabia   \n",
       "184     18400        wagon               2011    auto    313      5er   \n",
       "...       ...          ...                ...     ...    ...      ...   \n",
       "296285  15190          bus               2011  manual    140   touran   \n",
       "296359  16500          suv               2013  manual    116  i_reihe   \n",
       "296364  16500        coupe               1973  manual    200    other   \n",
       "296380  16999        wagon               2008    auto    269       a6   \n",
       "296390  19800        sedan               2011  manual    170      1er   \n",
       "\n",
       "        kilometer fuel_type       brand repaired          brand_model  \n",
       "13          70000  gasoline      nissan       no      nissan _ navara  \n",
       "30          20000    petrol         bmw       no            bmw _ 3er  \n",
       "155         50000    petrol        ford       no       ford _ mustang  \n",
       "162         10000    petrol       skoda       no        skoda _ fabia  \n",
       "184        150000  gasoline         bmw       no            bmw _ 5er  \n",
       "...           ...       ...         ...      ...                  ...  \n",
       "296285      80000    petrol  volkswagen       no  volkswagen _ touran  \n",
       "296359      30000  gasoline     hyundai       no    hyundai _ i_reihe  \n",
       "296364     150000    petrol         bmw      yes          bmw _ other  \n",
       "296380     150000  gasoline        audi       no            audi _ a6  \n",
       "296390      80000    petrol         bmw       no            bmw _ 1er  \n",
       "\n",
       "[13191 rows x 11 columns]"
      ]
     },
     "execution_count": 95,
     "metadata": {},
     "output_type": "execute_result"
    }
   ],
   "source": [
    "data.query(\"price > 15000\")"
   ]
  },
  {
   "cell_type": "markdown",
   "metadata": {},
   "source": [
    "Этих наблюдений примерно 5%. Скорее всего, такая высокая цена связана с некоторыми элитными моделями автомобилей. Удалим эти наблюдения, так как это уникальные случаи для общего тренда."
   ]
  },
  {
   "cell_type": "code",
   "execution_count": 96,
   "metadata": {},
   "outputs": [],
   "source": [
    "price_anomaly_ind_2 = data.query(\"price > 15000\").index"
   ]
  },
  {
   "cell_type": "code",
   "execution_count": 97,
   "metadata": {},
   "outputs": [],
   "source": [
    "data.drop(price_anomaly_ind_2, inplace=True)"
   ]
  },
  {
   "cell_type": "markdown",
   "metadata": {},
   "source": [
    "<h4>Столбец `registration_year`</h4>"
   ]
  },
  {
   "cell_type": "code",
   "execution_count": 98,
   "metadata": {},
   "outputs": [
    {
     "data": {
      "text/plain": [
       "array([1000, 1001, 1234, 1300, 1400, 1500, 1600, 1602, 1800, 1910, 1923,\n",
       "       1928, 1929, 1930, 1931, 1932, 1934, 1935, 1936, 1937, 1938, 1941,\n",
       "       1942, 1943, 1945, 1949, 1950, 1951, 1952, 1953, 1954, 1955, 1956,\n",
       "       1957, 1958, 1959, 1960, 1961, 1962, 1963, 1964, 1965, 1966, 1967,\n",
       "       1968, 1969, 1970, 1971, 1972, 1973, 1974, 1975, 1976, 1977, 1978,\n",
       "       1979, 1980, 1981, 1982, 1983, 1984, 1985, 1986, 1987, 1988, 1989,\n",
       "       1990, 1991, 1992, 1993, 1994, 1995, 1996, 1997, 1998, 1999, 2000,\n",
       "       2001, 2002, 2003, 2004, 2005, 2006, 2007, 2008, 2009, 2010, 2011,\n",
       "       2012, 2013, 2014, 2015, 2016], dtype=int64)"
      ]
     },
     "execution_count": 98,
     "metadata": {},
     "output_type": "execute_result"
    }
   ],
   "source": [
    "data['registration_year'].sort_values().unique()"
   ]
  },
  {
   "cell_type": "markdown",
   "metadata": {},
   "source": [
    "Настораживают авто с годом регистрации ранее 1923. Рассмотрим их:"
   ]
  },
  {
   "cell_type": "code",
   "execution_count": 99,
   "metadata": {
    "scrolled": true
   },
   "outputs": [
    {
     "data": {
      "text/html": [
       "<div>\n",
       "<style scoped>\n",
       "    .dataframe tbody tr th:only-of-type {\n",
       "        vertical-align: middle;\n",
       "    }\n",
       "\n",
       "    .dataframe tbody tr th {\n",
       "        vertical-align: top;\n",
       "    }\n",
       "\n",
       "    .dataframe thead th {\n",
       "        text-align: right;\n",
       "    }\n",
       "</style>\n",
       "<table border=\"1\" class=\"dataframe\">\n",
       "  <thead>\n",
       "    <tr style=\"text-align: right;\">\n",
       "      <th></th>\n",
       "      <th>price</th>\n",
       "      <th>vehicle_type</th>\n",
       "      <th>registration_year</th>\n",
       "      <th>gearbox</th>\n",
       "      <th>power</th>\n",
       "      <th>model</th>\n",
       "      <th>kilometer</th>\n",
       "      <th>fuel_type</th>\n",
       "      <th>brand</th>\n",
       "      <th>repaired</th>\n",
       "      <th>brand_model</th>\n",
       "    </tr>\n",
       "  </thead>\n",
       "  <tbody>\n",
       "    <tr>\n",
       "      <th>14</th>\n",
       "      <td>450</td>\n",
       "      <td>small</td>\n",
       "      <td>1910</td>\n",
       "      <td>manual</td>\n",
       "      <td>0</td>\n",
       "      <td>ka</td>\n",
       "      <td>5000</td>\n",
       "      <td>petrol</td>\n",
       "      <td>ford</td>\n",
       "      <td>not specified</td>\n",
       "      <td>ford _ ka</td>\n",
       "    </tr>\n",
       "    <tr>\n",
       "      <th>9192</th>\n",
       "      <td>1250</td>\n",
       "      <td>wagon</td>\n",
       "      <td>1910</td>\n",
       "      <td>manual</td>\n",
       "      <td>0</td>\n",
       "      <td>other</td>\n",
       "      <td>5000</td>\n",
       "      <td>petrol</td>\n",
       "      <td>audi</td>\n",
       "      <td>not specified</td>\n",
       "      <td>audi _ other</td>\n",
       "    </tr>\n",
       "    <tr>\n",
       "      <th>14520</th>\n",
       "      <td>190</td>\n",
       "      <td>wagon</td>\n",
       "      <td>1000</td>\n",
       "      <td>manual</td>\n",
       "      <td>0</td>\n",
       "      <td>mondeo</td>\n",
       "      <td>5000</td>\n",
       "      <td>petrol</td>\n",
       "      <td>ford</td>\n",
       "      <td>not specified</td>\n",
       "      <td>ford _ mondeo</td>\n",
       "    </tr>\n",
       "    <tr>\n",
       "      <th>16461</th>\n",
       "      <td>7999</td>\n",
       "      <td>sedan</td>\n",
       "      <td>1500</td>\n",
       "      <td>manual</td>\n",
       "      <td>224</td>\n",
       "      <td>impreza</td>\n",
       "      <td>5000</td>\n",
       "      <td>petrol</td>\n",
       "      <td>subaru</td>\n",
       "      <td>not specified</td>\n",
       "      <td>subaru _ impreza</td>\n",
       "    </tr>\n",
       "    <tr>\n",
       "      <th>21393</th>\n",
       "      <td>3900</td>\n",
       "      <td>wagon</td>\n",
       "      <td>1910</td>\n",
       "      <td>manual</td>\n",
       "      <td>90</td>\n",
       "      <td>passat</td>\n",
       "      <td>150000</td>\n",
       "      <td>petrol</td>\n",
       "      <td>volkswagen</td>\n",
       "      <td>not specified</td>\n",
       "      <td>volkswagen _ passat</td>\n",
       "    </tr>\n",
       "    <tr>\n",
       "      <th>32210</th>\n",
       "      <td>200</td>\n",
       "      <td>other</td>\n",
       "      <td>1910</td>\n",
       "      <td>manual</td>\n",
       "      <td>0</td>\n",
       "      <td>caddy</td>\n",
       "      <td>150000</td>\n",
       "      <td>gasoline</td>\n",
       "      <td>volkswagen</td>\n",
       "      <td>not specified</td>\n",
       "      <td>volkswagen _ caddy</td>\n",
       "    </tr>\n",
       "    <tr>\n",
       "      <th>43751</th>\n",
       "      <td>600</td>\n",
       "      <td>small</td>\n",
       "      <td>1910</td>\n",
       "      <td>manual</td>\n",
       "      <td>0</td>\n",
       "      <td>agila</td>\n",
       "      <td>5000</td>\n",
       "      <td>petrol</td>\n",
       "      <td>opel</td>\n",
       "      <td>yes</td>\n",
       "      <td>opel _ agila</td>\n",
       "    </tr>\n",
       "    <tr>\n",
       "      <th>47832</th>\n",
       "      <td>330</td>\n",
       "      <td>small</td>\n",
       "      <td>1000</td>\n",
       "      <td>manual</td>\n",
       "      <td>0</td>\n",
       "      <td>polo</td>\n",
       "      <td>5000</td>\n",
       "      <td>petrol</td>\n",
       "      <td>volkswagen</td>\n",
       "      <td>not specified</td>\n",
       "      <td>volkswagen _ polo</td>\n",
       "    </tr>\n",
       "    <tr>\n",
       "      <th>50183</th>\n",
       "      <td>950</td>\n",
       "      <td>sedan</td>\n",
       "      <td>1400</td>\n",
       "      <td>manual</td>\n",
       "      <td>1400</td>\n",
       "      <td>golf</td>\n",
       "      <td>125000</td>\n",
       "      <td>petrol</td>\n",
       "      <td>volkswagen</td>\n",
       "      <td>not specified</td>\n",
       "      <td>volkswagen _ golf</td>\n",
       "    </tr>\n",
       "    <tr>\n",
       "      <th>55982</th>\n",
       "      <td>3400</td>\n",
       "      <td>small</td>\n",
       "      <td>1910</td>\n",
       "      <td>manual</td>\n",
       "      <td>90</td>\n",
       "      <td>beetle</td>\n",
       "      <td>90000</td>\n",
       "      <td>petrol</td>\n",
       "      <td>volkswagen</td>\n",
       "      <td>no</td>\n",
       "      <td>volkswagen _ beetle</td>\n",
       "    </tr>\n",
       "    <tr>\n",
       "      <th>63543</th>\n",
       "      <td>500</td>\n",
       "      <td>sedan</td>\n",
       "      <td>1000</td>\n",
       "      <td>manual</td>\n",
       "      <td>0</td>\n",
       "      <td>golf</td>\n",
       "      <td>5000</td>\n",
       "      <td>petrol</td>\n",
       "      <td>volkswagen</td>\n",
       "      <td>not specified</td>\n",
       "      <td>volkswagen _ golf</td>\n",
       "    </tr>\n",
       "    <tr>\n",
       "      <th>66515</th>\n",
       "      <td>400</td>\n",
       "      <td>sedan</td>\n",
       "      <td>1910</td>\n",
       "      <td>manual</td>\n",
       "      <td>60</td>\n",
       "      <td>golf</td>\n",
       "      <td>150000</td>\n",
       "      <td>petrol</td>\n",
       "      <td>volkswagen</td>\n",
       "      <td>not specified</td>\n",
       "      <td>volkswagen _ golf</td>\n",
       "    </tr>\n",
       "    <tr>\n",
       "      <th>70268</th>\n",
       "      <td>4750</td>\n",
       "      <td>bus</td>\n",
       "      <td>1000</td>\n",
       "      <td>manual</td>\n",
       "      <td>0</td>\n",
       "      <td>other</td>\n",
       "      <td>5000</td>\n",
       "      <td>gasoline</td>\n",
       "      <td>renault</td>\n",
       "      <td>not specified</td>\n",
       "      <td>renault _ other</td>\n",
       "    </tr>\n",
       "    <tr>\n",
       "      <th>73508</th>\n",
       "      <td>500</td>\n",
       "      <td>small</td>\n",
       "      <td>1910</td>\n",
       "      <td>manual</td>\n",
       "      <td>0</td>\n",
       "      <td>corsa</td>\n",
       "      <td>150000</td>\n",
       "      <td>petrol</td>\n",
       "      <td>opel</td>\n",
       "      <td>not specified</td>\n",
       "      <td>opel _ corsa</td>\n",
       "    </tr>\n",
       "    <tr>\n",
       "      <th>86425</th>\n",
       "      <td>140</td>\n",
       "      <td>coupe</td>\n",
       "      <td>1000</td>\n",
       "      <td>manual</td>\n",
       "      <td>0</td>\n",
       "      <td>911</td>\n",
       "      <td>5000</td>\n",
       "      <td>petrol</td>\n",
       "      <td>porsche</td>\n",
       "      <td>not specified</td>\n",
       "      <td>porsche _ 911</td>\n",
       "    </tr>\n",
       "    <tr>\n",
       "      <th>92412</th>\n",
       "      <td>100</td>\n",
       "      <td>sedan</td>\n",
       "      <td>1234</td>\n",
       "      <td>manual</td>\n",
       "      <td>0</td>\n",
       "      <td>156</td>\n",
       "      <td>5000</td>\n",
       "      <td>petrol</td>\n",
       "      <td>alfa_romeo</td>\n",
       "      <td>not specified</td>\n",
       "      <td>alfa_romeo _ 156</td>\n",
       "    </tr>\n",
       "    <tr>\n",
       "      <th>106522</th>\n",
       "      <td>100</td>\n",
       "      <td>suv</td>\n",
       "      <td>1500</td>\n",
       "      <td>manual</td>\n",
       "      <td>0</td>\n",
       "      <td>g_klasse</td>\n",
       "      <td>5000</td>\n",
       "      <td>gasoline</td>\n",
       "      <td>mercedes_benz</td>\n",
       "      <td>not specified</td>\n",
       "      <td>mercedes_benz _ g_klasse</td>\n",
       "    </tr>\n",
       "    <tr>\n",
       "      <th>110296</th>\n",
       "      <td>7750</td>\n",
       "      <td>bus</td>\n",
       "      <td>1001</td>\n",
       "      <td>manual</td>\n",
       "      <td>0</td>\n",
       "      <td>other</td>\n",
       "      <td>5000</td>\n",
       "      <td>petrol</td>\n",
       "      <td>citroen</td>\n",
       "      <td>not specified</td>\n",
       "      <td>citroen _ other</td>\n",
       "    </tr>\n",
       "    <tr>\n",
       "      <th>113892</th>\n",
       "      <td>275</td>\n",
       "      <td>sedan</td>\n",
       "      <td>1234</td>\n",
       "      <td>auto</td>\n",
       "      <td>0</td>\n",
       "      <td>e_klasse</td>\n",
       "      <td>5000</td>\n",
       "      <td>gasoline</td>\n",
       "      <td>mercedes_benz</td>\n",
       "      <td>not specified</td>\n",
       "      <td>mercedes_benz _ e_klasse</td>\n",
       "    </tr>\n",
       "    <tr>\n",
       "      <th>125659</th>\n",
       "      <td>550</td>\n",
       "      <td>sedan</td>\n",
       "      <td>1000</td>\n",
       "      <td>manual</td>\n",
       "      <td>1000</td>\n",
       "      <td>golf</td>\n",
       "      <td>5000</td>\n",
       "      <td>petrol</td>\n",
       "      <td>volkswagen</td>\n",
       "      <td>not specified</td>\n",
       "      <td>volkswagen _ golf</td>\n",
       "    </tr>\n",
       "    <tr>\n",
       "      <th>132110</th>\n",
       "      <td>300</td>\n",
       "      <td>sedan</td>\n",
       "      <td>1910</td>\n",
       "      <td>manual</td>\n",
       "      <td>0</td>\n",
       "      <td>golf</td>\n",
       "      <td>150000</td>\n",
       "      <td>petrol</td>\n",
       "      <td>volkswagen</td>\n",
       "      <td>not specified</td>\n",
       "      <td>volkswagen _ golf</td>\n",
       "    </tr>\n",
       "    <tr>\n",
       "      <th>164147</th>\n",
       "      <td>1500</td>\n",
       "      <td>sedan</td>\n",
       "      <td>1000</td>\n",
       "      <td>manual</td>\n",
       "      <td>0</td>\n",
       "      <td>kaefer</td>\n",
       "      <td>5000</td>\n",
       "      <td>petrol</td>\n",
       "      <td>volkswagen</td>\n",
       "      <td>not specified</td>\n",
       "      <td>volkswagen _ kaefer</td>\n",
       "    </tr>\n",
       "    <tr>\n",
       "      <th>175346</th>\n",
       "      <td>400</td>\n",
       "      <td>sedan</td>\n",
       "      <td>1910</td>\n",
       "      <td>manual</td>\n",
       "      <td>170</td>\n",
       "      <td>3er</td>\n",
       "      <td>5000</td>\n",
       "      <td>petrol</td>\n",
       "      <td>bmw</td>\n",
       "      <td>not specified</td>\n",
       "      <td>bmw _ 3er</td>\n",
       "    </tr>\n",
       "    <tr>\n",
       "      <th>175807</th>\n",
       "      <td>180</td>\n",
       "      <td>wagon</td>\n",
       "      <td>1910</td>\n",
       "      <td>manual</td>\n",
       "      <td>0</td>\n",
       "      <td>mondeo</td>\n",
       "      <td>150000</td>\n",
       "      <td>petrol</td>\n",
       "      <td>ford</td>\n",
       "      <td>yes</td>\n",
       "      <td>ford _ mondeo</td>\n",
       "    </tr>\n",
       "    <tr>\n",
       "      <th>175980</th>\n",
       "      <td>222</td>\n",
       "      <td>sedan</td>\n",
       "      <td>1910</td>\n",
       "      <td>manual</td>\n",
       "      <td>0</td>\n",
       "      <td>golf</td>\n",
       "      <td>5000</td>\n",
       "      <td>petrol</td>\n",
       "      <td>volkswagen</td>\n",
       "      <td>not specified</td>\n",
       "      <td>volkswagen _ golf</td>\n",
       "    </tr>\n",
       "    <tr>\n",
       "      <th>183838</th>\n",
       "      <td>380</td>\n",
       "      <td>coupe</td>\n",
       "      <td>1000</td>\n",
       "      <td>auto</td>\n",
       "      <td>0</td>\n",
       "      <td>6er</td>\n",
       "      <td>5000</td>\n",
       "      <td>petrol</td>\n",
       "      <td>bmw</td>\n",
       "      <td>not specified</td>\n",
       "      <td>bmw _ 6er</td>\n",
       "    </tr>\n",
       "    <tr>\n",
       "      <th>187712</th>\n",
       "      <td>7999</td>\n",
       "      <td>sedan</td>\n",
       "      <td>1800</td>\n",
       "      <td>manual</td>\n",
       "      <td>290</td>\n",
       "      <td>golf</td>\n",
       "      <td>5000</td>\n",
       "      <td>petrol</td>\n",
       "      <td>volkswagen</td>\n",
       "      <td>not specified</td>\n",
       "      <td>volkswagen _ golf</td>\n",
       "    </tr>\n",
       "    <tr>\n",
       "      <th>192356</th>\n",
       "      <td>1500</td>\n",
       "      <td>bus</td>\n",
       "      <td>1910</td>\n",
       "      <td>manual</td>\n",
       "      <td>999</td>\n",
       "      <td>espace</td>\n",
       "      <td>150000</td>\n",
       "      <td>petrol</td>\n",
       "      <td>renault</td>\n",
       "      <td>not specified</td>\n",
       "      <td>renault _ espace</td>\n",
       "    </tr>\n",
       "    <tr>\n",
       "      <th>215451</th>\n",
       "      <td>149</td>\n",
       "      <td>small</td>\n",
       "      <td>1300</td>\n",
       "      <td>manual</td>\n",
       "      <td>0</td>\n",
       "      <td>1_reihe</td>\n",
       "      <td>5000</td>\n",
       "      <td>petrol</td>\n",
       "      <td>peugeot</td>\n",
       "      <td>not specified</td>\n",
       "      <td>peugeot _ 1_reihe</td>\n",
       "    </tr>\n",
       "    <tr>\n",
       "      <th>218738</th>\n",
       "      <td>12500</td>\n",
       "      <td>sedan</td>\n",
       "      <td>1000</td>\n",
       "      <td>manual</td>\n",
       "      <td>200</td>\n",
       "      <td>golf</td>\n",
       "      <td>5000</td>\n",
       "      <td>petrol</td>\n",
       "      <td>volkswagen</td>\n",
       "      <td>not specified</td>\n",
       "      <td>volkswagen _ golf</td>\n",
       "    </tr>\n",
       "    <tr>\n",
       "      <th>223127</th>\n",
       "      <td>189</td>\n",
       "      <td>wagon</td>\n",
       "      <td>1910</td>\n",
       "      <td>manual</td>\n",
       "      <td>0</td>\n",
       "      <td>escort</td>\n",
       "      <td>150000</td>\n",
       "      <td>petrol</td>\n",
       "      <td>ford</td>\n",
       "      <td>not specified</td>\n",
       "      <td>ford _ escort</td>\n",
       "    </tr>\n",
       "    <tr>\n",
       "      <th>233954</th>\n",
       "      <td>530</td>\n",
       "      <td>wagon</td>\n",
       "      <td>1000</td>\n",
       "      <td>auto</td>\n",
       "      <td>0</td>\n",
       "      <td>300c</td>\n",
       "      <td>5000</td>\n",
       "      <td>gasoline</td>\n",
       "      <td>chrysler</td>\n",
       "      <td>not specified</td>\n",
       "      <td>chrysler _ 300c</td>\n",
       "    </tr>\n",
       "    <tr>\n",
       "      <th>234640</th>\n",
       "      <td>300</td>\n",
       "      <td>small</td>\n",
       "      <td>1910</td>\n",
       "      <td>manual</td>\n",
       "      <td>0</td>\n",
       "      <td>polo</td>\n",
       "      <td>5000</td>\n",
       "      <td>petrol</td>\n",
       "      <td>volkswagen</td>\n",
       "      <td>not specified</td>\n",
       "      <td>volkswagen _ polo</td>\n",
       "    </tr>\n",
       "    <tr>\n",
       "      <th>243444</th>\n",
       "      <td>500</td>\n",
       "      <td>sedan</td>\n",
       "      <td>1602</td>\n",
       "      <td>manual</td>\n",
       "      <td>0</td>\n",
       "      <td>other</td>\n",
       "      <td>5000</td>\n",
       "      <td>petrol</td>\n",
       "      <td>bmw</td>\n",
       "      <td>yes</td>\n",
       "      <td>bmw _ other</td>\n",
       "    </tr>\n",
       "    <tr>\n",
       "      <th>256926</th>\n",
       "      <td>150</td>\n",
       "      <td>small</td>\n",
       "      <td>1910</td>\n",
       "      <td>manual</td>\n",
       "      <td>0</td>\n",
       "      <td>ka</td>\n",
       "      <td>5000</td>\n",
       "      <td>petrol</td>\n",
       "      <td>ford</td>\n",
       "      <td>yes</td>\n",
       "      <td>ford _ ka</td>\n",
       "    </tr>\n",
       "    <tr>\n",
       "      <th>268986</th>\n",
       "      <td>480</td>\n",
       "      <td>sedan</td>\n",
       "      <td>1300</td>\n",
       "      <td>manual</td>\n",
       "      <td>0</td>\n",
       "      <td>astra</td>\n",
       "      <td>5000</td>\n",
       "      <td>petrol</td>\n",
       "      <td>opel</td>\n",
       "      <td>not specified</td>\n",
       "      <td>opel _ astra</td>\n",
       "    </tr>\n",
       "    <tr>\n",
       "      <th>285783</th>\n",
       "      <td>700</td>\n",
       "      <td>sedan</td>\n",
       "      <td>1600</td>\n",
       "      <td>manual</td>\n",
       "      <td>1600</td>\n",
       "      <td>a3</td>\n",
       "      <td>150000</td>\n",
       "      <td>petrol</td>\n",
       "      <td>audi</td>\n",
       "      <td>no</td>\n",
       "      <td>audi _ a3</td>\n",
       "    </tr>\n",
       "    <tr>\n",
       "      <th>294294</th>\n",
       "      <td>11500</td>\n",
       "      <td>small</td>\n",
       "      <td>1800</td>\n",
       "      <td>manual</td>\n",
       "      <td>16</td>\n",
       "      <td>other</td>\n",
       "      <td>5000</td>\n",
       "      <td>petrol</td>\n",
       "      <td>fiat</td>\n",
       "      <td>not specified</td>\n",
       "      <td>fiat _ other</td>\n",
       "    </tr>\n",
       "  </tbody>\n",
       "</table>\n",
       "</div>"
      ],
      "text/plain": [
       "        price vehicle_type  registration_year gearbox  power     model  \\\n",
       "14        450        small               1910  manual      0        ka   \n",
       "9192     1250        wagon               1910  manual      0     other   \n",
       "14520     190        wagon               1000  manual      0    mondeo   \n",
       "16461    7999        sedan               1500  manual    224   impreza   \n",
       "21393    3900        wagon               1910  manual     90    passat   \n",
       "32210     200        other               1910  manual      0     caddy   \n",
       "43751     600        small               1910  manual      0     agila   \n",
       "47832     330        small               1000  manual      0      polo   \n",
       "50183     950        sedan               1400  manual   1400      golf   \n",
       "55982    3400        small               1910  manual     90    beetle   \n",
       "63543     500        sedan               1000  manual      0      golf   \n",
       "66515     400        sedan               1910  manual     60      golf   \n",
       "70268    4750          bus               1000  manual      0     other   \n",
       "73508     500        small               1910  manual      0     corsa   \n",
       "86425     140        coupe               1000  manual      0       911   \n",
       "92412     100        sedan               1234  manual      0       156   \n",
       "106522    100          suv               1500  manual      0  g_klasse   \n",
       "110296   7750          bus               1001  manual      0     other   \n",
       "113892    275        sedan               1234    auto      0  e_klasse   \n",
       "125659    550        sedan               1000  manual   1000      golf   \n",
       "132110    300        sedan               1910  manual      0      golf   \n",
       "164147   1500        sedan               1000  manual      0    kaefer   \n",
       "175346    400        sedan               1910  manual    170       3er   \n",
       "175807    180        wagon               1910  manual      0    mondeo   \n",
       "175980    222        sedan               1910  manual      0      golf   \n",
       "183838    380        coupe               1000    auto      0       6er   \n",
       "187712   7999        sedan               1800  manual    290      golf   \n",
       "192356   1500          bus               1910  manual    999    espace   \n",
       "215451    149        small               1300  manual      0   1_reihe   \n",
       "218738  12500        sedan               1000  manual    200      golf   \n",
       "223127    189        wagon               1910  manual      0    escort   \n",
       "233954    530        wagon               1000    auto      0      300c   \n",
       "234640    300        small               1910  manual      0      polo   \n",
       "243444    500        sedan               1602  manual      0     other   \n",
       "256926    150        small               1910  manual      0        ka   \n",
       "268986    480        sedan               1300  manual      0     astra   \n",
       "285783    700        sedan               1600  manual   1600        a3   \n",
       "294294  11500        small               1800  manual     16     other   \n",
       "\n",
       "        kilometer fuel_type          brand       repaired  \\\n",
       "14           5000    petrol           ford  not specified   \n",
       "9192         5000    petrol           audi  not specified   \n",
       "14520        5000    petrol           ford  not specified   \n",
       "16461        5000    petrol         subaru  not specified   \n",
       "21393      150000    petrol     volkswagen  not specified   \n",
       "32210      150000  gasoline     volkswagen  not specified   \n",
       "43751        5000    petrol           opel            yes   \n",
       "47832        5000    petrol     volkswagen  not specified   \n",
       "50183      125000    petrol     volkswagen  not specified   \n",
       "55982       90000    petrol     volkswagen             no   \n",
       "63543        5000    petrol     volkswagen  not specified   \n",
       "66515      150000    petrol     volkswagen  not specified   \n",
       "70268        5000  gasoline        renault  not specified   \n",
       "73508      150000    petrol           opel  not specified   \n",
       "86425        5000    petrol        porsche  not specified   \n",
       "92412        5000    petrol     alfa_romeo  not specified   \n",
       "106522       5000  gasoline  mercedes_benz  not specified   \n",
       "110296       5000    petrol        citroen  not specified   \n",
       "113892       5000  gasoline  mercedes_benz  not specified   \n",
       "125659       5000    petrol     volkswagen  not specified   \n",
       "132110     150000    petrol     volkswagen  not specified   \n",
       "164147       5000    petrol     volkswagen  not specified   \n",
       "175346       5000    petrol            bmw  not specified   \n",
       "175807     150000    petrol           ford            yes   \n",
       "175980       5000    petrol     volkswagen  not specified   \n",
       "183838       5000    petrol            bmw  not specified   \n",
       "187712       5000    petrol     volkswagen  not specified   \n",
       "192356     150000    petrol        renault  not specified   \n",
       "215451       5000    petrol        peugeot  not specified   \n",
       "218738       5000    petrol     volkswagen  not specified   \n",
       "223127     150000    petrol           ford  not specified   \n",
       "233954       5000  gasoline       chrysler  not specified   \n",
       "234640       5000    petrol     volkswagen  not specified   \n",
       "243444       5000    petrol            bmw            yes   \n",
       "256926       5000    petrol           ford            yes   \n",
       "268986       5000    petrol           opel  not specified   \n",
       "285783     150000    petrol           audi             no   \n",
       "294294       5000    petrol           fiat  not specified   \n",
       "\n",
       "                     brand_model  \n",
       "14                     ford _ ka  \n",
       "9192                audi _ other  \n",
       "14520              ford _ mondeo  \n",
       "16461           subaru _ impreza  \n",
       "21393        volkswagen _ passat  \n",
       "32210         volkswagen _ caddy  \n",
       "43751               opel _ agila  \n",
       "47832          volkswagen _ polo  \n",
       "50183          volkswagen _ golf  \n",
       "55982        volkswagen _ beetle  \n",
       "63543          volkswagen _ golf  \n",
       "66515          volkswagen _ golf  \n",
       "70268            renault _ other  \n",
       "73508               opel _ corsa  \n",
       "86425              porsche _ 911  \n",
       "92412           alfa_romeo _ 156  \n",
       "106522  mercedes_benz _ g_klasse  \n",
       "110296           citroen _ other  \n",
       "113892  mercedes_benz _ e_klasse  \n",
       "125659         volkswagen _ golf  \n",
       "132110         volkswagen _ golf  \n",
       "164147       volkswagen _ kaefer  \n",
       "175346                 bmw _ 3er  \n",
       "175807             ford _ mondeo  \n",
       "175980         volkswagen _ golf  \n",
       "183838                 bmw _ 6er  \n",
       "187712         volkswagen _ golf  \n",
       "192356          renault _ espace  \n",
       "215451         peugeot _ 1_reihe  \n",
       "218738         volkswagen _ golf  \n",
       "223127             ford _ escort  \n",
       "233954           chrysler _ 300c  \n",
       "234640         volkswagen _ polo  \n",
       "243444               bmw _ other  \n",
       "256926                 ford _ ka  \n",
       "268986              opel _ astra  \n",
       "285783                 audi _ a3  \n",
       "294294              fiat _ other  "
      ]
     },
     "execution_count": 99,
     "metadata": {},
     "output_type": "execute_result"
    }
   ],
   "source": [
    "data[data['registration_year'] < 1923]"
   ]
  },
  {
   "cell_type": "markdown",
   "metadata": {},
   "source": [
    "Скорее всего, эти аномалии появились из-за технической ошибки. Их совсем немного, поэтому просто уберем данные аномалии:"
   ]
  },
  {
   "cell_type": "code",
   "execution_count": 100,
   "metadata": {},
   "outputs": [],
   "source": [
    "reg_year_anomaly_ind = data.query(\"registration_year < 1923\").index"
   ]
  },
  {
   "cell_type": "code",
   "execution_count": 101,
   "metadata": {},
   "outputs": [],
   "source": [
    "data.drop(reg_year_anomaly_ind, inplace=True)"
   ]
  },
  {
   "cell_type": "markdown",
   "metadata": {},
   "source": [
    "Посмотрим на статистики снова:"
   ]
  },
  {
   "cell_type": "code",
   "execution_count": 102,
   "metadata": {},
   "outputs": [
    {
     "data": {
      "text/plain": [
       "count    274198.000000\n",
       "mean       2002.419959\n",
       "std           6.455847\n",
       "min        1923.000000\n",
       "25%        1999.000000\n",
       "50%        2003.000000\n",
       "75%        2007.000000\n",
       "max        2016.000000\n",
       "Name: registration_year, dtype: float64"
      ]
     },
     "execution_count": 102,
     "metadata": {},
     "output_type": "execute_result"
    }
   ],
   "source": [
    "data['registration_year'].describe()"
   ]
  },
  {
   "cell_type": "code",
   "execution_count": 103,
   "metadata": {},
   "outputs": [
    {
     "data": {
      "image/png": "[encoded data removed]",
      "text/plain": [
       "<Figure size 1500x200 with 1 Axes>"
      ]
     },
     "metadata": {},
     "output_type": "display_data"
    }
   ],
   "source": [
    "plt.figure(figsize=(15, 2))\n",
    "\n",
    "sns.boxplot(x=data['registration_year'], color='orange')\n",
    "\n",
    "plt.show()"
   ]
  },
  {
   "cell_type": "code",
   "execution_count": 104,
   "metadata": {},
   "outputs": [
    {
     "data": {
      "image/png": "[encoded data removed]",
      "text/plain": [
       "<Figure size 1500x200 with 1 Axes>"
      ]
     },
     "metadata": {},
     "output_type": "display_data"
    }
   ],
   "source": [
    "plt.figure(figsize=(15, 2))\n",
    "\n",
    "sns.histplot(x=data['registration_year'], color='orange', bins=100)\n",
    "\n",
    "plt.show()"
   ]
  },
  {
   "cell_type": "markdown",
   "metadata": {},
   "source": [
    "Видим, что распределение нормальное (возможно бимодальное) с длинным хвостом влево. Посмотрим, сколько машин с годом регистрации старше 1980 года:"
   ]
  },
  {
   "cell_type": "code",
   "execution_count": 105,
   "metadata": {},
   "outputs": [
    {
     "data": {
      "text/html": [
       "<div>\n",
       "<style scoped>\n",
       "    .dataframe tbody tr th:only-of-type {\n",
       "        vertical-align: middle;\n",
       "    }\n",
       "\n",
       "    .dataframe tbody tr th {\n",
       "        vertical-align: top;\n",
       "    }\n",
       "\n",
       "    .dataframe thead th {\n",
       "        text-align: right;\n",
       "    }\n",
       "</style>\n",
       "<table border=\"1\" class=\"dataframe\">\n",
       "  <thead>\n",
       "    <tr style=\"text-align: right;\">\n",
       "      <th></th>\n",
       "      <th>price</th>\n",
       "      <th>vehicle_type</th>\n",
       "      <th>registration_year</th>\n",
       "      <th>gearbox</th>\n",
       "      <th>power</th>\n",
       "      <th>model</th>\n",
       "      <th>kilometer</th>\n",
       "      <th>fuel_type</th>\n",
       "      <th>brand</th>\n",
       "      <th>repaired</th>\n",
       "      <th>brand_model</th>\n",
       "    </tr>\n",
       "  </thead>\n",
       "  <tbody>\n",
       "    <tr>\n",
       "      <th>326</th>\n",
       "      <td>10000</td>\n",
       "      <td>bus</td>\n",
       "      <td>1976</td>\n",
       "      <td>manual</td>\n",
       "      <td>0</td>\n",
       "      <td>transporter</td>\n",
       "      <td>5000</td>\n",
       "      <td>petrol</td>\n",
       "      <td>volkswagen</td>\n",
       "      <td>not specified</td>\n",
       "      <td>volkswagen _ transporter</td>\n",
       "    </tr>\n",
       "    <tr>\n",
       "      <th>484</th>\n",
       "      <td>4900</td>\n",
       "      <td>convertible</td>\n",
       "      <td>1973</td>\n",
       "      <td>manual</td>\n",
       "      <td>44</td>\n",
       "      <td>kaefer</td>\n",
       "      <td>90000</td>\n",
       "      <td>petrol</td>\n",
       "      <td>volkswagen</td>\n",
       "      <td>no</td>\n",
       "      <td>volkswagen _ kaefer</td>\n",
       "    </tr>\n",
       "    <tr>\n",
       "      <th>570</th>\n",
       "      <td>12000</td>\n",
       "      <td>sedan</td>\n",
       "      <td>1969</td>\n",
       "      <td>manual</td>\n",
       "      <td>140</td>\n",
       "      <td>s_klasse</td>\n",
       "      <td>80000</td>\n",
       "      <td>petrol</td>\n",
       "      <td>mercedes_benz</td>\n",
       "      <td>no</td>\n",
       "      <td>mercedes_benz _ s_klasse</td>\n",
       "    </tr>\n",
       "    <tr>\n",
       "      <th>889</th>\n",
       "      <td>2900</td>\n",
       "      <td>sedan</td>\n",
       "      <td>1971</td>\n",
       "      <td>auto</td>\n",
       "      <td>90</td>\n",
       "      <td>other</td>\n",
       "      <td>90000</td>\n",
       "      <td>petrol</td>\n",
       "      <td>opel</td>\n",
       "      <td>no</td>\n",
       "      <td>opel _ other</td>\n",
       "    </tr>\n",
       "    <tr>\n",
       "      <th>925</th>\n",
       "      <td>6500</td>\n",
       "      <td>other</td>\n",
       "      <td>1973</td>\n",
       "      <td>manual</td>\n",
       "      <td>54</td>\n",
       "      <td>other</td>\n",
       "      <td>50000</td>\n",
       "      <td>petrol</td>\n",
       "      <td>volkswagen</td>\n",
       "      <td>no</td>\n",
       "      <td>volkswagen _ other</td>\n",
       "    </tr>\n",
       "    <tr>\n",
       "      <th>...</th>\n",
       "      <td>...</td>\n",
       "      <td>...</td>\n",
       "      <td>...</td>\n",
       "      <td>...</td>\n",
       "      <td>...</td>\n",
       "      <td>...</td>\n",
       "      <td>...</td>\n",
       "      <td>...</td>\n",
       "      <td>...</td>\n",
       "      <td>...</td>\n",
       "      <td>...</td>\n",
       "    </tr>\n",
       "    <tr>\n",
       "      <th>295764</th>\n",
       "      <td>6000</td>\n",
       "      <td>sedan</td>\n",
       "      <td>1937</td>\n",
       "      <td>manual</td>\n",
       "      <td>38</td>\n",
       "      <td>other</td>\n",
       "      <td>5000</td>\n",
       "      <td>petrol</td>\n",
       "      <td>mercedes_benz</td>\n",
       "      <td>not specified</td>\n",
       "      <td>mercedes_benz _ other</td>\n",
       "    </tr>\n",
       "    <tr>\n",
       "      <th>296067</th>\n",
       "      <td>11500</td>\n",
       "      <td>suv</td>\n",
       "      <td>1976</td>\n",
       "      <td>manual</td>\n",
       "      <td>100</td>\n",
       "      <td>other</td>\n",
       "      <td>150000</td>\n",
       "      <td>petrol</td>\n",
       "      <td>jeep</td>\n",
       "      <td>not specified</td>\n",
       "      <td>jeep _ other</td>\n",
       "    </tr>\n",
       "    <tr>\n",
       "      <th>296069</th>\n",
       "      <td>800</td>\n",
       "      <td>sedan</td>\n",
       "      <td>1970</td>\n",
       "      <td>manual</td>\n",
       "      <td>0</td>\n",
       "      <td>other</td>\n",
       "      <td>150000</td>\n",
       "      <td>petrol</td>\n",
       "      <td>trabant</td>\n",
       "      <td>not specified</td>\n",
       "      <td>trabant _ other</td>\n",
       "    </tr>\n",
       "    <tr>\n",
       "      <th>296161</th>\n",
       "      <td>10500</td>\n",
       "      <td>convertible</td>\n",
       "      <td>1968</td>\n",
       "      <td>manual</td>\n",
       "      <td>54</td>\n",
       "      <td>other</td>\n",
       "      <td>20000</td>\n",
       "      <td>gasoline</td>\n",
       "      <td>renault</td>\n",
       "      <td>no</td>\n",
       "      <td>renault _ other</td>\n",
       "    </tr>\n",
       "    <tr>\n",
       "      <th>296388</th>\n",
       "      <td>3300</td>\n",
       "      <td>coupe</td>\n",
       "      <td>1957</td>\n",
       "      <td>manual</td>\n",
       "      <td>40</td>\n",
       "      <td>other</td>\n",
       "      <td>100000</td>\n",
       "      <td>petrol</td>\n",
       "      <td>trabant</td>\n",
       "      <td>no</td>\n",
       "      <td>trabant _ other</td>\n",
       "    </tr>\n",
       "  </tbody>\n",
       "</table>\n",
       "<p>1974 rows × 11 columns</p>\n",
       "</div>"
      ],
      "text/plain": [
       "        price vehicle_type  registration_year gearbox  power        model  \\\n",
       "326     10000          bus               1976  manual      0  transporter   \n",
       "484      4900  convertible               1973  manual     44       kaefer   \n",
       "570     12000        sedan               1969  manual    140     s_klasse   \n",
       "889      2900        sedan               1971    auto     90        other   \n",
       "925      6500        other               1973  manual     54        other   \n",
       "...       ...          ...                ...     ...    ...          ...   \n",
       "295764   6000        sedan               1937  manual     38        other   \n",
       "296067  11500          suv               1976  manual    100        other   \n",
       "296069    800        sedan               1970  manual      0        other   \n",
       "296161  10500  convertible               1968  manual     54        other   \n",
       "296388   3300        coupe               1957  manual     40        other   \n",
       "\n",
       "        kilometer fuel_type          brand       repaired  \\\n",
       "326          5000    petrol     volkswagen  not specified   \n",
       "484         90000    petrol     volkswagen             no   \n",
       "570         80000    petrol  mercedes_benz             no   \n",
       "889         90000    petrol           opel             no   \n",
       "925         50000    petrol     volkswagen             no   \n",
       "...           ...       ...            ...            ...   \n",
       "295764       5000    petrol  mercedes_benz  not specified   \n",
       "296067     150000    petrol           jeep  not specified   \n",
       "296069     150000    petrol        trabant  not specified   \n",
       "296161      20000  gasoline        renault             no   \n",
       "296388     100000    petrol        trabant             no   \n",
       "\n",
       "                     brand_model  \n",
       "326     volkswagen _ transporter  \n",
       "484          volkswagen _ kaefer  \n",
       "570     mercedes_benz _ s_klasse  \n",
       "889                 opel _ other  \n",
       "925           volkswagen _ other  \n",
       "...                          ...  \n",
       "295764     mercedes_benz _ other  \n",
       "296067              jeep _ other  \n",
       "296069           trabant _ other  \n",
       "296161           renault _ other  \n",
       "296388           trabant _ other  \n",
       "\n",
       "[1974 rows x 11 columns]"
      ]
     },
     "execution_count": 105,
     "metadata": {},
     "output_type": "execute_result"
    }
   ],
   "source": [
    "data.query(\"registration_year < 1980\")"
   ]
  },
  {
   "cell_type": "code",
   "execution_count": 106,
   "metadata": {},
   "outputs": [
    {
     "data": {
      "image/png": "[encoded data removed]",
      "text/plain": [
       "<Figure size 1500x200 with 1 Axes>"
      ]
     },
     "metadata": {},
     "output_type": "display_data"
    }
   ],
   "source": [
    "plt.figure(figsize=(15, 2))\n",
    "\n",
    "sns.boxplot(x=data.query(\"registration_year < 1980\")['price'])\n",
    "plt.title(\"Диаграмма размаха стоимости автомобилей с годом регистрации старше 1980\\n\")\n",
    "plt.show()"
   ]
  },
  {
   "cell_type": "code",
   "execution_count": 107,
   "metadata": {},
   "outputs": [
    {
     "data": {
      "text/plain": [
       "count     1974.000000\n",
       "mean      6304.889564\n",
       "std       4107.204424\n",
       "min        100.000000\n",
       "25%       2892.250000\n",
       "50%       5800.000000\n",
       "75%       9486.750000\n",
       "max      15000.000000\n",
       "Name: price, dtype: float64"
      ]
     },
     "execution_count": 107,
     "metadata": {},
     "output_type": "execute_result"
    }
   ],
   "source": [
    "data.query(\"registration_year < 1980\")['price'].describe()"
   ]
  },
  {
   "cell_type": "markdown",
   "metadata": {},
   "source": [
    "Итак, автомобилей с годом регистрации старше 1980 года достаточно мало - чуть более 2 тысяч из датасета размером в 300 тысяч - менее 1%. Часть этих авто имеет довольно высокую стоимость (их медианная цена также выше медианной по всему датасету) - скорее всего, это раритетные автомобили. Полагаю, что эти аномалии необходимо удалить, так как это уникальные случаи, идущие в разрез с обычным трендом стоимости - чем новее машина, тем она дороже."
   ]
  },
  {
   "cell_type": "code",
   "execution_count": 108,
   "metadata": {},
   "outputs": [],
   "source": [
    "reg_year_anomaly_ind_2 = data.query(\"registration_year < 1980\").index"
   ]
  },
  {
   "cell_type": "code",
   "execution_count": 109,
   "metadata": {},
   "outputs": [],
   "source": [
    "data.drop(reg_year_anomaly_ind_2, inplace=True)"
   ]
  },
  {
   "cell_type": "markdown",
   "metadata": {},
   "source": [
    "Посмотрим, как изменилась диаграмма размаха по годам регистрации:"
   ]
  },
  {
   "cell_type": "code",
   "execution_count": 110,
   "metadata": {},
   "outputs": [
    {
     "data": {
      "image/png": "[encoded data removed]",
      "text/plain": [
       "<Figure size 1500x200 with 1 Axes>"
      ]
     },
     "metadata": {},
     "output_type": "display_data"
    }
   ],
   "source": [
    "plt.figure(figsize=(15, 2))\n",
    "\n",
    "sns.boxplot(x=data['registration_year'], color='orange')\n",
    "\n",
    "plt.show()"
   ]
  },
  {
   "cell_type": "markdown",
   "metadata": {},
   "source": [
    "Выбросов стало меньше, годы выглядят реалистично."
   ]
  },
  {
   "cell_type": "markdown",
   "metadata": {},
   "source": [
    "<h4>Столбец `power`</h4>"
   ]
  },
  {
   "cell_type": "code",
   "execution_count": 111,
   "metadata": {},
   "outputs": [
    {
     "data": {
      "text/plain": [
       "count    272224.000000\n",
       "mean        110.261671\n",
       "std         186.407514\n",
       "min           0.000000\n",
       "25%          72.000000\n",
       "50%         105.000000\n",
       "75%         140.000000\n",
       "max       20000.000000\n",
       "Name: power, dtype: float64"
      ]
     },
     "execution_count": 111,
     "metadata": {},
     "output_type": "execute_result"
    }
   ],
   "source": [
    "data['power'].describe()"
   ]
  },
  {
   "cell_type": "code",
   "execution_count": 112,
   "metadata": {},
   "outputs": [
    {
     "data": {
      "image/png": "[encoded data removed]",
      "text/plain": [
       "<Figure size 1500x200 with 1 Axes>"
      ]
     },
     "metadata": {},
     "output_type": "display_data"
    }
   ],
   "source": [
    "plt.figure(figsize=(15, 2))\n",
    "\n",
    "sns.boxplot(x=data['power'], color='red')\n",
    "\n",
    "plt.show()"
   ]
  },
  {
   "cell_type": "markdown",
   "metadata": {},
   "source": [
    "Что-то явно не так с мощностью - на диаграмме размаха видны одни выбросы. Самый мощный автомобиль в мире имеет мощность чуть более 2000 л.с. Посмотрим на наблюдения с большей мощностью. Также мощность 0 л.с. настораживает."
   ]
  },
  {
   "cell_type": "code",
   "execution_count": 113,
   "metadata": {},
   "outputs": [
    {
     "data": {
      "text/html": [
       "<div>\n",
       "<style scoped>\n",
       "    .dataframe tbody tr th:only-of-type {\n",
       "        vertical-align: middle;\n",
       "    }\n",
       "\n",
       "    .dataframe tbody tr th {\n",
       "        vertical-align: top;\n",
       "    }\n",
       "\n",
       "    .dataframe thead th {\n",
       "        text-align: right;\n",
       "    }\n",
       "</style>\n",
       "<table border=\"1\" class=\"dataframe\">\n",
       "  <thead>\n",
       "    <tr style=\"text-align: right;\">\n",
       "      <th></th>\n",
       "      <th>price</th>\n",
       "      <th>vehicle_type</th>\n",
       "      <th>registration_year</th>\n",
       "      <th>gearbox</th>\n",
       "      <th>power</th>\n",
       "      <th>model</th>\n",
       "      <th>kilometer</th>\n",
       "      <th>fuel_type</th>\n",
       "      <th>brand</th>\n",
       "      <th>repaired</th>\n",
       "      <th>brand_model</th>\n",
       "    </tr>\n",
       "  </thead>\n",
       "  <tbody>\n",
       "    <tr>\n",
       "      <th>6929</th>\n",
       "      <td>1499</td>\n",
       "      <td>small</td>\n",
       "      <td>1999</td>\n",
       "      <td>manual</td>\n",
       "      <td>7515</td>\n",
       "      <td>lupo</td>\n",
       "      <td>150000</td>\n",
       "      <td>petrol</td>\n",
       "      <td>volkswagen</td>\n",
       "      <td>not specified</td>\n",
       "      <td>volkswagen _ lupo</td>\n",
       "    </tr>\n",
       "    <tr>\n",
       "      <th>17227</th>\n",
       "      <td>9750</td>\n",
       "      <td>wagon</td>\n",
       "      <td>2005</td>\n",
       "      <td>auto</td>\n",
       "      <td>2729</td>\n",
       "      <td>5er</td>\n",
       "      <td>150000</td>\n",
       "      <td>gasoline</td>\n",
       "      <td>bmw</td>\n",
       "      <td>no</td>\n",
       "      <td>bmw _ 5er</td>\n",
       "    </tr>\n",
       "    <tr>\n",
       "      <th>22729</th>\n",
       "      <td>10900</td>\n",
       "      <td>bus</td>\n",
       "      <td>2009</td>\n",
       "      <td>manual</td>\n",
       "      <td>10520</td>\n",
       "      <td>caddy</td>\n",
       "      <td>150000</td>\n",
       "      <td>gasoline</td>\n",
       "      <td>volkswagen</td>\n",
       "      <td>no</td>\n",
       "      <td>volkswagen _ caddy</td>\n",
       "    </tr>\n",
       "    <tr>\n",
       "      <th>30417</th>\n",
       "      <td>3740</td>\n",
       "      <td>small</td>\n",
       "      <td>2006</td>\n",
       "      <td>manual</td>\n",
       "      <td>6920</td>\n",
       "      <td>aygo</td>\n",
       "      <td>90000</td>\n",
       "      <td>petrol</td>\n",
       "      <td>toyota</td>\n",
       "      <td>no</td>\n",
       "      <td>toyota _ aygo</td>\n",
       "    </tr>\n",
       "    <tr>\n",
       "      <th>39849</th>\n",
       "      <td>2500</td>\n",
       "      <td>convertible</td>\n",
       "      <td>1998</td>\n",
       "      <td>manual</td>\n",
       "      <td>7512</td>\n",
       "      <td>golf</td>\n",
       "      <td>150000</td>\n",
       "      <td>petrol</td>\n",
       "      <td>volkswagen</td>\n",
       "      <td>not specified</td>\n",
       "      <td>volkswagen _ golf</td>\n",
       "    </tr>\n",
       "    <tr>\n",
       "      <th>...</th>\n",
       "      <td>...</td>\n",
       "      <td>...</td>\n",
       "      <td>...</td>\n",
       "      <td>...</td>\n",
       "      <td>...</td>\n",
       "      <td>...</td>\n",
       "      <td>...</td>\n",
       "      <td>...</td>\n",
       "      <td>...</td>\n",
       "      <td>...</td>\n",
       "      <td>...</td>\n",
       "    </tr>\n",
       "    <tr>\n",
       "      <th>286207</th>\n",
       "      <td>1899</td>\n",
       "      <td>other</td>\n",
       "      <td>2006</td>\n",
       "      <td>manual</td>\n",
       "      <td>7518</td>\n",
       "      <td>berlingo</td>\n",
       "      <td>125000</td>\n",
       "      <td>petrol</td>\n",
       "      <td>citroen</td>\n",
       "      <td>yes</td>\n",
       "      <td>citroen _ berlingo</td>\n",
       "    </tr>\n",
       "    <tr>\n",
       "      <th>290377</th>\n",
       "      <td>1300</td>\n",
       "      <td>sedan</td>\n",
       "      <td>2000</td>\n",
       "      <td>manual</td>\n",
       "      <td>12512</td>\n",
       "      <td>carisma</td>\n",
       "      <td>150000</td>\n",
       "      <td>petrol</td>\n",
       "      <td>mitsubishi</td>\n",
       "      <td>not specified</td>\n",
       "      <td>mitsubishi _ carisma</td>\n",
       "    </tr>\n",
       "    <tr>\n",
       "      <th>291560</th>\n",
       "      <td>850</td>\n",
       "      <td>sedan</td>\n",
       "      <td>1993</td>\n",
       "      <td>auto</td>\n",
       "      <td>9012</td>\n",
       "      <td>golf</td>\n",
       "      <td>150000</td>\n",
       "      <td>petrol</td>\n",
       "      <td>volkswagen</td>\n",
       "      <td>not specified</td>\n",
       "      <td>volkswagen _ golf</td>\n",
       "    </tr>\n",
       "    <tr>\n",
       "      <th>291644</th>\n",
       "      <td>3000</td>\n",
       "      <td>coupe</td>\n",
       "      <td>2007</td>\n",
       "      <td>manual</td>\n",
       "      <td>2007</td>\n",
       "      <td>corsa</td>\n",
       "      <td>150000</td>\n",
       "      <td>gasoline</td>\n",
       "      <td>opel</td>\n",
       "      <td>yes</td>\n",
       "      <td>opel _ corsa</td>\n",
       "    </tr>\n",
       "    <tr>\n",
       "      <th>291980</th>\n",
       "      <td>1000</td>\n",
       "      <td>wagon</td>\n",
       "      <td>1996</td>\n",
       "      <td>manual</td>\n",
       "      <td>2598</td>\n",
       "      <td>a6</td>\n",
       "      <td>150000</td>\n",
       "      <td>gasoline</td>\n",
       "      <td>audi</td>\n",
       "      <td>not specified</td>\n",
       "      <td>audi _ a6</td>\n",
       "    </tr>\n",
       "  </tbody>\n",
       "</table>\n",
       "<p>86 rows × 11 columns</p>\n",
       "</div>"
      ],
      "text/plain": [
       "        price vehicle_type  registration_year gearbox  power     model  \\\n",
       "6929     1499        small               1999  manual   7515      lupo   \n",
       "17227    9750        wagon               2005    auto   2729       5er   \n",
       "22729   10900          bus               2009  manual  10520     caddy   \n",
       "30417    3740        small               2006  manual   6920      aygo   \n",
       "39849    2500  convertible               1998  manual   7512      golf   \n",
       "...       ...          ...                ...     ...    ...       ...   \n",
       "286207   1899        other               2006  manual   7518  berlingo   \n",
       "290377   1300        sedan               2000  manual  12512   carisma   \n",
       "291560    850        sedan               1993    auto   9012      golf   \n",
       "291644   3000        coupe               2007  manual   2007     corsa   \n",
       "291980   1000        wagon               1996  manual   2598        a6   \n",
       "\n",
       "        kilometer fuel_type       brand       repaired           brand_model  \n",
       "6929       150000    petrol  volkswagen  not specified     volkswagen _ lupo  \n",
       "17227      150000  gasoline         bmw             no             bmw _ 5er  \n",
       "22729      150000  gasoline  volkswagen             no    volkswagen _ caddy  \n",
       "30417       90000    petrol      toyota             no         toyota _ aygo  \n",
       "39849      150000    petrol  volkswagen  not specified     volkswagen _ golf  \n",
       "...           ...       ...         ...            ...                   ...  \n",
       "286207     125000    petrol     citroen            yes    citroen _ berlingo  \n",
       "290377     150000    petrol  mitsubishi  not specified  mitsubishi _ carisma  \n",
       "291560     150000    petrol  volkswagen  not specified     volkswagen _ golf  \n",
       "291644     150000  gasoline        opel            yes          opel _ corsa  \n",
       "291980     150000  gasoline        audi  not specified             audi _ a6  \n",
       "\n",
       "[86 rows x 11 columns]"
      ]
     },
     "execution_count": 113,
     "metadata": {},
     "output_type": "execute_result"
    }
   ],
   "source": [
    "data[data['power'] > 2000]"
   ]
  },
  {
   "cell_type": "markdown",
   "metadata": {},
   "source": [
    "Всего 86 аномалий, удалим их."
   ]
  },
  {
   "cell_type": "code",
   "execution_count": 114,
   "metadata": {},
   "outputs": [],
   "source": [
    "power_anomaly = data[data['power'] > 2000].index"
   ]
  },
  {
   "cell_type": "code",
   "execution_count": 115,
   "metadata": {},
   "outputs": [],
   "source": [
    "data.drop(power_anomaly, inplace=True)"
   ]
  },
  {
   "cell_type": "markdown",
   "metadata": {},
   "source": [
    "Посмотрим диаграмму размаха после удаления:"
   ]
  },
  {
   "cell_type": "code",
   "execution_count": 116,
   "metadata": {},
   "outputs": [
    {
     "data": {
      "image/png": "[encoded data removed]",
      "text/plain": [
       "<Figure size 1500x200 with 1 Axes>"
      ]
     },
     "metadata": {},
     "output_type": "display_data"
    }
   ],
   "source": [
    "plt.figure(figsize=(15, 2))\n",
    "\n",
    "sns.boxplot(x=data['power'], color='red')\n",
    "\n",
    "plt.show()"
   ]
  },
  {
   "cell_type": "markdown",
   "metadata": {},
   "source": [
    "Изучим авто с мощностью более 1000 л.с.:"
   ]
  },
  {
   "cell_type": "code",
   "execution_count": 117,
   "metadata": {},
   "outputs": [
    {
     "data": {
      "text/html": [
       "<div>\n",
       "<style scoped>\n",
       "    .dataframe tbody tr th:only-of-type {\n",
       "        vertical-align: middle;\n",
       "    }\n",
       "\n",
       "    .dataframe tbody tr th {\n",
       "        vertical-align: top;\n",
       "    }\n",
       "\n",
       "    .dataframe thead th {\n",
       "        text-align: right;\n",
       "    }\n",
       "</style>\n",
       "<table border=\"1\" class=\"dataframe\">\n",
       "  <thead>\n",
       "    <tr style=\"text-align: right;\">\n",
       "      <th></th>\n",
       "      <th>price</th>\n",
       "      <th>vehicle_type</th>\n",
       "      <th>registration_year</th>\n",
       "      <th>gearbox</th>\n",
       "      <th>power</th>\n",
       "      <th>model</th>\n",
       "      <th>kilometer</th>\n",
       "      <th>fuel_type</th>\n",
       "      <th>brand</th>\n",
       "      <th>repaired</th>\n",
       "      <th>brand_model</th>\n",
       "    </tr>\n",
       "  </thead>\n",
       "  <tbody>\n",
       "    <tr>\n",
       "      <th>1647</th>\n",
       "      <td>3200</td>\n",
       "      <td>small</td>\n",
       "      <td>2004</td>\n",
       "      <td>manual</td>\n",
       "      <td>1398</td>\n",
       "      <td>corolla</td>\n",
       "      <td>5000</td>\n",
       "      <td>petrol</td>\n",
       "      <td>toyota</td>\n",
       "      <td>no</td>\n",
       "      <td>toyota _ corolla</td>\n",
       "    </tr>\n",
       "    <tr>\n",
       "      <th>4824</th>\n",
       "      <td>500</td>\n",
       "      <td>wagon</td>\n",
       "      <td>1999</td>\n",
       "      <td>manual</td>\n",
       "      <td>1001</td>\n",
       "      <td>astra</td>\n",
       "      <td>150000</td>\n",
       "      <td>petrol</td>\n",
       "      <td>opel</td>\n",
       "      <td>not specified</td>\n",
       "      <td>opel _ astra</td>\n",
       "    </tr>\n",
       "    <tr>\n",
       "      <th>8725</th>\n",
       "      <td>2599</td>\n",
       "      <td>bus</td>\n",
       "      <td>2016</td>\n",
       "      <td>manual</td>\n",
       "      <td>1779</td>\n",
       "      <td>zafira</td>\n",
       "      <td>150000</td>\n",
       "      <td>petrol</td>\n",
       "      <td>opel</td>\n",
       "      <td>no</td>\n",
       "      <td>opel _ zafira</td>\n",
       "    </tr>\n",
       "    <tr>\n",
       "      <th>8910</th>\n",
       "      <td>550</td>\n",
       "      <td>wagon</td>\n",
       "      <td>2003</td>\n",
       "      <td>manual</td>\n",
       "      <td>1753</td>\n",
       "      <td>focus</td>\n",
       "      <td>150000</td>\n",
       "      <td>gasoline</td>\n",
       "      <td>ford</td>\n",
       "      <td>yes</td>\n",
       "      <td>ford _ focus</td>\n",
       "    </tr>\n",
       "    <tr>\n",
       "      <th>17883</th>\n",
       "      <td>3390</td>\n",
       "      <td>sedan</td>\n",
       "      <td>2009</td>\n",
       "      <td>manual</td>\n",
       "      <td>1240</td>\n",
       "      <td>micra</td>\n",
       "      <td>60000</td>\n",
       "      <td>petrol</td>\n",
       "      <td>nissan</td>\n",
       "      <td>no</td>\n",
       "      <td>nissan _ micra</td>\n",
       "    </tr>\n",
       "    <tr>\n",
       "      <th>...</th>\n",
       "      <td>...</td>\n",
       "      <td>...</td>\n",
       "      <td>...</td>\n",
       "      <td>...</td>\n",
       "      <td>...</td>\n",
       "      <td>...</td>\n",
       "      <td>...</td>\n",
       "      <td>...</td>\n",
       "      <td>...</td>\n",
       "      <td>...</td>\n",
       "      <td>...</td>\n",
       "    </tr>\n",
       "    <tr>\n",
       "      <th>290661</th>\n",
       "      <td>450</td>\n",
       "      <td>sedan</td>\n",
       "      <td>1996</td>\n",
       "      <td>auto</td>\n",
       "      <td>1004</td>\n",
       "      <td>vectra</td>\n",
       "      <td>80000</td>\n",
       "      <td>petrol</td>\n",
       "      <td>opel</td>\n",
       "      <td>yes</td>\n",
       "      <td>opel _ vectra</td>\n",
       "    </tr>\n",
       "    <tr>\n",
       "      <th>291449</th>\n",
       "      <td>355</td>\n",
       "      <td>sedan</td>\n",
       "      <td>1998</td>\n",
       "      <td>manual</td>\n",
       "      <td>1799</td>\n",
       "      <td>vectra</td>\n",
       "      <td>150000</td>\n",
       "      <td>petrol</td>\n",
       "      <td>opel</td>\n",
       "      <td>not specified</td>\n",
       "      <td>opel _ vectra</td>\n",
       "    </tr>\n",
       "    <tr>\n",
       "      <th>292139</th>\n",
       "      <td>7500</td>\n",
       "      <td>sedan</td>\n",
       "      <td>2011</td>\n",
       "      <td>manual</td>\n",
       "      <td>1548</td>\n",
       "      <td>scenic</td>\n",
       "      <td>90000</td>\n",
       "      <td>petrol</td>\n",
       "      <td>renault</td>\n",
       "      <td>not specified</td>\n",
       "      <td>renault _ scenic</td>\n",
       "    </tr>\n",
       "    <tr>\n",
       "      <th>292204</th>\n",
       "      <td>250</td>\n",
       "      <td>small</td>\n",
       "      <td>1999</td>\n",
       "      <td>manual</td>\n",
       "      <td>1241</td>\n",
       "      <td>ypsilon</td>\n",
       "      <td>150000</td>\n",
       "      <td>petrol</td>\n",
       "      <td>lancia</td>\n",
       "      <td>yes</td>\n",
       "      <td>lancia _ ypsilon</td>\n",
       "    </tr>\n",
       "    <tr>\n",
       "      <th>294502</th>\n",
       "      <td>1500</td>\n",
       "      <td>bus</td>\n",
       "      <td>2001</td>\n",
       "      <td>manual</td>\n",
       "      <td>1001</td>\n",
       "      <td>zafira</td>\n",
       "      <td>5000</td>\n",
       "      <td>gasoline</td>\n",
       "      <td>opel</td>\n",
       "      <td>no</td>\n",
       "      <td>opel _ zafira</td>\n",
       "    </tr>\n",
       "  </tbody>\n",
       "</table>\n",
       "<p>138 rows × 11 columns</p>\n",
       "</div>"
      ],
      "text/plain": [
       "        price vehicle_type  registration_year gearbox  power    model  \\\n",
       "1647     3200        small               2004  manual   1398  corolla   \n",
       "4824      500        wagon               1999  manual   1001    astra   \n",
       "8725     2599          bus               2016  manual   1779   zafira   \n",
       "8910      550        wagon               2003  manual   1753    focus   \n",
       "17883    3390        sedan               2009  manual   1240    micra   \n",
       "...       ...          ...                ...     ...    ...      ...   \n",
       "290661    450        sedan               1996    auto   1004   vectra   \n",
       "291449    355        sedan               1998  manual   1799   vectra   \n",
       "292139   7500        sedan               2011  manual   1548   scenic   \n",
       "292204    250        small               1999  manual   1241  ypsilon   \n",
       "294502   1500          bus               2001  manual   1001   zafira   \n",
       "\n",
       "        kilometer fuel_type    brand       repaired       brand_model  \n",
       "1647         5000    petrol   toyota             no  toyota _ corolla  \n",
       "4824       150000    petrol     opel  not specified      opel _ astra  \n",
       "8725       150000    petrol     opel             no     opel _ zafira  \n",
       "8910       150000  gasoline     ford            yes      ford _ focus  \n",
       "17883       60000    petrol   nissan             no    nissan _ micra  \n",
       "...           ...       ...      ...            ...               ...  \n",
       "290661      80000    petrol     opel            yes     opel _ vectra  \n",
       "291449     150000    petrol     opel  not specified     opel _ vectra  \n",
       "292139      90000    petrol  renault  not specified  renault _ scenic  \n",
       "292204     150000    petrol   lancia            yes  lancia _ ypsilon  \n",
       "294502       5000  gasoline     opel             no     opel _ zafira  \n",
       "\n",
       "[138 rows x 11 columns]"
      ]
     },
     "execution_count": 117,
     "metadata": {},
     "output_type": "execute_result"
    }
   ],
   "source": [
    "data[data['power'] > 1000]"
   ]
  },
  {
   "cell_type": "markdown",
   "metadata": {},
   "source": [
    "Скорее всего, в этих мощностях ошибки. Удалим аномалии:"
   ]
  },
  {
   "cell_type": "code",
   "execution_count": 118,
   "metadata": {},
   "outputs": [],
   "source": [
    "power_anomaly_2 = data[data['power'] > 1000].index"
   ]
  },
  {
   "cell_type": "code",
   "execution_count": 119,
   "metadata": {},
   "outputs": [],
   "source": [
    "data.drop(power_anomaly_2, inplace=True)"
   ]
  },
  {
   "cell_type": "code",
   "execution_count": 120,
   "metadata": {},
   "outputs": [
    {
     "data": {
      "image/png": "[encoded data removed]",
      "text/plain": [
       "<Figure size 1500x200 with 1 Axes>"
      ]
     },
     "metadata": {},
     "output_type": "display_data"
    }
   ],
   "source": [
    "plt.figure(figsize=(15, 2))\n",
    "\n",
    "sns.boxplot(x=data['power'], color='red')\n",
    "\n",
    "plt.show()"
   ]
  },
  {
   "cell_type": "markdown",
   "metadata": {},
   "source": [
    "Посмотрим на авто мощностью более 400 л.с.:"
   ]
  },
  {
   "cell_type": "code",
   "execution_count": 121,
   "metadata": {},
   "outputs": [
    {
     "data": {
      "text/html": [
       "<div>\n",
       "<style scoped>\n",
       "    .dataframe tbody tr th:only-of-type {\n",
       "        vertical-align: middle;\n",
       "    }\n",
       "\n",
       "    .dataframe tbody tr th {\n",
       "        vertical-align: top;\n",
       "    }\n",
       "\n",
       "    .dataframe thead th {\n",
       "        text-align: right;\n",
       "    }\n",
       "</style>\n",
       "<table border=\"1\" class=\"dataframe\">\n",
       "  <thead>\n",
       "    <tr style=\"text-align: right;\">\n",
       "      <th></th>\n",
       "      <th>price</th>\n",
       "      <th>vehicle_type</th>\n",
       "      <th>registration_year</th>\n",
       "      <th>gearbox</th>\n",
       "      <th>power</th>\n",
       "      <th>model</th>\n",
       "      <th>kilometer</th>\n",
       "      <th>fuel_type</th>\n",
       "      <th>brand</th>\n",
       "      <th>repaired</th>\n",
       "      <th>brand_model</th>\n",
       "    </tr>\n",
       "  </thead>\n",
       "  <tbody>\n",
       "    <tr>\n",
       "      <th>3688</th>\n",
       "      <td>3100</td>\n",
       "      <td>sedan</td>\n",
       "      <td>2005</td>\n",
       "      <td>manual</td>\n",
       "      <td>953</td>\n",
       "      <td>colt</td>\n",
       "      <td>150000</td>\n",
       "      <td>gasoline</td>\n",
       "      <td>mitsubishi</td>\n",
       "      <td>no</td>\n",
       "      <td>mitsubishi _ colt</td>\n",
       "    </tr>\n",
       "    <tr>\n",
       "      <th>4241</th>\n",
       "      <td>13900</td>\n",
       "      <td>sedan</td>\n",
       "      <td>2006</td>\n",
       "      <td>auto</td>\n",
       "      <td>476</td>\n",
       "      <td>e_klasse</td>\n",
       "      <td>150000</td>\n",
       "      <td>petrol</td>\n",
       "      <td>mercedes_benz</td>\n",
       "      <td>no</td>\n",
       "      <td>mercedes_benz _ e_klasse</td>\n",
       "    </tr>\n",
       "    <tr>\n",
       "      <th>4815</th>\n",
       "      <td>10999</td>\n",
       "      <td>wagon</td>\n",
       "      <td>2006</td>\n",
       "      <td>auto</td>\n",
       "      <td>435</td>\n",
       "      <td>other</td>\n",
       "      <td>150000</td>\n",
       "      <td>petrol</td>\n",
       "      <td>audi</td>\n",
       "      <td>yes</td>\n",
       "      <td>audi _ other</td>\n",
       "    </tr>\n",
       "    <tr>\n",
       "      <th>5704</th>\n",
       "      <td>599</td>\n",
       "      <td>small</td>\n",
       "      <td>2002</td>\n",
       "      <td>manual</td>\n",
       "      <td>603</td>\n",
       "      <td>matiz</td>\n",
       "      <td>5000</td>\n",
       "      <td>petrol</td>\n",
       "      <td>chevrolet</td>\n",
       "      <td>yes</td>\n",
       "      <td>chevrolet _ matiz</td>\n",
       "    </tr>\n",
       "    <tr>\n",
       "      <th>5884</th>\n",
       "      <td>3000</td>\n",
       "      <td>small</td>\n",
       "      <td>2009</td>\n",
       "      <td>manual</td>\n",
       "      <td>771</td>\n",
       "      <td>punto</td>\n",
       "      <td>125000</td>\n",
       "      <td>petrol</td>\n",
       "      <td>fiat</td>\n",
       "      <td>not specified</td>\n",
       "      <td>fiat _ punto</td>\n",
       "    </tr>\n",
       "    <tr>\n",
       "      <th>...</th>\n",
       "      <td>...</td>\n",
       "      <td>...</td>\n",
       "      <td>...</td>\n",
       "      <td>...</td>\n",
       "      <td>...</td>\n",
       "      <td>...</td>\n",
       "      <td>...</td>\n",
       "      <td>...</td>\n",
       "      <td>...</td>\n",
       "      <td>...</td>\n",
       "      <td>...</td>\n",
       "    </tr>\n",
       "    <tr>\n",
       "      <th>289098</th>\n",
       "      <td>1200</td>\n",
       "      <td>suv</td>\n",
       "      <td>2003</td>\n",
       "      <td>auto</td>\n",
       "      <td>450</td>\n",
       "      <td>cayenne</td>\n",
       "      <td>90000</td>\n",
       "      <td>petrol</td>\n",
       "      <td>porsche</td>\n",
       "      <td>yes</td>\n",
       "      <td>porsche _ cayenne</td>\n",
       "    </tr>\n",
       "    <tr>\n",
       "      <th>290997</th>\n",
       "      <td>8100</td>\n",
       "      <td>sedan</td>\n",
       "      <td>2001</td>\n",
       "      <td>auto</td>\n",
       "      <td>420</td>\n",
       "      <td>a8</td>\n",
       "      <td>150000</td>\n",
       "      <td>petrol</td>\n",
       "      <td>audi</td>\n",
       "      <td>no</td>\n",
       "      <td>audi _ a8</td>\n",
       "    </tr>\n",
       "    <tr>\n",
       "      <th>291602</th>\n",
       "      <td>14000</td>\n",
       "      <td>sedan</td>\n",
       "      <td>2003</td>\n",
       "      <td>auto</td>\n",
       "      <td>476</td>\n",
       "      <td>e_klasse</td>\n",
       "      <td>20000</td>\n",
       "      <td>petrol</td>\n",
       "      <td>mercedes_benz</td>\n",
       "      <td>no</td>\n",
       "      <td>mercedes_benz _ e_klasse</td>\n",
       "    </tr>\n",
       "    <tr>\n",
       "      <th>294409</th>\n",
       "      <td>10500</td>\n",
       "      <td>sedan</td>\n",
       "      <td>2003</td>\n",
       "      <td>auto</td>\n",
       "      <td>445</td>\n",
       "      <td>7er</td>\n",
       "      <td>150000</td>\n",
       "      <td>petrol</td>\n",
       "      <td>bmw</td>\n",
       "      <td>no</td>\n",
       "      <td>bmw _ 7er</td>\n",
       "    </tr>\n",
       "    <tr>\n",
       "      <th>295847</th>\n",
       "      <td>2400</td>\n",
       "      <td>sedan</td>\n",
       "      <td>2007</td>\n",
       "      <td>manual</td>\n",
       "      <td>650</td>\n",
       "      <td>c2</td>\n",
       "      <td>150000</td>\n",
       "      <td>petrol</td>\n",
       "      <td>citroen</td>\n",
       "      <td>not specified</td>\n",
       "      <td>citroen _ c2</td>\n",
       "    </tr>\n",
       "  </tbody>\n",
       "</table>\n",
       "<p>196 rows × 11 columns</p>\n",
       "</div>"
      ],
      "text/plain": [
       "        price vehicle_type  registration_year gearbox  power     model  \\\n",
       "3688     3100        sedan               2005  manual    953      colt   \n",
       "4241    13900        sedan               2006    auto    476  e_klasse   \n",
       "4815    10999        wagon               2006    auto    435     other   \n",
       "5704      599        small               2002  manual    603     matiz   \n",
       "5884     3000        small               2009  manual    771     punto   \n",
       "...       ...          ...                ...     ...    ...       ...   \n",
       "289098   1200          suv               2003    auto    450   cayenne   \n",
       "290997   8100        sedan               2001    auto    420        a8   \n",
       "291602  14000        sedan               2003    auto    476  e_klasse   \n",
       "294409  10500        sedan               2003    auto    445       7er   \n",
       "295847   2400        sedan               2007  manual    650        c2   \n",
       "\n",
       "        kilometer fuel_type          brand       repaired  \\\n",
       "3688       150000  gasoline     mitsubishi             no   \n",
       "4241       150000    petrol  mercedes_benz             no   \n",
       "4815       150000    petrol           audi            yes   \n",
       "5704         5000    petrol      chevrolet            yes   \n",
       "5884       125000    petrol           fiat  not specified   \n",
       "...           ...       ...            ...            ...   \n",
       "289098      90000    petrol        porsche            yes   \n",
       "290997     150000    petrol           audi             no   \n",
       "291602      20000    petrol  mercedes_benz             no   \n",
       "294409     150000    petrol            bmw             no   \n",
       "295847     150000    petrol        citroen  not specified   \n",
       "\n",
       "                     brand_model  \n",
       "3688           mitsubishi _ colt  \n",
       "4241    mercedes_benz _ e_klasse  \n",
       "4815                audi _ other  \n",
       "5704           chevrolet _ matiz  \n",
       "5884                fiat _ punto  \n",
       "...                          ...  \n",
       "289098         porsche _ cayenne  \n",
       "290997                 audi _ a8  \n",
       "291602  mercedes_benz _ e_klasse  \n",
       "294409                 bmw _ 7er  \n",
       "295847              citroen _ c2  \n",
       "\n",
       "[196 rows x 11 columns]"
      ]
     },
     "execution_count": 121,
     "metadata": {},
     "output_type": "execute_result"
    }
   ],
   "source": [
    "data[data['power'] > 400]"
   ]
  },
  {
   "cell_type": "markdown",
   "metadata": {},
   "source": [
    "Здесь в перемешку супер быстрый porsche действительно с мощностью 450 и обычный citroen, у которого мощность должна быть не 650, а 65 л.с.\n",
    "\n",
    "Попробуем отфильтровать ошибки с помощью высокой цены:"
   ]
  },
  {
   "cell_type": "code",
   "execution_count": 122,
   "metadata": {
    "scrolled": false
   },
   "outputs": [
    {
     "data": {
      "text/html": [
       "<div>\n",
       "<style scoped>\n",
       "    .dataframe tbody tr th:only-of-type {\n",
       "        vertical-align: middle;\n",
       "    }\n",
       "\n",
       "    .dataframe tbody tr th {\n",
       "        vertical-align: top;\n",
       "    }\n",
       "\n",
       "    .dataframe thead th {\n",
       "        text-align: right;\n",
       "    }\n",
       "</style>\n",
       "<table border=\"1\" class=\"dataframe\">\n",
       "  <thead>\n",
       "    <tr style=\"text-align: right;\">\n",
       "      <th></th>\n",
       "      <th>price</th>\n",
       "      <th>vehicle_type</th>\n",
       "      <th>registration_year</th>\n",
       "      <th>gearbox</th>\n",
       "      <th>power</th>\n",
       "      <th>model</th>\n",
       "      <th>kilometer</th>\n",
       "      <th>fuel_type</th>\n",
       "      <th>brand</th>\n",
       "      <th>repaired</th>\n",
       "      <th>brand_model</th>\n",
       "    </tr>\n",
       "  </thead>\n",
       "  <tbody>\n",
       "    <tr>\n",
       "      <th>3688</th>\n",
       "      <td>3100</td>\n",
       "      <td>sedan</td>\n",
       "      <td>2005</td>\n",
       "      <td>manual</td>\n",
       "      <td>953</td>\n",
       "      <td>colt</td>\n",
       "      <td>150000</td>\n",
       "      <td>gasoline</td>\n",
       "      <td>mitsubishi</td>\n",
       "      <td>no</td>\n",
       "      <td>mitsubishi _ colt</td>\n",
       "    </tr>\n",
       "    <tr>\n",
       "      <th>5704</th>\n",
       "      <td>599</td>\n",
       "      <td>small</td>\n",
       "      <td>2002</td>\n",
       "      <td>manual</td>\n",
       "      <td>603</td>\n",
       "      <td>matiz</td>\n",
       "      <td>5000</td>\n",
       "      <td>petrol</td>\n",
       "      <td>chevrolet</td>\n",
       "      <td>yes</td>\n",
       "      <td>chevrolet _ matiz</td>\n",
       "    </tr>\n",
       "    <tr>\n",
       "      <th>5884</th>\n",
       "      <td>3000</td>\n",
       "      <td>small</td>\n",
       "      <td>2009</td>\n",
       "      <td>manual</td>\n",
       "      <td>771</td>\n",
       "      <td>punto</td>\n",
       "      <td>125000</td>\n",
       "      <td>petrol</td>\n",
       "      <td>fiat</td>\n",
       "      <td>not specified</td>\n",
       "      <td>fiat _ punto</td>\n",
       "    </tr>\n",
       "    <tr>\n",
       "      <th>6006</th>\n",
       "      <td>600</td>\n",
       "      <td>small</td>\n",
       "      <td>1996</td>\n",
       "      <td>manual</td>\n",
       "      <td>603</td>\n",
       "      <td>corsa</td>\n",
       "      <td>150000</td>\n",
       "      <td>petrol</td>\n",
       "      <td>opel</td>\n",
       "      <td>yes</td>\n",
       "      <td>opel _ corsa</td>\n",
       "    </tr>\n",
       "    <tr>\n",
       "      <th>7283</th>\n",
       "      <td>500</td>\n",
       "      <td>small</td>\n",
       "      <td>2002</td>\n",
       "      <td>manual</td>\n",
       "      <td>620</td>\n",
       "      <td>ypsilon</td>\n",
       "      <td>150000</td>\n",
       "      <td>petrol</td>\n",
       "      <td>lancia</td>\n",
       "      <td>not specified</td>\n",
       "      <td>lancia _ ypsilon</td>\n",
       "    </tr>\n",
       "    <tr>\n",
       "      <th>...</th>\n",
       "      <td>...</td>\n",
       "      <td>...</td>\n",
       "      <td>...</td>\n",
       "      <td>...</td>\n",
       "      <td>...</td>\n",
       "      <td>...</td>\n",
       "      <td>...</td>\n",
       "      <td>...</td>\n",
       "      <td>...</td>\n",
       "      <td>...</td>\n",
       "      <td>...</td>\n",
       "    </tr>\n",
       "    <tr>\n",
       "      <th>269351</th>\n",
       "      <td>3000</td>\n",
       "      <td>wagon</td>\n",
       "      <td>2000</td>\n",
       "      <td>auto</td>\n",
       "      <td>400</td>\n",
       "      <td>e_klasse</td>\n",
       "      <td>150000</td>\n",
       "      <td>lpg</td>\n",
       "      <td>mercedes_benz</td>\n",
       "      <td>not specified</td>\n",
       "      <td>mercedes_benz _ e_klasse</td>\n",
       "    </tr>\n",
       "    <tr>\n",
       "      <th>272162</th>\n",
       "      <td>399</td>\n",
       "      <td>coupe</td>\n",
       "      <td>2015</td>\n",
       "      <td>auto</td>\n",
       "      <td>430</td>\n",
       "      <td>911</td>\n",
       "      <td>5000</td>\n",
       "      <td>petrol</td>\n",
       "      <td>porsche</td>\n",
       "      <td>not specified</td>\n",
       "      <td>porsche _ 911</td>\n",
       "    </tr>\n",
       "    <tr>\n",
       "      <th>278309</th>\n",
       "      <td>4600</td>\n",
       "      <td>small</td>\n",
       "      <td>2008</td>\n",
       "      <td>manual</td>\n",
       "      <td>601</td>\n",
       "      <td>polo</td>\n",
       "      <td>80000</td>\n",
       "      <td>petrol</td>\n",
       "      <td>volkswagen</td>\n",
       "      <td>no</td>\n",
       "      <td>volkswagen _ polo</td>\n",
       "    </tr>\n",
       "    <tr>\n",
       "      <th>289098</th>\n",
       "      <td>1200</td>\n",
       "      <td>suv</td>\n",
       "      <td>2003</td>\n",
       "      <td>auto</td>\n",
       "      <td>450</td>\n",
       "      <td>cayenne</td>\n",
       "      <td>90000</td>\n",
       "      <td>petrol</td>\n",
       "      <td>porsche</td>\n",
       "      <td>yes</td>\n",
       "      <td>porsche _ cayenne</td>\n",
       "    </tr>\n",
       "    <tr>\n",
       "      <th>295847</th>\n",
       "      <td>2400</td>\n",
       "      <td>sedan</td>\n",
       "      <td>2007</td>\n",
       "      <td>manual</td>\n",
       "      <td>650</td>\n",
       "      <td>c2</td>\n",
       "      <td>150000</td>\n",
       "      <td>petrol</td>\n",
       "      <td>citroen</td>\n",
       "      <td>not specified</td>\n",
       "      <td>citroen _ c2</td>\n",
       "    </tr>\n",
       "  </tbody>\n",
       "</table>\n",
       "<p>69 rows × 11 columns</p>\n",
       "</div>"
      ],
      "text/plain": [
       "        price vehicle_type  registration_year gearbox  power     model  \\\n",
       "3688     3100        sedan               2005  manual    953      colt   \n",
       "5704      599        small               2002  manual    603     matiz   \n",
       "5884     3000        small               2009  manual    771     punto   \n",
       "6006      600        small               1996  manual    603     corsa   \n",
       "7283      500        small               2002  manual    620   ypsilon   \n",
       "...       ...          ...                ...     ...    ...       ...   \n",
       "269351   3000        wagon               2000    auto    400  e_klasse   \n",
       "272162    399        coupe               2015    auto    430       911   \n",
       "278309   4600        small               2008  manual    601      polo   \n",
       "289098   1200          suv               2003    auto    450   cayenne   \n",
       "295847   2400        sedan               2007  manual    650        c2   \n",
       "\n",
       "        kilometer fuel_type          brand       repaired  \\\n",
       "3688       150000  gasoline     mitsubishi             no   \n",
       "5704         5000    petrol      chevrolet            yes   \n",
       "5884       125000    petrol           fiat  not specified   \n",
       "6006       150000    petrol           opel            yes   \n",
       "7283       150000    petrol         lancia  not specified   \n",
       "...           ...       ...            ...            ...   \n",
       "269351     150000       lpg  mercedes_benz  not specified   \n",
       "272162       5000    petrol        porsche  not specified   \n",
       "278309      80000    petrol     volkswagen             no   \n",
       "289098      90000    petrol        porsche            yes   \n",
       "295847     150000    petrol        citroen  not specified   \n",
       "\n",
       "                     brand_model  \n",
       "3688           mitsubishi _ colt  \n",
       "5704           chevrolet _ matiz  \n",
       "5884                fiat _ punto  \n",
       "6006                opel _ corsa  \n",
       "7283            lancia _ ypsilon  \n",
       "...                          ...  \n",
       "269351  mercedes_benz _ e_klasse  \n",
       "272162             porsche _ 911  \n",
       "278309         volkswagen _ polo  \n",
       "289098         porsche _ cayenne  \n",
       "295847              citroen _ c2  \n",
       "\n",
       "[69 rows x 11 columns]"
      ]
     },
     "execution_count": 122,
     "metadata": {},
     "output_type": "execute_result"
    }
   ],
   "source": [
    "data.query(\"price < 5000 & power >= 400\")"
   ]
  },
  {
   "cell_type": "markdown",
   "metadata": {},
   "source": [
    "Все равно попадаются машины с неправильно указанной мощностью. Поэтому принимаем решение удалить авто мощностью более 400 л.с."
   ]
  },
  {
   "cell_type": "code",
   "execution_count": 123,
   "metadata": {},
   "outputs": [],
   "source": [
    "power_anomaly_3 = data.query(\"power >= 400\").index"
   ]
  },
  {
   "cell_type": "code",
   "execution_count": 124,
   "metadata": {},
   "outputs": [],
   "source": [
    "data.drop(power_anomaly_3, inplace=True)"
   ]
  },
  {
   "cell_type": "code",
   "execution_count": 125,
   "metadata": {},
   "outputs": [
    {
     "data": {
      "image/png": "[encoded data removed]",
      "text/plain": [
       "<Figure size 1500x200 with 1 Axes>"
      ]
     },
     "metadata": {},
     "output_type": "display_data"
    }
   ],
   "source": [
    "plt.figure(figsize=(15, 2))\n",
    "\n",
    "sns.histplot(x=data['power'], color='red', bins=50)\n",
    "\n",
    "plt.show()"
   ]
  },
  {
   "cell_type": "markdown",
   "metadata": {},
   "source": [
    "На гистограмме видно, что правый хвост стал короче. Видим достаточно большой выброс около нуля, изучим его:"
   ]
  },
  {
   "cell_type": "code",
   "execution_count": 126,
   "metadata": {
    "scrolled": true
   },
   "outputs": [
    {
     "data": {
      "text/html": [
       "<div>\n",
       "<style scoped>\n",
       "    .dataframe tbody tr th:only-of-type {\n",
       "        vertical-align: middle;\n",
       "    }\n",
       "\n",
       "    .dataframe tbody tr th {\n",
       "        vertical-align: top;\n",
       "    }\n",
       "\n",
       "    .dataframe thead th {\n",
       "        text-align: right;\n",
       "    }\n",
       "</style>\n",
       "<table border=\"1\" class=\"dataframe\">\n",
       "  <thead>\n",
       "    <tr style=\"text-align: right;\">\n",
       "      <th></th>\n",
       "      <th>price</th>\n",
       "      <th>vehicle_type</th>\n",
       "      <th>registration_year</th>\n",
       "      <th>gearbox</th>\n",
       "      <th>model</th>\n",
       "      <th>kilometer</th>\n",
       "      <th>fuel_type</th>\n",
       "      <th>brand</th>\n",
       "      <th>repaired</th>\n",
       "      <th>brand_model</th>\n",
       "    </tr>\n",
       "    <tr>\n",
       "      <th>power</th>\n",
       "      <th></th>\n",
       "      <th></th>\n",
       "      <th></th>\n",
       "      <th></th>\n",
       "      <th></th>\n",
       "      <th></th>\n",
       "      <th></th>\n",
       "      <th></th>\n",
       "      <th></th>\n",
       "      <th></th>\n",
       "    </tr>\n",
       "  </thead>\n",
       "  <tbody>\n",
       "    <tr>\n",
       "      <th>0</th>\n",
       "      <td>24645</td>\n",
       "      <td>24645</td>\n",
       "      <td>24645</td>\n",
       "      <td>24645</td>\n",
       "      <td>24645</td>\n",
       "      <td>24645</td>\n",
       "      <td>24645</td>\n",
       "      <td>24645</td>\n",
       "      <td>24645</td>\n",
       "      <td>24645</td>\n",
       "    </tr>\n",
       "    <tr>\n",
       "      <th>1</th>\n",
       "      <td>13</td>\n",
       "      <td>13</td>\n",
       "      <td>13</td>\n",
       "      <td>13</td>\n",
       "      <td>13</td>\n",
       "      <td>13</td>\n",
       "      <td>13</td>\n",
       "      <td>13</td>\n",
       "      <td>13</td>\n",
       "      <td>13</td>\n",
       "    </tr>\n",
       "    <tr>\n",
       "      <th>2</th>\n",
       "      <td>4</td>\n",
       "      <td>4</td>\n",
       "      <td>4</td>\n",
       "      <td>4</td>\n",
       "      <td>4</td>\n",
       "      <td>4</td>\n",
       "      <td>4</td>\n",
       "      <td>4</td>\n",
       "      <td>4</td>\n",
       "      <td>4</td>\n",
       "    </tr>\n",
       "    <tr>\n",
       "      <th>3</th>\n",
       "      <td>1</td>\n",
       "      <td>1</td>\n",
       "      <td>1</td>\n",
       "      <td>1</td>\n",
       "      <td>1</td>\n",
       "      <td>1</td>\n",
       "      <td>1</td>\n",
       "      <td>1</td>\n",
       "      <td>1</td>\n",
       "      <td>1</td>\n",
       "    </tr>\n",
       "    <tr>\n",
       "      <th>4</th>\n",
       "      <td>5</td>\n",
       "      <td>5</td>\n",
       "      <td>5</td>\n",
       "      <td>5</td>\n",
       "      <td>5</td>\n",
       "      <td>5</td>\n",
       "      <td>5</td>\n",
       "      <td>5</td>\n",
       "      <td>5</td>\n",
       "      <td>5</td>\n",
       "    </tr>\n",
       "    <tr>\n",
       "      <th>5</th>\n",
       "      <td>13</td>\n",
       "      <td>13</td>\n",
       "      <td>13</td>\n",
       "      <td>13</td>\n",
       "      <td>13</td>\n",
       "      <td>13</td>\n",
       "      <td>13</td>\n",
       "      <td>13</td>\n",
       "      <td>13</td>\n",
       "      <td>13</td>\n",
       "    </tr>\n",
       "    <tr>\n",
       "      <th>6</th>\n",
       "      <td>4</td>\n",
       "      <td>4</td>\n",
       "      <td>4</td>\n",
       "      <td>4</td>\n",
       "      <td>4</td>\n",
       "      <td>4</td>\n",
       "      <td>4</td>\n",
       "      <td>4</td>\n",
       "      <td>4</td>\n",
       "      <td>4</td>\n",
       "    </tr>\n",
       "    <tr>\n",
       "      <th>7</th>\n",
       "      <td>3</td>\n",
       "      <td>3</td>\n",
       "      <td>3</td>\n",
       "      <td>3</td>\n",
       "      <td>3</td>\n",
       "      <td>3</td>\n",
       "      <td>3</td>\n",
       "      <td>3</td>\n",
       "      <td>3</td>\n",
       "      <td>3</td>\n",
       "    </tr>\n",
       "    <tr>\n",
       "      <th>8</th>\n",
       "      <td>4</td>\n",
       "      <td>4</td>\n",
       "      <td>4</td>\n",
       "      <td>4</td>\n",
       "      <td>4</td>\n",
       "      <td>4</td>\n",
       "      <td>4</td>\n",
       "      <td>4</td>\n",
       "      <td>4</td>\n",
       "      <td>4</td>\n",
       "    </tr>\n",
       "    <tr>\n",
       "      <th>9</th>\n",
       "      <td>2</td>\n",
       "      <td>2</td>\n",
       "      <td>2</td>\n",
       "      <td>2</td>\n",
       "      <td>2</td>\n",
       "      <td>2</td>\n",
       "      <td>2</td>\n",
       "      <td>2</td>\n",
       "      <td>2</td>\n",
       "      <td>2</td>\n",
       "    </tr>\n",
       "    <tr>\n",
       "      <th>10</th>\n",
       "      <td>7</td>\n",
       "      <td>7</td>\n",
       "      <td>7</td>\n",
       "      <td>7</td>\n",
       "      <td>7</td>\n",
       "      <td>7</td>\n",
       "      <td>7</td>\n",
       "      <td>7</td>\n",
       "      <td>7</td>\n",
       "      <td>7</td>\n",
       "    </tr>\n",
       "    <tr>\n",
       "      <th>11</th>\n",
       "      <td>19</td>\n",
       "      <td>19</td>\n",
       "      <td>19</td>\n",
       "      <td>19</td>\n",
       "      <td>19</td>\n",
       "      <td>19</td>\n",
       "      <td>19</td>\n",
       "      <td>19</td>\n",
       "      <td>19</td>\n",
       "      <td>19</td>\n",
       "    </tr>\n",
       "    <tr>\n",
       "      <th>12</th>\n",
       "      <td>5</td>\n",
       "      <td>5</td>\n",
       "      <td>5</td>\n",
       "      <td>5</td>\n",
       "      <td>5</td>\n",
       "      <td>5</td>\n",
       "      <td>5</td>\n",
       "      <td>5</td>\n",
       "      <td>5</td>\n",
       "      <td>5</td>\n",
       "    </tr>\n",
       "    <tr>\n",
       "      <th>13</th>\n",
       "      <td>3</td>\n",
       "      <td>3</td>\n",
       "      <td>3</td>\n",
       "      <td>3</td>\n",
       "      <td>3</td>\n",
       "      <td>3</td>\n",
       "      <td>3</td>\n",
       "      <td>3</td>\n",
       "      <td>3</td>\n",
       "      <td>3</td>\n",
       "    </tr>\n",
       "    <tr>\n",
       "      <th>14</th>\n",
       "      <td>5</td>\n",
       "      <td>5</td>\n",
       "      <td>5</td>\n",
       "      <td>5</td>\n",
       "      <td>5</td>\n",
       "      <td>5</td>\n",
       "      <td>5</td>\n",
       "      <td>5</td>\n",
       "      <td>5</td>\n",
       "      <td>5</td>\n",
       "    </tr>\n",
       "    <tr>\n",
       "      <th>15</th>\n",
       "      <td>3</td>\n",
       "      <td>3</td>\n",
       "      <td>3</td>\n",
       "      <td>3</td>\n",
       "      <td>3</td>\n",
       "      <td>3</td>\n",
       "      <td>3</td>\n",
       "      <td>3</td>\n",
       "      <td>3</td>\n",
       "      <td>3</td>\n",
       "    </tr>\n",
       "    <tr>\n",
       "      <th>16</th>\n",
       "      <td>3</td>\n",
       "      <td>3</td>\n",
       "      <td>3</td>\n",
       "      <td>3</td>\n",
       "      <td>3</td>\n",
       "      <td>3</td>\n",
       "      <td>3</td>\n",
       "      <td>3</td>\n",
       "      <td>3</td>\n",
       "      <td>3</td>\n",
       "    </tr>\n",
       "    <tr>\n",
       "      <th>17</th>\n",
       "      <td>6</td>\n",
       "      <td>6</td>\n",
       "      <td>6</td>\n",
       "      <td>6</td>\n",
       "      <td>6</td>\n",
       "      <td>6</td>\n",
       "      <td>6</td>\n",
       "      <td>6</td>\n",
       "      <td>6</td>\n",
       "      <td>6</td>\n",
       "    </tr>\n",
       "    <tr>\n",
       "      <th>18</th>\n",
       "      <td>3</td>\n",
       "      <td>3</td>\n",
       "      <td>3</td>\n",
       "      <td>3</td>\n",
       "      <td>3</td>\n",
       "      <td>3</td>\n",
       "      <td>3</td>\n",
       "      <td>3</td>\n",
       "      <td>3</td>\n",
       "      <td>3</td>\n",
       "    </tr>\n",
       "    <tr>\n",
       "      <th>19</th>\n",
       "      <td>6</td>\n",
       "      <td>6</td>\n",
       "      <td>6</td>\n",
       "      <td>6</td>\n",
       "      <td>6</td>\n",
       "      <td>6</td>\n",
       "      <td>6</td>\n",
       "      <td>6</td>\n",
       "      <td>6</td>\n",
       "      <td>6</td>\n",
       "    </tr>\n",
       "    <tr>\n",
       "      <th>20</th>\n",
       "      <td>4</td>\n",
       "      <td>4</td>\n",
       "      <td>4</td>\n",
       "      <td>4</td>\n",
       "      <td>4</td>\n",
       "      <td>4</td>\n",
       "      <td>4</td>\n",
       "      <td>4</td>\n",
       "      <td>4</td>\n",
       "      <td>4</td>\n",
       "    </tr>\n",
       "    <tr>\n",
       "      <th>21</th>\n",
       "      <td>2</td>\n",
       "      <td>2</td>\n",
       "      <td>2</td>\n",
       "      <td>2</td>\n",
       "      <td>2</td>\n",
       "      <td>2</td>\n",
       "      <td>2</td>\n",
       "      <td>2</td>\n",
       "      <td>2</td>\n",
       "      <td>2</td>\n",
       "    </tr>\n",
       "    <tr>\n",
       "      <th>22</th>\n",
       "      <td>2</td>\n",
       "      <td>2</td>\n",
       "      <td>2</td>\n",
       "      <td>2</td>\n",
       "      <td>2</td>\n",
       "      <td>2</td>\n",
       "      <td>2</td>\n",
       "      <td>2</td>\n",
       "      <td>2</td>\n",
       "      <td>2</td>\n",
       "    </tr>\n",
       "    <tr>\n",
       "      <th>23</th>\n",
       "      <td>8</td>\n",
       "      <td>8</td>\n",
       "      <td>8</td>\n",
       "      <td>8</td>\n",
       "      <td>8</td>\n",
       "      <td>8</td>\n",
       "      <td>8</td>\n",
       "      <td>8</td>\n",
       "      <td>8</td>\n",
       "      <td>8</td>\n",
       "    </tr>\n",
       "    <tr>\n",
       "      <th>24</th>\n",
       "      <td>11</td>\n",
       "      <td>11</td>\n",
       "      <td>11</td>\n",
       "      <td>11</td>\n",
       "      <td>11</td>\n",
       "      <td>11</td>\n",
       "      <td>11</td>\n",
       "      <td>11</td>\n",
       "      <td>11</td>\n",
       "      <td>11</td>\n",
       "    </tr>\n",
       "    <tr>\n",
       "      <th>25</th>\n",
       "      <td>7</td>\n",
       "      <td>7</td>\n",
       "      <td>7</td>\n",
       "      <td>7</td>\n",
       "      <td>7</td>\n",
       "      <td>7</td>\n",
       "      <td>7</td>\n",
       "      <td>7</td>\n",
       "      <td>7</td>\n",
       "      <td>7</td>\n",
       "    </tr>\n",
       "    <tr>\n",
       "      <th>26</th>\n",
       "      <td>174</td>\n",
       "      <td>174</td>\n",
       "      <td>174</td>\n",
       "      <td>174</td>\n",
       "      <td>174</td>\n",
       "      <td>174</td>\n",
       "      <td>174</td>\n",
       "      <td>174</td>\n",
       "      <td>174</td>\n",
       "      <td>174</td>\n",
       "    </tr>\n",
       "    <tr>\n",
       "      <th>27</th>\n",
       "      <td>28</td>\n",
       "      <td>28</td>\n",
       "      <td>28</td>\n",
       "      <td>28</td>\n",
       "      <td>28</td>\n",
       "      <td>28</td>\n",
       "      <td>28</td>\n",
       "      <td>28</td>\n",
       "      <td>28</td>\n",
       "      <td>28</td>\n",
       "    </tr>\n",
       "    <tr>\n",
       "      <th>28</th>\n",
       "      <td>4</td>\n",
       "      <td>4</td>\n",
       "      <td>4</td>\n",
       "      <td>4</td>\n",
       "      <td>4</td>\n",
       "      <td>4</td>\n",
       "      <td>4</td>\n",
       "      <td>4</td>\n",
       "      <td>4</td>\n",
       "      <td>4</td>\n",
       "    </tr>\n",
       "    <tr>\n",
       "      <th>29</th>\n",
       "      <td>22</td>\n",
       "      <td>22</td>\n",
       "      <td>22</td>\n",
       "      <td>22</td>\n",
       "      <td>22</td>\n",
       "      <td>22</td>\n",
       "      <td>22</td>\n",
       "      <td>22</td>\n",
       "      <td>22</td>\n",
       "      <td>22</td>\n",
       "    </tr>\n",
       "    <tr>\n",
       "      <th>30</th>\n",
       "      <td>9</td>\n",
       "      <td>9</td>\n",
       "      <td>9</td>\n",
       "      <td>9</td>\n",
       "      <td>9</td>\n",
       "      <td>9</td>\n",
       "      <td>9</td>\n",
       "      <td>9</td>\n",
       "      <td>9</td>\n",
       "      <td>9</td>\n",
       "    </tr>\n",
       "  </tbody>\n",
       "</table>\n",
       "</div>"
      ],
      "text/plain": [
       "       price  vehicle_type  registration_year  gearbox  model  kilometer  \\\n",
       "power                                                                      \n",
       "0      24645         24645              24645    24645  24645      24645   \n",
       "1         13            13                 13       13     13         13   \n",
       "2          4             4                  4        4      4          4   \n",
       "3          1             1                  1        1      1          1   \n",
       "4          5             5                  5        5      5          5   \n",
       "5         13            13                 13       13     13         13   \n",
       "6          4             4                  4        4      4          4   \n",
       "7          3             3                  3        3      3          3   \n",
       "8          4             4                  4        4      4          4   \n",
       "9          2             2                  2        2      2          2   \n",
       "10         7             7                  7        7      7          7   \n",
       "11        19            19                 19       19     19         19   \n",
       "12         5             5                  5        5      5          5   \n",
       "13         3             3                  3        3      3          3   \n",
       "14         5             5                  5        5      5          5   \n",
       "15         3             3                  3        3      3          3   \n",
       "16         3             3                  3        3      3          3   \n",
       "17         6             6                  6        6      6          6   \n",
       "18         3             3                  3        3      3          3   \n",
       "19         6             6                  6        6      6          6   \n",
       "20         4             4                  4        4      4          4   \n",
       "21         2             2                  2        2      2          2   \n",
       "22         2             2                  2        2      2          2   \n",
       "23         8             8                  8        8      8          8   \n",
       "24        11            11                 11       11     11         11   \n",
       "25         7             7                  7        7      7          7   \n",
       "26       174           174                174      174    174        174   \n",
       "27        28            28                 28       28     28         28   \n",
       "28         4             4                  4        4      4          4   \n",
       "29        22            22                 22       22     22         22   \n",
       "30         9             9                  9        9      9          9   \n",
       "\n",
       "       fuel_type  brand  repaired  brand_model  \n",
       "power                                           \n",
       "0          24645  24645     24645        24645  \n",
       "1             13     13        13           13  \n",
       "2              4      4         4            4  \n",
       "3              1      1         1            1  \n",
       "4              5      5         5            5  \n",
       "5             13     13        13           13  \n",
       "6              4      4         4            4  \n",
       "7              3      3         3            3  \n",
       "8              4      4         4            4  \n",
       "9              2      2         2            2  \n",
       "10             7      7         7            7  \n",
       "11            19     19        19           19  \n",
       "12             5      5         5            5  \n",
       "13             3      3         3            3  \n",
       "14             5      5         5            5  \n",
       "15             3      3         3            3  \n",
       "16             3      3         3            3  \n",
       "17             6      6         6            6  \n",
       "18             3      3         3            3  \n",
       "19             6      6         6            6  \n",
       "20             4      4         4            4  \n",
       "21             2      2         2            2  \n",
       "22             2      2         2            2  \n",
       "23             8      8         8            8  \n",
       "24            11     11        11           11  \n",
       "25             7      7         7            7  \n",
       "26           174    174       174          174  \n",
       "27            28     28        28           28  \n",
       "28             4      4         4            4  \n",
       "29            22     22        22           22  \n",
       "30             9      9         9            9  "
      ]
     },
     "execution_count": 126,
     "metadata": {},
     "output_type": "execute_result"
    }
   ],
   "source": [
    "data.query(\"power <= 30\").groupby('power').agg('count')"
   ]
  },
  {
   "cell_type": "code",
   "execution_count": 127,
   "metadata": {},
   "outputs": [
    {
     "data": {
      "text/html": [
       "<div>\n",
       "<style scoped>\n",
       "    .dataframe tbody tr th:only-of-type {\n",
       "        vertical-align: middle;\n",
       "    }\n",
       "\n",
       "    .dataframe tbody tr th {\n",
       "        vertical-align: top;\n",
       "    }\n",
       "\n",
       "    .dataframe thead th {\n",
       "        text-align: right;\n",
       "    }\n",
       "</style>\n",
       "<table border=\"1\" class=\"dataframe\">\n",
       "  <thead>\n",
       "    <tr style=\"text-align: right;\">\n",
       "      <th></th>\n",
       "      <th>price</th>\n",
       "      <th>vehicle_type</th>\n",
       "      <th>registration_year</th>\n",
       "      <th>gearbox</th>\n",
       "      <th>power</th>\n",
       "      <th>model</th>\n",
       "      <th>kilometer</th>\n",
       "      <th>fuel_type</th>\n",
       "      <th>brand</th>\n",
       "      <th>repaired</th>\n",
       "      <th>brand_model</th>\n",
       "    </tr>\n",
       "  </thead>\n",
       "  <tbody>\n",
       "    <tr>\n",
       "      <th>5141</th>\n",
       "      <td>650</td>\n",
       "      <td>sedan</td>\n",
       "      <td>1985</td>\n",
       "      <td>manual</td>\n",
       "      <td>26</td>\n",
       "      <td>601</td>\n",
       "      <td>30000</td>\n",
       "      <td>petrol</td>\n",
       "      <td>trabant</td>\n",
       "      <td>yes</td>\n",
       "      <td>trabant _ 601</td>\n",
       "    </tr>\n",
       "    <tr>\n",
       "      <th>5228</th>\n",
       "      <td>10000</td>\n",
       "      <td>sedan</td>\n",
       "      <td>1980</td>\n",
       "      <td>manual</td>\n",
       "      <td>26</td>\n",
       "      <td>601</td>\n",
       "      <td>40000</td>\n",
       "      <td>petrol</td>\n",
       "      <td>trabant</td>\n",
       "      <td>no</td>\n",
       "      <td>trabant _ 601</td>\n",
       "    </tr>\n",
       "    <tr>\n",
       "      <th>10422</th>\n",
       "      <td>5900</td>\n",
       "      <td>sedan</td>\n",
       "      <td>1989</td>\n",
       "      <td>manual</td>\n",
       "      <td>26</td>\n",
       "      <td>601</td>\n",
       "      <td>20000</td>\n",
       "      <td>petrol</td>\n",
       "      <td>trabant</td>\n",
       "      <td>no</td>\n",
       "      <td>trabant _ 601</td>\n",
       "    </tr>\n",
       "    <tr>\n",
       "      <th>16167</th>\n",
       "      <td>450</td>\n",
       "      <td>sedan</td>\n",
       "      <td>1988</td>\n",
       "      <td>manual</td>\n",
       "      <td>26</td>\n",
       "      <td>601</td>\n",
       "      <td>100000</td>\n",
       "      <td>petrol</td>\n",
       "      <td>trabant</td>\n",
       "      <td>not specified</td>\n",
       "      <td>trabant _ 601</td>\n",
       "    </tr>\n",
       "    <tr>\n",
       "      <th>16870</th>\n",
       "      <td>560</td>\n",
       "      <td>sedan</td>\n",
       "      <td>1988</td>\n",
       "      <td>manual</td>\n",
       "      <td>26</td>\n",
       "      <td>601</td>\n",
       "      <td>5000</td>\n",
       "      <td>petrol</td>\n",
       "      <td>trabant</td>\n",
       "      <td>not specified</td>\n",
       "      <td>trabant _ 601</td>\n",
       "    </tr>\n",
       "    <tr>\n",
       "      <th>...</th>\n",
       "      <td>...</td>\n",
       "      <td>...</td>\n",
       "      <td>...</td>\n",
       "      <td>...</td>\n",
       "      <td>...</td>\n",
       "      <td>...</td>\n",
       "      <td>...</td>\n",
       "      <td>...</td>\n",
       "      <td>...</td>\n",
       "      <td>...</td>\n",
       "      <td>...</td>\n",
       "    </tr>\n",
       "    <tr>\n",
       "      <th>285838</th>\n",
       "      <td>699</td>\n",
       "      <td>sedan</td>\n",
       "      <td>1990</td>\n",
       "      <td>manual</td>\n",
       "      <td>26</td>\n",
       "      <td>601</td>\n",
       "      <td>50000</td>\n",
       "      <td>petrol</td>\n",
       "      <td>trabant</td>\n",
       "      <td>not specified</td>\n",
       "      <td>trabant _ 601</td>\n",
       "    </tr>\n",
       "    <tr>\n",
       "      <th>289656</th>\n",
       "      <td>2500</td>\n",
       "      <td>wagon</td>\n",
       "      <td>1987</td>\n",
       "      <td>manual</td>\n",
       "      <td>26</td>\n",
       "      <td>601</td>\n",
       "      <td>5000</td>\n",
       "      <td>petrol</td>\n",
       "      <td>trabant</td>\n",
       "      <td>no</td>\n",
       "      <td>trabant _ 601</td>\n",
       "    </tr>\n",
       "    <tr>\n",
       "      <th>290306</th>\n",
       "      <td>2300</td>\n",
       "      <td>wagon</td>\n",
       "      <td>1982</td>\n",
       "      <td>manual</td>\n",
       "      <td>26</td>\n",
       "      <td>601</td>\n",
       "      <td>70000</td>\n",
       "      <td>petrol</td>\n",
       "      <td>trabant</td>\n",
       "      <td>no</td>\n",
       "      <td>trabant _ 601</td>\n",
       "    </tr>\n",
       "    <tr>\n",
       "      <th>292017</th>\n",
       "      <td>3500</td>\n",
       "      <td>sedan</td>\n",
       "      <td>1984</td>\n",
       "      <td>manual</td>\n",
       "      <td>26</td>\n",
       "      <td>601</td>\n",
       "      <td>70000</td>\n",
       "      <td>petrol</td>\n",
       "      <td>trabant</td>\n",
       "      <td>not specified</td>\n",
       "      <td>trabant _ 601</td>\n",
       "    </tr>\n",
       "    <tr>\n",
       "      <th>292254</th>\n",
       "      <td>1000</td>\n",
       "      <td>sedan</td>\n",
       "      <td>1989</td>\n",
       "      <td>manual</td>\n",
       "      <td>26</td>\n",
       "      <td>601</td>\n",
       "      <td>80000</td>\n",
       "      <td>petrol</td>\n",
       "      <td>trabant</td>\n",
       "      <td>not specified</td>\n",
       "      <td>trabant _ 601</td>\n",
       "    </tr>\n",
       "  </tbody>\n",
       "</table>\n",
       "<p>174 rows × 11 columns</p>\n",
       "</div>"
      ],
      "text/plain": [
       "        price vehicle_type  registration_year gearbox  power model  kilometer  \\\n",
       "5141      650        sedan               1985  manual     26   601      30000   \n",
       "5228    10000        sedan               1980  manual     26   601      40000   \n",
       "10422    5900        sedan               1989  manual     26   601      20000   \n",
       "16167     450        sedan               1988  manual     26   601     100000   \n",
       "16870     560        sedan               1988  manual     26   601       5000   \n",
       "...       ...          ...                ...     ...    ...   ...        ...   \n",
       "285838    699        sedan               1990  manual     26   601      50000   \n",
       "289656   2500        wagon               1987  manual     26   601       5000   \n",
       "290306   2300        wagon               1982  manual     26   601      70000   \n",
       "292017   3500        sedan               1984  manual     26   601      70000   \n",
       "292254   1000        sedan               1989  manual     26   601      80000   \n",
       "\n",
       "       fuel_type    brand       repaired    brand_model  \n",
       "5141      petrol  trabant            yes  trabant _ 601  \n",
       "5228      petrol  trabant             no  trabant _ 601  \n",
       "10422     petrol  trabant             no  trabant _ 601  \n",
       "16167     petrol  trabant  not specified  trabant _ 601  \n",
       "16870     petrol  trabant  not specified  trabant _ 601  \n",
       "...          ...      ...            ...            ...  \n",
       "285838    petrol  trabant  not specified  trabant _ 601  \n",
       "289656    petrol  trabant             no  trabant _ 601  \n",
       "290306    petrol  trabant             no  trabant _ 601  \n",
       "292017    petrol  trabant  not specified  trabant _ 601  \n",
       "292254    petrol  trabant  not specified  trabant _ 601  \n",
       "\n",
       "[174 rows x 11 columns]"
      ]
     },
     "execution_count": 127,
     "metadata": {},
     "output_type": "execute_result"
    }
   ],
   "source": [
    "data.query(\"power == 26\")"
   ]
  },
  {
   "cell_type": "code",
   "execution_count": 128,
   "metadata": {},
   "outputs": [
    {
     "data": {
      "text/html": [
       "<div>\n",
       "<style scoped>\n",
       "    .dataframe tbody tr th:only-of-type {\n",
       "        vertical-align: middle;\n",
       "    }\n",
       "\n",
       "    .dataframe tbody tr th {\n",
       "        vertical-align: top;\n",
       "    }\n",
       "\n",
       "    .dataframe thead th {\n",
       "        text-align: right;\n",
       "    }\n",
       "</style>\n",
       "<table border=\"1\" class=\"dataframe\">\n",
       "  <thead>\n",
       "    <tr style=\"text-align: right;\">\n",
       "      <th></th>\n",
       "      <th>price</th>\n",
       "      <th>vehicle_type</th>\n",
       "      <th>registration_year</th>\n",
       "      <th>gearbox</th>\n",
       "      <th>power</th>\n",
       "      <th>model</th>\n",
       "      <th>kilometer</th>\n",
       "      <th>fuel_type</th>\n",
       "      <th>brand</th>\n",
       "      <th>repaired</th>\n",
       "      <th>brand_model</th>\n",
       "    </tr>\n",
       "  </thead>\n",
       "  <tbody>\n",
       "    <tr>\n",
       "      <th>30456</th>\n",
       "      <td>4999</td>\n",
       "      <td>small</td>\n",
       "      <td>2012</td>\n",
       "      <td>auto</td>\n",
       "      <td>5</td>\n",
       "      <td>other</td>\n",
       "      <td>5000</td>\n",
       "      <td>electric</td>\n",
       "      <td>renault</td>\n",
       "      <td>no</td>\n",
       "      <td>renault _ other</td>\n",
       "    </tr>\n",
       "    <tr>\n",
       "      <th>30799</th>\n",
       "      <td>655</td>\n",
       "      <td>other</td>\n",
       "      <td>1995</td>\n",
       "      <td>manual</td>\n",
       "      <td>5</td>\n",
       "      <td>other</td>\n",
       "      <td>70000</td>\n",
       "      <td>gasoline</td>\n",
       "      <td>seat</td>\n",
       "      <td>not specified</td>\n",
       "      <td>seat _ other</td>\n",
       "    </tr>\n",
       "    <tr>\n",
       "      <th>53036</th>\n",
       "      <td>999</td>\n",
       "      <td>convertible</td>\n",
       "      <td>1995</td>\n",
       "      <td>manual</td>\n",
       "      <td>5</td>\n",
       "      <td>punto</td>\n",
       "      <td>125000</td>\n",
       "      <td>petrol</td>\n",
       "      <td>fiat</td>\n",
       "      <td>no</td>\n",
       "      <td>fiat _ punto</td>\n",
       "    </tr>\n",
       "    <tr>\n",
       "      <th>69460</th>\n",
       "      <td>999</td>\n",
       "      <td>small</td>\n",
       "      <td>2000</td>\n",
       "      <td>manual</td>\n",
       "      <td>5</td>\n",
       "      <td>twingo</td>\n",
       "      <td>150000</td>\n",
       "      <td>petrol</td>\n",
       "      <td>renault</td>\n",
       "      <td>not specified</td>\n",
       "      <td>renault _ twingo</td>\n",
       "    </tr>\n",
       "    <tr>\n",
       "      <th>103793</th>\n",
       "      <td>6500</td>\n",
       "      <td>bus</td>\n",
       "      <td>2006</td>\n",
       "      <td>manual</td>\n",
       "      <td>5</td>\n",
       "      <td>5_reihe</td>\n",
       "      <td>150000</td>\n",
       "      <td>petrol</td>\n",
       "      <td>mazda</td>\n",
       "      <td>no</td>\n",
       "      <td>mazda _ 5_reihe</td>\n",
       "    </tr>\n",
       "    <tr>\n",
       "      <th>117642</th>\n",
       "      <td>1790</td>\n",
       "      <td>sedan</td>\n",
       "      <td>2002</td>\n",
       "      <td>manual</td>\n",
       "      <td>5</td>\n",
       "      <td>corsa</td>\n",
       "      <td>150000</td>\n",
       "      <td>petrol</td>\n",
       "      <td>opel</td>\n",
       "      <td>no</td>\n",
       "      <td>opel _ corsa</td>\n",
       "    </tr>\n",
       "    <tr>\n",
       "      <th>121166</th>\n",
       "      <td>360</td>\n",
       "      <td>small</td>\n",
       "      <td>1999</td>\n",
       "      <td>manual</td>\n",
       "      <td>5</td>\n",
       "      <td>twingo</td>\n",
       "      <td>150000</td>\n",
       "      <td>petrol</td>\n",
       "      <td>renault</td>\n",
       "      <td>not specified</td>\n",
       "      <td>renault _ twingo</td>\n",
       "    </tr>\n",
       "    <tr>\n",
       "      <th>128467</th>\n",
       "      <td>650</td>\n",
       "      <td>bus</td>\n",
       "      <td>1998</td>\n",
       "      <td>manual</td>\n",
       "      <td>5</td>\n",
       "      <td>kangoo</td>\n",
       "      <td>150000</td>\n",
       "      <td>petrol</td>\n",
       "      <td>renault</td>\n",
       "      <td>no</td>\n",
       "      <td>renault _ kangoo</td>\n",
       "    </tr>\n",
       "    <tr>\n",
       "      <th>135132</th>\n",
       "      <td>500</td>\n",
       "      <td>small</td>\n",
       "      <td>2016</td>\n",
       "      <td>manual</td>\n",
       "      <td>5</td>\n",
       "      <td>lupo</td>\n",
       "      <td>150000</td>\n",
       "      <td>petrol</td>\n",
       "      <td>volkswagen</td>\n",
       "      <td>no</td>\n",
       "      <td>volkswagen _ lupo</td>\n",
       "    </tr>\n",
       "    <tr>\n",
       "      <th>156411</th>\n",
       "      <td>700</td>\n",
       "      <td>small</td>\n",
       "      <td>2001</td>\n",
       "      <td>manual</td>\n",
       "      <td>5</td>\n",
       "      <td>polo</td>\n",
       "      <td>150000</td>\n",
       "      <td>petrol</td>\n",
       "      <td>volkswagen</td>\n",
       "      <td>no</td>\n",
       "      <td>volkswagen _ polo</td>\n",
       "    </tr>\n",
       "    <tr>\n",
       "      <th>161444</th>\n",
       "      <td>1990</td>\n",
       "      <td>small</td>\n",
       "      <td>2004</td>\n",
       "      <td>manual</td>\n",
       "      <td>5</td>\n",
       "      <td>fiesta</td>\n",
       "      <td>150000</td>\n",
       "      <td>petrol</td>\n",
       "      <td>ford</td>\n",
       "      <td>no</td>\n",
       "      <td>ford _ fiesta</td>\n",
       "    </tr>\n",
       "    <tr>\n",
       "      <th>267655</th>\n",
       "      <td>1500</td>\n",
       "      <td>small</td>\n",
       "      <td>1994</td>\n",
       "      <td>manual</td>\n",
       "      <td>5</td>\n",
       "      <td>other</td>\n",
       "      <td>70000</td>\n",
       "      <td>petrol</td>\n",
       "      <td>seat</td>\n",
       "      <td>not specified</td>\n",
       "      <td>seat _ other</td>\n",
       "    </tr>\n",
       "    <tr>\n",
       "      <th>269834</th>\n",
       "      <td>1399</td>\n",
       "      <td>small</td>\n",
       "      <td>2001</td>\n",
       "      <td>manual</td>\n",
       "      <td>5</td>\n",
       "      <td>fortwo</td>\n",
       "      <td>125000</td>\n",
       "      <td>petrol</td>\n",
       "      <td>smart</td>\n",
       "      <td>no</td>\n",
       "      <td>smart _ fortwo</td>\n",
       "    </tr>\n",
       "  </tbody>\n",
       "</table>\n",
       "</div>"
      ],
      "text/plain": [
       "        price vehicle_type  registration_year gearbox  power    model  \\\n",
       "30456    4999        small               2012    auto      5    other   \n",
       "30799     655        other               1995  manual      5    other   \n",
       "53036     999  convertible               1995  manual      5    punto   \n",
       "69460     999        small               2000  manual      5   twingo   \n",
       "103793   6500          bus               2006  manual      5  5_reihe   \n",
       "117642   1790        sedan               2002  manual      5    corsa   \n",
       "121166    360        small               1999  manual      5   twingo   \n",
       "128467    650          bus               1998  manual      5   kangoo   \n",
       "135132    500        small               2016  manual      5     lupo   \n",
       "156411    700        small               2001  manual      5     polo   \n",
       "161444   1990        small               2004  manual      5   fiesta   \n",
       "267655   1500        small               1994  manual      5    other   \n",
       "269834   1399        small               2001  manual      5   fortwo   \n",
       "\n",
       "        kilometer fuel_type       brand       repaired        brand_model  \n",
       "30456        5000  electric     renault             no    renault _ other  \n",
       "30799       70000  gasoline        seat  not specified       seat _ other  \n",
       "53036      125000    petrol        fiat             no       fiat _ punto  \n",
       "69460      150000    petrol     renault  not specified   renault _ twingo  \n",
       "103793     150000    petrol       mazda             no    mazda _ 5_reihe  \n",
       "117642     150000    petrol        opel             no       opel _ corsa  \n",
       "121166     150000    petrol     renault  not specified   renault _ twingo  \n",
       "128467     150000    petrol     renault             no   renault _ kangoo  \n",
       "135132     150000    petrol  volkswagen             no  volkswagen _ lupo  \n",
       "156411     150000    petrol  volkswagen             no  volkswagen _ polo  \n",
       "161444     150000    petrol        ford             no      ford _ fiesta  \n",
       "267655      70000    petrol        seat  not specified       seat _ other  \n",
       "269834     125000    petrol       smart             no     smart _ fortwo  "
      ]
     },
     "execution_count": 128,
     "metadata": {},
     "output_type": "execute_result"
    }
   ],
   "source": [
    "data.query(\"power == 5\")"
   ]
  },
  {
   "cell_type": "code",
   "execution_count": 129,
   "metadata": {},
   "outputs": [
    {
     "data": {
      "text/html": [
       "<div>\n",
       "<style scoped>\n",
       "    .dataframe tbody tr th:only-of-type {\n",
       "        vertical-align: middle;\n",
       "    }\n",
       "\n",
       "    .dataframe tbody tr th {\n",
       "        vertical-align: top;\n",
       "    }\n",
       "\n",
       "    .dataframe thead th {\n",
       "        text-align: right;\n",
       "    }\n",
       "</style>\n",
       "<table border=\"1\" class=\"dataframe\">\n",
       "  <thead>\n",
       "    <tr style=\"text-align: right;\">\n",
       "      <th></th>\n",
       "      <th>price</th>\n",
       "      <th>vehicle_type</th>\n",
       "      <th>registration_year</th>\n",
       "      <th>gearbox</th>\n",
       "      <th>power</th>\n",
       "      <th>model</th>\n",
       "      <th>kilometer</th>\n",
       "      <th>fuel_type</th>\n",
       "      <th>brand</th>\n",
       "      <th>repaired</th>\n",
       "      <th>brand_model</th>\n",
       "    </tr>\n",
       "  </thead>\n",
       "  <tbody>\n",
       "    <tr>\n",
       "      <th>25827</th>\n",
       "      <td>700</td>\n",
       "      <td>sedan</td>\n",
       "      <td>2016</td>\n",
       "      <td>manual</td>\n",
       "      <td>10</td>\n",
       "      <td>vectra</td>\n",
       "      <td>150000</td>\n",
       "      <td>petrol</td>\n",
       "      <td>opel</td>\n",
       "      <td>not specified</td>\n",
       "      <td>opel _ vectra</td>\n",
       "    </tr>\n",
       "    <tr>\n",
       "      <th>49349</th>\n",
       "      <td>2671</td>\n",
       "      <td>wagon</td>\n",
       "      <td>2005</td>\n",
       "      <td>manual</td>\n",
       "      <td>10</td>\n",
       "      <td>touran</td>\n",
       "      <td>150000</td>\n",
       "      <td>gasoline</td>\n",
       "      <td>volkswagen</td>\n",
       "      <td>no</td>\n",
       "      <td>volkswagen _ touran</td>\n",
       "    </tr>\n",
       "    <tr>\n",
       "      <th>87168</th>\n",
       "      <td>200</td>\n",
       "      <td>small</td>\n",
       "      <td>2016</td>\n",
       "      <td>manual</td>\n",
       "      <td>10</td>\n",
       "      <td>corsa</td>\n",
       "      <td>150000</td>\n",
       "      <td>petrol</td>\n",
       "      <td>opel</td>\n",
       "      <td>no</td>\n",
       "      <td>opel _ corsa</td>\n",
       "    </tr>\n",
       "    <tr>\n",
       "      <th>136928</th>\n",
       "      <td>1199</td>\n",
       "      <td>sedan</td>\n",
       "      <td>2016</td>\n",
       "      <td>manual</td>\n",
       "      <td>10</td>\n",
       "      <td>golf</td>\n",
       "      <td>150000</td>\n",
       "      <td>petrol</td>\n",
       "      <td>volkswagen</td>\n",
       "      <td>no</td>\n",
       "      <td>volkswagen _ golf</td>\n",
       "    </tr>\n",
       "    <tr>\n",
       "      <th>211039</th>\n",
       "      <td>10200</td>\n",
       "      <td>bus</td>\n",
       "      <td>2010</td>\n",
       "      <td>manual</td>\n",
       "      <td>10</td>\n",
       "      <td>roomster</td>\n",
       "      <td>80000</td>\n",
       "      <td>petrol</td>\n",
       "      <td>skoda</td>\n",
       "      <td>not specified</td>\n",
       "      <td>skoda _ roomster</td>\n",
       "    </tr>\n",
       "    <tr>\n",
       "      <th>243022</th>\n",
       "      <td>350</td>\n",
       "      <td>small</td>\n",
       "      <td>1995</td>\n",
       "      <td>manual</td>\n",
       "      <td>10</td>\n",
       "      <td>corsa</td>\n",
       "      <td>150000</td>\n",
       "      <td>petrol</td>\n",
       "      <td>opel</td>\n",
       "      <td>no</td>\n",
       "      <td>opel _ corsa</td>\n",
       "    </tr>\n",
       "    <tr>\n",
       "      <th>248382</th>\n",
       "      <td>1490</td>\n",
       "      <td>sedan</td>\n",
       "      <td>2000</td>\n",
       "      <td>manual</td>\n",
       "      <td>10</td>\n",
       "      <td>astra</td>\n",
       "      <td>150000</td>\n",
       "      <td>petrol</td>\n",
       "      <td>opel</td>\n",
       "      <td>no</td>\n",
       "      <td>opel _ astra</td>\n",
       "    </tr>\n",
       "  </tbody>\n",
       "</table>\n",
       "</div>"
      ],
      "text/plain": [
       "        price vehicle_type  registration_year gearbox  power     model  \\\n",
       "25827     700        sedan               2016  manual     10    vectra   \n",
       "49349    2671        wagon               2005  manual     10    touran   \n",
       "87168     200        small               2016  manual     10     corsa   \n",
       "136928   1199        sedan               2016  manual     10      golf   \n",
       "211039  10200          bus               2010  manual     10  roomster   \n",
       "243022    350        small               1995  manual     10     corsa   \n",
       "248382   1490        sedan               2000  manual     10     astra   \n",
       "\n",
       "        kilometer fuel_type       brand       repaired          brand_model  \n",
       "25827      150000    petrol        opel  not specified        opel _ vectra  \n",
       "49349      150000  gasoline  volkswagen             no  volkswagen _ touran  \n",
       "87168      150000    petrol        opel             no         opel _ corsa  \n",
       "136928     150000    petrol  volkswagen             no    volkswagen _ golf  \n",
       "211039      80000    petrol       skoda  not specified     skoda _ roomster  \n",
       "243022     150000    petrol        opel             no         opel _ corsa  \n",
       "248382     150000    petrol        opel             no         opel _ astra  "
      ]
     },
     "execution_count": 129,
     "metadata": {},
     "output_type": "execute_result"
    }
   ],
   "source": [
    "data.query(\"power == 10\")"
   ]
  },
  {
   "cell_type": "code",
   "execution_count": 130,
   "metadata": {},
   "outputs": [
    {
     "data": {
      "text/html": [
       "<div>\n",
       "<style scoped>\n",
       "    .dataframe tbody tr th:only-of-type {\n",
       "        vertical-align: middle;\n",
       "    }\n",
       "\n",
       "    .dataframe tbody tr th {\n",
       "        vertical-align: top;\n",
       "    }\n",
       "\n",
       "    .dataframe thead th {\n",
       "        text-align: right;\n",
       "    }\n",
       "</style>\n",
       "<table border=\"1\" class=\"dataframe\">\n",
       "  <thead>\n",
       "    <tr style=\"text-align: right;\">\n",
       "      <th></th>\n",
       "      <th>price</th>\n",
       "      <th>vehicle_type</th>\n",
       "      <th>registration_year</th>\n",
       "      <th>gearbox</th>\n",
       "      <th>power</th>\n",
       "      <th>model</th>\n",
       "      <th>kilometer</th>\n",
       "      <th>fuel_type</th>\n",
       "      <th>brand</th>\n",
       "      <th>repaired</th>\n",
       "      <th>brand_model</th>\n",
       "    </tr>\n",
       "  </thead>\n",
       "  <tbody>\n",
       "    <tr>\n",
       "      <th>38455</th>\n",
       "      <td>4200</td>\n",
       "      <td>other</td>\n",
       "      <td>2012</td>\n",
       "      <td>auto</td>\n",
       "      <td>8</td>\n",
       "      <td>other</td>\n",
       "      <td>40000</td>\n",
       "      <td>electric</td>\n",
       "      <td>renault</td>\n",
       "      <td>no</td>\n",
       "      <td>renault _ other</td>\n",
       "    </tr>\n",
       "    <tr>\n",
       "      <th>64029</th>\n",
       "      <td>8000</td>\n",
       "      <td>small</td>\n",
       "      <td>2004</td>\n",
       "      <td>manual</td>\n",
       "      <td>8</td>\n",
       "      <td>viano</td>\n",
       "      <td>150000</td>\n",
       "      <td>gasoline</td>\n",
       "      <td>mercedes_benz</td>\n",
       "      <td>not specified</td>\n",
       "      <td>mercedes_benz _ viano</td>\n",
       "    </tr>\n",
       "    <tr>\n",
       "      <th>121037</th>\n",
       "      <td>1350</td>\n",
       "      <td>wagon</td>\n",
       "      <td>1999</td>\n",
       "      <td>manual</td>\n",
       "      <td>8</td>\n",
       "      <td>astra</td>\n",
       "      <td>150000</td>\n",
       "      <td>gasoline</td>\n",
       "      <td>opel</td>\n",
       "      <td>no</td>\n",
       "      <td>opel _ astra</td>\n",
       "    </tr>\n",
       "    <tr>\n",
       "      <th>282223</th>\n",
       "      <td>9299</td>\n",
       "      <td>wagon</td>\n",
       "      <td>2011</td>\n",
       "      <td>manual</td>\n",
       "      <td>8</td>\n",
       "      <td>golf</td>\n",
       "      <td>125000</td>\n",
       "      <td>gasoline</td>\n",
       "      <td>volkswagen</td>\n",
       "      <td>no</td>\n",
       "      <td>volkswagen _ golf</td>\n",
       "    </tr>\n",
       "  </tbody>\n",
       "</table>\n",
       "</div>"
      ],
      "text/plain": [
       "        price vehicle_type  registration_year gearbox  power  model  \\\n",
       "38455    4200        other               2012    auto      8  other   \n",
       "64029    8000        small               2004  manual      8  viano   \n",
       "121037   1350        wagon               1999  manual      8  astra   \n",
       "282223   9299        wagon               2011  manual      8   golf   \n",
       "\n",
       "        kilometer fuel_type          brand       repaired  \\\n",
       "38455       40000  electric        renault             no   \n",
       "64029      150000  gasoline  mercedes_benz  not specified   \n",
       "121037     150000  gasoline           opel             no   \n",
       "282223     125000  gasoline     volkswagen             no   \n",
       "\n",
       "                  brand_model  \n",
       "38455         renault _ other  \n",
       "64029   mercedes_benz _ viano  \n",
       "121037           opel _ astra  \n",
       "282223      volkswagen _ golf  "
      ]
     },
     "execution_count": 130,
     "metadata": {},
     "output_type": "execute_result"
    }
   ],
   "source": [
    "data.query(\"power == 8\")"
   ]
  },
  {
   "cell_type": "markdown",
   "metadata": {},
   "source": [
    "Получается, что есть модели с мощностью меньшей 30, также есть ошибочно указанные мощности. Автомобилей с мощностью равной 0 в датасете много, более 25 тысяч.\n",
    "\n",
    "В данном случае заполним мощности меньшие 30 модой по модели и бренду."
   ]
  },
  {
   "cell_type": "code",
   "execution_count": 131,
   "metadata": {},
   "outputs": [],
   "source": [
    "for x in data[data['power'] < 30]['brand_model'].unique():\n",
    "    data.loc[(data['power'] < 30) & (data['brand_model'] == x), 'power'] = \\\n",
    "    data.loc[(data['brand_model'] == x) & (data['power'] != 0), 'power'].mode()[0]"
   ]
  },
  {
   "cell_type": "code",
   "execution_count": 132,
   "metadata": {},
   "outputs": [
    {
     "data": {
      "text/html": [
       "<div>\n",
       "<style scoped>\n",
       "    .dataframe tbody tr th:only-of-type {\n",
       "        vertical-align: middle;\n",
       "    }\n",
       "\n",
       "    .dataframe tbody tr th {\n",
       "        vertical-align: top;\n",
       "    }\n",
       "\n",
       "    .dataframe thead th {\n",
       "        text-align: right;\n",
       "    }\n",
       "</style>\n",
       "<table border=\"1\" class=\"dataframe\">\n",
       "  <thead>\n",
       "    <tr style=\"text-align: right;\">\n",
       "      <th></th>\n",
       "      <th>price</th>\n",
       "      <th>vehicle_type</th>\n",
       "      <th>registration_year</th>\n",
       "      <th>gearbox</th>\n",
       "      <th>power</th>\n",
       "      <th>model</th>\n",
       "      <th>kilometer</th>\n",
       "      <th>fuel_type</th>\n",
       "      <th>brand</th>\n",
       "      <th>repaired</th>\n",
       "      <th>brand_model</th>\n",
       "    </tr>\n",
       "  </thead>\n",
       "  <tbody>\n",
       "    <tr>\n",
       "      <th>5141</th>\n",
       "      <td>650</td>\n",
       "      <td>sedan</td>\n",
       "      <td>1985</td>\n",
       "      <td>manual</td>\n",
       "      <td>26</td>\n",
       "      <td>601</td>\n",
       "      <td>30000</td>\n",
       "      <td>petrol</td>\n",
       "      <td>trabant</td>\n",
       "      <td>yes</td>\n",
       "      <td>trabant _ 601</td>\n",
       "    </tr>\n",
       "    <tr>\n",
       "      <th>5228</th>\n",
       "      <td>10000</td>\n",
       "      <td>sedan</td>\n",
       "      <td>1980</td>\n",
       "      <td>manual</td>\n",
       "      <td>26</td>\n",
       "      <td>601</td>\n",
       "      <td>40000</td>\n",
       "      <td>petrol</td>\n",
       "      <td>trabant</td>\n",
       "      <td>no</td>\n",
       "      <td>trabant _ 601</td>\n",
       "    </tr>\n",
       "    <tr>\n",
       "      <th>10422</th>\n",
       "      <td>5900</td>\n",
       "      <td>sedan</td>\n",
       "      <td>1989</td>\n",
       "      <td>manual</td>\n",
       "      <td>26</td>\n",
       "      <td>601</td>\n",
       "      <td>20000</td>\n",
       "      <td>petrol</td>\n",
       "      <td>trabant</td>\n",
       "      <td>no</td>\n",
       "      <td>trabant _ 601</td>\n",
       "    </tr>\n",
       "    <tr>\n",
       "      <th>16167</th>\n",
       "      <td>450</td>\n",
       "      <td>sedan</td>\n",
       "      <td>1988</td>\n",
       "      <td>manual</td>\n",
       "      <td>26</td>\n",
       "      <td>601</td>\n",
       "      <td>100000</td>\n",
       "      <td>petrol</td>\n",
       "      <td>trabant</td>\n",
       "      <td>not specified</td>\n",
       "      <td>trabant _ 601</td>\n",
       "    </tr>\n",
       "    <tr>\n",
       "      <th>16364</th>\n",
       "      <td>200</td>\n",
       "      <td>sedan</td>\n",
       "      <td>1990</td>\n",
       "      <td>manual</td>\n",
       "      <td>26</td>\n",
       "      <td>601</td>\n",
       "      <td>5000</td>\n",
       "      <td>petrol</td>\n",
       "      <td>trabant</td>\n",
       "      <td>not specified</td>\n",
       "      <td>trabant _ 601</td>\n",
       "    </tr>\n",
       "    <tr>\n",
       "      <th>...</th>\n",
       "      <td>...</td>\n",
       "      <td>...</td>\n",
       "      <td>...</td>\n",
       "      <td>...</td>\n",
       "      <td>...</td>\n",
       "      <td>...</td>\n",
       "      <td>...</td>\n",
       "      <td>...</td>\n",
       "      <td>...</td>\n",
       "      <td>...</td>\n",
       "      <td>...</td>\n",
       "    </tr>\n",
       "    <tr>\n",
       "      <th>291781</th>\n",
       "      <td>980</td>\n",
       "      <td>sedan</td>\n",
       "      <td>1983</td>\n",
       "      <td>manual</td>\n",
       "      <td>26</td>\n",
       "      <td>601</td>\n",
       "      <td>60000</td>\n",
       "      <td>petrol</td>\n",
       "      <td>trabant</td>\n",
       "      <td>not specified</td>\n",
       "      <td>trabant _ 601</td>\n",
       "    </tr>\n",
       "    <tr>\n",
       "      <th>292017</th>\n",
       "      <td>3500</td>\n",
       "      <td>sedan</td>\n",
       "      <td>1984</td>\n",
       "      <td>manual</td>\n",
       "      <td>26</td>\n",
       "      <td>601</td>\n",
       "      <td>70000</td>\n",
       "      <td>petrol</td>\n",
       "      <td>trabant</td>\n",
       "      <td>not specified</td>\n",
       "      <td>trabant _ 601</td>\n",
       "    </tr>\n",
       "    <tr>\n",
       "      <th>292254</th>\n",
       "      <td>1000</td>\n",
       "      <td>sedan</td>\n",
       "      <td>1989</td>\n",
       "      <td>manual</td>\n",
       "      <td>26</td>\n",
       "      <td>601</td>\n",
       "      <td>80000</td>\n",
       "      <td>petrol</td>\n",
       "      <td>trabant</td>\n",
       "      <td>not specified</td>\n",
       "      <td>trabant _ 601</td>\n",
       "    </tr>\n",
       "    <tr>\n",
       "      <th>295382</th>\n",
       "      <td>10000</td>\n",
       "      <td>other</td>\n",
       "      <td>1988</td>\n",
       "      <td>manual</td>\n",
       "      <td>26</td>\n",
       "      <td>601</td>\n",
       "      <td>5000</td>\n",
       "      <td>petrol</td>\n",
       "      <td>trabant</td>\n",
       "      <td>not specified</td>\n",
       "      <td>trabant _ 601</td>\n",
       "    </tr>\n",
       "    <tr>\n",
       "      <th>295843</th>\n",
       "      <td>900</td>\n",
       "      <td>sedan</td>\n",
       "      <td>1995</td>\n",
       "      <td>manual</td>\n",
       "      <td>26</td>\n",
       "      <td>601</td>\n",
       "      <td>5000</td>\n",
       "      <td>petrol</td>\n",
       "      <td>trabant</td>\n",
       "      <td>not specified</td>\n",
       "      <td>trabant _ 601</td>\n",
       "    </tr>\n",
       "  </tbody>\n",
       "</table>\n",
       "<p>267 rows × 11 columns</p>\n",
       "</div>"
      ],
      "text/plain": [
       "        price vehicle_type  registration_year gearbox  power model  kilometer  \\\n",
       "5141      650        sedan               1985  manual     26   601      30000   \n",
       "5228    10000        sedan               1980  manual     26   601      40000   \n",
       "10422    5900        sedan               1989  manual     26   601      20000   \n",
       "16167     450        sedan               1988  manual     26   601     100000   \n",
       "16364     200        sedan               1990  manual     26   601       5000   \n",
       "...       ...          ...                ...     ...    ...   ...        ...   \n",
       "291781    980        sedan               1983  manual     26   601      60000   \n",
       "292017   3500        sedan               1984  manual     26   601      70000   \n",
       "292254   1000        sedan               1989  manual     26   601      80000   \n",
       "295382  10000        other               1988  manual     26   601       5000   \n",
       "295843    900        sedan               1995  manual     26   601       5000   \n",
       "\n",
       "       fuel_type    brand       repaired    brand_model  \n",
       "5141      petrol  trabant            yes  trabant _ 601  \n",
       "5228      petrol  trabant             no  trabant _ 601  \n",
       "10422     petrol  trabant             no  trabant _ 601  \n",
       "16167     petrol  trabant  not specified  trabant _ 601  \n",
       "16364     petrol  trabant  not specified  trabant _ 601  \n",
       "...          ...      ...            ...            ...  \n",
       "291781    petrol  trabant  not specified  trabant _ 601  \n",
       "292017    petrol  trabant  not specified  trabant _ 601  \n",
       "292254    petrol  trabant  not specified  trabant _ 601  \n",
       "295382    petrol  trabant  not specified  trabant _ 601  \n",
       "295843    petrol  trabant  not specified  trabant _ 601  \n",
       "\n",
       "[267 rows x 11 columns]"
      ]
     },
     "execution_count": 132,
     "metadata": {},
     "output_type": "execute_result"
    }
   ],
   "source": [
    "data[data['power'] < 30]"
   ]
  },
  {
   "cell_type": "code",
   "execution_count": 133,
   "metadata": {},
   "outputs": [
    {
     "data": {
      "text/plain": [
       "array(['trabant _ 601'], dtype=object)"
      ]
     },
     "execution_count": 133,
     "metadata": {},
     "output_type": "execute_result"
    }
   ],
   "source": [
    "data[data['power'] < 30]['brand_model'].unique()"
   ]
  },
  {
   "cell_type": "markdown",
   "metadata": {},
   "source": [
    "Теперь только одна модель с мощностью меньше 30 - трабант 601, у которого действительно мощность равна 26 л.с."
   ]
  },
  {
   "cell_type": "markdown",
   "metadata": {},
   "source": [
    "![](https://wroom.ru/i/cars2/trabant_601_1_2.jpg)"
   ]
  },
  {
   "cell_type": "code",
   "execution_count": 134,
   "metadata": {
    "scrolled": true
   },
   "outputs": [
    {
     "data": {
      "image/png": "[encoded data removed]",
      "text/plain": [
       "<Figure size 1500x200 with 1 Axes>"
      ]
     },
     "metadata": {},
     "output_type": "display_data"
    }
   ],
   "source": [
    "plt.figure(figsize=(15, 2))\n",
    "\n",
    "sns.histplot(x=data['power'], color='red', bins=50)\n",
    "\n",
    "plt.show()"
   ]
  },
  {
   "cell_type": "markdown",
   "metadata": {},
   "source": [
    "Отлично, теперь аномально низких мощностей не наблюдается. Распределение нормальное, скошенное."
   ]
  },
  {
   "cell_type": "markdown",
   "metadata": {},
   "source": [
    "<h4>Столбец `kilometer`</h4>"
   ]
  },
  {
   "cell_type": "code",
   "execution_count": 135,
   "metadata": {},
   "outputs": [
    {
     "data": {
      "text/plain": [
       "count    271779.000000\n",
       "mean     130477.759503\n",
       "std       35185.385023\n",
       "min        5000.000000\n",
       "25%      125000.000000\n",
       "50%      150000.000000\n",
       "75%      150000.000000\n",
       "max      150000.000000\n",
       "Name: kilometer, dtype: float64"
      ]
     },
     "execution_count": 135,
     "metadata": {},
     "output_type": "execute_result"
    }
   ],
   "source": [
    "data['kilometer'].describe()"
   ]
  },
  {
   "cell_type": "code",
   "execution_count": 136,
   "metadata": {},
   "outputs": [
    {
     "data": {
      "image/png": "[encoded data removed]",
      "text/plain": [
       "<Figure size 1500x200 with 1 Axes>"
      ]
     },
     "metadata": {},
     "output_type": "display_data"
    }
   ],
   "source": [
    "plt.figure(figsize=(15, 2))\n",
    "\n",
    "data.groupby('kilometer')['kilometer'].agg('count').plot(kind='line', color='cadetblue')\n",
    "\n",
    "plt.show()"
   ]
  },
  {
   "cell_type": "markdown",
   "metadata": {},
   "source": [
    "Скорее всего, чаще продают автомобили с достаточно большим пробегом - этим обуславливается увеличение количества наблюдений после 100000 км."
   ]
  },
  {
   "cell_type": "code",
   "execution_count": 137,
   "metadata": {
    "scrolled": true
   },
   "outputs": [
    {
     "data": {
      "image/png": "[encoded data removed]",
      "text/plain": [
       "<Figure size 1500x200 with 1 Axes>"
      ]
     },
     "metadata": {},
     "output_type": "display_data"
    }
   ],
   "source": [
    "plt.figure(figsize=(15, 2))\n",
    "\n",
    "sns.boxplot(x=data['kilometer'], color='cadetblue')\n",
    "\n",
    "plt.show()"
   ]
  },
  {
   "cell_type": "code",
   "execution_count": 138,
   "metadata": {},
   "outputs": [
    {
     "data": {
      "image/png": "[encoded data removed]",
      "text/plain": [
       "<Figure size 1500x200 with 1 Axes>"
      ]
     },
     "metadata": {},
     "output_type": "display_data"
    }
   ],
   "source": [
    "plt.figure(figsize=(15, 2))\n",
    "\n",
    "sns.kdeplot(x=data['kilometer'], color='cadetblue')\n",
    "\n",
    "plt.show()"
   ]
  },
  {
   "cell_type": "markdown",
   "metadata": {},
   "source": [
    "Интересен пик на значении в 150000 км. Рассмотрим подробнее:"
   ]
  },
  {
   "cell_type": "code",
   "execution_count": 139,
   "metadata": {},
   "outputs": [
    {
     "data": {
      "image/png": "[encoded data removed]",
      "text/plain": [
       "<Figure size 1500x200 with 1 Axes>"
      ]
     },
     "metadata": {},
     "output_type": "display_data"
    }
   ],
   "source": [
    "plt.figure(figsize=(15,2))\n",
    "\n",
    "data[data['kilometer'] == 150000].groupby('registration_year')['registration_year']\\\n",
    "                                 .agg('count')\\\n",
    "                                 .plot(kind='bar', color='cadetblue')\n",
    "plt.xticks(rotation=45)\n",
    "plt.show()"
   ]
  },
  {
   "cell_type": "markdown",
   "metadata": {},
   "source": [
    "Годы регистрации распределены нормально, имеется один пик у 2016 года, но, возможно, что это просто интенсивно использовавшиеся автомобили.\n",
    "\n",
    "Оставим пробег в 150000 км. так, как есть - возможно, машины часто продают именно с таким пробегом.\n",
    "\n",
    "Посмотрим на маленький пробег:"
   ]
  },
  {
   "cell_type": "code",
   "execution_count": 140,
   "metadata": {},
   "outputs": [
    {
     "data": {
      "text/plain": [
       "array([ 5000, 10000, 20000, 30000, 40000, 50000, 60000, 70000, 80000],\n",
       "      dtype=int64)"
      ]
     },
     "execution_count": 140,
     "metadata": {},
     "output_type": "execute_result"
    }
   ],
   "source": [
    "data[data['kilometer'] <= 80000]['kilometer'].sort_values().unique()"
   ]
  },
  {
   "cell_type": "code",
   "execution_count": 141,
   "metadata": {},
   "outputs": [
    {
     "data": {
      "text/html": [
       "<div>\n",
       "<style scoped>\n",
       "    .dataframe tbody tr th:only-of-type {\n",
       "        vertical-align: middle;\n",
       "    }\n",
       "\n",
       "    .dataframe tbody tr th {\n",
       "        vertical-align: top;\n",
       "    }\n",
       "\n",
       "    .dataframe thead th {\n",
       "        text-align: right;\n",
       "    }\n",
       "</style>\n",
       "<table border=\"1\" class=\"dataframe\">\n",
       "  <thead>\n",
       "    <tr style=\"text-align: right;\">\n",
       "      <th></th>\n",
       "      <th>price</th>\n",
       "      <th>vehicle_type</th>\n",
       "      <th>registration_year</th>\n",
       "      <th>gearbox</th>\n",
       "      <th>power</th>\n",
       "      <th>model</th>\n",
       "      <th>kilometer</th>\n",
       "      <th>fuel_type</th>\n",
       "      <th>brand</th>\n",
       "      <th>repaired</th>\n",
       "      <th>brand_model</th>\n",
       "    </tr>\n",
       "  </thead>\n",
       "  <tbody>\n",
       "    <tr>\n",
       "      <th>7</th>\n",
       "      <td>14500</td>\n",
       "      <td>bus</td>\n",
       "      <td>2014</td>\n",
       "      <td>manual</td>\n",
       "      <td>125</td>\n",
       "      <td>c_max</td>\n",
       "      <td>30000</td>\n",
       "      <td>petrol</td>\n",
       "      <td>ford</td>\n",
       "      <td>not specified</td>\n",
       "      <td>ford _ c_max</td>\n",
       "    </tr>\n",
       "    <tr>\n",
       "      <th>24</th>\n",
       "      <td>6900</td>\n",
       "      <td>sedan</td>\n",
       "      <td>2008</td>\n",
       "      <td>manual</td>\n",
       "      <td>99</td>\n",
       "      <td>civic</td>\n",
       "      <td>60000</td>\n",
       "      <td>petrol</td>\n",
       "      <td>honda</td>\n",
       "      <td>no</td>\n",
       "      <td>honda _ civic</td>\n",
       "    </tr>\n",
       "    <tr>\n",
       "      <th>25</th>\n",
       "      <td>1990</td>\n",
       "      <td>bus</td>\n",
       "      <td>1981</td>\n",
       "      <td>manual</td>\n",
       "      <td>50</td>\n",
       "      <td>transporter</td>\n",
       "      <td>5000</td>\n",
       "      <td>petrol</td>\n",
       "      <td>volkswagen</td>\n",
       "      <td>no</td>\n",
       "      <td>volkswagen _ transporter</td>\n",
       "    </tr>\n",
       "    <tr>\n",
       "      <th>33</th>\n",
       "      <td>1600</td>\n",
       "      <td>other</td>\n",
       "      <td>1991</td>\n",
       "      <td>manual</td>\n",
       "      <td>75</td>\n",
       "      <td>kadett</td>\n",
       "      <td>70000</td>\n",
       "      <td>petrol</td>\n",
       "      <td>opel</td>\n",
       "      <td>not specified</td>\n",
       "      <td>opel _ kadett</td>\n",
       "    </tr>\n",
       "    <tr>\n",
       "      <th>41</th>\n",
       "      <td>3900</td>\n",
       "      <td>small</td>\n",
       "      <td>2008</td>\n",
       "      <td>auto</td>\n",
       "      <td>61</td>\n",
       "      <td>fortwo</td>\n",
       "      <td>80000</td>\n",
       "      <td>petrol</td>\n",
       "      <td>smart</td>\n",
       "      <td>not specified</td>\n",
       "      <td>smart _ fortwo</td>\n",
       "    </tr>\n",
       "    <tr>\n",
       "      <th>...</th>\n",
       "      <td>...</td>\n",
       "      <td>...</td>\n",
       "      <td>...</td>\n",
       "      <td>...</td>\n",
       "      <td>...</td>\n",
       "      <td>...</td>\n",
       "      <td>...</td>\n",
       "      <td>...</td>\n",
       "      <td>...</td>\n",
       "      <td>...</td>\n",
       "      <td>...</td>\n",
       "    </tr>\n",
       "    <tr>\n",
       "      <th>296342</th>\n",
       "      <td>15000</td>\n",
       "      <td>sedan</td>\n",
       "      <td>2011</td>\n",
       "      <td>manual</td>\n",
       "      <td>125</td>\n",
       "      <td>a3</td>\n",
       "      <td>60000</td>\n",
       "      <td>petrol</td>\n",
       "      <td>audi</td>\n",
       "      <td>yes</td>\n",
       "      <td>audi _ a3</td>\n",
       "    </tr>\n",
       "    <tr>\n",
       "      <th>296344</th>\n",
       "      <td>15000</td>\n",
       "      <td>sedan</td>\n",
       "      <td>2013</td>\n",
       "      <td>auto</td>\n",
       "      <td>115</td>\n",
       "      <td>focus</td>\n",
       "      <td>60000</td>\n",
       "      <td>gasoline</td>\n",
       "      <td>ford</td>\n",
       "      <td>no</td>\n",
       "      <td>ford _ focus</td>\n",
       "    </tr>\n",
       "    <tr>\n",
       "      <th>296377</th>\n",
       "      <td>5990</td>\n",
       "      <td>bus</td>\n",
       "      <td>1984</td>\n",
       "      <td>auto</td>\n",
       "      <td>94</td>\n",
       "      <td>other</td>\n",
       "      <td>70000</td>\n",
       "      <td>petrol</td>\n",
       "      <td>chevrolet</td>\n",
       "      <td>not specified</td>\n",
       "      <td>chevrolet _ other</td>\n",
       "    </tr>\n",
       "    <tr>\n",
       "      <th>296384</th>\n",
       "      <td>6750</td>\n",
       "      <td>wagon</td>\n",
       "      <td>2009</td>\n",
       "      <td>manual</td>\n",
       "      <td>126</td>\n",
       "      <td>ceed</td>\n",
       "      <td>70000</td>\n",
       "      <td>petrol</td>\n",
       "      <td>kia</td>\n",
       "      <td>no</td>\n",
       "      <td>kia _ ceed</td>\n",
       "    </tr>\n",
       "    <tr>\n",
       "      <th>296409</th>\n",
       "      <td>1700</td>\n",
       "      <td>small</td>\n",
       "      <td>1999</td>\n",
       "      <td>manual</td>\n",
       "      <td>68</td>\n",
       "      <td>justy</td>\n",
       "      <td>70000</td>\n",
       "      <td>petrol</td>\n",
       "      <td>subaru</td>\n",
       "      <td>no</td>\n",
       "      <td>subaru _ justy</td>\n",
       "    </tr>\n",
       "  </tbody>\n",
       "</table>\n",
       "<p>35722 rows × 11 columns</p>\n",
       "</div>"
      ],
      "text/plain": [
       "        price vehicle_type  registration_year gearbox  power        model  \\\n",
       "7       14500          bus               2014  manual    125        c_max   \n",
       "24       6900        sedan               2008  manual     99        civic   \n",
       "25       1990          bus               1981  manual     50  transporter   \n",
       "33       1600        other               1991  manual     75       kadett   \n",
       "41       3900        small               2008    auto     61       fortwo   \n",
       "...       ...          ...                ...     ...    ...          ...   \n",
       "296342  15000        sedan               2011  manual    125           a3   \n",
       "296344  15000        sedan               2013    auto    115        focus   \n",
       "296377   5990          bus               1984    auto     94        other   \n",
       "296384   6750        wagon               2009  manual    126         ceed   \n",
       "296409   1700        small               1999  manual     68        justy   \n",
       "\n",
       "        kilometer fuel_type       brand       repaired  \\\n",
       "7           30000    petrol        ford  not specified   \n",
       "24          60000    petrol       honda             no   \n",
       "25           5000    petrol  volkswagen             no   \n",
       "33          70000    petrol        opel  not specified   \n",
       "41          80000    petrol       smart  not specified   \n",
       "...           ...       ...         ...            ...   \n",
       "296342      60000    petrol        audi            yes   \n",
       "296344      60000  gasoline        ford             no   \n",
       "296377      70000    petrol   chevrolet  not specified   \n",
       "296384      70000    petrol         kia             no   \n",
       "296409      70000    petrol      subaru             no   \n",
       "\n",
       "                     brand_model  \n",
       "7                   ford _ c_max  \n",
       "24                 honda _ civic  \n",
       "25      volkswagen _ transporter  \n",
       "33                 opel _ kadett  \n",
       "41                smart _ fortwo  \n",
       "...                          ...  \n",
       "296342                 audi _ a3  \n",
       "296344              ford _ focus  \n",
       "296377         chevrolet _ other  \n",
       "296384                kia _ ceed  \n",
       "296409            subaru _ justy  \n",
       "\n",
       "[35722 rows x 11 columns]"
      ]
     },
     "execution_count": 141,
     "metadata": {},
     "output_type": "execute_result"
    }
   ],
   "source": [
    "data[data['kilometer'] <= 80000]"
   ]
  },
  {
   "cell_type": "code",
   "execution_count": 142,
   "metadata": {},
   "outputs": [
    {
     "data": {
      "image/png": "[encoded data removed]",
      "text/plain": [
       "<Figure size 1500x200 with 1 Axes>"
      ]
     },
     "metadata": {},
     "output_type": "display_data"
    }
   ],
   "source": [
    "plt.figure(figsize=(15,2))\n",
    "data[data['kilometer'] <= 80000].groupby('registration_year')['registration_year']\\\n",
    "                                .agg('count')\\\n",
    "                                .plot(kind='bar', color='cadetblue')\n",
    "plt.xticks(rotation=45)\n",
    "plt.show()"
   ]
  },
  {
   "cell_type": "markdown",
   "metadata": {},
   "source": [
    "Годы регистрации выглядят нормально, большая часть наблюдений небольшого пробега у поздних годов, что логично."
   ]
  },
  {
   "cell_type": "code",
   "execution_count": 143,
   "metadata": {},
   "outputs": [
    {
     "data": {
      "image/png": "[encoded data removed]",
      "text/plain": [
       "<Figure size 1500x200 with 1 Axes>"
      ]
     },
     "metadata": {},
     "output_type": "display_data"
    }
   ],
   "source": [
    "plt.figure(figsize=(15, 2))\n",
    "\n",
    "data.groupby(['registration_year'])['kilometer'].agg('mean').plot(kind='line')\n",
    "data.groupby(['registration_year'])['kilometer'].agg('median').plot(kind='line', color='red')\n",
    "\n",
    "plt.show()"
   ]
  },
  {
   "cell_type": "code",
   "execution_count": 144,
   "metadata": {},
   "outputs": [
    {
     "data": {
      "text/html": [
       "<div>\n",
       "<style scoped>\n",
       "    .dataframe tbody tr th:only-of-type {\n",
       "        vertical-align: middle;\n",
       "    }\n",
       "\n",
       "    .dataframe tbody tr th {\n",
       "        vertical-align: top;\n",
       "    }\n",
       "\n",
       "    .dataframe thead th {\n",
       "        text-align: right;\n",
       "    }\n",
       "</style>\n",
       "<table border=\"1\" class=\"dataframe\">\n",
       "  <thead>\n",
       "    <tr style=\"text-align: right;\">\n",
       "      <th></th>\n",
       "      <th>price</th>\n",
       "      <th>vehicle_type</th>\n",
       "      <th>registration_year</th>\n",
       "      <th>gearbox</th>\n",
       "      <th>power</th>\n",
       "      <th>model</th>\n",
       "      <th>fuel_type</th>\n",
       "      <th>brand</th>\n",
       "      <th>repaired</th>\n",
       "      <th>brand_model</th>\n",
       "    </tr>\n",
       "    <tr>\n",
       "      <th>kilometer</th>\n",
       "      <th></th>\n",
       "      <th></th>\n",
       "      <th></th>\n",
       "      <th></th>\n",
       "      <th></th>\n",
       "      <th></th>\n",
       "      <th></th>\n",
       "      <th></th>\n",
       "      <th></th>\n",
       "      <th></th>\n",
       "    </tr>\n",
       "  </thead>\n",
       "  <tbody>\n",
       "    <tr>\n",
       "      <th>5000</th>\n",
       "      <td>174</td>\n",
       "      <td>174</td>\n",
       "      <td>174</td>\n",
       "      <td>174</td>\n",
       "      <td>174</td>\n",
       "      <td>174</td>\n",
       "      <td>174</td>\n",
       "      <td>174</td>\n",
       "      <td>174</td>\n",
       "      <td>174</td>\n",
       "    </tr>\n",
       "    <tr>\n",
       "      <th>10000</th>\n",
       "      <td>173</td>\n",
       "      <td>173</td>\n",
       "      <td>173</td>\n",
       "      <td>173</td>\n",
       "      <td>173</td>\n",
       "      <td>173</td>\n",
       "      <td>173</td>\n",
       "      <td>173</td>\n",
       "      <td>173</td>\n",
       "      <td>173</td>\n",
       "    </tr>\n",
       "    <tr>\n",
       "      <th>20000</th>\n",
       "      <td>183</td>\n",
       "      <td>183</td>\n",
       "      <td>183</td>\n",
       "      <td>183</td>\n",
       "      <td>183</td>\n",
       "      <td>183</td>\n",
       "      <td>183</td>\n",
       "      <td>183</td>\n",
       "      <td>183</td>\n",
       "      <td>183</td>\n",
       "    </tr>\n",
       "    <tr>\n",
       "      <th>30000</th>\n",
       "      <td>52</td>\n",
       "      <td>52</td>\n",
       "      <td>52</td>\n",
       "      <td>52</td>\n",
       "      <td>52</td>\n",
       "      <td>52</td>\n",
       "      <td>52</td>\n",
       "      <td>52</td>\n",
       "      <td>52</td>\n",
       "      <td>52</td>\n",
       "    </tr>\n",
       "    <tr>\n",
       "      <th>40000</th>\n",
       "      <td>12</td>\n",
       "      <td>12</td>\n",
       "      <td>12</td>\n",
       "      <td>12</td>\n",
       "      <td>12</td>\n",
       "      <td>12</td>\n",
       "      <td>12</td>\n",
       "      <td>12</td>\n",
       "      <td>12</td>\n",
       "      <td>12</td>\n",
       "    </tr>\n",
       "    <tr>\n",
       "      <th>50000</th>\n",
       "      <td>12</td>\n",
       "      <td>12</td>\n",
       "      <td>12</td>\n",
       "      <td>12</td>\n",
       "      <td>12</td>\n",
       "      <td>12</td>\n",
       "      <td>12</td>\n",
       "      <td>12</td>\n",
       "      <td>12</td>\n",
       "      <td>12</td>\n",
       "    </tr>\n",
       "    <tr>\n",
       "      <th>60000</th>\n",
       "      <td>1</td>\n",
       "      <td>1</td>\n",
       "      <td>1</td>\n",
       "      <td>1</td>\n",
       "      <td>1</td>\n",
       "      <td>1</td>\n",
       "      <td>1</td>\n",
       "      <td>1</td>\n",
       "      <td>1</td>\n",
       "      <td>1</td>\n",
       "    </tr>\n",
       "    <tr>\n",
       "      <th>70000</th>\n",
       "      <td>1</td>\n",
       "      <td>1</td>\n",
       "      <td>1</td>\n",
       "      <td>1</td>\n",
       "      <td>1</td>\n",
       "      <td>1</td>\n",
       "      <td>1</td>\n",
       "      <td>1</td>\n",
       "      <td>1</td>\n",
       "      <td>1</td>\n",
       "    </tr>\n",
       "    <tr>\n",
       "      <th>80000</th>\n",
       "      <td>2</td>\n",
       "      <td>2</td>\n",
       "      <td>2</td>\n",
       "      <td>2</td>\n",
       "      <td>2</td>\n",
       "      <td>2</td>\n",
       "      <td>2</td>\n",
       "      <td>2</td>\n",
       "      <td>2</td>\n",
       "      <td>2</td>\n",
       "    </tr>\n",
       "    <tr>\n",
       "      <th>90000</th>\n",
       "      <td>1</td>\n",
       "      <td>1</td>\n",
       "      <td>1</td>\n",
       "      <td>1</td>\n",
       "      <td>1</td>\n",
       "      <td>1</td>\n",
       "      <td>1</td>\n",
       "      <td>1</td>\n",
       "      <td>1</td>\n",
       "      <td>1</td>\n",
       "    </tr>\n",
       "    <tr>\n",
       "      <th>100000</th>\n",
       "      <td>2</td>\n",
       "      <td>2</td>\n",
       "      <td>2</td>\n",
       "      <td>2</td>\n",
       "      <td>2</td>\n",
       "      <td>2</td>\n",
       "      <td>2</td>\n",
       "      <td>2</td>\n",
       "      <td>2</td>\n",
       "      <td>2</td>\n",
       "    </tr>\n",
       "    <tr>\n",
       "      <th>125000</th>\n",
       "      <td>1</td>\n",
       "      <td>1</td>\n",
       "      <td>1</td>\n",
       "      <td>1</td>\n",
       "      <td>1</td>\n",
       "      <td>1</td>\n",
       "      <td>1</td>\n",
       "      <td>1</td>\n",
       "      <td>1</td>\n",
       "      <td>1</td>\n",
       "    </tr>\n",
       "    <tr>\n",
       "      <th>150000</th>\n",
       "      <td>20</td>\n",
       "      <td>20</td>\n",
       "      <td>20</td>\n",
       "      <td>20</td>\n",
       "      <td>20</td>\n",
       "      <td>20</td>\n",
       "      <td>20</td>\n",
       "      <td>20</td>\n",
       "      <td>20</td>\n",
       "      <td>20</td>\n",
       "    </tr>\n",
       "  </tbody>\n",
       "</table>\n",
       "</div>"
      ],
      "text/plain": [
       "           price  vehicle_type  registration_year  gearbox  power  model  \\\n",
       "kilometer                                                                  \n",
       "5000         174           174                174      174    174    174   \n",
       "10000        173           173                173      173    173    173   \n",
       "20000        183           183                183      183    183    183   \n",
       "30000         52            52                 52       52     52     52   \n",
       "40000         12            12                 12       12     12     12   \n",
       "50000         12            12                 12       12     12     12   \n",
       "60000          1             1                  1        1      1      1   \n",
       "70000          1             1                  1        1      1      1   \n",
       "80000          2             2                  2        2      2      2   \n",
       "90000          1             1                  1        1      1      1   \n",
       "100000         2             2                  2        2      2      2   \n",
       "125000         1             1                  1        1      1      1   \n",
       "150000        20            20                 20       20     20     20   \n",
       "\n",
       "           fuel_type  brand  repaired  brand_model  \n",
       "kilometer                                           \n",
       "5000             174    174       174          174  \n",
       "10000            173    173       173          173  \n",
       "20000            183    183       183          183  \n",
       "30000             52     52        52           52  \n",
       "40000             12     12        12           12  \n",
       "50000             12     12        12           12  \n",
       "60000              1      1         1            1  \n",
       "70000              1      1         1            1  \n",
       "80000              2      2         2            2  \n",
       "90000              1      1         1            1  \n",
       "100000             2      2         2            2  \n",
       "125000             1      1         1            1  \n",
       "150000            20     20        20           20  "
      ]
     },
     "execution_count": 144,
     "metadata": {},
     "output_type": "execute_result"
    }
   ],
   "source": [
    "data[data['registration_year'] == 2015].groupby('kilometer').agg('count')"
   ]
  },
  {
   "cell_type": "code",
   "execution_count": 145,
   "metadata": {},
   "outputs": [
    {
     "data": {
      "image/png": "[encoded data removed]",
      "text/plain": [
       "<Figure size 1500x200 with 1 Axes>"
      ]
     },
     "metadata": {},
     "output_type": "display_data"
    }
   ],
   "source": [
    "plt.figure(figsize=(15, 2))\n",
    "\n",
    "data.groupby(['registration_year'])['registration_year'].agg('count').plot(kind='bar', color='grey')\n",
    "\n",
    "plt.show()"
   ]
  },
  {
   "cell_type": "markdown",
   "metadata": {},
   "source": [
    "У 2015 года регистрации мало наблюдений, по сравнению с остальными. Также в 2015 преобладает меньший пробег, чем в остальных годах. \n",
    "\n",
    "Распределения выглядят нормальными, причину выбросов и провалов на графиках выяснили. Оставим пробег, как есть, так как аномалии объясняются обычными тенденциями."
   ]
  },
  {
   "cell_type": "markdown",
   "metadata": {},
   "source": [
    "<h4>Исследование корреляции признаков</h4>"
   ]
  },
  {
   "cell_type": "code",
   "execution_count": 146,
   "metadata": {},
   "outputs": [
    {
     "data": {
      "text/html": [
       "<div>\n",
       "<style scoped>\n",
       "    .dataframe tbody tr th:only-of-type {\n",
       "        vertical-align: middle;\n",
       "    }\n",
       "\n",
       "    .dataframe tbody tr th {\n",
       "        vertical-align: top;\n",
       "    }\n",
       "\n",
       "    .dataframe thead th {\n",
       "        text-align: right;\n",
       "    }\n",
       "</style>\n",
       "<table border=\"1\" class=\"dataframe\">\n",
       "  <thead>\n",
       "    <tr style=\"text-align: right;\">\n",
       "      <th></th>\n",
       "      <th>registration_year</th>\n",
       "      <th>power</th>\n",
       "      <th>kilometer</th>\n",
       "    </tr>\n",
       "  </thead>\n",
       "  <tbody>\n",
       "    <tr>\n",
       "      <th>registration_year</th>\n",
       "      <td>1.000000</td>\n",
       "      <td>0.086497</td>\n",
       "      <td>-0.295396</td>\n",
       "    </tr>\n",
       "    <tr>\n",
       "      <th>power</th>\n",
       "      <td>0.086497</td>\n",
       "      <td>1.000000</td>\n",
       "      <td>0.151127</td>\n",
       "    </tr>\n",
       "    <tr>\n",
       "      <th>kilometer</th>\n",
       "      <td>-0.295396</td>\n",
       "      <td>0.151127</td>\n",
       "      <td>1.000000</td>\n",
       "    </tr>\n",
       "  </tbody>\n",
       "</table>\n",
       "</div>"
      ],
      "text/plain": [
       "                   registration_year     power  kilometer\n",
       "registration_year           1.000000  0.086497  -0.295396\n",
       "power                       0.086497  1.000000   0.151127\n",
       "kilometer                  -0.295396  0.151127   1.000000"
      ]
     },
     "execution_count": 146,
     "metadata": {},
     "output_type": "execute_result"
    }
   ],
   "source": [
    "data.drop(columns='price').corr()"
   ]
  },
  {
   "cell_type": "markdown",
   "metadata": {},
   "source": [
    "Как видим, по шкале Чеддока сила связи между независимыми признаками \"слабая\" (0.1 - 0.3). Значит, явления мультиколлинеарности признаков не должно быть."
   ]
  },
  {
   "cell_type": "markdown",
   "metadata": {},
   "source": [
    "<h3>Итог предобработки данных</h3>"
   ]
  },
  {
   "cell_type": "code",
   "execution_count": 147,
   "metadata": {},
   "outputs": [
    {
     "data": {
      "text/plain": [
       "23"
      ]
     },
     "execution_count": 147,
     "metadata": {},
     "output_type": "execute_result"
    }
   ],
   "source": [
    "round(100 - data.shape[0] / DF_LEN * 100)"
   ]
  },
  {
   "cell_type": "code",
   "execution_count": 148,
   "metadata": {},
   "outputs": [
    {
     "data": {
      "text/plain": [
       "271779"
      ]
     },
     "execution_count": 148,
     "metadata": {},
     "output_type": "execute_result"
    }
   ],
   "source": [
    "data.shape[0]"
   ]
  },
  {
   "cell_type": "markdown",
   "metadata": {},
   "source": [
    "Итак, в процессе чистки и предобработки данных были удалены 23% наблюдений от исходного датасета. Мы столкнулись с противоречащими друг другу признаками, пропущенными значениями, аномальными значениями. Где возможно, пропущенные признаки были восстановлены, аномалии исправлены. \n",
    "\n",
    "Полагаю, что количество оставшихся объектов - 271 тысяча - позволит обучить точную модель для предсказания рыночной стоимости автомобиля."
   ]
  },
  {
   "cell_type": "markdown",
   "metadata": {},
   "source": [
    "<h3>Разделение данных на выборки</h3>"
   ]
  },
  {
   "cell_type": "markdown",
   "metadata": {},
   "source": [
    "Перед нами задача прогнозирования рыночной стоимости автомобиля - то есть, задача регрессии. В качестве моделей, которые мы будем обучать и тестировать, возьмем LightGBM - модель градиентного бустинга по заданию, модель CatBoost - градиентный бустинг от Яндекса и модель линейной регрессии из sklearn.\n",
    "\n",
    "В датасете имеются количественные и категориальные признаки. Для моделей CatBoost и LightGBM не требуется внешнее кодирование категориальных признаков, но для линейной регрессии требуется, поэтому, сначала обучим и протестируем модели градиентного бустинга, а после линейную модель. Для всех моделей произведем масштабирование количественных признаков."
   ]
  },
  {
   "cell_type": "markdown",
   "metadata": {},
   "source": [
    "<h4>Отделение целевого признака</h4>\n",
    "\n",
    "Сначала разобьем датасет на **features** и **target**, а также удалим столбец `brand_model`, который создали для заполнения пропущенных значений."
   ]
  },
  {
   "cell_type": "code",
   "execution_count": 149,
   "metadata": {},
   "outputs": [],
   "source": [
    "data.reset_index(drop=True, inplace=True)"
   ]
  },
  {
   "cell_type": "code",
   "execution_count": 150,
   "metadata": {},
   "outputs": [
    {
     "data": {
      "text/html": [
       "<div>\n",
       "<style scoped>\n",
       "    .dataframe tbody tr th:only-of-type {\n",
       "        vertical-align: middle;\n",
       "    }\n",
       "\n",
       "    .dataframe tbody tr th {\n",
       "        vertical-align: top;\n",
       "    }\n",
       "\n",
       "    .dataframe thead th {\n",
       "        text-align: right;\n",
       "    }\n",
       "</style>\n",
       "<table border=\"1\" class=\"dataframe\">\n",
       "  <thead>\n",
       "    <tr style=\"text-align: right;\">\n",
       "      <th></th>\n",
       "      <th>price</th>\n",
       "      <th>vehicle_type</th>\n",
       "      <th>registration_year</th>\n",
       "      <th>gearbox</th>\n",
       "      <th>power</th>\n",
       "      <th>model</th>\n",
       "      <th>kilometer</th>\n",
       "      <th>fuel_type</th>\n",
       "      <th>brand</th>\n",
       "      <th>repaired</th>\n",
       "      <th>brand_model</th>\n",
       "    </tr>\n",
       "  </thead>\n",
       "  <tbody>\n",
       "    <tr>\n",
       "      <th>0</th>\n",
       "      <td>480</td>\n",
       "      <td>sedan</td>\n",
       "      <td>1993</td>\n",
       "      <td>manual</td>\n",
       "      <td>75</td>\n",
       "      <td>golf</td>\n",
       "      <td>150000</td>\n",
       "      <td>petrol</td>\n",
       "      <td>volkswagen</td>\n",
       "      <td>not specified</td>\n",
       "      <td>volkswagen _ golf</td>\n",
       "    </tr>\n",
       "    <tr>\n",
       "      <th>1</th>\n",
       "      <td>9800</td>\n",
       "      <td>suv</td>\n",
       "      <td>2004</td>\n",
       "      <td>auto</td>\n",
       "      <td>163</td>\n",
       "      <td>grand</td>\n",
       "      <td>125000</td>\n",
       "      <td>gasoline</td>\n",
       "      <td>jeep</td>\n",
       "      <td>not specified</td>\n",
       "      <td>jeep _ grand</td>\n",
       "    </tr>\n",
       "    <tr>\n",
       "      <th>2</th>\n",
       "      <td>1500</td>\n",
       "      <td>small</td>\n",
       "      <td>2001</td>\n",
       "      <td>manual</td>\n",
       "      <td>75</td>\n",
       "      <td>golf</td>\n",
       "      <td>150000</td>\n",
       "      <td>petrol</td>\n",
       "      <td>volkswagen</td>\n",
       "      <td>no</td>\n",
       "      <td>volkswagen _ golf</td>\n",
       "    </tr>\n",
       "    <tr>\n",
       "      <th>3</th>\n",
       "      <td>3600</td>\n",
       "      <td>small</td>\n",
       "      <td>2008</td>\n",
       "      <td>manual</td>\n",
       "      <td>69</td>\n",
       "      <td>fabia</td>\n",
       "      <td>90000</td>\n",
       "      <td>gasoline</td>\n",
       "      <td>skoda</td>\n",
       "      <td>no</td>\n",
       "      <td>skoda _ fabia</td>\n",
       "    </tr>\n",
       "    <tr>\n",
       "      <th>4</th>\n",
       "      <td>650</td>\n",
       "      <td>sedan</td>\n",
       "      <td>1995</td>\n",
       "      <td>manual</td>\n",
       "      <td>102</td>\n",
       "      <td>3er</td>\n",
       "      <td>150000</td>\n",
       "      <td>petrol</td>\n",
       "      <td>bmw</td>\n",
       "      <td>yes</td>\n",
       "      <td>bmw _ 3er</td>\n",
       "    </tr>\n",
       "  </tbody>\n",
       "</table>\n",
       "</div>"
      ],
      "text/plain": [
       "   price vehicle_type  registration_year gearbox  power  model  kilometer  \\\n",
       "0    480        sedan               1993  manual     75   golf     150000   \n",
       "1   9800          suv               2004    auto    163  grand     125000   \n",
       "2   1500        small               2001  manual     75   golf     150000   \n",
       "3   3600        small               2008  manual     69  fabia      90000   \n",
       "4    650        sedan               1995  manual    102    3er     150000   \n",
       "\n",
       "  fuel_type       brand       repaired        brand_model  \n",
       "0    petrol  volkswagen  not specified  volkswagen _ golf  \n",
       "1  gasoline        jeep  not specified       jeep _ grand  \n",
       "2    petrol  volkswagen             no  volkswagen _ golf  \n",
       "3  gasoline       skoda             no      skoda _ fabia  \n",
       "4    petrol         bmw            yes          bmw _ 3er  "
      ]
     },
     "execution_count": 150,
     "metadata": {},
     "output_type": "execute_result"
    }
   ],
   "source": [
    "data.head()"
   ]
  },
  {
   "cell_type": "code",
   "execution_count": 151,
   "metadata": {},
   "outputs": [
    {
     "name": "stdout",
     "output_type": "stream",
     "text": [
      "<class 'pandas.core.frame.DataFrame'>\n",
      "RangeIndex: 271779 entries, 0 to 271778\n",
      "Data columns (total 11 columns):\n",
      " #   Column             Non-Null Count   Dtype \n",
      "---  ------             --------------   ----- \n",
      " 0   price              271779 non-null  int64 \n",
      " 1   vehicle_type       271779 non-null  object\n",
      " 2   registration_year  271779 non-null  int64 \n",
      " 3   gearbox            271779 non-null  object\n",
      " 4   power              271779 non-null  int64 \n",
      " 5   model              271779 non-null  object\n",
      " 6   kilometer          271779 non-null  int64 \n",
      " 7   fuel_type          271779 non-null  object\n",
      " 8   brand              271779 non-null  object\n",
      " 9   repaired           271779 non-null  object\n",
      " 10  brand_model        271779 non-null  object\n",
      "dtypes: int64(4), object(7)\n",
      "memory usage: 22.8+ MB\n"
     ]
    }
   ],
   "source": [
    "data.info()"
   ]
  },
  {
   "cell_type": "code",
   "execution_count": 152,
   "metadata": {},
   "outputs": [],
   "source": [
    "data.drop(columns='brand_model', inplace=True)"
   ]
  },
  {
   "cell_type": "code",
   "execution_count": 153,
   "metadata": {},
   "outputs": [],
   "source": [
    "features = data.drop('price', axis=1)"
   ]
  },
  {
   "cell_type": "code",
   "execution_count": 154,
   "metadata": {},
   "outputs": [
    {
     "data": {
      "text/plain": [
       "271779"
      ]
     },
     "execution_count": 154,
     "metadata": {},
     "output_type": "execute_result"
    }
   ],
   "source": [
    "features.shape[0]"
   ]
  },
  {
   "cell_type": "code",
   "execution_count": 155,
   "metadata": {},
   "outputs": [],
   "source": [
    "target = data['price']"
   ]
  },
  {
   "cell_type": "code",
   "execution_count": 156,
   "metadata": {},
   "outputs": [
    {
     "data": {
      "text/plain": [
       "271779"
      ]
     },
     "execution_count": 156,
     "metadata": {},
     "output_type": "execute_result"
    }
   ],
   "source": [
    "target.shape[0]"
   ]
  },
  {
   "cell_type": "markdown",
   "metadata": {},
   "source": [
    "<h4>Разбиение на обучающую и тестовую выборки</h4>"
   ]
  },
  {
   "cell_type": "code",
   "execution_count": 157,
   "metadata": {},
   "outputs": [],
   "source": [
    "features_train, features_test, target_train, target_test = \\\n",
    "        train_test_split(features, target, test_size=0.25, random_state=RS)"
   ]
  },
  {
   "cell_type": "code",
   "execution_count": 158,
   "metadata": {},
   "outputs": [],
   "source": [
    "features_train = features_train.copy()"
   ]
  },
  {
   "cell_type": "code",
   "execution_count": 159,
   "metadata": {},
   "outputs": [],
   "source": [
    "features_test = features_test.copy()"
   ]
  },
  {
   "cell_type": "code",
   "execution_count": 160,
   "metadata": {},
   "outputs": [
    {
     "data": {
      "text/plain": [
       "203834"
      ]
     },
     "execution_count": 160,
     "metadata": {},
     "output_type": "execute_result"
    }
   ],
   "source": [
    "features_train.shape[0]"
   ]
  },
  {
   "cell_type": "code",
   "execution_count": 161,
   "metadata": {},
   "outputs": [
    {
     "data": {
      "text/plain": [
       "67945"
      ]
     },
     "execution_count": 161,
     "metadata": {},
     "output_type": "execute_result"
    }
   ],
   "source": [
    "features_test.shape[0]"
   ]
  },
  {
   "cell_type": "code",
   "execution_count": 162,
   "metadata": {},
   "outputs": [
    {
     "data": {
      "text/plain": [
       "203834"
      ]
     },
     "execution_count": 162,
     "metadata": {},
     "output_type": "execute_result"
    }
   ],
   "source": [
    "target_train.shape[0]"
   ]
  },
  {
   "cell_type": "code",
   "execution_count": 163,
   "metadata": {},
   "outputs": [
    {
     "data": {
      "text/plain": [
       "67945"
      ]
     },
     "execution_count": 163,
     "metadata": {},
     "output_type": "execute_result"
    }
   ],
   "source": [
    "target_test.shape[0]"
   ]
  },
  {
   "cell_type": "markdown",
   "metadata": {},
   "source": [
    "<h4>Масштабирование признаков</h4>"
   ]
  },
  {
   "cell_type": "markdown",
   "metadata": {},
   "source": [
    "Определим столбцы с количественными признаками, которые будем масштабировать:\n",
    "\n",
    "- `registration_year`\n",
    "- `power`\n",
    "- `kilometer`"
   ]
  },
  {
   "cell_type": "code",
   "execution_count": 164,
   "metadata": {},
   "outputs": [],
   "source": [
    "numeric = ['registration_year', 'power', 'kilometer']"
   ]
  },
  {
   "cell_type": "code",
   "execution_count": 165,
   "metadata": {},
   "outputs": [],
   "source": [
    "scaler = StandardScaler()\n",
    "features_train[numeric] = scaler.fit_transform(features_train[numeric])\n",
    "features_test[numeric] = scaler.transform(features_test[numeric])"
   ]
  },
  {
   "cell_type": "code",
   "execution_count": 166,
   "metadata": {},
   "outputs": [
    {
     "data": {
      "text/html": [
       "<div>\n",
       "<style scoped>\n",
       "    .dataframe tbody tr th:only-of-type {\n",
       "        vertical-align: middle;\n",
       "    }\n",
       "\n",
       "    .dataframe tbody tr th {\n",
       "        vertical-align: top;\n",
       "    }\n",
       "\n",
       "    .dataframe thead th {\n",
       "        text-align: right;\n",
       "    }\n",
       "</style>\n",
       "<table border=\"1\" class=\"dataframe\">\n",
       "  <thead>\n",
       "    <tr style=\"text-align: right;\">\n",
       "      <th></th>\n",
       "      <th>registration_year</th>\n",
       "      <th>power</th>\n",
       "      <th>kilometer</th>\n",
       "    </tr>\n",
       "  </thead>\n",
       "  <tbody>\n",
       "    <tr>\n",
       "      <th>count</th>\n",
       "      <td>2.038340e+05</td>\n",
       "      <td>2.038340e+05</td>\n",
       "      <td>2.038340e+05</td>\n",
       "    </tr>\n",
       "    <tr>\n",
       "      <th>mean</th>\n",
       "      <td>9.012836e-15</td>\n",
       "      <td>5.155630e-17</td>\n",
       "      <td>-6.504669e-17</td>\n",
       "    </tr>\n",
       "    <tr>\n",
       "      <th>std</th>\n",
       "      <td>1.000002e+00</td>\n",
       "      <td>1.000002e+00</td>\n",
       "      <td>1.000002e+00</td>\n",
       "    </tr>\n",
       "    <tr>\n",
       "      <th>min</th>\n",
       "      <td>-3.864960e+00</td>\n",
       "      <td>-1.827653e+00</td>\n",
       "      <td>-3.576829e+00</td>\n",
       "    </tr>\n",
       "    <tr>\n",
       "      <th>25%</th>\n",
       "      <td>-6.216275e-01</td>\n",
       "      <td>-8.319141e-01</td>\n",
       "      <td>-1.580636e-01</td>\n",
       "    </tr>\n",
       "    <tr>\n",
       "      <th>50%</th>\n",
       "      <td>6.117941e-02</td>\n",
       "      <td>-1.409930e-01</td>\n",
       "      <td>5.541793e-01</td>\n",
       "    </tr>\n",
       "    <tr>\n",
       "      <th>75%</th>\n",
       "      <td>7.439863e-01</td>\n",
       "      <td>5.499281e-01</td>\n",
       "      <td>5.541793e-01</td>\n",
       "    </tr>\n",
       "    <tr>\n",
       "      <th>max</th>\n",
       "      <td>2.280302e+00</td>\n",
       "      <td>5.752158e+00</td>\n",
       "      <td>5.541793e-01</td>\n",
       "    </tr>\n",
       "  </tbody>\n",
       "</table>\n",
       "</div>"
      ],
      "text/plain": [
       "       registration_year         power     kilometer\n",
       "count       2.038340e+05  2.038340e+05  2.038340e+05\n",
       "mean        9.012836e-15  5.155630e-17 -6.504669e-17\n",
       "std         1.000002e+00  1.000002e+00  1.000002e+00\n",
       "min        -3.864960e+00 -1.827653e+00 -3.576829e+00\n",
       "25%        -6.216275e-01 -8.319141e-01 -1.580636e-01\n",
       "50%         6.117941e-02 -1.409930e-01  5.541793e-01\n",
       "75%         7.439863e-01  5.499281e-01  5.541793e-01\n",
       "max         2.280302e+00  5.752158e+00  5.541793e-01"
      ]
     },
     "execution_count": 166,
     "metadata": {},
     "output_type": "execute_result"
    }
   ],
   "source": [
    "features_train.describe()"
   ]
  },
  {
   "cell_type": "code",
   "execution_count": 167,
   "metadata": {},
   "outputs": [
    {
     "data": {
      "text/html": [
       "<div>\n",
       "<style scoped>\n",
       "    .dataframe tbody tr th:only-of-type {\n",
       "        vertical-align: middle;\n",
       "    }\n",
       "\n",
       "    .dataframe tbody tr th {\n",
       "        vertical-align: top;\n",
       "    }\n",
       "\n",
       "    .dataframe thead th {\n",
       "        text-align: right;\n",
       "    }\n",
       "</style>\n",
       "<table border=\"1\" class=\"dataframe\">\n",
       "  <thead>\n",
       "    <tr style=\"text-align: right;\">\n",
       "      <th></th>\n",
       "      <th>registration_year</th>\n",
       "      <th>power</th>\n",
       "      <th>kilometer</th>\n",
       "    </tr>\n",
       "  </thead>\n",
       "  <tbody>\n",
       "    <tr>\n",
       "      <th>count</th>\n",
       "      <td>67945.000000</td>\n",
       "      <td>67945.000000</td>\n",
       "      <td>67945.000000</td>\n",
       "    </tr>\n",
       "    <tr>\n",
       "      <th>mean</th>\n",
       "      <td>0.004187</td>\n",
       "      <td>-0.011971</td>\n",
       "      <td>-0.008015</td>\n",
       "    </tr>\n",
       "    <tr>\n",
       "      <th>std</th>\n",
       "      <td>1.004149</td>\n",
       "      <td>0.999662</td>\n",
       "      <td>1.009628</td>\n",
       "    </tr>\n",
       "    <tr>\n",
       "      <th>min</th>\n",
       "      <td>-3.864960</td>\n",
       "      <td>-1.827653</td>\n",
       "      <td>-3.576829</td>\n",
       "    </tr>\n",
       "    <tr>\n",
       "      <th>25%</th>\n",
       "      <td>-0.621627</td>\n",
       "      <td>-0.831914</td>\n",
       "      <td>-0.158064</td>\n",
       "    </tr>\n",
       "    <tr>\n",
       "      <th>50%</th>\n",
       "      <td>0.061179</td>\n",
       "      <td>-0.181635</td>\n",
       "      <td>0.554179</td>\n",
       "    </tr>\n",
       "    <tr>\n",
       "      <th>75%</th>\n",
       "      <td>0.743986</td>\n",
       "      <td>0.509286</td>\n",
       "      <td>0.554179</td>\n",
       "    </tr>\n",
       "    <tr>\n",
       "      <th>max</th>\n",
       "      <td>2.280302</td>\n",
       "      <td>5.752158</td>\n",
       "      <td>0.554179</td>\n",
       "    </tr>\n",
       "  </tbody>\n",
       "</table>\n",
       "</div>"
      ],
      "text/plain": [
       "       registration_year         power     kilometer\n",
       "count       67945.000000  67945.000000  67945.000000\n",
       "mean            0.004187     -0.011971     -0.008015\n",
       "std             1.004149      0.999662      1.009628\n",
       "min            -3.864960     -1.827653     -3.576829\n",
       "25%            -0.621627     -0.831914     -0.158064\n",
       "50%             0.061179     -0.181635      0.554179\n",
       "75%             0.743986      0.509286      0.554179\n",
       "max             2.280302      5.752158      0.554179"
      ]
     },
     "execution_count": 167,
     "metadata": {},
     "output_type": "execute_result"
    }
   ],
   "source": [
    "features_test.describe()"
   ]
  },
  {
   "cell_type": "markdown",
   "metadata": {},
   "source": [
    "Видим, что все отмасштабировалось. Можем приступать к обучению моделей LightGBM и CatBoost, так как для них не требуется кодирование категориальных признаков. Линейную регрессию обучим после, закодируем признаки непосредственно перед ее обучением."
   ]
  },
  {
   "cell_type": "markdown",
   "metadata": {},
   "source": [
    "## Обучение моделей"
   ]
  },
  {
   "cell_type": "markdown",
   "metadata": {},
   "source": [
    "Требуемая по заданию метрика качества модели - среднеквадратическое отклонение, RMSE. Напишем функцию для ее вычисления."
   ]
  },
  {
   "cell_type": "code",
   "execution_count": 168,
   "metadata": {},
   "outputs": [],
   "source": [
    "def rmse(target, predictions):\n",
    "    rmse = ((target - predictions)**2).mean()**0.5\n",
    "    return rmse"
   ]
  },
  {
   "cell_type": "markdown",
   "metadata": {},
   "source": [
    "<h4>Модель LightGBM</h4>"
   ]
  },
  {
   "cell_type": "markdown",
   "metadata": {},
   "source": [
    "Для того, чтобы модель работала, присвоим категориальным признакам тип `category` в pandas:"
   ]
  },
  {
   "cell_type": "code",
   "execution_count": 169,
   "metadata": {},
   "outputs": [],
   "source": [
    "rmse_scorer = make_scorer(rmse)"
   ]
  },
  {
   "cell_type": "code",
   "execution_count": 170,
   "metadata": {},
   "outputs": [],
   "source": [
    "cat_feature=['vehicle_type', 'gearbox', 'power', 'model', 'brand', 'fuel_type', 'repaired']"
   ]
  },
  {
   "cell_type": "code",
   "execution_count": 171,
   "metadata": {},
   "outputs": [],
   "source": [
    "features_train[cat_feature] = features_train[cat_feature].astype('category')"
   ]
  },
  {
   "cell_type": "code",
   "execution_count": 172,
   "metadata": {},
   "outputs": [],
   "source": [
    "features_test[cat_feature] = features_test[cat_feature].astype('category')"
   ]
  },
  {
   "cell_type": "markdown",
   "metadata": {},
   "source": [
    "Обучим несколько моделей и определим лучшую с помощью GridSearchCV - изменять будем гиперпараметры `num_leaves` и `max_depth`:"
   ]
  },
  {
   "cell_type": "code",
   "execution_count": 173,
   "metadata": {},
   "outputs": [],
   "source": [
    "lgb = ltb.LGBMRegressor(random_state=RS)"
   ]
  },
  {
   "cell_type": "code",
   "execution_count": 174,
   "metadata": {},
   "outputs": [],
   "source": [
    "lgb_params = [{'max_depth':[3, 5, 6, 7, 9, 12, 15, 17, 25], 'learning_rate':[0.1, 0.2, 0.3, 0.4, 0.5]}]"
   ]
  },
  {
   "cell_type": "code",
   "execution_count": 175,
   "metadata": {},
   "outputs": [],
   "source": [
    "best_lgb = GridSearchCV(lgb, lgb_params, cv=5, scoring=rmse_scorer)"
   ]
  },
  {
   "cell_type": "code",
   "execution_count": 176,
   "metadata": {
    "scrolled": false
   },
   "outputs": [
    {
     "data": {
      "text/plain": [
       "GridSearchCV(cv=5, estimator=LGBMRegressor(random_state=1212),\n",
       "             param_grid=[{'learning_rate': [0.1, 0.2, 0.3, 0.4, 0.5],\n",
       "                          'max_depth': [3, 5, 6, 7, 9, 12, 15, 17, 25]}],\n",
       "             scoring=make_scorer(rmse))"
      ]
     },
     "execution_count": 176,
     "metadata": {},
     "output_type": "execute_result"
    }
   ],
   "source": [
    "best_lgb.fit(features_train, target_train)"
   ]
  },
  {
   "cell_type": "markdown",
   "metadata": {},
   "source": [
    "Посмотрим на лучший результат:"
   ]
  },
  {
   "cell_type": "code",
   "execution_count": 177,
   "metadata": {},
   "outputs": [
    {
     "data": {
      "text/plain": [
       "{'learning_rate': 0.1, 'max_depth': 3}"
      ]
     },
     "execution_count": 177,
     "metadata": {},
     "output_type": "execute_result"
    }
   ],
   "source": [
    "best_lgb.best_params_"
   ]
  },
  {
   "cell_type": "code",
   "execution_count": 178,
   "metadata": {},
   "outputs": [
    {
     "data": {
      "text/plain": [
       "1492.8488460118153"
      ]
     },
     "execution_count": 178,
     "metadata": {},
     "output_type": "execute_result"
    }
   ],
   "source": [
    "best_lgb.best_score_"
   ]
  },
  {
   "cell_type": "markdown",
   "metadata": {},
   "source": [
    "Итак, лучший результат, а именно RMSE = 1493 показала модель LightGBM с параметрами `learning_rate=0.1`, `max_depth=3`. Посмотрим, сколько времени занимает обучение данной модели на тренировочной и предсказание на тренировочной выборке с помощью команды %%time, сохраним время с помощью библиотеки time."
   ]
  },
  {
   "cell_type": "code",
   "execution_count": 179,
   "metadata": {},
   "outputs": [
    {
     "name": "stdout",
     "output_type": "stream",
     "text": [
      "Затраченное время: 0.45 сек\n",
      "CPU times: total: 3.64 s\n",
      "Wall time: 452 ms\n"
     ]
    }
   ],
   "source": [
    "%%time\n",
    "start = time.time()\n",
    "model_ltb = ltb.LGBMRegressor(num_leaves=2, max_depth=1, random_state = RS)\n",
    "model_ltb.fit(features_train, target_train)\n",
    "end = time.time()\n",
    "time_fit_lgb = end-start\n",
    "print(\"Затраченное время:\", round(time_fit_lgb, 2), \"сек\")"
   ]
  },
  {
   "cell_type": "code",
   "execution_count": 180,
   "metadata": {},
   "outputs": [
    {
     "name": "stdout",
     "output_type": "stream",
     "text": [
      "Затраченное время: 0.15 сек\n",
      "CPU times: total: 1.53 s\n",
      "Wall time: 150 ms\n"
     ]
    }
   ],
   "source": [
    "%%time\n",
    "start = time.time()\n",
    "lgb_predictions = model_ltb.predict(features_train)\n",
    "end = time.time()\n",
    "time_predict_lgb = end-start\n",
    "print(\"Затраченное время:\", round(time_predict_lgb, 2), \"сек\")"
   ]
  },
  {
   "cell_type": "markdown",
   "metadata": {},
   "source": [
    "<h4>Модель CatBoost</h4>"
   ]
  },
  {
   "cell_type": "markdown",
   "metadata": {},
   "source": [
    "Для модели CatBoost переведем категориальные столбцы в тип string. В качестве функции потерь будем использовать среднеквадратическое отклонение, изменять будем гиперпараметры iterations - количество итераций, и глубину - depth."
   ]
  },
  {
   "cell_type": "code",
   "execution_count": 181,
   "metadata": {},
   "outputs": [],
   "source": [
    "features_train[cat_feature] = features_train[cat_feature].astype('str')\n",
    "features_test[cat_feature] = features_test[cat_feature].astype('str')"
   ]
  },
  {
   "cell_type": "code",
   "execution_count": 182,
   "metadata": {},
   "outputs": [],
   "source": [
    "cat = ctb.CatBoostRegressor(loss_function=\"RMSE\", random_state = RS, cat_features=cat_feature, verbose=False)"
   ]
  },
  {
   "cell_type": "code",
   "execution_count": 183,
   "metadata": {},
   "outputs": [],
   "source": [
    "cat_params = [{'depth':[3, 5, 6, 7, 9, 12, 16], 'iterations':list(range(50, 100, 10)), }]"
   ]
  },
  {
   "cell_type": "code",
   "execution_count": 184,
   "metadata": {},
   "outputs": [],
   "source": [
    "best_cat = GridSearchCV(cat, cat_params, cv=5, scoring=rmse_scorer)"
   ]
  },
  {
   "cell_type": "code",
   "execution_count": 185,
   "metadata": {
    "scrolled": false
   },
   "outputs": [
    {
     "data": {
      "text/plain": [
       "GridSearchCV(cv=5,\n",
       "             estimator=<catboost.core.CatBoostRegressor object at 0x000001755F5E11C0>,\n",
       "             param_grid=[{'depth': [3, 5, 6, 7, 9, 12, 16],\n",
       "                          'iterations': [50, 60, 70, 80, 90]}],\n",
       "             scoring=make_scorer(rmse))"
      ]
     },
     "execution_count": 185,
     "metadata": {},
     "output_type": "execute_result"
    }
   ],
   "source": [
    "best_cat.fit(features_train, target_train)"
   ]
  },
  {
   "cell_type": "markdown",
   "metadata": {},
   "source": [
    "Посмотрим на лучший результат и параметры:"
   ]
  },
  {
   "cell_type": "code",
   "execution_count": 186,
   "metadata": {},
   "outputs": [
    {
     "data": {
      "text/plain": [
       "{'depth': 3, 'iterations': 50}"
      ]
     },
     "execution_count": 186,
     "metadata": {},
     "output_type": "execute_result"
    }
   ],
   "source": [
    "best_cat.best_params_"
   ]
  },
  {
   "cell_type": "code",
   "execution_count": 187,
   "metadata": {},
   "outputs": [
    {
     "data": {
      "text/plain": [
       "1631.3173494573725"
      ]
     },
     "execution_count": 187,
     "metadata": {},
     "output_type": "execute_result"
    }
   ],
   "source": [
    "best_cat.best_score_"
   ]
  },
  {
   "cell_type": "markdown",
   "metadata": {},
   "source": [
    "Лучший результат, RMSE=1631, показала модель с глубиной 3 и 50 итерациями. Измерим скорость обучения и предсказания данной модели."
   ]
  },
  {
   "cell_type": "code",
   "execution_count": 188,
   "metadata": {},
   "outputs": [
    {
     "name": "stdout",
     "output_type": "stream",
     "text": [
      "Learning rate set to 0.5\n",
      "0:\tlearn: 3134.4982544\ttotal: 18.4ms\tremaining: 903ms\n",
      "49:\tlearn: 1904.8954521\ttotal: 682ms\tremaining: 0us\n",
      "Затраченное время: 1.15 сек\n",
      "CPU times: total: 6.52 s\n",
      "Wall time: 1.15 s\n"
     ]
    }
   ],
   "source": [
    "%%time\n",
    "start = time.time()\n",
    "model = ctb.CatBoostRegressor(iterations=50, depth=1, random_state = RS)\n",
    "model.fit(features_train, target_train, cat_features=cat_feature, verbose=50)\n",
    "end = time.time()\n",
    "time_fit_cat = end-start\n",
    "print(\"Затраченное время:\", round(time_fit_cat, 2), \"сек\")"
   ]
  },
  {
   "cell_type": "code",
   "execution_count": 189,
   "metadata": {
    "scrolled": true
   },
   "outputs": [
    {
     "name": "stdout",
     "output_type": "stream",
     "text": [
      "Затраченное время: 0.36 сек\n",
      "CPU times: total: 359 ms\n",
      "Wall time: 357 ms\n"
     ]
    }
   ],
   "source": [
    "%%time\n",
    "start = time.time()\n",
    "cat_predictions = model.predict(features_train)\n",
    "end = time.time()\n",
    "time_predict_cat = end-start\n",
    "print(\"Затраченное время:\", round(time_predict_cat, 2), \"сек\")"
   ]
  },
  {
   "cell_type": "markdown",
   "metadata": {},
   "source": [
    "<h4>Модель линейной регрессии</h4>"
   ]
  },
  {
   "cell_type": "markdown",
   "metadata": {},
   "source": [
    "Для начала закодируем данные с помощью One Hot Encoding из sklearn:"
   ]
  },
  {
   "cell_type": "code",
   "execution_count": 190,
   "metadata": {},
   "outputs": [],
   "source": [
    "encoder = OneHotEncoder(categories='auto', handle_unknown = 'ignore')"
   ]
  },
  {
   "cell_type": "code",
   "execution_count": 191,
   "metadata": {},
   "outputs": [
    {
     "name": "stdout",
     "output_type": "stream",
     "text": [
      "<class 'pandas.core.frame.DataFrame'>\n",
      "Int64Index: 203834 entries, 99756 to 205960\n",
      "Data columns (total 9 columns):\n",
      " #   Column             Non-Null Count   Dtype  \n",
      "---  ------             --------------   -----  \n",
      " 0   vehicle_type       203834 non-null  object \n",
      " 1   registration_year  203834 non-null  float64\n",
      " 2   gearbox            203834 non-null  object \n",
      " 3   power              203834 non-null  object \n",
      " 4   model              203834 non-null  object \n",
      " 5   kilometer          203834 non-null  float64\n",
      " 6   fuel_type          203834 non-null  object \n",
      " 7   brand              203834 non-null  object \n",
      " 8   repaired           203834 non-null  object \n",
      "dtypes: float64(2), object(7)\n",
      "memory usage: 15.6+ MB\n"
     ]
    }
   ],
   "source": [
    "features_train.info()"
   ]
  },
  {
   "cell_type": "code",
   "execution_count": 192,
   "metadata": {},
   "outputs": [],
   "source": [
    "features_train[cat_feature] = features_train[cat_feature].astype('category')"
   ]
  },
  {
   "cell_type": "code",
   "execution_count": 193,
   "metadata": {},
   "outputs": [],
   "source": [
    "features_train_ohe = pd.DataFrame(encoder.fit_transform(features_train).toarray())"
   ]
  },
  {
   "cell_type": "code",
   "execution_count": 194,
   "metadata": {},
   "outputs": [
    {
     "name": "stdout",
     "output_type": "stream",
     "text": [
      "<class 'pandas.core.frame.DataFrame'>\n",
      "Int64Index: 203834 entries, 99756 to 205960\n",
      "Data columns (total 9 columns):\n",
      " #   Column             Non-Null Count   Dtype   \n",
      "---  ------             --------------   -----   \n",
      " 0   vehicle_type       203834 non-null  category\n",
      " 1   registration_year  203834 non-null  float64 \n",
      " 2   gearbox            203834 non-null  category\n",
      " 3   power              203834 non-null  category\n",
      " 4   model              203834 non-null  category\n",
      " 5   kilometer          203834 non-null  float64 \n",
      " 6   fuel_type          203834 non-null  category\n",
      " 7   brand              203834 non-null  category\n",
      " 8   repaired           203834 non-null  category\n",
      "dtypes: category(7), float64(2)\n",
      "memory usage: 6.4 MB\n"
     ]
    }
   ],
   "source": [
    "features_train.info()"
   ]
  },
  {
   "cell_type": "code",
   "execution_count": 195,
   "metadata": {},
   "outputs": [],
   "source": [
    "features_test[cat_feature] = features_test[cat_feature].astype('category')"
   ]
  },
  {
   "cell_type": "code",
   "execution_count": 196,
   "metadata": {},
   "outputs": [
    {
     "name": "stdout",
     "output_type": "stream",
     "text": [
      "<class 'pandas.core.frame.DataFrame'>\n",
      "Int64Index: 67945 entries, 216351 to 234330\n",
      "Data columns (total 9 columns):\n",
      " #   Column             Non-Null Count  Dtype   \n",
      "---  ------             --------------  -----   \n",
      " 0   vehicle_type       67945 non-null  category\n",
      " 1   registration_year  67945 non-null  float64 \n",
      " 2   gearbox            67945 non-null  category\n",
      " 3   power              67945 non-null  category\n",
      " 4   model              67945 non-null  category\n",
      " 5   kilometer          67945 non-null  float64 \n",
      " 6   fuel_type          67945 non-null  category\n",
      " 7   brand              67945 non-null  category\n",
      " 8   repaired           67945 non-null  category\n",
      "dtypes: category(7), float64(2)\n",
      "memory usage: 2.2 MB\n"
     ]
    }
   ],
   "source": [
    "features_test.info()"
   ]
  },
  {
   "cell_type": "code",
   "execution_count": 197,
   "metadata": {
    "scrolled": false
   },
   "outputs": [],
   "source": [
    "features_test_ohe = pd.DataFrame(encoder.transform(features_test).toarray())"
   ]
  },
  {
   "cell_type": "code",
   "execution_count": 198,
   "metadata": {},
   "outputs": [
    {
     "name": "stdout",
     "output_type": "stream",
     "text": [
      "<class 'pandas.core.frame.DataFrame'>\n",
      "RangeIndex: 203834 entries, 0 to 203833\n",
      "Columns: 695 entries, 0 to 694\n",
      "dtypes: float64(695)\n",
      "memory usage: 1.1 GB\n"
     ]
    }
   ],
   "source": [
    "features_train_ohe.info()"
   ]
  },
  {
   "cell_type": "code",
   "execution_count": 199,
   "metadata": {},
   "outputs": [
    {
     "data": {
      "text/html": [
       "<div>\n",
       "<style scoped>\n",
       "    .dataframe tbody tr th:only-of-type {\n",
       "        vertical-align: middle;\n",
       "    }\n",
       "\n",
       "    .dataframe tbody tr th {\n",
       "        vertical-align: top;\n",
       "    }\n",
       "\n",
       "    .dataframe thead th {\n",
       "        text-align: right;\n",
       "    }\n",
       "</style>\n",
       "<table border=\"1\" class=\"dataframe\">\n",
       "  <thead>\n",
       "    <tr style=\"text-align: right;\">\n",
       "      <th></th>\n",
       "      <th>0</th>\n",
       "      <th>1</th>\n",
       "      <th>2</th>\n",
       "      <th>3</th>\n",
       "      <th>4</th>\n",
       "      <th>5</th>\n",
       "      <th>6</th>\n",
       "      <th>7</th>\n",
       "      <th>8</th>\n",
       "      <th>9</th>\n",
       "      <th>...</th>\n",
       "      <th>685</th>\n",
       "      <th>686</th>\n",
       "      <th>687</th>\n",
       "      <th>688</th>\n",
       "      <th>689</th>\n",
       "      <th>690</th>\n",
       "      <th>691</th>\n",
       "      <th>692</th>\n",
       "      <th>693</th>\n",
       "      <th>694</th>\n",
       "    </tr>\n",
       "  </thead>\n",
       "  <tbody>\n",
       "    <tr>\n",
       "      <th>0</th>\n",
       "      <td>0.0</td>\n",
       "      <td>0.0</td>\n",
       "      <td>0.0</td>\n",
       "      <td>0.0</td>\n",
       "      <td>0.0</td>\n",
       "      <td>0.0</td>\n",
       "      <td>0.0</td>\n",
       "      <td>1.0</td>\n",
       "      <td>0.0</td>\n",
       "      <td>0.0</td>\n",
       "      <td>...</td>\n",
       "      <td>0.0</td>\n",
       "      <td>0.0</td>\n",
       "      <td>0.0</td>\n",
       "      <td>0.0</td>\n",
       "      <td>0.0</td>\n",
       "      <td>0.0</td>\n",
       "      <td>0.0</td>\n",
       "      <td>0.0</td>\n",
       "      <td>0.0</td>\n",
       "      <td>1.0</td>\n",
       "    </tr>\n",
       "    <tr>\n",
       "      <th>1</th>\n",
       "      <td>1.0</td>\n",
       "      <td>0.0</td>\n",
       "      <td>0.0</td>\n",
       "      <td>0.0</td>\n",
       "      <td>0.0</td>\n",
       "      <td>0.0</td>\n",
       "      <td>0.0</td>\n",
       "      <td>0.0</td>\n",
       "      <td>0.0</td>\n",
       "      <td>0.0</td>\n",
       "      <td>...</td>\n",
       "      <td>0.0</td>\n",
       "      <td>0.0</td>\n",
       "      <td>0.0</td>\n",
       "      <td>0.0</td>\n",
       "      <td>0.0</td>\n",
       "      <td>0.0</td>\n",
       "      <td>0.0</td>\n",
       "      <td>1.0</td>\n",
       "      <td>0.0</td>\n",
       "      <td>0.0</td>\n",
       "    </tr>\n",
       "    <tr>\n",
       "      <th>2</th>\n",
       "      <td>0.0</td>\n",
       "      <td>0.0</td>\n",
       "      <td>0.0</td>\n",
       "      <td>0.0</td>\n",
       "      <td>0.0</td>\n",
       "      <td>1.0</td>\n",
       "      <td>0.0</td>\n",
       "      <td>0.0</td>\n",
       "      <td>0.0</td>\n",
       "      <td>0.0</td>\n",
       "      <td>...</td>\n",
       "      <td>0.0</td>\n",
       "      <td>0.0</td>\n",
       "      <td>0.0</td>\n",
       "      <td>0.0</td>\n",
       "      <td>0.0</td>\n",
       "      <td>0.0</td>\n",
       "      <td>0.0</td>\n",
       "      <td>0.0</td>\n",
       "      <td>1.0</td>\n",
       "      <td>0.0</td>\n",
       "    </tr>\n",
       "    <tr>\n",
       "      <th>3</th>\n",
       "      <td>0.0</td>\n",
       "      <td>0.0</td>\n",
       "      <td>1.0</td>\n",
       "      <td>0.0</td>\n",
       "      <td>0.0</td>\n",
       "      <td>0.0</td>\n",
       "      <td>0.0</td>\n",
       "      <td>0.0</td>\n",
       "      <td>0.0</td>\n",
       "      <td>0.0</td>\n",
       "      <td>...</td>\n",
       "      <td>0.0</td>\n",
       "      <td>0.0</td>\n",
       "      <td>0.0</td>\n",
       "      <td>0.0</td>\n",
       "      <td>0.0</td>\n",
       "      <td>0.0</td>\n",
       "      <td>0.0</td>\n",
       "      <td>1.0</td>\n",
       "      <td>0.0</td>\n",
       "      <td>0.0</td>\n",
       "    </tr>\n",
       "    <tr>\n",
       "      <th>4</th>\n",
       "      <td>0.0</td>\n",
       "      <td>0.0</td>\n",
       "      <td>1.0</td>\n",
       "      <td>0.0</td>\n",
       "      <td>0.0</td>\n",
       "      <td>0.0</td>\n",
       "      <td>0.0</td>\n",
       "      <td>0.0</td>\n",
       "      <td>0.0</td>\n",
       "      <td>0.0</td>\n",
       "      <td>...</td>\n",
       "      <td>0.0</td>\n",
       "      <td>0.0</td>\n",
       "      <td>0.0</td>\n",
       "      <td>0.0</td>\n",
       "      <td>0.0</td>\n",
       "      <td>0.0</td>\n",
       "      <td>0.0</td>\n",
       "      <td>1.0</td>\n",
       "      <td>0.0</td>\n",
       "      <td>0.0</td>\n",
       "    </tr>\n",
       "  </tbody>\n",
       "</table>\n",
       "<p>5 rows × 695 columns</p>\n",
       "</div>"
      ],
      "text/plain": [
       "   0    1    2    3    4    5    6    7    8    9    ...  685  686  687  688  \\\n",
       "0  0.0  0.0  0.0  0.0  0.0  0.0  0.0  1.0  0.0  0.0  ...  0.0  0.0  0.0  0.0   \n",
       "1  1.0  0.0  0.0  0.0  0.0  0.0  0.0  0.0  0.0  0.0  ...  0.0  0.0  0.0  0.0   \n",
       "2  0.0  0.0  0.0  0.0  0.0  1.0  0.0  0.0  0.0  0.0  ...  0.0  0.0  0.0  0.0   \n",
       "3  0.0  0.0  1.0  0.0  0.0  0.0  0.0  0.0  0.0  0.0  ...  0.0  0.0  0.0  0.0   \n",
       "4  0.0  0.0  1.0  0.0  0.0  0.0  0.0  0.0  0.0  0.0  ...  0.0  0.0  0.0  0.0   \n",
       "\n",
       "   689  690  691  692  693  694  \n",
       "0  0.0  0.0  0.0  0.0  0.0  1.0  \n",
       "1  0.0  0.0  0.0  1.0  0.0  0.0  \n",
       "2  0.0  0.0  0.0  0.0  1.0  0.0  \n",
       "3  0.0  0.0  0.0  1.0  0.0  0.0  \n",
       "4  0.0  0.0  0.0  1.0  0.0  0.0  \n",
       "\n",
       "[5 rows x 695 columns]"
      ]
     },
     "execution_count": 199,
     "metadata": {},
     "output_type": "execute_result"
    }
   ],
   "source": [
    "features_train_ohe.head()"
   ]
  },
  {
   "cell_type": "code",
   "execution_count": 200,
   "metadata": {},
   "outputs": [],
   "source": [
    "model = LinearRegression()"
   ]
  },
  {
   "cell_type": "code",
   "execution_count": 201,
   "metadata": {},
   "outputs": [
    {
     "name": "stdout",
     "output_type": "stream",
     "text": [
      "Затраченное время: 10.32 сек\n",
      "CPU times: total: 59.3 s\n",
      "Wall time: 10.3 s\n"
     ]
    }
   ],
   "source": [
    "%%time\n",
    "start = time.time()\n",
    "model.fit(features_train_ohe, target_train)\n",
    "end = time.time()\n",
    "time_fit_lr = end-start\n",
    "print(\"Затраченное время:\", round(time_fit_lr, 2), \"сек\")"
   ]
  },
  {
   "cell_type": "code",
   "execution_count": 202,
   "metadata": {},
   "outputs": [
    {
     "name": "stdout",
     "output_type": "stream",
     "text": [
      "Затраченное время: 0.27 сек\n",
      "CPU times: total: 719 ms\n",
      "Wall time: 273 ms\n"
     ]
    }
   ],
   "source": [
    "%%time\n",
    "start = time.time()\n",
    "lr_predictions = model.predict(features_train_ohe)\n",
    "end = time.time()\n",
    "time_predict_lr = end-start\n",
    "print(\"Затраченное время:\", round(time_predict_lr, 2), \"сек\")"
   ]
  },
  {
   "cell_type": "code",
   "execution_count": 203,
   "metadata": {},
   "outputs": [],
   "source": [
    "lr_RMSE = rmse(target_train, lr_predictions)"
   ]
  },
  {
   "cell_type": "code",
   "execution_count": 204,
   "metadata": {},
   "outputs": [
    {
     "data": {
      "text/plain": [
       "1631.7685761459898"
      ]
     },
     "execution_count": 204,
     "metadata": {},
     "output_type": "execute_result"
    }
   ],
   "source": [
    "lr_RMSE"
   ]
  },
  {
   "cell_type": "markdown",
   "metadata": {},
   "source": [
    "Мы получили отличный результат по RMSE=1632, но довольно большое время обучения."
   ]
  },
  {
   "cell_type": "markdown",
   "metadata": {},
   "source": [
    "<h4>Модель случайного леса</h4>"
   ]
  },
  {
   "cell_type": "markdown",
   "metadata": {},
   "source": [
    "Для модели случайного леса закодируем данные с помощью ordinal encoding - порядкового кодирования."
   ]
  },
  {
   "cell_type": "code",
   "execution_count": 205,
   "metadata": {},
   "outputs": [],
   "source": [
    "encoder = OrdinalEncoder(categories='auto', handle_unknown='ignore')"
   ]
  },
  {
   "cell_type": "code",
   "execution_count": 206,
   "metadata": {},
   "outputs": [],
   "source": [
    "features_train_ordinal = pd.DataFrame(encoder.fit_transform(features_train))"
   ]
  },
  {
   "cell_type": "code",
   "execution_count": 207,
   "metadata": {},
   "outputs": [
    {
     "name": "stdout",
     "output_type": "stream",
     "text": [
      "<class 'pandas.core.frame.DataFrame'>\n",
      "RangeIndex: 203834 entries, 0 to 203833\n",
      "Data columns (total 9 columns):\n",
      " #   Column  Non-Null Count   Dtype  \n",
      "---  ------  --------------   -----  \n",
      " 0   0       203834 non-null  float64\n",
      " 1   1       203834 non-null  float64\n",
      " 2   2       203834 non-null  float64\n",
      " 3   3       203834 non-null  float64\n",
      " 4   4       203834 non-null  float64\n",
      " 5   5       203834 non-null  float64\n",
      " 6   6       203834 non-null  float64\n",
      " 7   7       203834 non-null  float64\n",
      " 8   8       203834 non-null  float64\n",
      "dtypes: float64(9)\n",
      "memory usage: 14.0 MB\n"
     ]
    }
   ],
   "source": [
    "features_train_ordinal.info()"
   ]
  },
  {
   "cell_type": "code",
   "execution_count": 208,
   "metadata": {},
   "outputs": [],
   "source": [
    "features_test_ordinal = pd.DataFrame(encoder.transform(features_test))"
   ]
  },
  {
   "cell_type": "code",
   "execution_count": 209,
   "metadata": {},
   "outputs": [
    {
     "name": "stdout",
     "output_type": "stream",
     "text": [
      "<class 'pandas.core.frame.DataFrame'>\n",
      "RangeIndex: 67945 entries, 0 to 67944\n",
      "Data columns (total 9 columns):\n",
      " #   Column  Non-Null Count  Dtype  \n",
      "---  ------  --------------  -----  \n",
      " 0   0       67945 non-null  float64\n",
      " 1   1       67945 non-null  float64\n",
      " 2   2       67945 non-null  float64\n",
      " 3   3       67945 non-null  float64\n",
      " 4   4       67945 non-null  float64\n",
      " 5   5       67945 non-null  float64\n",
      " 6   6       67945 non-null  float64\n",
      " 7   7       67945 non-null  float64\n",
      " 8   8       67945 non-null  float64\n",
      "dtypes: float64(9)\n",
      "memory usage: 4.7 MB\n"
     ]
    }
   ],
   "source": [
    "features_test_ordinal.info()"
   ]
  },
  {
   "cell_type": "code",
   "execution_count": 210,
   "metadata": {},
   "outputs": [],
   "source": [
    "rf = RandomForestRegressor(random_state = RS)"
   ]
  },
  {
   "cell_type": "code",
   "execution_count": 211,
   "metadata": {},
   "outputs": [],
   "source": [
    "rf_params = [{'max_depth':list(range(1, 6)), 'n_estimators':list(range(10, 100, 10))}]"
   ]
  },
  {
   "cell_type": "code",
   "execution_count": 212,
   "metadata": {},
   "outputs": [],
   "source": [
    "best_rf = GridSearchCV(rf, rf_params, cv=5, scoring=rmse_scorer)"
   ]
  },
  {
   "cell_type": "code",
   "execution_count": 213,
   "metadata": {},
   "outputs": [
    {
     "data": {
      "text/plain": [
       "GridSearchCV(cv=5, estimator=RandomForestRegressor(random_state=1212),\n",
       "             param_grid=[{'max_depth': [1, 2, 3, 4, 5],\n",
       "                          'n_estimators': [10, 20, 30, 40, 50, 60, 70, 80,\n",
       "                                           90]}],\n",
       "             scoring=make_scorer(rmse))"
      ]
     },
     "execution_count": 213,
     "metadata": {},
     "output_type": "execute_result"
    }
   ],
   "source": [
    "best_rf.fit(features_train_ordinal, target_train)"
   ]
  },
  {
   "cell_type": "code",
   "execution_count": 214,
   "metadata": {},
   "outputs": [
    {
     "data": {
      "text/plain": [
       "{'max_depth': 1, 'n_estimators': 10}"
      ]
     },
     "execution_count": 214,
     "metadata": {},
     "output_type": "execute_result"
    }
   ],
   "source": [
    "best_rf.best_params_"
   ]
  },
  {
   "cell_type": "code",
   "execution_count": 215,
   "metadata": {},
   "outputs": [
    {
     "data": {
      "text/plain": [
       "2933.862250565435"
      ]
     },
     "execution_count": 215,
     "metadata": {},
     "output_type": "execute_result"
    }
   ],
   "source": [
    "best_rf.best_score_"
   ]
  },
  {
   "cell_type": "code",
   "execution_count": 216,
   "metadata": {},
   "outputs": [],
   "source": [
    "model = RandomForestRegressor(max_depth = 1, n_estimators = 10)"
   ]
  },
  {
   "cell_type": "code",
   "execution_count": 217,
   "metadata": {},
   "outputs": [
    {
     "name": "stdout",
     "output_type": "stream",
     "text": [
      "Затраченное время: 0.43 сек\n",
      "CPU times: total: 422 ms\n",
      "Wall time: 431 ms\n"
     ]
    }
   ],
   "source": [
    "%%time\n",
    "start = time.time()\n",
    "model.fit(features_train_ordinal, target_train)\n",
    "end = time.time()\n",
    "time_fit_rf = end-start\n",
    "print(\"Затраченное время:\", round(time_fit_rf, 2), \"сек\")"
   ]
  },
  {
   "cell_type": "code",
   "execution_count": 218,
   "metadata": {},
   "outputs": [
    {
     "name": "stdout",
     "output_type": "stream",
     "text": [
      "Затраченное время: 0.04 сек\n",
      "CPU times: total: 46.9 ms\n",
      "Wall time: 43.7 ms\n"
     ]
    }
   ],
   "source": [
    "%%time\n",
    "start = time.time()\n",
    "rf_predictions = model.predict(features_train_ordinal)\n",
    "end = time.time()\n",
    "time_predict_rf = end-start\n",
    "print(\"Затраченное время:\", round(time_predict_rf, 2), \"сек\")"
   ]
  },
  {
   "cell_type": "markdown",
   "metadata": {},
   "source": [
    "Лучший результат случайного леса был достигнут моделью с максимальной глубиной решающего дерева равной 1 и 10 деревьями в ансамбле, RMSE=2934."
   ]
  },
  {
   "cell_type": "markdown",
   "metadata": {},
   "source": [
    "<h3>Проверка моделей на адекватность</h3>"
   ]
  },
  {
   "cell_type": "markdown",
   "metadata": {},
   "source": [
    "<h4>Константная модель</h4>"
   ]
  },
  {
   "cell_type": "markdown",
   "metadata": {},
   "source": [
    "В качестве константной модели выберем модель, предсказание которой будет являться средним значением целевого признака."
   ]
  },
  {
   "cell_type": "code",
   "execution_count": 219,
   "metadata": {},
   "outputs": [],
   "source": [
    "check_predictions = pd.Series(target_test.mean(), index=range(len(target_test)))"
   ]
  },
  {
   "cell_type": "code",
   "execution_count": 220,
   "metadata": {},
   "outputs": [],
   "source": [
    "check_rmse = rmse(target_test, check_predictions)"
   ]
  },
  {
   "cell_type": "code",
   "execution_count": 221,
   "metadata": {},
   "outputs": [
    {
     "data": {
      "text/plain": [
       "3675.5084178812717"
      ]
     },
     "execution_count": 221,
     "metadata": {},
     "output_type": "execute_result"
    }
   ],
   "source": [
    "check_rmse"
   ]
  },
  {
   "cell_type": "markdown",
   "metadata": {},
   "source": [
    "Все тестируемые нами модели показали результат лучший, чем константная модель."
   ]
  },
  {
   "cell_type": "markdown",
   "metadata": {},
   "source": [
    "## Анализ моделей"
   ]
  },
  {
   "cell_type": "markdown",
   "metadata": {},
   "source": [
    "Итак, мы протестировали две модели градиентного бустинга, одну модель случайного леса и одну модель линейной регрессии. Построим датафрейм с временем обучения, предсказания и среднеквадратическим отклонением каждой модели."
   ]
  },
  {
   "cell_type": "code",
   "execution_count": 222,
   "metadata": {},
   "outputs": [],
   "source": [
    "l = [best_lgb.best_score_, time_fit_lgb, time_predict_lgb]\n",
    "c = [best_cat.best_score_, time_fit_cat, time_predict_cat]\n",
    "f = [best_rf.best_score_, time_fit_rf, time_predict_rf]\n",
    "lr = [lr_RMSE, time_fit_lr, time_predict_lr]"
   ]
  },
  {
   "cell_type": "code",
   "execution_count": 223,
   "metadata": {},
   "outputs": [],
   "source": [
    "result = (pd.DataFrame({'LightGBM':l, 'CatBoost':c, 'RandomForest':f, 'LinearRegression':lr},\\\n",
    "                       index=['RMSE', 'time_fit', 'time_predict'])).T"
   ]
  },
  {
   "cell_type": "code",
   "execution_count": 224,
   "metadata": {},
   "outputs": [
    {
     "data": {
      "text/html": [
       "<div>\n",
       "<style scoped>\n",
       "    .dataframe tbody tr th:only-of-type {\n",
       "        vertical-align: middle;\n",
       "    }\n",
       "\n",
       "    .dataframe tbody tr th {\n",
       "        vertical-align: top;\n",
       "    }\n",
       "\n",
       "    .dataframe thead th {\n",
       "        text-align: right;\n",
       "    }\n",
       "</style>\n",
       "<table border=\"1\" class=\"dataframe\">\n",
       "  <thead>\n",
       "    <tr style=\"text-align: right;\">\n",
       "      <th></th>\n",
       "      <th>RMSE</th>\n",
       "      <th>time_fit</th>\n",
       "      <th>time_predict</th>\n",
       "    </tr>\n",
       "  </thead>\n",
       "  <tbody>\n",
       "    <tr>\n",
       "      <th>LightGBM</th>\n",
       "      <td>1492.848846</td>\n",
       "      <td>0.451856</td>\n",
       "      <td>0.149791</td>\n",
       "    </tr>\n",
       "    <tr>\n",
       "      <th>CatBoost</th>\n",
       "      <td>1631.317349</td>\n",
       "      <td>1.146752</td>\n",
       "      <td>0.356624</td>\n",
       "    </tr>\n",
       "    <tr>\n",
       "      <th>RandomForest</th>\n",
       "      <td>2933.862251</td>\n",
       "      <td>0.430530</td>\n",
       "      <td>0.043679</td>\n",
       "    </tr>\n",
       "    <tr>\n",
       "      <th>LinearRegression</th>\n",
       "      <td>1631.768576</td>\n",
       "      <td>10.316303</td>\n",
       "      <td>0.272799</td>\n",
       "    </tr>\n",
       "  </tbody>\n",
       "</table>\n",
       "</div>"
      ],
      "text/plain": [
       "                         RMSE   time_fit  time_predict\n",
       "LightGBM          1492.848846   0.451856      0.149791\n",
       "CatBoost          1631.317349   1.146752      0.356624\n",
       "RandomForest      2933.862251   0.430530      0.043679\n",
       "LinearRegression  1631.768576  10.316303      0.272799"
      ]
     },
     "execution_count": 224,
     "metadata": {},
     "output_type": "execute_result"
    }
   ],
   "source": [
    "result"
   ]
  },
  {
   "cell_type": "code",
   "execution_count": 225,
   "metadata": {},
   "outputs": [
    {
     "data": {
      "text/html": [
       "<div>\n",
       "<style scoped>\n",
       "    .dataframe tbody tr th:only-of-type {\n",
       "        vertical-align: middle;\n",
       "    }\n",
       "\n",
       "    .dataframe tbody tr th {\n",
       "        vertical-align: top;\n",
       "    }\n",
       "\n",
       "    .dataframe thead th {\n",
       "        text-align: right;\n",
       "    }\n",
       "</style>\n",
       "<table border=\"1\" class=\"dataframe\">\n",
       "  <thead>\n",
       "    <tr style=\"text-align: right;\">\n",
       "      <th></th>\n",
       "      <th>RMSE</th>\n",
       "      <th>time_fit</th>\n",
       "      <th>time_predict</th>\n",
       "    </tr>\n",
       "  </thead>\n",
       "  <tbody>\n",
       "    <tr>\n",
       "      <th>RandomForest</th>\n",
       "      <td>2933.862251</td>\n",
       "      <td>0.430530</td>\n",
       "      <td>0.043679</td>\n",
       "    </tr>\n",
       "    <tr>\n",
       "      <th>LightGBM</th>\n",
       "      <td>1492.848846</td>\n",
       "      <td>0.451856</td>\n",
       "      <td>0.149791</td>\n",
       "    </tr>\n",
       "    <tr>\n",
       "      <th>CatBoost</th>\n",
       "      <td>1631.317349</td>\n",
       "      <td>1.146752</td>\n",
       "      <td>0.356624</td>\n",
       "    </tr>\n",
       "    <tr>\n",
       "      <th>LinearRegression</th>\n",
       "      <td>1631.768576</td>\n",
       "      <td>10.316303</td>\n",
       "      <td>0.272799</td>\n",
       "    </tr>\n",
       "  </tbody>\n",
       "</table>\n",
       "</div>"
      ],
      "text/plain": [
       "                         RMSE   time_fit  time_predict\n",
       "RandomForest      2933.862251   0.430530      0.043679\n",
       "LightGBM          1492.848846   0.451856      0.149791\n",
       "CatBoost          1631.317349   1.146752      0.356624\n",
       "LinearRegression  1631.768576  10.316303      0.272799"
      ]
     },
     "execution_count": 225,
     "metadata": {},
     "output_type": "execute_result"
    }
   ],
   "source": [
    "result.sort_values(by='time_fit')"
   ]
  },
  {
   "cell_type": "code",
   "execution_count": 226,
   "metadata": {},
   "outputs": [
    {
     "data": {
      "text/html": [
       "<div>\n",
       "<style scoped>\n",
       "    .dataframe tbody tr th:only-of-type {\n",
       "        vertical-align: middle;\n",
       "    }\n",
       "\n",
       "    .dataframe tbody tr th {\n",
       "        vertical-align: top;\n",
       "    }\n",
       "\n",
       "    .dataframe thead th {\n",
       "        text-align: right;\n",
       "    }\n",
       "</style>\n",
       "<table border=\"1\" class=\"dataframe\">\n",
       "  <thead>\n",
       "    <tr style=\"text-align: right;\">\n",
       "      <th></th>\n",
       "      <th>RMSE</th>\n",
       "      <th>time_fit</th>\n",
       "      <th>time_predict</th>\n",
       "    </tr>\n",
       "  </thead>\n",
       "  <tbody>\n",
       "    <tr>\n",
       "      <th>RandomForest</th>\n",
       "      <td>2933.862251</td>\n",
       "      <td>0.430530</td>\n",
       "      <td>0.043679</td>\n",
       "    </tr>\n",
       "    <tr>\n",
       "      <th>LightGBM</th>\n",
       "      <td>1492.848846</td>\n",
       "      <td>0.451856</td>\n",
       "      <td>0.149791</td>\n",
       "    </tr>\n",
       "    <tr>\n",
       "      <th>LinearRegression</th>\n",
       "      <td>1631.768576</td>\n",
       "      <td>10.316303</td>\n",
       "      <td>0.272799</td>\n",
       "    </tr>\n",
       "    <tr>\n",
       "      <th>CatBoost</th>\n",
       "      <td>1631.317349</td>\n",
       "      <td>1.146752</td>\n",
       "      <td>0.356624</td>\n",
       "    </tr>\n",
       "  </tbody>\n",
       "</table>\n",
       "</div>"
      ],
      "text/plain": [
       "                         RMSE   time_fit  time_predict\n",
       "RandomForest      2933.862251   0.430530      0.043679\n",
       "LightGBM          1492.848846   0.451856      0.149791\n",
       "LinearRegression  1631.768576  10.316303      0.272799\n",
       "CatBoost          1631.317349   1.146752      0.356624"
      ]
     },
     "execution_count": 226,
     "metadata": {},
     "output_type": "execute_result"
    }
   ],
   "source": [
    "result.sort_values(by='time_predict')"
   ]
  },
  {
   "cell_type": "code",
   "execution_count": 227,
   "metadata": {},
   "outputs": [
    {
     "data": {
      "text/html": [
       "<div>\n",
       "<style scoped>\n",
       "    .dataframe tbody tr th:only-of-type {\n",
       "        vertical-align: middle;\n",
       "    }\n",
       "\n",
       "    .dataframe tbody tr th {\n",
       "        vertical-align: top;\n",
       "    }\n",
       "\n",
       "    .dataframe thead th {\n",
       "        text-align: right;\n",
       "    }\n",
       "</style>\n",
       "<table border=\"1\" class=\"dataframe\">\n",
       "  <thead>\n",
       "    <tr style=\"text-align: right;\">\n",
       "      <th></th>\n",
       "      <th>RMSE</th>\n",
       "      <th>time_fit</th>\n",
       "      <th>time_predict</th>\n",
       "    </tr>\n",
       "  </thead>\n",
       "  <tbody>\n",
       "    <tr>\n",
       "      <th>LightGBM</th>\n",
       "      <td>1492.848846</td>\n",
       "      <td>0.451856</td>\n",
       "      <td>0.149791</td>\n",
       "    </tr>\n",
       "    <tr>\n",
       "      <th>CatBoost</th>\n",
       "      <td>1631.317349</td>\n",
       "      <td>1.146752</td>\n",
       "      <td>0.356624</td>\n",
       "    </tr>\n",
       "    <tr>\n",
       "      <th>LinearRegression</th>\n",
       "      <td>1631.768576</td>\n",
       "      <td>10.316303</td>\n",
       "      <td>0.272799</td>\n",
       "    </tr>\n",
       "    <tr>\n",
       "      <th>RandomForest</th>\n",
       "      <td>2933.862251</td>\n",
       "      <td>0.430530</td>\n",
       "      <td>0.043679</td>\n",
       "    </tr>\n",
       "  </tbody>\n",
       "</table>\n",
       "</div>"
      ],
      "text/plain": [
       "                         RMSE   time_fit  time_predict\n",
       "LightGBM          1492.848846   0.451856      0.149791\n",
       "CatBoost          1631.317349   1.146752      0.356624\n",
       "LinearRegression  1631.768576  10.316303      0.272799\n",
       "RandomForest      2933.862251   0.430530      0.043679"
      ]
     },
     "execution_count": 227,
     "metadata": {},
     "output_type": "execute_result"
    }
   ],
   "source": [
    "result.sort_values(by='RMSE')"
   ]
  },
  {
   "cell_type": "markdown",
   "metadata": {},
   "source": [
    "Итак, по среднеквадратическому отклонению лучшей стала модель LightGBM.\n",
    "\n",
    "По скорости обучения лидером стала тоже модель LightGBM.\n",
    "\n",
    "Лидером по времени предсказания является модель случайного леса, но, учитывая ее низкое RMSE, рассматривать ее в качестве кандитата итоговой модели для мобильного приложения не стоит. На втором месте находится модель LightGBM.\n",
    "\n",
    "Получается, что лучшая из всех моделей для конкретной задачи, исходя из требований заказчика, это модель LightGBM."
   ]
  },
  {
   "cell_type": "markdown",
   "metadata": {},
   "source": [
    "## Тестирование лучшей модели"
   ]
  },
  {
   "cell_type": "markdown",
   "metadata": {},
   "source": [
    "Лучшие параметры для модели, которые удалось найти с помощью GridSearchCV на обучающей выборки это скорость обучения равная 0.1 и максимальная глубина деревьев равная трем. Обучим градиентный бустинг с данными параметрами на тренировочной выборке и сделаем предсказания по тестовой выборке для того, чтобы узнать финальное RMSE."
   ]
  },
  {
   "cell_type": "code",
   "execution_count": 228,
   "metadata": {},
   "outputs": [],
   "source": [
    "model_ltb = ltb.LGBMRegressor(random_state=RS, learning_rate = 0.1, max_depth = 3)"
   ]
  },
  {
   "cell_type": "code",
   "execution_count": 229,
   "metadata": {},
   "outputs": [
    {
     "data": {
      "text/plain": [
       "LGBMRegressor(max_depth=3, random_state=1212)"
      ]
     },
     "execution_count": 229,
     "metadata": {},
     "output_type": "execute_result"
    }
   ],
   "source": [
    "model_ltb.fit(features_train, target_train)"
   ]
  },
  {
   "cell_type": "code",
   "execution_count": 230,
   "metadata": {},
   "outputs": [],
   "source": [
    "ltb_test_predictions = model_ltb.predict(features_test)"
   ]
  },
  {
   "cell_type": "code",
   "execution_count": 231,
   "metadata": {},
   "outputs": [],
   "source": [
    "ltb_final_rmse = rmse(target_test, ltb_test_predictions)"
   ]
  },
  {
   "cell_type": "code",
   "execution_count": 232,
   "metadata": {
    "scrolled": true
   },
   "outputs": [
    {
     "data": {
      "text/plain": [
       "1511.1579208600886"
      ]
     },
     "execution_count": 232,
     "metadata": {},
     "output_type": "execute_result"
    }
   ],
   "source": [
    "ltb_final_rmse"
   ]
  },
  {
   "cell_type": "markdown",
   "metadata": {},
   "source": [
    "На тестовой выборке модель LightGBM показала значение среднеквадратического отклонения равное 1511. Это меньше допустимого значения равного 2500. По итогам исследования, это финальная модель для заказчика."
   ]
  },
  {
   "cell_type": "markdown",
   "metadata": {},
   "source": [
    "<h2>Вывод</h2>\n",
    "\n",
    "Перед началом работы с моделями мы изучили данные, произвели их предобработку, убрали аномалии и пропущенные значения. После мы обучили несколько сложных (градиентный бустинг) и простых моделей (константная модель, линейная регрессия, случайный лес). В результате анализа моделей лучше всего проявила себя модель LightGBM. С ее помощью удалось достичь быстрых и точных предсказаний стоимости."
   ]
  }
 ],
 "metadata": {
  "kernelspec": {
   "display_name": "Python 3 (ipykernel)",
   "language": "python",
   "name": "python3"
  },
  "language_info": {
   "codemirror_mode": {
    "name": "ipython",
    "version": 3
   },
   "file_extension": ".py",
   "mimetype": "text/x-python",
   "name": "python",
   "nbconvert_exporter": "python",
   "pygments_lexer": "ipython3",
   "version": "3.9.16"
  },
  "toc": {
   "base_numbering": 1,
   "nav_menu": {},
   "number_sections": true,
   "sideBar": true,
   "skip_h1_title": true,
   "title_cell": "Table of Contents",
   "title_sidebar": "Contents",
   "toc_cell": false,
   "toc_position": {
    "height": "calc(100% - 180px)",
    "left": "10px",
    "top": "150px",
    "width": "407.77px"
   },
   "toc_section_display": true,
   "toc_window_display": true
  }
 },
 "nbformat": 4,
 "nbformat_minor": 2
}
